{
 "cells": [
  {
   "cell_type": "markdown",
   "metadata": {},
   "source": [
    "# Lets try to predict the weather (2 clients)"
   ]
  },
  {
   "cell_type": "markdown",
   "metadata": {},
   "source": [
    "## Average worker"
   ]
  },
  {
   "cell_type": "markdown",
   "metadata": {},
   "source": [
    "This client is a guy who wants to go to work but he needs to know if he should take his umbrella. The cost of not taking the umbrella and getting wet is higher than taking the umbrella in a sunny day. But he does not want to take the umbrella everytime"
   ]
  },
  {
   "cell_type": "markdown",
   "metadata": {},
   "source": [
    "## Ballplayer"
   ]
  },
  {
   "cell_type": "markdown",
   "metadata": {},
   "source": [
    "This client is a baseball player. There is no baseball if it rains. So he wants to know if it is worth leaving his house to the baseball field. The cost of not going to the baseball field in a sunny day is higher than going to the baseball field in a rainy day. But he does not want to go to the baseball field unnecessarily at a high rate"
   ]
  },
  {
   "cell_type": "markdown",
   "metadata": {},
   "source": [
    "# Variables descriptions"
   ]
  },
  {
   "cell_type": "markdown",
   "metadata": {},
   "source": [
    "\n",
    "Variable | Description\n",
    "---------|------------\n",
    "Date   |  The date of observation\n",
    "Location   |  The common name of the location of the weather station\n",
    "MinTemp   |  The minimum temperature in degrees celsius\n",
    "MaxTemp   |  The maximum temperature in degrees celsius\n",
    "Rainfall   |  The amount of rainfall recorded for the day in mm\n",
    "Evaporation   |  The so-called Class A pan evaporation (mm) in the 24 hours to 9am\n",
    "Sunshine   |  The number of hours of bright sunshine in the day.\n",
    "WindGustDir   |  The direction of the strongest wind gust in the 24 hours to midnight\n",
    "WindGustSpeed   |  The speed (km/h) of the strongest wind gust in the 24 hours to midnight\n",
    "WindDir9am   |  Direction of the wind at 9am\n",
    "WindDir3pm   |  Direction of the wind at 3pm\n",
    "WindSpeed9am   |  Wind speed (km/hr) averaged over 10 minutes prior to 9am\n",
    "WindSpeed3pm   |  Wind speed (km/hr) averaged over 10 minutes prior to 3pm\n",
    "Humidity9am   |  Humidity (percent) at 9am\n",
    "Humidity3pm   |  Humidity (percent) at 3pm\n",
    "Pressure9am   |  Atmospheric pressure (hpa) reduced to mean sea level at 9am\n",
    "Pressure3pm   |  Atmospheric pressure (hpa) reduced to mean sea level at 3pm\n",
    "Cloud9am   |  Fraction of sky obscured by cloud at 9am. This is measured in \"oktas\", which are a unit of eigths. It records how many eigths of the sky are obscured by cloud. A 0 measure indicates completely clear sky whilst an 8 indicates that it is completely overcast.\n",
    "Cloud3pm | Fraction of sky obscured by cloud (in \"oktas\": eighths) at 3pm. See Cload9am for a description of the values\n",
    "Temp9am |  Temperature (degrees C) at 9am\n",
    "Temp3pm |  Temperature (degrees C) at 3pm\n",
    "Precipitation9am |  The amount of rain in mm prior to 9am\n",
    "Precipitation3pm |  The amount of rain in mm prior to 3pm\n",
    "AmountOfRain |  The amount of rain in mm\n",
    "Temp |  Temperature (degrees C)\n",
    "Humidity |  Humidity (percent)\n",
    "RainToday |  Boolean: 1 if precipitation (mm) in the 24 hours to 9am exceeds 1mm, otherwise 0\n",
    "RainTomorrow |  The target variable. Did it rain tomorrow?"
   ]
  },
  {
   "cell_type": "code",
   "execution_count": 1,
   "metadata": {
    "ExecuteTime": {
     "end_time": "2020-08-04T22:19:08.355893Z",
     "start_time": "2020-08-04T22:19:06.042126Z"
    }
   },
   "outputs": [
    {
     "name": "stderr",
     "output_type": "stream",
     "text": [
      "C:\\Users\\Pedro\\Anaconda3\\lib\\site-packages\\statsmodels\\tools\\_testing.py:19: FutureWarning: pandas.util.testing is deprecated. Use the functions in the public API at pandas.testing instead.\n",
      "  import pandas.util.testing as tm\n"
     ]
    }
   ],
   "source": [
    "import pandas as pd\n",
    "import numpy as np\n",
    "import matplotlib.pyplot as plt\n",
    "import seaborn as sns"
   ]
  },
  {
   "cell_type": "markdown",
   "metadata": {},
   "source": [
    "# Reading the data"
   ]
  },
  {
   "cell_type": "code",
   "execution_count": 2,
   "metadata": {
    "ExecuteTime": {
     "end_time": "2020-08-04T22:19:08.362874Z",
     "start_time": "2020-08-04T22:19:08.357898Z"
    }
   },
   "outputs": [],
   "source": [
    "pd.options.display.max_columns = None"
   ]
  },
  {
   "cell_type": "code",
   "execution_count": 3,
   "metadata": {
    "ExecuteTime": {
     "end_time": "2020-08-04T22:19:08.730924Z",
     "start_time": "2020-08-04T22:19:08.364870Z"
    }
   },
   "outputs": [],
   "source": [
    "rain_data=pd.read_csv(\"data/rain_data_aus.csv\")"
   ]
  },
  {
   "cell_type": "code",
   "execution_count": 4,
   "metadata": {
    "ExecuteTime": {
     "end_time": "2020-08-04T22:19:08.883514Z",
     "start_time": "2020-08-04T22:19:08.732884Z"
    }
   },
   "outputs": [],
   "source": [
    "wind=pd.read_csv('data/wind.csv')"
   ]
  },
  {
   "cell_type": "code",
   "execution_count": 5,
   "metadata": {
    "ExecuteTime": {
     "end_time": "2020-08-04T22:19:08.915396Z",
     "start_time": "2020-08-04T22:19:08.885486Z"
    }
   },
   "outputs": [
    {
     "data": {
      "text/html": [
       "<div>\n",
       "<style scoped>\n",
       "    .dataframe tbody tr th:only-of-type {\n",
       "        vertical-align: middle;\n",
       "    }\n",
       "\n",
       "    .dataframe tbody tr th {\n",
       "        vertical-align: top;\n",
       "    }\n",
       "\n",
       "    .dataframe thead th {\n",
       "        text-align: right;\n",
       "    }\n",
       "</style>\n",
       "<table border=\"1\" class=\"dataframe\">\n",
       "  <thead>\n",
       "    <tr style=\"text-align: right;\">\n",
       "      <th></th>\n",
       "      <th>date</th>\n",
       "      <th>location</th>\n",
       "      <th>mintemp</th>\n",
       "      <th>maxtemp</th>\n",
       "      <th>rainfall</th>\n",
       "      <th>evaporation</th>\n",
       "      <th>sunshine</th>\n",
       "      <th>humidity9am</th>\n",
       "      <th>humidity3pm</th>\n",
       "      <th>pressure9am</th>\n",
       "      <th>pressure3pm</th>\n",
       "      <th>cloud9am</th>\n",
       "      <th>cloud3pm</th>\n",
       "      <th>temp9am</th>\n",
       "      <th>temp3pm</th>\n",
       "      <th>raintoday</th>\n",
       "      <th>amountOfRain</th>\n",
       "      <th>raintomorrow</th>\n",
       "      <th>temp</th>\n",
       "      <th>humidity</th>\n",
       "      <th>precipitation3pm</th>\n",
       "      <th>precipitation9am</th>\n",
       "      <th>modelo_vigente</th>\n",
       "    </tr>\n",
       "  </thead>\n",
       "  <tbody>\n",
       "    <tr>\n",
       "      <th>0</th>\n",
       "      <td>2008-12-01</td>\n",
       "      <td>Albury</td>\n",
       "      <td>13.4</td>\n",
       "      <td>22.9</td>\n",
       "      <td>0.6</td>\n",
       "      <td>NaN</td>\n",
       "      <td>NaN</td>\n",
       "      <td>71.0</td>\n",
       "      <td>22.0</td>\n",
       "      <td>1007.7</td>\n",
       "      <td>1007.1</td>\n",
       "      <td>8.0</td>\n",
       "      <td>NaN</td>\n",
       "      <td>16.9</td>\n",
       "      <td>21.8</td>\n",
       "      <td>No</td>\n",
       "      <td>0.0</td>\n",
       "      <td>No</td>\n",
       "      <td>29.48</td>\n",
       "      <td>28.400000</td>\n",
       "      <td>12</td>\n",
       "      <td>5.115360</td>\n",
       "      <td>0.089825</td>\n",
       "    </tr>\n",
       "    <tr>\n",
       "      <th>1</th>\n",
       "      <td>2008-12-02</td>\n",
       "      <td>Albury</td>\n",
       "      <td>7.4</td>\n",
       "      <td>25.1</td>\n",
       "      <td>0.0</td>\n",
       "      <td>NaN</td>\n",
       "      <td>NaN</td>\n",
       "      <td>44.0</td>\n",
       "      <td>25.0</td>\n",
       "      <td>1010.6</td>\n",
       "      <td>1007.8</td>\n",
       "      <td>NaN</td>\n",
       "      <td>NaN</td>\n",
       "      <td>17.2</td>\n",
       "      <td>24.3</td>\n",
       "      <td>No</td>\n",
       "      <td>0.0</td>\n",
       "      <td>No</td>\n",
       "      <td>32.12</td>\n",
       "      <td>2.208569</td>\n",
       "      <td>10</td>\n",
       "      <td>21.497100</td>\n",
       "      <td>0.023477</td>\n",
       "    </tr>\n",
       "    <tr>\n",
       "      <th>2</th>\n",
       "      <td>2008-12-03</td>\n",
       "      <td>Albury</td>\n",
       "      <td>12.9</td>\n",
       "      <td>25.7</td>\n",
       "      <td>0.0</td>\n",
       "      <td>NaN</td>\n",
       "      <td>NaN</td>\n",
       "      <td>38.0</td>\n",
       "      <td>30.0</td>\n",
       "      <td>1007.6</td>\n",
       "      <td>1008.7</td>\n",
       "      <td>NaN</td>\n",
       "      <td>2.0</td>\n",
       "      <td>21.0</td>\n",
       "      <td>23.2</td>\n",
       "      <td>No</td>\n",
       "      <td>0.0</td>\n",
       "      <td>No</td>\n",
       "      <td>32.84</td>\n",
       "      <td>38.000000</td>\n",
       "      <td>17</td>\n",
       "      <td>20.782859</td>\n",
       "      <td>0.027580</td>\n",
       "    </tr>\n",
       "    <tr>\n",
       "      <th>3</th>\n",
       "      <td>2008-12-04</td>\n",
       "      <td>Albury</td>\n",
       "      <td>9.2</td>\n",
       "      <td>28.0</td>\n",
       "      <td>0.0</td>\n",
       "      <td>NaN</td>\n",
       "      <td>NaN</td>\n",
       "      <td>45.0</td>\n",
       "      <td>16.0</td>\n",
       "      <td>1017.6</td>\n",
       "      <td>1012.8</td>\n",
       "      <td>NaN</td>\n",
       "      <td>NaN</td>\n",
       "      <td>18.1</td>\n",
       "      <td>26.5</td>\n",
       "      <td>No</td>\n",
       "      <td>1.0</td>\n",
       "      <td>No</td>\n",
       "      <td>35.60</td>\n",
       "      <td>21.200000</td>\n",
       "      <td>8</td>\n",
       "      <td>12.028646</td>\n",
       "      <td>0.023962</td>\n",
       "    </tr>\n",
       "    <tr>\n",
       "      <th>4</th>\n",
       "      <td>2008-12-05</td>\n",
       "      <td>Albury</td>\n",
       "      <td>17.5</td>\n",
       "      <td>32.3</td>\n",
       "      <td>1.0</td>\n",
       "      <td>NaN</td>\n",
       "      <td>NaN</td>\n",
       "      <td>82.0</td>\n",
       "      <td>33.0</td>\n",
       "      <td>1010.8</td>\n",
       "      <td>1006.0</td>\n",
       "      <td>7.0</td>\n",
       "      <td>8.0</td>\n",
       "      <td>17.8</td>\n",
       "      <td>29.7</td>\n",
       "      <td>No</td>\n",
       "      <td>0.2</td>\n",
       "      <td>No</td>\n",
       "      <td>40.76</td>\n",
       "      <td>41.600000</td>\n",
       "      <td>9</td>\n",
       "      <td>11.883546</td>\n",
       "      <td>0.220164</td>\n",
       "    </tr>\n",
       "  </tbody>\n",
       "</table>\n",
       "</div>"
      ],
      "text/plain": [
       "         date location  mintemp  maxtemp  rainfall  evaporation  sunshine  \\\n",
       "0  2008-12-01   Albury     13.4     22.9       0.6          NaN       NaN   \n",
       "1  2008-12-02   Albury      7.4     25.1       0.0          NaN       NaN   \n",
       "2  2008-12-03   Albury     12.9     25.7       0.0          NaN       NaN   \n",
       "3  2008-12-04   Albury      9.2     28.0       0.0          NaN       NaN   \n",
       "4  2008-12-05   Albury     17.5     32.3       1.0          NaN       NaN   \n",
       "\n",
       "   humidity9am  humidity3pm  pressure9am  pressure3pm  cloud9am  cloud3pm  \\\n",
       "0         71.0         22.0       1007.7       1007.1       8.0       NaN   \n",
       "1         44.0         25.0       1010.6       1007.8       NaN       NaN   \n",
       "2         38.0         30.0       1007.6       1008.7       NaN       2.0   \n",
       "3         45.0         16.0       1017.6       1012.8       NaN       NaN   \n",
       "4         82.0         33.0       1010.8       1006.0       7.0       8.0   \n",
       "\n",
       "   temp9am  temp3pm raintoday  amountOfRain raintomorrow   temp   humidity  \\\n",
       "0     16.9     21.8        No           0.0           No  29.48  28.400000   \n",
       "1     17.2     24.3        No           0.0           No  32.12   2.208569   \n",
       "2     21.0     23.2        No           0.0           No  32.84  38.000000   \n",
       "3     18.1     26.5        No           1.0           No  35.60  21.200000   \n",
       "4     17.8     29.7        No           0.2           No  40.76  41.600000   \n",
       "\n",
       "   precipitation3pm  precipitation9am  modelo_vigente  \n",
       "0                12          5.115360        0.089825  \n",
       "1                10         21.497100        0.023477  \n",
       "2                17         20.782859        0.027580  \n",
       "3                 8         12.028646        0.023962  \n",
       "4                 9         11.883546        0.220164  "
      ]
     },
     "execution_count": 5,
     "metadata": {},
     "output_type": "execute_result"
    }
   ],
   "source": [
    "rain_data.head()"
   ]
  },
  {
   "cell_type": "code",
   "execution_count": 6,
   "metadata": {
    "ExecuteTime": {
     "end_time": "2020-08-04T22:19:08.932351Z",
     "start_time": "2020-08-04T22:19:08.917409Z"
    }
   },
   "outputs": [
    {
     "data": {
      "text/html": [
       "<div>\n",
       "<style scoped>\n",
       "    .dataframe tbody tr th:only-of-type {\n",
       "        vertical-align: middle;\n",
       "    }\n",
       "\n",
       "    .dataframe tbody tr th {\n",
       "        vertical-align: top;\n",
       "    }\n",
       "\n",
       "    .dataframe thead th {\n",
       "        text-align: right;\n",
       "    }\n",
       "</style>\n",
       "<table border=\"1\" class=\"dataframe\">\n",
       "  <thead>\n",
       "    <tr style=\"text-align: right;\">\n",
       "      <th></th>\n",
       "      <th>date</th>\n",
       "      <th>location</th>\n",
       "      <th>wind_gustdir</th>\n",
       "      <th>wind_gustspeed</th>\n",
       "      <th>wind_dir9am</th>\n",
       "      <th>wind_dir3pm</th>\n",
       "      <th>wind_speed9am</th>\n",
       "      <th>wind_speed3pm</th>\n",
       "      <th>labels</th>\n",
       "    </tr>\n",
       "  </thead>\n",
       "  <tbody>\n",
       "    <tr>\n",
       "      <th>0</th>\n",
       "      <td>2007-11-01</td>\n",
       "      <td>Canberra</td>\n",
       "      <td>NW</td>\n",
       "      <td>30.0</td>\n",
       "      <td>SW</td>\n",
       "      <td>NW</td>\n",
       "      <td>6.0</td>\n",
       "      <td>20.0</td>\n",
       "      <td>2</td>\n",
       "    </tr>\n",
       "    <tr>\n",
       "      <th>1</th>\n",
       "      <td>2007-11-02</td>\n",
       "      <td>Canberra</td>\n",
       "      <td>ENE</td>\n",
       "      <td>39.0</td>\n",
       "      <td>E</td>\n",
       "      <td>W</td>\n",
       "      <td>4.0</td>\n",
       "      <td>17.0</td>\n",
       "      <td>0</td>\n",
       "    </tr>\n",
       "    <tr>\n",
       "      <th>2</th>\n",
       "      <td>2007-11-03</td>\n",
       "      <td>Canberra</td>\n",
       "      <td>NW</td>\n",
       "      <td>85.0</td>\n",
       "      <td>N</td>\n",
       "      <td>NNE</td>\n",
       "      <td>6.0</td>\n",
       "      <td>6.0</td>\n",
       "      <td>0</td>\n",
       "    </tr>\n",
       "    <tr>\n",
       "      <th>3</th>\n",
       "      <td>2007-11-04</td>\n",
       "      <td>Canberra</td>\n",
       "      <td>NW</td>\n",
       "      <td>54.0</td>\n",
       "      <td>WNW</td>\n",
       "      <td>W</td>\n",
       "      <td>30.0</td>\n",
       "      <td>24.0</td>\n",
       "      <td>1</td>\n",
       "    </tr>\n",
       "    <tr>\n",
       "      <th>4</th>\n",
       "      <td>2007-11-05</td>\n",
       "      <td>Canberra</td>\n",
       "      <td>SSE</td>\n",
       "      <td>50.0</td>\n",
       "      <td>SSE</td>\n",
       "      <td>ESE</td>\n",
       "      <td>20.0</td>\n",
       "      <td>28.0</td>\n",
       "      <td>3</td>\n",
       "    </tr>\n",
       "  </tbody>\n",
       "</table>\n",
       "</div>"
      ],
      "text/plain": [
       "         date  location wind_gustdir  wind_gustspeed wind_dir9am wind_dir3pm  \\\n",
       "0  2007-11-01  Canberra           NW            30.0          SW          NW   \n",
       "1  2007-11-02  Canberra          ENE            39.0           E           W   \n",
       "2  2007-11-03  Canberra           NW            85.0           N         NNE   \n",
       "3  2007-11-04  Canberra           NW            54.0         WNW           W   \n",
       "4  2007-11-05  Canberra          SSE            50.0         SSE         ESE   \n",
       "\n",
       "   wind_speed9am  wind_speed3pm  labels  \n",
       "0            6.0           20.0       2  \n",
       "1            4.0           17.0       0  \n",
       "2            6.0            6.0       0  \n",
       "3           30.0           24.0       1  \n",
       "4           20.0           28.0       3  "
      ]
     },
     "execution_count": 6,
     "metadata": {},
     "output_type": "execute_result"
    }
   ],
   "source": [
    "wind.head()"
   ]
  },
  {
   "cell_type": "code",
   "execution_count": 7,
   "metadata": {
    "ExecuteTime": {
     "end_time": "2020-08-04T22:19:09.590590Z",
     "start_time": "2020-08-04T22:19:09.582610Z"
    }
   },
   "outputs": [
    {
     "data": {
      "text/plain": [
       "date               object\n",
       "location           object\n",
       "wind_gustdir       object\n",
       "wind_gustspeed    float64\n",
       "wind_dir9am        object\n",
       "wind_dir3pm        object\n",
       "wind_speed9am     float64\n",
       "wind_speed3pm     float64\n",
       "labels              int64\n",
       "dtype: object"
      ]
     },
     "execution_count": 7,
     "metadata": {},
     "output_type": "execute_result"
    }
   ],
   "source": [
    "wind.dtypes"
   ]
  },
  {
   "cell_type": "code",
   "execution_count": 8,
   "metadata": {
    "ExecuteTime": {
     "end_time": "2020-08-04T22:19:09.849895Z",
     "start_time": "2020-08-04T22:19:09.842914Z"
    }
   },
   "outputs": [
    {
     "data": {
      "text/plain": [
       "date                 object\n",
       "location             object\n",
       "mintemp             float64\n",
       "maxtemp             float64\n",
       "rainfall            float64\n",
       "evaporation         float64\n",
       "sunshine            float64\n",
       "humidity9am         float64\n",
       "humidity3pm         float64\n",
       "pressure9am         float64\n",
       "pressure3pm         float64\n",
       "cloud9am            float64\n",
       "cloud3pm            float64\n",
       "temp9am             float64\n",
       "temp3pm             float64\n",
       "raintoday            object\n",
       "amountOfRain        float64\n",
       "raintomorrow         object\n",
       "temp                float64\n",
       "humidity            float64\n",
       "precipitation3pm      int64\n",
       "precipitation9am    float64\n",
       "modelo_vigente      float64\n",
       "dtype: object"
      ]
     },
     "execution_count": 8,
     "metadata": {},
     "output_type": "execute_result"
    }
   ],
   "source": [
    "rain_data.dtypes"
   ]
  },
  {
   "cell_type": "code",
   "execution_count": 9,
   "metadata": {
    "ExecuteTime": {
     "end_time": "2020-08-04T22:19:10.115221Z",
     "start_time": "2020-08-04T22:19:10.073298Z"
    }
   },
   "outputs": [
    {
     "name": "stdout",
     "output_type": "stream",
     "text": [
      "<class 'pandas.core.frame.DataFrame'>\n",
      "RangeIndex: 164386 entries, 0 to 164385\n",
      "Data columns (total 9 columns):\n",
      " #   Column          Non-Null Count   Dtype  \n",
      "---  ------          --------------   -----  \n",
      " 0   date            164386 non-null  object \n",
      " 1   location        164386 non-null  object \n",
      " 2   wind_gustdir    153808 non-null  object \n",
      " 3   wind_gustspeed  153868 non-null  float64\n",
      " 4   wind_dir9am     152958 non-null  object \n",
      " 5   wind_dir3pm     159551 non-null  object \n",
      " 6   wind_speed9am   162933 non-null  float64\n",
      " 7   wind_speed3pm   160803 non-null  float64\n",
      " 8   labels          164386 non-null  int64  \n",
      "dtypes: float64(3), int64(1), object(5)\n",
      "memory usage: 11.3+ MB\n"
     ]
    }
   ],
   "source": [
    "wind.info()"
   ]
  },
  {
   "cell_type": "code",
   "execution_count": 10,
   "metadata": {
    "ExecuteTime": {
     "end_time": "2020-08-04T22:19:10.380475Z",
     "start_time": "2020-08-04T22:19:10.315649Z"
    }
   },
   "outputs": [
    {
     "name": "stdout",
     "output_type": "stream",
     "text": [
      "<class 'pandas.core.frame.DataFrame'>\n",
      "RangeIndex: 142193 entries, 0 to 142192\n",
      "Data columns (total 23 columns):\n",
      " #   Column            Non-Null Count   Dtype  \n",
      "---  ------            --------------   -----  \n",
      " 0   date              142193 non-null  object \n",
      " 1   location          142193 non-null  object \n",
      " 2   mintemp           141556 non-null  float64\n",
      " 3   maxtemp           141871 non-null  float64\n",
      " 4   rainfall          140787 non-null  float64\n",
      " 5   evaporation       81350 non-null   float64\n",
      " 6   sunshine          74377 non-null   float64\n",
      " 7   humidity9am       140419 non-null  float64\n",
      " 8   humidity3pm       138583 non-null  float64\n",
      " 9   pressure9am       128179 non-null  float64\n",
      " 10  pressure3pm       128212 non-null  float64\n",
      " 11  cloud9am          88536 non-null   float64\n",
      " 12  cloud3pm          85099 non-null   float64\n",
      " 13  temp9am           141289 non-null  float64\n",
      " 14  temp3pm           139467 non-null  float64\n",
      " 15  raintoday         140787 non-null  object \n",
      " 16  amountOfRain      142193 non-null  float64\n",
      " 17  raintomorrow      142193 non-null  object \n",
      " 18  temp              141871 non-null  float64\n",
      " 19  humidity          138583 non-null  float64\n",
      " 20  precipitation3pm  142193 non-null  int64  \n",
      " 21  precipitation9am  142193 non-null  float64\n",
      " 22  modelo_vigente    142193 non-null  float64\n",
      "dtypes: float64(18), int64(1), object(4)\n",
      "memory usage: 25.0+ MB\n"
     ]
    }
   ],
   "source": [
    "rain_data.info()"
   ]
  },
  {
   "cell_type": "code",
   "execution_count": 11,
   "metadata": {
    "ExecuteTime": {
     "end_time": "2020-08-04T22:19:10.565988Z",
     "start_time": "2020-08-04T22:19:10.561990Z"
    }
   },
   "outputs": [
    {
     "data": {
      "text/plain": [
       "(164386, 9)"
      ]
     },
     "execution_count": 11,
     "metadata": {},
     "output_type": "execute_result"
    }
   ],
   "source": [
    "wind.shape"
   ]
  },
  {
   "cell_type": "code",
   "execution_count": 12,
   "metadata": {
    "ExecuteTime": {
     "end_time": "2020-08-04T22:19:10.842241Z",
     "start_time": "2020-08-04T22:19:10.837255Z"
    }
   },
   "outputs": [
    {
     "data": {
      "text/plain": [
       "(142193, 23)"
      ]
     },
     "execution_count": 12,
     "metadata": {},
     "output_type": "execute_result"
    }
   ],
   "source": [
    "rain_data.shape"
   ]
  },
  {
   "cell_type": "markdown",
   "metadata": {},
   "source": [
    "# Exploring and transforming the data"
   ]
  },
  {
   "cell_type": "markdown",
   "metadata": {},
   "source": [
    "## Merging datasets"
   ]
  },
  {
   "cell_type": "code",
   "execution_count": 13,
   "metadata": {
    "ExecuteTime": {
     "end_time": "2020-08-04T22:19:11.720888Z",
     "start_time": "2020-08-04T22:19:11.644098Z"
    }
   },
   "outputs": [
    {
     "data": {
      "text/html": [
       "<div>\n",
       "<style scoped>\n",
       "    .dataframe tbody tr th:only-of-type {\n",
       "        vertical-align: middle;\n",
       "    }\n",
       "\n",
       "    .dataframe tbody tr th {\n",
       "        vertical-align: top;\n",
       "    }\n",
       "\n",
       "    .dataframe thead th {\n",
       "        text-align: right;\n",
       "    }\n",
       "</style>\n",
       "<table border=\"1\" class=\"dataframe\">\n",
       "  <thead>\n",
       "    <tr style=\"text-align: right;\">\n",
       "      <th></th>\n",
       "      <th></th>\n",
       "      <th>wind_gustdir</th>\n",
       "      <th>wind_gustspeed</th>\n",
       "      <th>wind_dir9am</th>\n",
       "      <th>wind_dir3pm</th>\n",
       "      <th>wind_speed9am</th>\n",
       "      <th>wind_speed3pm</th>\n",
       "      <th>labels</th>\n",
       "    </tr>\n",
       "    <tr>\n",
       "      <th>date</th>\n",
       "      <th>location</th>\n",
       "      <th></th>\n",
       "      <th></th>\n",
       "      <th></th>\n",
       "      <th></th>\n",
       "      <th></th>\n",
       "      <th></th>\n",
       "      <th></th>\n",
       "    </tr>\n",
       "  </thead>\n",
       "  <tbody>\n",
       "    <tr>\n",
       "      <th>2007-11-01</th>\n",
       "      <th>Canberra</th>\n",
       "      <td>NW</td>\n",
       "      <td>30.0</td>\n",
       "      <td>SW</td>\n",
       "      <td>NW</td>\n",
       "      <td>6.0</td>\n",
       "      <td>20.0</td>\n",
       "      <td>2</td>\n",
       "    </tr>\n",
       "    <tr>\n",
       "      <th>2007-11-02</th>\n",
       "      <th>Canberra</th>\n",
       "      <td>ENE</td>\n",
       "      <td>39.0</td>\n",
       "      <td>E</td>\n",
       "      <td>W</td>\n",
       "      <td>4.0</td>\n",
       "      <td>17.0</td>\n",
       "      <td>0</td>\n",
       "    </tr>\n",
       "    <tr>\n",
       "      <th>2007-11-03</th>\n",
       "      <th>Canberra</th>\n",
       "      <td>NW</td>\n",
       "      <td>85.0</td>\n",
       "      <td>N</td>\n",
       "      <td>NNE</td>\n",
       "      <td>6.0</td>\n",
       "      <td>6.0</td>\n",
       "      <td>0</td>\n",
       "    </tr>\n",
       "    <tr>\n",
       "      <th>2007-11-04</th>\n",
       "      <th>Canberra</th>\n",
       "      <td>NW</td>\n",
       "      <td>54.0</td>\n",
       "      <td>WNW</td>\n",
       "      <td>W</td>\n",
       "      <td>30.0</td>\n",
       "      <td>24.0</td>\n",
       "      <td>1</td>\n",
       "    </tr>\n",
       "    <tr>\n",
       "      <th>2007-11-05</th>\n",
       "      <th>Canberra</th>\n",
       "      <td>SSE</td>\n",
       "      <td>50.0</td>\n",
       "      <td>SSE</td>\n",
       "      <td>ESE</td>\n",
       "      <td>20.0</td>\n",
       "      <td>28.0</td>\n",
       "      <td>3</td>\n",
       "    </tr>\n",
       "    <tr>\n",
       "      <th>...</th>\n",
       "      <th>...</th>\n",
       "      <td>...</td>\n",
       "      <td>...</td>\n",
       "      <td>...</td>\n",
       "      <td>...</td>\n",
       "      <td>...</td>\n",
       "      <td>...</td>\n",
       "      <td>...</td>\n",
       "    </tr>\n",
       "    <tr>\n",
       "      <th rowspan=\"5\" valign=\"top\">2017-06-25</th>\n",
       "      <th>Perth</th>\n",
       "      <td>E</td>\n",
       "      <td>26.0</td>\n",
       "      <td>SE</td>\n",
       "      <td>SE</td>\n",
       "      <td>4.0</td>\n",
       "      <td>11.0</td>\n",
       "      <td>2</td>\n",
       "    </tr>\n",
       "    <tr>\n",
       "      <th>SalmonGums</th>\n",
       "      <td>SE</td>\n",
       "      <td>15.0</td>\n",
       "      <td>SSE</td>\n",
       "      <td>E</td>\n",
       "      <td>7.0</td>\n",
       "      <td>6.0</td>\n",
       "      <td>2</td>\n",
       "    </tr>\n",
       "    <tr>\n",
       "      <th>Walpole</th>\n",
       "      <td>SSW</td>\n",
       "      <td>20.0</td>\n",
       "      <td>WNW</td>\n",
       "      <td>SSW</td>\n",
       "      <td>6.0</td>\n",
       "      <td>6.0</td>\n",
       "      <td>2</td>\n",
       "    </tr>\n",
       "    <tr>\n",
       "      <th>Hobart</th>\n",
       "      <td>NW</td>\n",
       "      <td>50.0</td>\n",
       "      <td>NNW</td>\n",
       "      <td>NNW</td>\n",
       "      <td>17.0</td>\n",
       "      <td>28.0</td>\n",
       "      <td>3</td>\n",
       "    </tr>\n",
       "    <tr>\n",
       "      <th>Launceston</th>\n",
       "      <td>NW</td>\n",
       "      <td>50.0</td>\n",
       "      <td>NNW</td>\n",
       "      <td>NNW</td>\n",
       "      <td>15.0</td>\n",
       "      <td>17.0</td>\n",
       "      <td>3</td>\n",
       "    </tr>\n",
       "  </tbody>\n",
       "</table>\n",
       "<p>164386 rows × 7 columns</p>\n",
       "</div>"
      ],
      "text/plain": [
       "                      wind_gustdir  wind_gustspeed wind_dir9am wind_dir3pm  \\\n",
       "date       location                                                          \n",
       "2007-11-01 Canberra             NW            30.0          SW          NW   \n",
       "2007-11-02 Canberra            ENE            39.0           E           W   \n",
       "2007-11-03 Canberra             NW            85.0           N         NNE   \n",
       "2007-11-04 Canberra             NW            54.0         WNW           W   \n",
       "2007-11-05 Canberra            SSE            50.0         SSE         ESE   \n",
       "...                            ...             ...         ...         ...   \n",
       "2017-06-25 Perth                 E            26.0          SE          SE   \n",
       "           SalmonGums           SE            15.0         SSE           E   \n",
       "           Walpole             SSW            20.0         WNW         SSW   \n",
       "           Hobart               NW            50.0         NNW         NNW   \n",
       "           Launceston           NW            50.0         NNW         NNW   \n",
       "\n",
       "                       wind_speed9am  wind_speed3pm  labels  \n",
       "date       location                                          \n",
       "2007-11-01 Canberra              6.0           20.0       2  \n",
       "2007-11-02 Canberra              4.0           17.0       0  \n",
       "2007-11-03 Canberra              6.0            6.0       0  \n",
       "2007-11-04 Canberra             30.0           24.0       1  \n",
       "2007-11-05 Canberra             20.0           28.0       3  \n",
       "...                              ...            ...     ...  \n",
       "2017-06-25 Perth                 4.0           11.0       2  \n",
       "           SalmonGums            7.0            6.0       2  \n",
       "           Walpole               6.0            6.0       2  \n",
       "           Hobart               17.0           28.0       3  \n",
       "           Launceston           15.0           17.0       3  \n",
       "\n",
       "[164386 rows x 7 columns]"
      ]
     },
     "execution_count": 13,
     "metadata": {},
     "output_type": "execute_result"
    }
   ],
   "source": [
    "wind.set_index(['date','location'])"
   ]
  },
  {
   "cell_type": "code",
   "execution_count": 14,
   "metadata": {
    "ExecuteTime": {
     "end_time": "2020-08-04T22:19:12.156722Z",
     "start_time": "2020-08-04T22:19:11.892432Z"
    }
   },
   "outputs": [],
   "source": [
    "data=rain_data.join(wind.set_index(['date','location']),on=['date','location'])"
   ]
  },
  {
   "cell_type": "markdown",
   "metadata": {},
   "source": [
    "## Dummyfication "
   ]
  },
  {
   "cell_type": "code",
   "execution_count": 15,
   "metadata": {
    "ExecuteTime": {
     "end_time": "2020-08-04T22:19:12.442998Z",
     "start_time": "2020-08-04T22:19:12.381123Z"
    }
   },
   "outputs": [],
   "source": [
    "data['raintoday']=data['raintoday'].apply(lambda x: 1 if x=='Yes' else (0 if x=='No' else np.nan))"
   ]
  },
  {
   "cell_type": "code",
   "execution_count": 16,
   "metadata": {
    "ExecuteTime": {
     "end_time": "2020-08-04T22:19:12.695333Z",
     "start_time": "2020-08-04T22:19:12.622504Z"
    }
   },
   "outputs": [],
   "source": [
    "data['raintomorrow']=data['raintomorrow'].apply(lambda x: 1 if x=='Yes' else (0 if x=='No' else np.nan))"
   ]
  },
  {
   "cell_type": "code",
   "execution_count": 17,
   "metadata": {
    "ExecuteTime": {
     "end_time": "2020-08-04T22:19:12.921677Z",
     "start_time": "2020-08-04T22:19:12.872807Z"
    }
   },
   "outputs": [],
   "source": [
    "data['wind_gustdir_simplified']=data['wind_gustdir'].apply(lambda x: x[0] if type(x)==str else np.nan)"
   ]
  },
  {
   "cell_type": "code",
   "execution_count": 18,
   "metadata": {
    "ExecuteTime": {
     "end_time": "2020-08-04T22:19:13.182976Z",
     "start_time": "2020-08-04T22:19:13.120175Z"
    }
   },
   "outputs": [],
   "source": [
    "data['wind_gustdir_E']=data['wind_gustdir_simplified'].apply(lambda x: 1 if x=='E' else 0)"
   ]
  },
  {
   "cell_type": "code",
   "execution_count": 19,
   "metadata": {
    "ExecuteTime": {
     "end_time": "2020-08-04T22:19:13.405407Z",
     "start_time": "2020-08-04T22:19:13.349530Z"
    }
   },
   "outputs": [],
   "source": [
    "data['wind_gustdir_N']=data['wind_gustdir_simplified'].apply(lambda x: 1 if x=='N' else 0)"
   ]
  },
  {
   "cell_type": "code",
   "execution_count": 20,
   "metadata": {
    "ExecuteTime": {
     "end_time": "2020-08-04T22:19:13.645737Z",
     "start_time": "2020-08-04T22:19:13.587895Z"
    }
   },
   "outputs": [],
   "source": [
    "data['wind_gustdir_S']=data['wind_gustdir_simplified'].apply(lambda x: 1 if x=='S' else 0)"
   ]
  },
  {
   "cell_type": "code",
   "execution_count": 21,
   "metadata": {
    "ExecuteTime": {
     "end_time": "2020-08-04T22:19:13.883102Z",
     "start_time": "2020-08-04T22:19:13.827253Z"
    }
   },
   "outputs": [],
   "source": [
    "data['wind_gustdir_W']=data['wind_gustdir_simplified'].apply(lambda x: 1 if x=='W' else 0)"
   ]
  },
  {
   "cell_type": "markdown",
   "metadata": {},
   "source": [
    "## Dealing with nans and other dataset's issues"
   ]
  },
  {
   "cell_type": "code",
   "execution_count": 22,
   "metadata": {
    "ExecuteTime": {
     "end_time": "2020-08-04T22:19:14.438616Z",
     "start_time": "2020-08-04T22:19:14.323926Z"
    }
   },
   "outputs": [
    {
     "data": {
      "text/plain": [
       "date                           0\n",
       "location                       0\n",
       "mintemp                      772\n",
       "maxtemp                      397\n",
       "rainfall                    1619\n",
       "evaporation                74258\n",
       "sunshine                   83779\n",
       "humidity9am                 2034\n",
       "humidity3pm                 5124\n",
       "pressure9am                16301\n",
       "pressure3pm                16273\n",
       "cloud9am                   63507\n",
       "cloud3pm                   68670\n",
       "temp9am                      976\n",
       "temp3pm                     4077\n",
       "raintoday                   1619\n",
       "amountOfRain                   0\n",
       "raintomorrow                   0\n",
       "temp                         397\n",
       "humidity                    5124\n",
       "precipitation3pm               0\n",
       "precipitation9am               0\n",
       "modelo_vigente                 0\n",
       "wind_gustdir               10578\n",
       "wind_gustspeed             10518\n",
       "wind_dir9am                11428\n",
       "wind_dir3pm                 4835\n",
       "wind_speed9am               1453\n",
       "wind_speed3pm               3583\n",
       "labels                         0\n",
       "wind_gustdir_simplified    10578\n",
       "wind_gustdir_E                 0\n",
       "wind_gustdir_N                 0\n",
       "wind_gustdir_S                 0\n",
       "wind_gustdir_W                 0\n",
       "dtype: int64"
      ]
     },
     "execution_count": 22,
     "metadata": {},
     "output_type": "execute_result"
    }
   ],
   "source": [
    "data.isna().sum()"
   ]
  },
  {
   "cell_type": "code",
   "execution_count": 23,
   "metadata": {
    "ExecuteTime": {
     "end_time": "2020-08-04T22:19:14.580237Z",
     "start_time": "2020-08-04T22:19:14.575251Z"
    }
   },
   "outputs": [
    {
     "data": {
      "text/plain": [
       "(164386, 35)"
      ]
     },
     "execution_count": 23,
     "metadata": {},
     "output_type": "execute_result"
    }
   ],
   "source": [
    "data.shape"
   ]
  },
  {
   "cell_type": "markdown",
   "metadata": {},
   "source": [
    "Above we observe that the variable raintoday is based on rainfall and not on amountOfRain. In the models we will use rainfall as it seems to be more reliable"
   ]
  },
  {
   "cell_type": "code",
   "execution_count": 24,
   "metadata": {
    "ExecuteTime": {
     "end_time": "2020-08-04T22:19:15.078903Z",
     "start_time": "2020-08-04T22:19:15.069927Z"
    }
   },
   "outputs": [
    {
     "data": {
      "text/plain": [
       "0.0    126200\n",
       "1.0     36567\n",
       "Name: raintoday, dtype: int64"
      ]
     },
     "execution_count": 24,
     "metadata": {},
     "output_type": "execute_result"
    }
   ],
   "source": [
    "data['raintoday'].value_counts()"
   ]
  },
  {
   "cell_type": "code",
   "execution_count": 25,
   "metadata": {
    "ExecuteTime": {
     "end_time": "2020-08-04T22:19:15.365137Z",
     "start_time": "2020-08-04T22:19:15.354167Z"
    }
   },
   "outputs": [
    {
     "data": {
      "text/plain": [
       "0.0      11758\n",
       "0.2       3478\n",
       "0.4       1553\n",
       "0.6       1101\n",
       "0.8        907\n",
       "         ...  \n",
       "106.0        1\n",
       "91.0         1\n",
       "113.4        1\n",
       "98.2         1\n",
       "4.1          1\n",
       "Name: amountOfRain, Length: 630, dtype: int64"
      ]
     },
     "execution_count": 25,
     "metadata": {},
     "output_type": "execute_result"
    }
   ],
   "source": [
    "data.loc[data['raintoday']==1,'amountOfRain'].value_counts()"
   ]
  },
  {
   "cell_type": "code",
   "execution_count": 26,
   "metadata": {
    "ExecuteTime": {
     "end_time": "2020-08-04T22:19:15.631431Z",
     "start_time": "2020-08-04T22:19:15.614469Z"
    }
   },
   "outputs": [
    {
     "data": {
      "text/html": [
       "<div>\n",
       "<style scoped>\n",
       "    .dataframe tbody tr th:only-of-type {\n",
       "        vertical-align: middle;\n",
       "    }\n",
       "\n",
       "    .dataframe tbody tr th {\n",
       "        vertical-align: top;\n",
       "    }\n",
       "\n",
       "    .dataframe thead th {\n",
       "        text-align: right;\n",
       "    }\n",
       "</style>\n",
       "<table border=\"1\" class=\"dataframe\">\n",
       "  <thead>\n",
       "    <tr style=\"text-align: right;\">\n",
       "      <th></th>\n",
       "      <th>date</th>\n",
       "      <th>location</th>\n",
       "      <th>mintemp</th>\n",
       "      <th>maxtemp</th>\n",
       "      <th>rainfall</th>\n",
       "      <th>evaporation</th>\n",
       "      <th>sunshine</th>\n",
       "      <th>humidity9am</th>\n",
       "      <th>humidity3pm</th>\n",
       "      <th>pressure9am</th>\n",
       "      <th>pressure3pm</th>\n",
       "      <th>cloud9am</th>\n",
       "      <th>cloud3pm</th>\n",
       "      <th>temp9am</th>\n",
       "      <th>temp3pm</th>\n",
       "      <th>raintoday</th>\n",
       "      <th>amountOfRain</th>\n",
       "      <th>raintomorrow</th>\n",
       "      <th>temp</th>\n",
       "      <th>humidity</th>\n",
       "      <th>precipitation3pm</th>\n",
       "      <th>precipitation9am</th>\n",
       "      <th>modelo_vigente</th>\n",
       "      <th>wind_gustdir</th>\n",
       "      <th>wind_gustspeed</th>\n",
       "      <th>wind_dir9am</th>\n",
       "      <th>wind_dir3pm</th>\n",
       "      <th>wind_speed9am</th>\n",
       "      <th>wind_speed3pm</th>\n",
       "      <th>labels</th>\n",
       "      <th>wind_gustdir_simplified</th>\n",
       "      <th>wind_gustdir_E</th>\n",
       "      <th>wind_gustdir_N</th>\n",
       "      <th>wind_gustdir_S</th>\n",
       "      <th>wind_gustdir_W</th>\n",
       "    </tr>\n",
       "  </thead>\n",
       "  <tbody>\n",
       "  </tbody>\n",
       "</table>\n",
       "</div>"
      ],
      "text/plain": [
       "Empty DataFrame\n",
       "Columns: [date, location, mintemp, maxtemp, rainfall, evaporation, sunshine, humidity9am, humidity3pm, pressure9am, pressure3pm, cloud9am, cloud3pm, temp9am, temp3pm, raintoday, amountOfRain, raintomorrow, temp, humidity, precipitation3pm, precipitation9am, modelo_vigente, wind_gustdir, wind_gustspeed, wind_dir9am, wind_dir3pm, wind_speed9am, wind_speed3pm, labels, wind_gustdir_simplified, wind_gustdir_E, wind_gustdir_N, wind_gustdir_S, wind_gustdir_W]\n",
       "Index: []"
      ]
     },
     "execution_count": 26,
     "metadata": {},
     "output_type": "execute_result"
    }
   ],
   "source": [
    "data.loc[data['mintemp']>data['maxtemp']]"
   ]
  },
  {
   "cell_type": "code",
   "execution_count": 27,
   "metadata": {
    "ExecuteTime": {
     "end_time": "2020-08-04T22:19:15.889732Z",
     "start_time": "2020-08-04T22:19:15.878765Z"
    }
   },
   "outputs": [
    {
     "data": {
      "text/plain": [
       "1.2      1750\n",
       "1.4      1599\n",
       "1.6      1377\n",
       "1.8      1250\n",
       "2.0      1177\n",
       "         ... \n",
       "167.0       1\n",
       "127.6       1\n",
       "33.9        1\n",
       "13.1        1\n",
       "104.6       1\n",
       "Name: rainfall, Length: 668, dtype: int64"
      ]
     },
     "execution_count": 27,
     "metadata": {},
     "output_type": "execute_result"
    }
   ],
   "source": [
    "data.loc[data['raintoday']==1,'rainfall'].value_counts()"
   ]
  },
  {
   "cell_type": "markdown",
   "metadata": {},
   "source": [
    "Above we see that sunshine and other variables depend on the cities to be registered"
   ]
  },
  {
   "cell_type": "code",
   "execution_count": 28,
   "metadata": {
    "ExecuteTime": {
     "end_time": "2020-08-04T22:19:16.404355Z",
     "start_time": "2020-08-04T22:19:16.394382Z"
    }
   },
   "outputs": [
    {
     "data": {
      "text/plain": [
       "0.0     2553\n",
       "10.7    1160\n",
       "11.0    1153\n",
       "10.8    1138\n",
       "10.5    1109\n",
       "        ... \n",
       "14.0      16\n",
       "14.1       7\n",
       "14.3       4\n",
       "14.2       2\n",
       "14.5       1\n",
       "Name: sunshine, Length: 145, dtype: int64"
      ]
     },
     "execution_count": 28,
     "metadata": {},
     "output_type": "execute_result"
    }
   ],
   "source": [
    "data['sunshine'].value_counts()"
   ]
  },
  {
   "cell_type": "code",
   "execution_count": 29,
   "metadata": {
    "ExecuteTime": {
     "end_time": "2020-08-04T22:19:16.852159Z",
     "start_time": "2020-08-04T22:19:16.698569Z"
    }
   },
   "outputs": [
    {
     "data": {
      "text/html": [
       "<div>\n",
       "<style scoped>\n",
       "    .dataframe tbody tr th:only-of-type {\n",
       "        vertical-align: middle;\n",
       "    }\n",
       "\n",
       "    .dataframe tbody tr th {\n",
       "        vertical-align: top;\n",
       "    }\n",
       "\n",
       "    .dataframe thead th {\n",
       "        text-align: right;\n",
       "    }\n",
       "</style>\n",
       "<table border=\"1\" class=\"dataframe\">\n",
       "  <thead>\n",
       "    <tr style=\"text-align: right;\">\n",
       "      <th></th>\n",
       "      <th>mintemp</th>\n",
       "      <th>maxtemp</th>\n",
       "      <th>rainfall</th>\n",
       "      <th>evaporation</th>\n",
       "      <th>sunshine</th>\n",
       "      <th>humidity9am</th>\n",
       "      <th>humidity3pm</th>\n",
       "      <th>pressure9am</th>\n",
       "      <th>pressure3pm</th>\n",
       "      <th>cloud9am</th>\n",
       "      <th>cloud3pm</th>\n",
       "      <th>temp9am</th>\n",
       "      <th>temp3pm</th>\n",
       "      <th>raintoday</th>\n",
       "      <th>amountOfRain</th>\n",
       "      <th>raintomorrow</th>\n",
       "      <th>temp</th>\n",
       "      <th>humidity</th>\n",
       "      <th>precipitation3pm</th>\n",
       "      <th>precipitation9am</th>\n",
       "      <th>modelo_vigente</th>\n",
       "      <th>wind_gustspeed</th>\n",
       "      <th>wind_speed9am</th>\n",
       "      <th>wind_speed3pm</th>\n",
       "      <th>labels</th>\n",
       "      <th>wind_gustdir_E</th>\n",
       "      <th>wind_gustdir_N</th>\n",
       "      <th>wind_gustdir_S</th>\n",
       "      <th>wind_gustdir_W</th>\n",
       "    </tr>\n",
       "    <tr>\n",
       "      <th>location</th>\n",
       "      <th></th>\n",
       "      <th></th>\n",
       "      <th></th>\n",
       "      <th></th>\n",
       "      <th></th>\n",
       "      <th></th>\n",
       "      <th></th>\n",
       "      <th></th>\n",
       "      <th></th>\n",
       "      <th></th>\n",
       "      <th></th>\n",
       "      <th></th>\n",
       "      <th></th>\n",
       "      <th></th>\n",
       "      <th></th>\n",
       "      <th></th>\n",
       "      <th></th>\n",
       "      <th></th>\n",
       "      <th></th>\n",
       "      <th></th>\n",
       "      <th></th>\n",
       "      <th></th>\n",
       "      <th></th>\n",
       "      <th></th>\n",
       "      <th></th>\n",
       "      <th></th>\n",
       "      <th></th>\n",
       "      <th></th>\n",
       "      <th></th>\n",
       "    </tr>\n",
       "  </thead>\n",
       "  <tbody>\n",
       "    <tr>\n",
       "      <th>Adelaide</th>\n",
       "      <td>12.538624</td>\n",
       "      <td>22.861178</td>\n",
       "      <td>1.625367</td>\n",
       "      <td>5.824924</td>\n",
       "      <td>7.752002</td>\n",
       "      <td>59.994639</td>\n",
       "      <td>45.242381</td>\n",
       "      <td>1018.730246</td>\n",
       "      <td>1016.771880</td>\n",
       "      <td>NaN</td>\n",
       "      <td>NaN</td>\n",
       "      <td>16.903499</td>\n",
       "      <td>21.521580</td>\n",
       "      <td>0.225194</td>\n",
       "      <td>1.617357</td>\n",
       "      <td>0.224007</td>\n",
       "      <td>28.046256</td>\n",
       "      <td>54.954834</td>\n",
       "      <td>10.052691</td>\n",
       "      <td>10.006718</td>\n",
       "      <td>0.188529</td>\n",
       "      <td>36.092819</td>\n",
       "      <td>9.718962</td>\n",
       "      <td>15.168736</td>\n",
       "      <td>1.708932</td>\n",
       "      <td>0.096365</td>\n",
       "      <td>0.260919</td>\n",
       "      <td>0.294731</td>\n",
       "      <td>0.340659</td>\n",
       "    </tr>\n",
       "    <tr>\n",
       "      <th>Albany</th>\n",
       "      <td>12.853903</td>\n",
       "      <td>19.979238</td>\n",
       "      <td>2.261720</td>\n",
       "      <td>4.308122</td>\n",
       "      <td>6.630663</td>\n",
       "      <td>75.505462</td>\n",
       "      <td>67.392487</td>\n",
       "      <td>1018.273217</td>\n",
       "      <td>1016.499272</td>\n",
       "      <td>5.188436</td>\n",
       "      <td>4.808703</td>\n",
       "      <td>16.110015</td>\n",
       "      <td>18.412974</td>\n",
       "      <td>0.302624</td>\n",
       "      <td>2.273260</td>\n",
       "      <td>0.304072</td>\n",
       "      <td>24.868309</td>\n",
       "      <td>80.193375</td>\n",
       "      <td>10.009241</td>\n",
       "      <td>9.913054</td>\n",
       "      <td>0.317938</td>\n",
       "      <td>NaN</td>\n",
       "      <td>12.644103</td>\n",
       "      <td>19.001305</td>\n",
       "      <td>1.188276</td>\n",
       "      <td>0.000000</td>\n",
       "      <td>0.000000</td>\n",
       "      <td>0.000000</td>\n",
       "      <td>0.000000</td>\n",
       "    </tr>\n",
       "    <tr>\n",
       "      <th>Albury</th>\n",
       "      <td>9.476567</td>\n",
       "      <td>22.536642</td>\n",
       "      <td>1.923171</td>\n",
       "      <td>NaN</td>\n",
       "      <td>NaN</td>\n",
       "      <td>74.521224</td>\n",
       "      <td>48.235056</td>\n",
       "      <td>1018.388982</td>\n",
       "      <td>1015.792839</td>\n",
       "      <td>6.356091</td>\n",
       "      <td>5.381587</td>\n",
       "      <td>14.283598</td>\n",
       "      <td>21.265204</td>\n",
       "      <td>0.206446</td>\n",
       "      <td>1.912085</td>\n",
       "      <td>0.206230</td>\n",
       "      <td>27.719232</td>\n",
       "      <td>57.874174</td>\n",
       "      <td>9.989040</td>\n",
       "      <td>9.970921</td>\n",
       "      <td>0.196727</td>\n",
       "      <td>32.787677</td>\n",
       "      <td>8.179902</td>\n",
       "      <td>14.386994</td>\n",
       "      <td>1.680992</td>\n",
       "      <td>0.129218</td>\n",
       "      <td>0.264782</td>\n",
       "      <td>0.235362</td>\n",
       "      <td>0.367753</td>\n",
       "    </tr>\n",
       "    <tr>\n",
       "      <th>AliceSprings</th>\n",
       "      <td>13.057278</td>\n",
       "      <td>29.202125</td>\n",
       "      <td>0.851094</td>\n",
       "      <td>9.248823</td>\n",
       "      <td>9.590290</td>\n",
       "      <td>39.967816</td>\n",
       "      <td>24.279758</td>\n",
       "      <td>1016.764370</td>\n",
       "      <td>1012.950819</td>\n",
       "      <td>2.979363</td>\n",
       "      <td>3.344924</td>\n",
       "      <td>21.225976</td>\n",
       "      <td>27.956519</td>\n",
       "      <td>0.080069</td>\n",
       "      <td>0.875144</td>\n",
       "      <td>0.081515</td>\n",
       "      <td>35.448744</td>\n",
       "      <td>30.162267</td>\n",
       "      <td>10.014351</td>\n",
       "      <td>10.065199</td>\n",
       "      <td>0.102462</td>\n",
       "      <td>40.317771</td>\n",
       "      <td>14.622631</td>\n",
       "      <td>18.012924</td>\n",
       "      <td>1.879162</td>\n",
       "      <td>0.428530</td>\n",
       "      <td>0.172216</td>\n",
       "      <td>0.327497</td>\n",
       "      <td>0.055396</td>\n",
       "    </tr>\n",
       "    <tr>\n",
       "      <th>BadgerysCreek</th>\n",
       "      <td>11.126980</td>\n",
       "      <td>24.050460</td>\n",
       "      <td>2.210729</td>\n",
       "      <td>NaN</td>\n",
       "      <td>NaN</td>\n",
       "      <td>76.995795</td>\n",
       "      <td>51.574347</td>\n",
       "      <td>1018.449133</td>\n",
       "      <td>1015.618709</td>\n",
       "      <td>NaN</td>\n",
       "      <td>NaN</td>\n",
       "      <td>16.592578</td>\n",
       "      <td>22.518741</td>\n",
       "      <td>0.197107</td>\n",
       "      <td>2.196262</td>\n",
       "      <td>0.196974</td>\n",
       "      <td>29.568422</td>\n",
       "      <td>62.229038</td>\n",
       "      <td>9.972708</td>\n",
       "      <td>10.100505</td>\n",
       "      <td>0.202926</td>\n",
       "      <td>33.456904</td>\n",
       "      <td>8.027172</td>\n",
       "      <td>13.909200</td>\n",
       "      <td>1.648769</td>\n",
       "      <td>0.262237</td>\n",
       "      <td>0.218629</td>\n",
       "      <td>0.308514</td>\n",
       "      <td>0.205280</td>\n",
       "    </tr>\n",
       "    <tr>\n",
       "      <th>Ballarat</th>\n",
       "      <td>7.343492</td>\n",
       "      <td>18.184284</td>\n",
       "      <td>1.733928</td>\n",
       "      <td>NaN</td>\n",
       "      <td>NaN</td>\n",
       "      <td>82.402196</td>\n",
       "      <td>59.602240</td>\n",
       "      <td>1017.832266</td>\n",
       "      <td>1016.256392</td>\n",
       "      <td>5.913397</td>\n",
       "      <td>6.305913</td>\n",
       "      <td>11.609347</td>\n",
       "      <td>16.694231</td>\n",
       "      <td>0.260782</td>\n",
       "      <td>1.779020</td>\n",
       "      <td>0.261106</td>\n",
       "      <td>22.761476</td>\n",
       "      <td>71.602793</td>\n",
       "      <td>9.928633</td>\n",
       "      <td>9.999439</td>\n",
       "      <td>0.282206</td>\n",
       "      <td>44.927808</td>\n",
       "      <td>19.939098</td>\n",
       "      <td>22.810958</td>\n",
       "      <td>1.895959</td>\n",
       "      <td>0.047005</td>\n",
       "      <td>0.372026</td>\n",
       "      <td>0.371167</td>\n",
       "      <td>0.202350</td>\n",
       "    </tr>\n",
       "    <tr>\n",
       "      <th>Bendigo</th>\n",
       "      <td>8.595387</td>\n",
       "      <td>21.498052</td>\n",
       "      <td>1.658881</td>\n",
       "      <td>3.851730</td>\n",
       "      <td>NaN</td>\n",
       "      <td>71.008319</td>\n",
       "      <td>46.981662</td>\n",
       "      <td>1018.004861</td>\n",
       "      <td>1015.860655</td>\n",
       "      <td>4.562284</td>\n",
       "      <td>4.977147</td>\n",
       "      <td>13.762396</td>\n",
       "      <td>20.132092</td>\n",
       "      <td>0.189670</td>\n",
       "      <td>1.656144</td>\n",
       "      <td>0.189344</td>\n",
       "      <td>26.391808</td>\n",
       "      <td>56.242154</td>\n",
       "      <td>10.127471</td>\n",
       "      <td>9.973601</td>\n",
       "      <td>0.193707</td>\n",
       "      <td>38.688767</td>\n",
       "      <td>12.787271</td>\n",
       "      <td>17.089163</td>\n",
       "      <td>1.816385</td>\n",
       "      <td>0.041249</td>\n",
       "      <td>0.311945</td>\n",
       "      <td>0.406187</td>\n",
       "      <td>0.229734</td>\n",
       "    </tr>\n",
       "    <tr>\n",
       "      <th>Brisbane</th>\n",
       "      <td>16.475152</td>\n",
       "      <td>26.503404</td>\n",
       "      <td>3.086304</td>\n",
       "      <td>5.459438</td>\n",
       "      <td>8.097142</td>\n",
       "      <td>63.791482</td>\n",
       "      <td>53.674612</td>\n",
       "      <td>1018.269292</td>\n",
       "      <td>1015.135647</td>\n",
       "      <td>3.889411</td>\n",
       "      <td>3.855365</td>\n",
       "      <td>21.872843</td>\n",
       "      <td>24.799640</td>\n",
       "      <td>0.220084</td>\n",
       "      <td>3.069928</td>\n",
       "      <td>0.219458</td>\n",
       "      <td>32.204664</td>\n",
       "      <td>64.416477</td>\n",
       "      <td>9.978718</td>\n",
       "      <td>9.829047</td>\n",
       "      <td>0.207628</td>\n",
       "      <td>28.042246</td>\n",
       "      <td>6.893035</td>\n",
       "      <td>10.909292</td>\n",
       "      <td>1.854063</td>\n",
       "      <td>0.408513</td>\n",
       "      <td>0.190713</td>\n",
       "      <td>0.192648</td>\n",
       "      <td>0.202598</td>\n",
       "    </tr>\n",
       "    <tr>\n",
       "      <th>Cairns</th>\n",
       "      <td>21.259924</td>\n",
       "      <td>29.556173</td>\n",
       "      <td>5.665634</td>\n",
       "      <td>6.395025</td>\n",
       "      <td>7.575636</td>\n",
       "      <td>70.283363</td>\n",
       "      <td>62.084656</td>\n",
       "      <td>1014.210523</td>\n",
       "      <td>1011.163639</td>\n",
       "      <td>4.627374</td>\n",
       "      <td>4.500496</td>\n",
       "      <td>25.824897</td>\n",
       "      <td>27.928395</td>\n",
       "      <td>0.320727</td>\n",
       "      <td>5.628630</td>\n",
       "      <td>0.320988</td>\n",
       "      <td>35.585547</td>\n",
       "      <td>74.415261</td>\n",
       "      <td>10.035273</td>\n",
       "      <td>10.069608</td>\n",
       "      <td>0.323811</td>\n",
       "      <td>38.149660</td>\n",
       "      <td>15.969430</td>\n",
       "      <td>21.927080</td>\n",
       "      <td>2.380071</td>\n",
       "      <td>0.230159</td>\n",
       "      <td>0.183128</td>\n",
       "      <td>0.565256</td>\n",
       "      <td>0.014991</td>\n",
       "    </tr>\n",
       "    <tr>\n",
       "      <th>Canberra</th>\n",
       "      <td>6.810098</td>\n",
       "      <td>20.942850</td>\n",
       "      <td>1.738119</td>\n",
       "      <td>4.404717</td>\n",
       "      <td>7.403241</td>\n",
       "      <td>73.534731</td>\n",
       "      <td>46.196895</td>\n",
       "      <td>1018.952669</td>\n",
       "      <td>1016.205332</td>\n",
       "      <td>5.016235</td>\n",
       "      <td>4.857500</td>\n",
       "      <td>12.655984</td>\n",
       "      <td>19.443902</td>\n",
       "      <td>0.184763</td>\n",
       "      <td>1.745061</td>\n",
       "      <td>0.185453</td>\n",
       "      <td>26.051792</td>\n",
       "      <td>55.972421</td>\n",
       "      <td>9.919010</td>\n",
       "      <td>10.078365</td>\n",
       "      <td>0.188505</td>\n",
       "      <td>40.091269</td>\n",
       "      <td>10.487939</td>\n",
       "      <td>19.292910</td>\n",
       "      <td>1.428682</td>\n",
       "      <td>0.201186</td>\n",
       "      <td>0.416043</td>\n",
       "      <td>0.124323</td>\n",
       "      <td>0.170751</td>\n",
       "    </tr>\n",
       "    <tr>\n",
       "      <th>Cobar</th>\n",
       "      <td>13.037693</td>\n",
       "      <td>25.726397</td>\n",
       "      <td>1.157210</td>\n",
       "      <td>6.666946</td>\n",
       "      <td>8.674364</td>\n",
       "      <td>56.023891</td>\n",
       "      <td>34.491462</td>\n",
       "      <td>1018.029238</td>\n",
       "      <td>1015.367116</td>\n",
       "      <td>3.452628</td>\n",
       "      <td>3.908624</td>\n",
       "      <td>17.994666</td>\n",
       "      <td>24.423783</td>\n",
       "      <td>0.132808</td>\n",
       "      <td>1.154437</td>\n",
       "      <td>0.132965</td>\n",
       "      <td>31.357627</td>\n",
       "      <td>42.419518</td>\n",
       "      <td>10.019494</td>\n",
       "      <td>9.874570</td>\n",
       "      <td>0.143285</td>\n",
       "      <td>36.548881</td>\n",
       "      <td>14.683319</td>\n",
       "      <td>15.153824</td>\n",
       "      <td>2.156823</td>\n",
       "      <td>0.199011</td>\n",
       "      <td>0.243526</td>\n",
       "      <td>0.345941</td>\n",
       "      <td>0.199593</td>\n",
       "    </tr>\n",
       "    <tr>\n",
       "      <th>CoffsHarbour</th>\n",
       "      <td>14.379748</td>\n",
       "      <td>23.972188</td>\n",
       "      <td>5.018465</td>\n",
       "      <td>3.904267</td>\n",
       "      <td>7.362374</td>\n",
       "      <td>67.987379</td>\n",
       "      <td>62.308936</td>\n",
       "      <td>1018.246728</td>\n",
       "      <td>1015.847487</td>\n",
       "      <td>4.470835</td>\n",
       "      <td>4.623260</td>\n",
       "      <td>20.154207</td>\n",
       "      <td>22.357097</td>\n",
       "      <td>0.291091</td>\n",
       "      <td>5.024575</td>\n",
       "      <td>0.291154</td>\n",
       "      <td>29.447356</td>\n",
       "      <td>74.532314</td>\n",
       "      <td>10.062976</td>\n",
       "      <td>10.047041</td>\n",
       "      <td>0.285602</td>\n",
       "      <td>39.248542</td>\n",
       "      <td>15.259248</td>\n",
       "      <td>21.224929</td>\n",
       "      <td>1.993556</td>\n",
       "      <td>0.089924</td>\n",
       "      <td>0.339777</td>\n",
       "      <td>0.388987</td>\n",
       "      <td>0.085237</td>\n",
       "    </tr>\n",
       "    <tr>\n",
       "      <th>Dartmoor</th>\n",
       "      <td>8.612331</td>\n",
       "      <td>19.607344</td>\n",
       "      <td>2.176405</td>\n",
       "      <td>3.322320</td>\n",
       "      <td>6.390489</td>\n",
       "      <td>85.078111</td>\n",
       "      <td>62.513572</td>\n",
       "      <td>1017.928857</td>\n",
       "      <td>1016.439888</td>\n",
       "      <td>NaN</td>\n",
       "      <td>NaN</td>\n",
       "      <td>12.538977</td>\n",
       "      <td>18.100646</td>\n",
       "      <td>0.315681</td>\n",
       "      <td>2.174324</td>\n",
       "      <td>0.315805</td>\n",
       "      <td>24.408859</td>\n",
       "      <td>74.832879</td>\n",
       "      <td>10.051116</td>\n",
       "      <td>10.144305</td>\n",
       "      <td>0.314749</td>\n",
       "      <td>38.633529</td>\n",
       "      <td>10.678036</td>\n",
       "      <td>17.687041</td>\n",
       "      <td>1.655405</td>\n",
       "      <td>0.100176</td>\n",
       "      <td>0.314630</td>\n",
       "      <td>0.402468</td>\n",
       "      <td>0.181551</td>\n",
       "    </tr>\n",
       "    <tr>\n",
       "      <th>Darwin</th>\n",
       "      <td>23.278834</td>\n",
       "      <td>32.567889</td>\n",
       "      <td>5.189762</td>\n",
       "      <td>6.296204</td>\n",
       "      <td>8.500000</td>\n",
       "      <td>68.618839</td>\n",
       "      <td>51.924130</td>\n",
       "      <td>1011.885159</td>\n",
       "      <td>1008.350397</td>\n",
       "      <td>4.296276</td>\n",
       "      <td>4.295342</td>\n",
       "      <td>27.234656</td>\n",
       "      <td>31.122870</td>\n",
       "      <td>0.269094</td>\n",
       "      <td>5.186258</td>\n",
       "      <td>0.268820</td>\n",
       "      <td>39.250261</td>\n",
       "      <td>62.514036</td>\n",
       "      <td>10.042431</td>\n",
       "      <td>10.162353</td>\n",
       "      <td>0.280417</td>\n",
       "      <td>40.360565</td>\n",
       "      <td>14.803836</td>\n",
       "      <td>20.586689</td>\n",
       "      <td>1.970709</td>\n",
       "      <td>0.362989</td>\n",
       "      <td>0.331235</td>\n",
       "      <td>0.118259</td>\n",
       "      <td>0.174925</td>\n",
       "    </tr>\n",
       "    <tr>\n",
       "      <th>GoldCoast</th>\n",
       "      <td>17.349620</td>\n",
       "      <td>25.753770</td>\n",
       "      <td>3.675627</td>\n",
       "      <td>NaN</td>\n",
       "      <td>NaN</td>\n",
       "      <td>66.613423</td>\n",
       "      <td>63.257913</td>\n",
       "      <td>1017.961087</td>\n",
       "      <td>1015.251096</td>\n",
       "      <td>NaN</td>\n",
       "      <td>NaN</td>\n",
       "      <td>22.357815</td>\n",
       "      <td>23.757493</td>\n",
       "      <td>0.254182</td>\n",
       "      <td>3.694479</td>\n",
       "      <td>0.254455</td>\n",
       "      <td>31.499480</td>\n",
       "      <td>75.444784</td>\n",
       "      <td>9.971370</td>\n",
       "      <td>9.967876</td>\n",
       "      <td>0.261287</td>\n",
       "      <td>42.219145</td>\n",
       "      <td>19.230656</td>\n",
       "      <td>25.769979</td>\n",
       "      <td>1.933684</td>\n",
       "      <td>0.129126</td>\n",
       "      <td>0.289804</td>\n",
       "      <td>0.470348</td>\n",
       "      <td>0.081215</td>\n",
       "    </tr>\n",
       "    <tr>\n",
       "      <th>Hobart</th>\n",
       "      <td>9.099671</td>\n",
       "      <td>17.874315</td>\n",
       "      <td>1.614102</td>\n",
       "      <td>3.604310</td>\n",
       "      <td>6.558189</td>\n",
       "      <td>65.593407</td>\n",
       "      <td>52.756393</td>\n",
       "      <td>1014.398054</td>\n",
       "      <td>1012.809044</td>\n",
       "      <td>4.856454</td>\n",
       "      <td>4.973409</td>\n",
       "      <td>12.466731</td>\n",
       "      <td>16.204797</td>\n",
       "      <td>0.240604</td>\n",
       "      <td>1.611233</td>\n",
       "      <td>0.240000</td>\n",
       "      <td>22.326283</td>\n",
       "      <td>63.627847</td>\n",
       "      <td>10.015890</td>\n",
       "      <td>10.059698</td>\n",
       "      <td>0.270416</td>\n",
       "      <td>47.653433</td>\n",
       "      <td>16.361644</td>\n",
       "      <td>19.799397</td>\n",
       "      <td>1.602192</td>\n",
       "      <td>0.052877</td>\n",
       "      <td>0.493151</td>\n",
       "      <td>0.306301</td>\n",
       "      <td>0.141370</td>\n",
       "    </tr>\n",
       "    <tr>\n",
       "      <th>Katherine</th>\n",
       "      <td>20.589277</td>\n",
       "      <td>34.893529</td>\n",
       "      <td>3.137355</td>\n",
       "      <td>7.333562</td>\n",
       "      <td>NaN</td>\n",
       "      <td>63.594778</td>\n",
       "      <td>42.610583</td>\n",
       "      <td>1012.806869</td>\n",
       "      <td>1008.520369</td>\n",
       "      <td>2.615031</td>\n",
       "      <td>3.169611</td>\n",
       "      <td>26.685115</td>\n",
       "      <td>33.548645</td>\n",
       "      <td>0.168929</td>\n",
       "      <td>3.199204</td>\n",
       "      <td>0.172637</td>\n",
       "      <td>41.828527</td>\n",
       "      <td>51.026839</td>\n",
       "      <td>9.946766</td>\n",
       "      <td>10.121882</td>\n",
       "      <td>0.224866</td>\n",
       "      <td>38.560223</td>\n",
       "      <td>12.155301</td>\n",
       "      <td>15.834665</td>\n",
       "      <td>1.736816</td>\n",
       "      <td>0.503483</td>\n",
       "      <td>0.179602</td>\n",
       "      <td>0.216915</td>\n",
       "      <td>0.083085</td>\n",
       "    </tr>\n",
       "    <tr>\n",
       "      <th>Launceston</th>\n",
       "      <td>7.826536</td>\n",
       "      <td>18.889348</td>\n",
       "      <td>2.035030</td>\n",
       "      <td>6.166667</td>\n",
       "      <td>NaN</td>\n",
       "      <td>79.639288</td>\n",
       "      <td>57.584363</td>\n",
       "      <td>1015.666578</td>\n",
       "      <td>1013.745377</td>\n",
       "      <td>6.354105</td>\n",
       "      <td>5.832046</td>\n",
       "      <td>12.015882</td>\n",
       "      <td>17.629405</td>\n",
       "      <td>0.232959</td>\n",
       "      <td>2.033276</td>\n",
       "      <td>0.232932</td>\n",
       "      <td>23.606750</td>\n",
       "      <td>69.304921</td>\n",
       "      <td>9.974182</td>\n",
       "      <td>10.171335</td>\n",
       "      <td>0.261794</td>\n",
       "      <td>35.606885</td>\n",
       "      <td>8.517657</td>\n",
       "      <td>15.606095</td>\n",
       "      <td>1.609294</td>\n",
       "      <td>0.043603</td>\n",
       "      <td>0.649168</td>\n",
       "      <td>0.198795</td>\n",
       "      <td>0.099828</td>\n",
       "    </tr>\n",
       "    <tr>\n",
       "      <th>Melbourne</th>\n",
       "      <td>11.723187</td>\n",
       "      <td>20.719755</td>\n",
       "      <td>1.816550</td>\n",
       "      <td>4.561148</td>\n",
       "      <td>6.439601</td>\n",
       "      <td>68.028391</td>\n",
       "      <td>51.726571</td>\n",
       "      <td>1017.664483</td>\n",
       "      <td>1015.793831</td>\n",
       "      <td>5.257959</td>\n",
       "      <td>5.287568</td>\n",
       "      <td>14.580659</td>\n",
       "      <td>19.209257</td>\n",
       "      <td>0.254505</td>\n",
       "      <td>1.844732</td>\n",
       "      <td>0.262163</td>\n",
       "      <td>25.715318</td>\n",
       "      <td>62.266975</td>\n",
       "      <td>9.947147</td>\n",
       "      <td>9.946505</td>\n",
       "      <td>0.258471</td>\n",
       "      <td>43.994722</td>\n",
       "      <td>17.829772</td>\n",
       "      <td>20.683234</td>\n",
       "      <td>1.659783</td>\n",
       "      <td>0.007700</td>\n",
       "      <td>0.429471</td>\n",
       "      <td>0.430872</td>\n",
       "      <td>0.126706</td>\n",
       "    </tr>\n",
       "    <tr>\n",
       "      <th>MelbourneAirport</th>\n",
       "      <td>9.946744</td>\n",
       "      <td>20.432594</td>\n",
       "      <td>1.479308</td>\n",
       "      <td>4.609807</td>\n",
       "      <td>6.362871</td>\n",
       "      <td>70.304448</td>\n",
       "      <td>51.359723</td>\n",
       "      <td>1018.037320</td>\n",
       "      <td>1016.232334</td>\n",
       "      <td>5.244669</td>\n",
       "      <td>5.261459</td>\n",
       "      <td>14.089078</td>\n",
       "      <td>18.894294</td>\n",
       "      <td>0.221037</td>\n",
       "      <td>1.479539</td>\n",
       "      <td>0.221037</td>\n",
       "      <td>25.314563</td>\n",
       "      <td>61.871128</td>\n",
       "      <td>9.956196</td>\n",
       "      <td>10.019777</td>\n",
       "      <td>0.231304</td>\n",
       "      <td>46.897770</td>\n",
       "      <td>20.281061</td>\n",
       "      <td>22.994236</td>\n",
       "      <td>1.669741</td>\n",
       "      <td>0.006052</td>\n",
       "      <td>0.408069</td>\n",
       "      <td>0.435159</td>\n",
       "      <td>0.145821</td>\n",
       "    </tr>\n",
       "    <tr>\n",
       "      <th>Mildura</th>\n",
       "      <td>10.672261</td>\n",
       "      <td>24.733535</td>\n",
       "      <td>0.933006</td>\n",
       "      <td>5.845688</td>\n",
       "      <td>8.376821</td>\n",
       "      <td>64.581241</td>\n",
       "      <td>35.869804</td>\n",
       "      <td>1018.763558</td>\n",
       "      <td>1016.261876</td>\n",
       "      <td>3.376012</td>\n",
       "      <td>3.926224</td>\n",
       "      <td>15.451110</td>\n",
       "      <td>23.323709</td>\n",
       "      <td>0.109348</td>\n",
       "      <td>0.933045</td>\n",
       "      <td>0.109573</td>\n",
       "      <td>30.171235</td>\n",
       "      <td>43.755270</td>\n",
       "      <td>10.039792</td>\n",
       "      <td>10.034170</td>\n",
       "      <td>0.127972</td>\n",
       "      <td>37.034075</td>\n",
       "      <td>13.910560</td>\n",
       "      <td>16.627344</td>\n",
       "      <td>2.052191</td>\n",
       "      <td>0.069204</td>\n",
       "      <td>0.277105</td>\n",
       "      <td>0.422145</td>\n",
       "      <td>0.230104</td>\n",
       "    </tr>\n",
       "    <tr>\n",
       "      <th>Moree</th>\n",
       "      <td>12.831935</td>\n",
       "      <td>26.876712</td>\n",
       "      <td>1.592925</td>\n",
       "      <td>7.612158</td>\n",
       "      <td>8.898887</td>\n",
       "      <td>61.636062</td>\n",
       "      <td>35.991541</td>\n",
       "      <td>1018.353906</td>\n",
       "      <td>1014.985063</td>\n",
       "      <td>3.460904</td>\n",
       "      <td>4.012400</td>\n",
       "      <td>18.805309</td>\n",
       "      <td>25.592881</td>\n",
       "      <td>0.138419</td>\n",
       "      <td>1.615807</td>\n",
       "      <td>0.139367</td>\n",
       "      <td>32.627400</td>\n",
       "      <td>44.037728</td>\n",
       "      <td>9.929713</td>\n",
       "      <td>10.036134</td>\n",
       "      <td>0.142624</td>\n",
       "      <td>39.910420</td>\n",
       "      <td>18.139342</td>\n",
       "      <td>16.971077</td>\n",
       "      <td>2.158673</td>\n",
       "      <td>0.230166</td>\n",
       "      <td>0.306486</td>\n",
       "      <td>0.258220</td>\n",
       "      <td>0.174661</td>\n",
       "    </tr>\n",
       "    <tr>\n",
       "      <th>MountGambier</th>\n",
       "      <td>8.809195</td>\n",
       "      <td>19.727213</td>\n",
       "      <td>2.144836</td>\n",
       "      <td>3.405263</td>\n",
       "      <td>6.488517</td>\n",
       "      <td>76.076567</td>\n",
       "      <td>58.125793</td>\n",
       "      <td>1017.875926</td>\n",
       "      <td>1016.331502</td>\n",
       "      <td>5.634727</td>\n",
       "      <td>5.571037</td>\n",
       "      <td>13.728440</td>\n",
       "      <td>18.081128</td>\n",
       "      <td>0.309867</td>\n",
       "      <td>2.144974</td>\n",
       "      <td>0.309305</td>\n",
       "      <td>24.482093</td>\n",
       "      <td>69.672436</td>\n",
       "      <td>9.994256</td>\n",
       "      <td>9.903191</td>\n",
       "      <td>0.306838</td>\n",
       "      <td>42.744308</td>\n",
       "      <td>17.480288</td>\n",
       "      <td>22.309133</td>\n",
       "      <td>1.967547</td>\n",
       "      <td>0.053130</td>\n",
       "      <td>0.300402</td>\n",
       "      <td>0.383688</td>\n",
       "      <td>0.246410</td>\n",
       "    </tr>\n",
       "    <tr>\n",
       "      <th>MountGinini</th>\n",
       "      <td>3.619215</td>\n",
       "      <td>11.703967</td>\n",
       "      <td>3.236641</td>\n",
       "      <td>NaN</td>\n",
       "      <td>NaN</td>\n",
       "      <td>77.437040</td>\n",
       "      <td>70.056162</td>\n",
       "      <td>NaN</td>\n",
       "      <td>NaN</td>\n",
       "      <td>NaN</td>\n",
       "      <td>NaN</td>\n",
       "      <td>6.830516</td>\n",
       "      <td>10.179445</td>\n",
       "      <td>0.279389</td>\n",
       "      <td>3.286724</td>\n",
       "      <td>0.283338</td>\n",
       "      <td>15.338016</td>\n",
       "      <td>83.980440</td>\n",
       "      <td>10.042174</td>\n",
       "      <td>9.787329</td>\n",
       "      <td>0.297677</td>\n",
       "      <td>46.318311</td>\n",
       "      <td>15.821395</td>\n",
       "      <td>15.050218</td>\n",
       "      <td>1.715474</td>\n",
       "      <td>0.174933</td>\n",
       "      <td>0.211761</td>\n",
       "      <td>0.190971</td>\n",
       "      <td>0.364716</td>\n",
       "    </tr>\n",
       "    <tr>\n",
       "      <th>Newcastle</th>\n",
       "      <td>13.810882</td>\n",
       "      <td>24.134393</td>\n",
       "      <td>3.106319</td>\n",
       "      <td>NaN</td>\n",
       "      <td>NaN</td>\n",
       "      <td>74.078296</td>\n",
       "      <td>57.345455</td>\n",
       "      <td>NaN</td>\n",
       "      <td>NaN</td>\n",
       "      <td>4.139280</td>\n",
       "      <td>4.304535</td>\n",
       "      <td>18.115849</td>\n",
       "      <td>22.316698</td>\n",
       "      <td>0.245031</td>\n",
       "      <td>3.146032</td>\n",
       "      <td>0.246326</td>\n",
       "      <td>29.506214</td>\n",
       "      <td>68.603480</td>\n",
       "      <td>9.922399</td>\n",
       "      <td>10.060606</td>\n",
       "      <td>0.258889</td>\n",
       "      <td>NaN</td>\n",
       "      <td>6.382898</td>\n",
       "      <td>10.623558</td>\n",
       "      <td>0.519106</td>\n",
       "      <td>0.000000</td>\n",
       "      <td>0.000000</td>\n",
       "      <td>0.000000</td>\n",
       "      <td>0.000000</td>\n",
       "    </tr>\n",
       "    <tr>\n",
       "      <th>Nhil</th>\n",
       "      <td>8.914722</td>\n",
       "      <td>22.153077</td>\n",
       "      <td>0.991219</td>\n",
       "      <td>NaN</td>\n",
       "      <td>NaN</td>\n",
       "      <td>73.696209</td>\n",
       "      <td>45.753323</td>\n",
       "      <td>1018.430675</td>\n",
       "      <td>1016.293698</td>\n",
       "      <td>NaN</td>\n",
       "      <td>NaN</td>\n",
       "      <td>13.239291</td>\n",
       "      <td>20.652831</td>\n",
       "      <td>0.159349</td>\n",
       "      <td>0.993501</td>\n",
       "      <td>0.160020</td>\n",
       "      <td>27.347688</td>\n",
       "      <td>55.229308</td>\n",
       "      <td>10.121123</td>\n",
       "      <td>9.905473</td>\n",
       "      <td>0.169246</td>\n",
       "      <td>42.202170</td>\n",
       "      <td>16.303299</td>\n",
       "      <td>20.867553</td>\n",
       "      <td>1.873954</td>\n",
       "      <td>0.119153</td>\n",
       "      <td>0.237322</td>\n",
       "      <td>0.361891</td>\n",
       "      <td>0.280158</td>\n",
       "    </tr>\n",
       "    <tr>\n",
       "      <th>NorahHead</th>\n",
       "      <td>15.399320</td>\n",
       "      <td>22.658021</td>\n",
       "      <td>3.345237</td>\n",
       "      <td>NaN</td>\n",
       "      <td>NaN</td>\n",
       "      <td>74.711533</td>\n",
       "      <td>67.544727</td>\n",
       "      <td>1018.219331</td>\n",
       "      <td>1015.958013</td>\n",
       "      <td>NaN</td>\n",
       "      <td>NaN</td>\n",
       "      <td>18.508953</td>\n",
       "      <td>20.816257</td>\n",
       "      <td>0.275306</td>\n",
       "      <td>3.344189</td>\n",
       "      <td>0.275516</td>\n",
       "      <td>27.613488</td>\n",
       "      <td>80.738206</td>\n",
       "      <td>10.117699</td>\n",
       "      <td>10.121133</td>\n",
       "      <td>0.306507</td>\n",
       "      <td>42.096603</td>\n",
       "      <td>13.792470</td>\n",
       "      <td>20.879147</td>\n",
       "      <td>1.440708</td>\n",
       "      <td>0.060767</td>\n",
       "      <td>0.391445</td>\n",
       "      <td>0.420944</td>\n",
       "      <td>0.125369</td>\n",
       "    </tr>\n",
       "    <tr>\n",
       "      <th>NorfolkIsland</th>\n",
       "      <td>16.866460</td>\n",
       "      <td>21.851597</td>\n",
       "      <td>3.139085</td>\n",
       "      <td>4.876416</td>\n",
       "      <td>7.023532</td>\n",
       "      <td>70.752666</td>\n",
       "      <td>67.892899</td>\n",
       "      <td>1017.677498</td>\n",
       "      <td>1015.909438</td>\n",
       "      <td>5.066748</td>\n",
       "      <td>4.931950</td>\n",
       "      <td>19.822660</td>\n",
       "      <td>20.472337</td>\n",
       "      <td>0.313397</td>\n",
       "      <td>3.076730</td>\n",
       "      <td>0.313424</td>\n",
       "      <td>27.052098</td>\n",
       "      <td>81.060993</td>\n",
       "      <td>10.019515</td>\n",
       "      <td>9.888696</td>\n",
       "      <td>0.325128</td>\n",
       "      <td>42.498198</td>\n",
       "      <td>20.078269</td>\n",
       "      <td>21.706213</td>\n",
       "      <td>2.206978</td>\n",
       "      <td>0.317268</td>\n",
       "      <td>0.173566</td>\n",
       "      <td>0.342105</td>\n",
       "      <td>0.151390</td>\n",
       "    </tr>\n",
       "    <tr>\n",
       "      <th>Nuriootpa</th>\n",
       "      <td>9.269913</td>\n",
       "      <td>21.609554</td>\n",
       "      <td>1.427889</td>\n",
       "      <td>5.018477</td>\n",
       "      <td>7.640525</td>\n",
       "      <td>67.159954</td>\n",
       "      <td>45.714161</td>\n",
       "      <td>1018.875391</td>\n",
       "      <td>1016.750492</td>\n",
       "      <td>4.642576</td>\n",
       "      <td>4.881416</td>\n",
       "      <td>14.774826</td>\n",
       "      <td>20.226672</td>\n",
       "      <td>0.202433</td>\n",
       "      <td>1.441260</td>\n",
       "      <td>0.203698</td>\n",
       "      <td>26.585590</td>\n",
       "      <td>55.470375</td>\n",
       "      <td>10.063565</td>\n",
       "      <td>9.909770</td>\n",
       "      <td>0.194977</td>\n",
       "      <td>40.615048</td>\n",
       "      <td>14.220221</td>\n",
       "      <td>18.173850</td>\n",
       "      <td>1.864490</td>\n",
       "      <td>0.099104</td>\n",
       "      <td>0.201098</td>\n",
       "      <td>0.308870</td>\n",
       "      <td>0.377637</td>\n",
       "    </tr>\n",
       "    <tr>\n",
       "      <th>PearceRAAF</th>\n",
       "      <td>12.217043</td>\n",
       "      <td>26.035531</td>\n",
       "      <td>1.705367</td>\n",
       "      <td>NaN</td>\n",
       "      <td>8.823077</td>\n",
       "      <td>61.150407</td>\n",
       "      <td>42.223441</td>\n",
       "      <td>1017.791711</td>\n",
       "      <td>1015.234723</td>\n",
       "      <td>4.022784</td>\n",
       "      <td>4.172840</td>\n",
       "      <td>18.794594</td>\n",
       "      <td>24.511466</td>\n",
       "      <td>0.184287</td>\n",
       "      <td>1.732525</td>\n",
       "      <td>0.187500</td>\n",
       "      <td>31.845030</td>\n",
       "      <td>51.104278</td>\n",
       "      <td>9.944963</td>\n",
       "      <td>10.064702</td>\n",
       "      <td>0.173603</td>\n",
       "      <td>43.147874</td>\n",
       "      <td>15.919637</td>\n",
       "      <td>20.175125</td>\n",
       "      <td>1.764925</td>\n",
       "      <td>0.347948</td>\n",
       "      <td>0.128109</td>\n",
       "      <td>0.261194</td>\n",
       "      <td>0.227923</td>\n",
       "    </tr>\n",
       "    <tr>\n",
       "      <th>Penrith</th>\n",
       "      <td>12.580787</td>\n",
       "      <td>24.753368</td>\n",
       "      <td>2.088212</td>\n",
       "      <td>NaN</td>\n",
       "      <td>NaN</td>\n",
       "      <td>75.558351</td>\n",
       "      <td>48.997588</td>\n",
       "      <td>NaN</td>\n",
       "      <td>NaN</td>\n",
       "      <td>NaN</td>\n",
       "      <td>NaN</td>\n",
       "      <td>16.985331</td>\n",
       "      <td>23.352938</td>\n",
       "      <td>0.194867</td>\n",
       "      <td>2.143351</td>\n",
       "      <td>0.196544</td>\n",
       "      <td>30.373043</td>\n",
       "      <td>58.895730</td>\n",
       "      <td>10.104277</td>\n",
       "      <td>10.011491</td>\n",
       "      <td>0.199351</td>\n",
       "      <td>31.669504</td>\n",
       "      <td>6.302065</td>\n",
       "      <td>11.918895</td>\n",
       "      <td>1.637668</td>\n",
       "      <td>0.191564</td>\n",
       "      <td>0.282953</td>\n",
       "      <td>0.359110</td>\n",
       "      <td>0.164323</td>\n",
       "    </tr>\n",
       "    <tr>\n",
       "      <th>Perth</th>\n",
       "      <td>12.826594</td>\n",
       "      <td>24.886918</td>\n",
       "      <td>1.956389</td>\n",
       "      <td>5.528736</td>\n",
       "      <td>8.738932</td>\n",
       "      <td>63.041964</td>\n",
       "      <td>47.253633</td>\n",
       "      <td>1017.842994</td>\n",
       "      <td>1015.484319</td>\n",
       "      <td>3.394744</td>\n",
       "      <td>3.463161</td>\n",
       "      <td>18.457784</td>\n",
       "      <td>23.319869</td>\n",
       "      <td>0.207387</td>\n",
       "      <td>1.956389</td>\n",
       "      <td>0.207387</td>\n",
       "      <td>30.266829</td>\n",
       "      <td>57.303191</td>\n",
       "      <td>9.979207</td>\n",
       "      <td>9.961900</td>\n",
       "      <td>0.172557</td>\n",
       "      <td>34.787613</td>\n",
       "      <td>10.614227</td>\n",
       "      <td>14.408867</td>\n",
       "      <td>1.872503</td>\n",
       "      <td>0.135705</td>\n",
       "      <td>0.203830</td>\n",
       "      <td>0.490014</td>\n",
       "      <td>0.168810</td>\n",
       "    </tr>\n",
       "    <tr>\n",
       "      <th>PerthAirport</th>\n",
       "      <td>12.453155</td>\n",
       "      <td>25.342092</td>\n",
       "      <td>1.787439</td>\n",
       "      <td>5.573372</td>\n",
       "      <td>8.745845</td>\n",
       "      <td>59.110919</td>\n",
       "      <td>42.210951</td>\n",
       "      <td>1017.945200</td>\n",
       "      <td>1015.429510</td>\n",
       "      <td>3.384837</td>\n",
       "      <td>3.440727</td>\n",
       "      <td>18.621521</td>\n",
       "      <td>23.914899</td>\n",
       "      <td>0.191299</td>\n",
       "      <td>1.787439</td>\n",
       "      <td>0.191299</td>\n",
       "      <td>30.912393</td>\n",
       "      <td>51.400262</td>\n",
       "      <td>10.044944</td>\n",
       "      <td>9.886971</td>\n",
       "      <td>0.161388</td>\n",
       "      <td>44.054338</td>\n",
       "      <td>17.676276</td>\n",
       "      <td>21.263689</td>\n",
       "      <td>1.791991</td>\n",
       "      <td>0.337367</td>\n",
       "      <td>0.158744</td>\n",
       "      <td>0.272832</td>\n",
       "      <td>0.217228</td>\n",
       "    </tr>\n",
       "    <tr>\n",
       "      <th>Portland</th>\n",
       "      <td>9.567682</td>\n",
       "      <td>18.000232</td>\n",
       "      <td>2.582278</td>\n",
       "      <td>3.389612</td>\n",
       "      <td>6.473918</td>\n",
       "      <td>78.676548</td>\n",
       "      <td>65.995353</td>\n",
       "      <td>1017.619164</td>\n",
       "      <td>1016.546750</td>\n",
       "      <td>6.386226</td>\n",
       "      <td>6.131107</td>\n",
       "      <td>13.152729</td>\n",
       "      <td>16.463937</td>\n",
       "      <td>0.367519</td>\n",
       "      <td>2.586921</td>\n",
       "      <td>0.368924</td>\n",
       "      <td>22.567114</td>\n",
       "      <td>78.875926</td>\n",
       "      <td>9.960359</td>\n",
       "      <td>9.900124</td>\n",
       "      <td>0.359718</td>\n",
       "      <td>42.134363</td>\n",
       "      <td>16.305153</td>\n",
       "      <td>20.764910</td>\n",
       "      <td>1.927083</td>\n",
       "      <td>0.117477</td>\n",
       "      <td>0.226562</td>\n",
       "      <td>0.278935</td>\n",
       "      <td>0.369792</td>\n",
       "    </tr>\n",
       "    <tr>\n",
       "      <th>Richmond</th>\n",
       "      <td>11.388820</td>\n",
       "      <td>24.520206</td>\n",
       "      <td>2.171412</td>\n",
       "      <td>5.252938</td>\n",
       "      <td>NaN</td>\n",
       "      <td>76.718406</td>\n",
       "      <td>49.026449</td>\n",
       "      <td>1018.659245</td>\n",
       "      <td>1015.582910</td>\n",
       "      <td>6.236905</td>\n",
       "      <td>5.505013</td>\n",
       "      <td>16.617741</td>\n",
       "      <td>23.174874</td>\n",
       "      <td>0.190490</td>\n",
       "      <td>2.158311</td>\n",
       "      <td>0.189387</td>\n",
       "      <td>29.704643</td>\n",
       "      <td>59.237757</td>\n",
       "      <td>10.012313</td>\n",
       "      <td>10.124473</td>\n",
       "      <td>0.207330</td>\n",
       "      <td>34.821797</td>\n",
       "      <td>7.203315</td>\n",
       "      <td>14.948332</td>\n",
       "      <td>1.554676</td>\n",
       "      <td>0.281149</td>\n",
       "      <td>0.199941</td>\n",
       "      <td>0.324245</td>\n",
       "      <td>0.189387</td>\n",
       "    </tr>\n",
       "    <tr>\n",
       "      <th>Sale</th>\n",
       "      <td>8.551591</td>\n",
       "      <td>20.252749</td>\n",
       "      <td>1.481887</td>\n",
       "      <td>3.830098</td>\n",
       "      <td>6.683663</td>\n",
       "      <td>79.270797</td>\n",
       "      <td>56.601685</td>\n",
       "      <td>1017.790093</td>\n",
       "      <td>1015.857064</td>\n",
       "      <td>5.456104</td>\n",
       "      <td>5.142510</td>\n",
       "      <td>13.373343</td>\n",
       "      <td>18.760272</td>\n",
       "      <td>0.210160</td>\n",
       "      <td>1.479115</td>\n",
       "      <td>0.210587</td>\n",
       "      <td>25.095445</td>\n",
       "      <td>67.948024</td>\n",
       "      <td>9.998554</td>\n",
       "      <td>10.085170</td>\n",
       "      <td>0.250262</td>\n",
       "      <td>42.599444</td>\n",
       "      <td>14.220388</td>\n",
       "      <td>22.183425</td>\n",
       "      <td>1.465143</td>\n",
       "      <td>0.290425</td>\n",
       "      <td>0.099798</td>\n",
       "      <td>0.142320</td>\n",
       "      <td>0.404108</td>\n",
       "    </tr>\n",
       "    <tr>\n",
       "      <th>SalmonGums</th>\n",
       "      <td>9.164045</td>\n",
       "      <td>24.044604</td>\n",
       "      <td>1.070945</td>\n",
       "      <td>NaN</td>\n",
       "      <td>NaN</td>\n",
       "      <td>63.215709</td>\n",
       "      <td>41.184403</td>\n",
       "      <td>NaN</td>\n",
       "      <td>NaN</td>\n",
       "      <td>NaN</td>\n",
       "      <td>NaN</td>\n",
       "      <td>16.891647</td>\n",
       "      <td>22.467634</td>\n",
       "      <td>0.161024</td>\n",
       "      <td>1.071529</td>\n",
       "      <td>0.161101</td>\n",
       "      <td>29.356484</td>\n",
       "      <td>50.242177</td>\n",
       "      <td>9.989162</td>\n",
       "      <td>9.860404</td>\n",
       "      <td>0.145591</td>\n",
       "      <td>39.420802</td>\n",
       "      <td>16.074600</td>\n",
       "      <td>17.085283</td>\n",
       "      <td>2.172525</td>\n",
       "      <td>0.130053</td>\n",
       "      <td>0.287639</td>\n",
       "      <td>0.419156</td>\n",
       "      <td>0.148799</td>\n",
       "    </tr>\n",
       "    <tr>\n",
       "      <th>Sydney</th>\n",
       "      <td>14.896311</td>\n",
       "      <td>23.061249</td>\n",
       "      <td>3.413977</td>\n",
       "      <td>5.205730</td>\n",
       "      <td>7.173670</td>\n",
       "      <td>67.829281</td>\n",
       "      <td>54.415324</td>\n",
       "      <td>1018.324940</td>\n",
       "      <td>1015.978770</td>\n",
       "      <td>4.195356</td>\n",
       "      <td>4.230460</td>\n",
       "      <td>17.848682</td>\n",
       "      <td>21.578229</td>\n",
       "      <td>0.260549</td>\n",
       "      <td>3.398052</td>\n",
       "      <td>0.259610</td>\n",
       "      <td>28.334459</td>\n",
       "      <td>65.059796</td>\n",
       "      <td>9.998947</td>\n",
       "      <td>10.110916</td>\n",
       "      <td>0.239888</td>\n",
       "      <td>41.680727</td>\n",
       "      <td>15.177625</td>\n",
       "      <td>19.307448</td>\n",
       "      <td>1.825171</td>\n",
       "      <td>0.147709</td>\n",
       "      <td>0.152975</td>\n",
       "      <td>0.217746</td>\n",
       "      <td>0.205635</td>\n",
       "    </tr>\n",
       "    <tr>\n",
       "      <th>SydneyAirport</th>\n",
       "      <td>14.895522</td>\n",
       "      <td>23.415738</td>\n",
       "      <td>3.029398</td>\n",
       "      <td>5.263759</td>\n",
       "      <td>7.193177</td>\n",
       "      <td>64.704046</td>\n",
       "      <td>53.986694</td>\n",
       "      <td>1018.324349</td>\n",
       "      <td>1015.918878</td>\n",
       "      <td>4.274226</td>\n",
       "      <td>4.276061</td>\n",
       "      <td>18.567033</td>\n",
       "      <td>21.791130</td>\n",
       "      <td>0.255787</td>\n",
       "      <td>3.049495</td>\n",
       "      <td>0.256136</td>\n",
       "      <td>28.743443</td>\n",
       "      <td>65.023029</td>\n",
       "      <td>10.001733</td>\n",
       "      <td>9.839892</td>\n",
       "      <td>0.251286</td>\n",
       "      <td>47.167693</td>\n",
       "      <td>18.603064</td>\n",
       "      <td>25.681884</td>\n",
       "      <td>1.619983</td>\n",
       "      <td>0.116084</td>\n",
       "      <td>0.292521</td>\n",
       "      <td>0.383771</td>\n",
       "      <td>0.192608</td>\n",
       "    </tr>\n",
       "    <tr>\n",
       "      <th>Townsville</th>\n",
       "      <td>20.469527</td>\n",
       "      <td>29.404930</td>\n",
       "      <td>3.287752</td>\n",
       "      <td>7.198843</td>\n",
       "      <td>8.469654</td>\n",
       "      <td>63.998854</td>\n",
       "      <td>57.427630</td>\n",
       "      <td>1015.212382</td>\n",
       "      <td>1011.955575</td>\n",
       "      <td>4.380165</td>\n",
       "      <td>4.102322</td>\n",
       "      <td>25.666925</td>\n",
       "      <td>27.816910</td>\n",
       "      <td>0.168200</td>\n",
       "      <td>3.277386</td>\n",
       "      <td>0.168530</td>\n",
       "      <td>35.408565</td>\n",
       "      <td>69.044153</td>\n",
       "      <td>9.992835</td>\n",
       "      <td>9.987431</td>\n",
       "      <td>0.222626</td>\n",
       "      <td>38.715856</td>\n",
       "      <td>15.143677</td>\n",
       "      <td>24.222541</td>\n",
       "      <td>2.174835</td>\n",
       "      <td>0.576096</td>\n",
       "      <td>0.276870</td>\n",
       "      <td>0.127257</td>\n",
       "      <td>0.010318</td>\n",
       "    </tr>\n",
       "    <tr>\n",
       "      <th>Tuggeranong</th>\n",
       "      <td>7.224117</td>\n",
       "      <td>20.722467</td>\n",
       "      <td>2.138921</td>\n",
       "      <td>NaN</td>\n",
       "      <td>NaN</td>\n",
       "      <td>73.075983</td>\n",
       "      <td>47.278455</td>\n",
       "      <td>1018.516105</td>\n",
       "      <td>1015.670276</td>\n",
       "      <td>NaN</td>\n",
       "      <td>NaN</td>\n",
       "      <td>12.541164</td>\n",
       "      <td>19.399593</td>\n",
       "      <td>0.192849</td>\n",
       "      <td>2.141823</td>\n",
       "      <td>0.192475</td>\n",
       "      <td>25.807475</td>\n",
       "      <td>57.148257</td>\n",
       "      <td>10.147033</td>\n",
       "      <td>9.893671</td>\n",
       "      <td>0.169182</td>\n",
       "      <td>35.075894</td>\n",
       "      <td>7.537005</td>\n",
       "      <td>14.850494</td>\n",
       "      <td>1.557742</td>\n",
       "      <td>0.168452</td>\n",
       "      <td>0.379450</td>\n",
       "      <td>0.183792</td>\n",
       "      <td>0.263676</td>\n",
       "    </tr>\n",
       "    <tr>\n",
       "      <th>Uluru</th>\n",
       "      <td>14.253644</td>\n",
       "      <td>30.071097</td>\n",
       "      <td>0.837079</td>\n",
       "      <td>NaN</td>\n",
       "      <td>NaN</td>\n",
       "      <td>43.634615</td>\n",
       "      <td>24.787159</td>\n",
       "      <td>1017.071407</td>\n",
       "      <td>1013.307988</td>\n",
       "      <td>5.654618</td>\n",
       "      <td>4.886364</td>\n",
       "      <td>20.687804</td>\n",
       "      <td>28.765268</td>\n",
       "      <td>0.081716</td>\n",
       "      <td>0.893987</td>\n",
       "      <td>0.082365</td>\n",
       "      <td>35.855847</td>\n",
       "      <td>30.791515</td>\n",
       "      <td>10.090955</td>\n",
       "      <td>9.977491</td>\n",
       "      <td>0.104210</td>\n",
       "      <td>40.827835</td>\n",
       "      <td>17.462410</td>\n",
       "      <td>17.030365</td>\n",
       "      <td>2.044972</td>\n",
       "      <td>0.443153</td>\n",
       "      <td>0.172309</td>\n",
       "      <td>0.268823</td>\n",
       "      <td>0.096008</td>\n",
       "    </tr>\n",
       "    <tr>\n",
       "      <th>WaggaWagga</th>\n",
       "      <td>9.495828</td>\n",
       "      <td>22.829407</td>\n",
       "      <td>1.725356</td>\n",
       "      <td>5.253586</td>\n",
       "      <td>8.204634</td>\n",
       "      <td>68.285756</td>\n",
       "      <td>42.985311</td>\n",
       "      <td>1018.603378</td>\n",
       "      <td>1015.971005</td>\n",
       "      <td>4.000666</td>\n",
       "      <td>4.295447</td>\n",
       "      <td>14.765570</td>\n",
       "      <td>21.555288</td>\n",
       "      <td>0.185273</td>\n",
       "      <td>1.731904</td>\n",
       "      <td>0.185076</td>\n",
       "      <td>28.222370</td>\n",
       "      <td>52.070832</td>\n",
       "      <td>10.067274</td>\n",
       "      <td>9.815379</td>\n",
       "      <td>0.181179</td>\n",
       "      <td>36.480296</td>\n",
       "      <td>12.874266</td>\n",
       "      <td>16.207758</td>\n",
       "      <td>1.830200</td>\n",
       "      <td>0.292009</td>\n",
       "      <td>0.179495</td>\n",
       "      <td>0.162750</td>\n",
       "      <td>0.357227</td>\n",
       "    </tr>\n",
       "    <tr>\n",
       "      <th>Walpole</th>\n",
       "      <td>11.799877</td>\n",
       "      <td>20.408198</td>\n",
       "      <td>2.942554</td>\n",
       "      <td>NaN</td>\n",
       "      <td>NaN</td>\n",
       "      <td>76.342105</td>\n",
       "      <td>66.566213</td>\n",
       "      <td>1017.833742</td>\n",
       "      <td>1016.184252</td>\n",
       "      <td>NaN</td>\n",
       "      <td>NaN</td>\n",
       "      <td>15.897518</td>\n",
       "      <td>18.516146</td>\n",
       "      <td>0.343116</td>\n",
       "      <td>2.972443</td>\n",
       "      <td>0.344764</td>\n",
       "      <td>25.312511</td>\n",
       "      <td>79.733980</td>\n",
       "      <td>10.041335</td>\n",
       "      <td>9.984428</td>\n",
       "      <td>0.342115</td>\n",
       "      <td>39.735943</td>\n",
       "      <td>13.788585</td>\n",
       "      <td>17.071144</td>\n",
       "      <td>1.993570</td>\n",
       "      <td>0.098285</td>\n",
       "      <td>0.268524</td>\n",
       "      <td>0.406001</td>\n",
       "      <td>0.203307</td>\n",
       "    </tr>\n",
       "    <tr>\n",
       "      <th>Watsonia</th>\n",
       "      <td>10.096137</td>\n",
       "      <td>20.813459</td>\n",
       "      <td>1.866434</td>\n",
       "      <td>4.602723</td>\n",
       "      <td>6.357817</td>\n",
       "      <td>78.680999</td>\n",
       "      <td>54.903907</td>\n",
       "      <td>1017.999045</td>\n",
       "      <td>1016.061939</td>\n",
       "      <td>5.245441</td>\n",
       "      <td>5.265779</td>\n",
       "      <td>13.702237</td>\n",
       "      <td>19.317395</td>\n",
       "      <td>0.246149</td>\n",
       "      <td>1.881158</td>\n",
       "      <td>0.246889</td>\n",
       "      <td>25.802338</td>\n",
       "      <td>65.907948</td>\n",
       "      <td>9.988712</td>\n",
       "      <td>10.021309</td>\n",
       "      <td>0.259427</td>\n",
       "      <td>37.923574</td>\n",
       "      <td>9.892909</td>\n",
       "      <td>15.066010</td>\n",
       "      <td>1.516353</td>\n",
       "      <td>0.055861</td>\n",
       "      <td>0.344718</td>\n",
       "      <td>0.387554</td>\n",
       "      <td>0.196527</td>\n",
       "    </tr>\n",
       "    <tr>\n",
       "      <th>Williamtown</th>\n",
       "      <td>12.844791</td>\n",
       "      <td>24.084579</td>\n",
       "      <td>3.468759</td>\n",
       "      <td>7.093213</td>\n",
       "      <td>7.138029</td>\n",
       "      <td>71.444780</td>\n",
       "      <td>53.598724</td>\n",
       "      <td>1018.383669</td>\n",
       "      <td>1015.843702</td>\n",
       "      <td>4.724625</td>\n",
       "      <td>4.511199</td>\n",
       "      <td>18.159356</td>\n",
       "      <td>22.601106</td>\n",
       "      <td>0.268902</td>\n",
       "      <td>3.533825</td>\n",
       "      <td>0.273945</td>\n",
       "      <td>29.529670</td>\n",
       "      <td>64.440348</td>\n",
       "      <td>10.107502</td>\n",
       "      <td>10.047931</td>\n",
       "      <td>0.261361</td>\n",
       "      <td>41.705155</td>\n",
       "      <td>16.653612</td>\n",
       "      <td>22.354167</td>\n",
       "      <td>1.845613</td>\n",
       "      <td>0.172472</td>\n",
       "      <td>0.155727</td>\n",
       "      <td>0.371065</td>\n",
       "      <td>0.249163</td>\n",
       "    </tr>\n",
       "    <tr>\n",
       "      <th>Witchcliffe</th>\n",
       "      <td>10.707588</td>\n",
       "      <td>21.541711</td>\n",
       "      <td>2.960237</td>\n",
       "      <td>NaN</td>\n",
       "      <td>NaN</td>\n",
       "      <td>71.722310</td>\n",
       "      <td>58.037795</td>\n",
       "      <td>1018.479664</td>\n",
       "      <td>1016.806044</td>\n",
       "      <td>NaN</td>\n",
       "      <td>NaN</td>\n",
       "      <td>16.427401</td>\n",
       "      <td>19.676783</td>\n",
       "      <td>0.303704</td>\n",
       "      <td>2.953638</td>\n",
       "      <td>0.303404</td>\n",
       "      <td>26.756972</td>\n",
       "      <td>69.499828</td>\n",
       "      <td>10.048415</td>\n",
       "      <td>10.011889</td>\n",
       "      <td>0.266886</td>\n",
       "      <td>40.055130</td>\n",
       "      <td>13.914487</td>\n",
       "      <td>19.139125</td>\n",
       "      <td>1.927817</td>\n",
       "      <td>0.048122</td>\n",
       "      <td>0.224472</td>\n",
       "      <td>0.520540</td>\n",
       "      <td>0.201878</td>\n",
       "    </tr>\n",
       "    <tr>\n",
       "      <th>Wollongong</th>\n",
       "      <td>14.976366</td>\n",
       "      <td>21.532090</td>\n",
       "      <td>3.617335</td>\n",
       "      <td>NaN</td>\n",
       "      <td>NaN</td>\n",
       "      <td>67.440504</td>\n",
       "      <td>64.932377</td>\n",
       "      <td>1018.066312</td>\n",
       "      <td>1015.954319</td>\n",
       "      <td>6.239923</td>\n",
       "      <td>5.894897</td>\n",
       "      <td>18.251671</td>\n",
       "      <td>19.996459</td>\n",
       "      <td>0.237028</td>\n",
       "      <td>3.615259</td>\n",
       "      <td>0.236459</td>\n",
       "      <td>26.669261</td>\n",
       "      <td>77.930956</td>\n",
       "      <td>9.917880</td>\n",
       "      <td>9.997872</td>\n",
       "      <td>0.293309</td>\n",
       "      <td>45.596845</td>\n",
       "      <td>16.615610</td>\n",
       "      <td>21.822892</td>\n",
       "      <td>1.644729</td>\n",
       "      <td>0.059115</td>\n",
       "      <td>0.345370</td>\n",
       "      <td>0.414094</td>\n",
       "      <td>0.178218</td>\n",
       "    </tr>\n",
       "    <tr>\n",
       "      <th>Woomera</th>\n",
       "      <td>13.217394</td>\n",
       "      <td>26.403140</td>\n",
       "      <td>0.510367</td>\n",
       "      <td>9.769448</td>\n",
       "      <td>8.970921</td>\n",
       "      <td>53.680373</td>\n",
       "      <td>28.804450</td>\n",
       "      <td>1018.697026</td>\n",
       "      <td>1016.037427</td>\n",
       "      <td>2.568988</td>\n",
       "      <td>2.973123</td>\n",
       "      <td>17.760825</td>\n",
       "      <td>25.033934</td>\n",
       "      <td>0.068725</td>\n",
       "      <td>0.511970</td>\n",
       "      <td>0.069146</td>\n",
       "      <td>32.197299</td>\n",
       "      <td>35.315625</td>\n",
       "      <td>10.074666</td>\n",
       "      <td>10.011173</td>\n",
       "      <td>0.090278</td>\n",
       "      <td>43.859830</td>\n",
       "      <td>19.965096</td>\n",
       "      <td>20.646100</td>\n",
       "      <td>1.982859</td>\n",
       "      <td>0.078443</td>\n",
       "      <td>0.263510</td>\n",
       "      <td>0.508135</td>\n",
       "      <td>0.138582</td>\n",
       "    </tr>\n",
       "  </tbody>\n",
       "</table>\n",
       "</div>"
      ],
      "text/plain": [
       "                    mintemp    maxtemp  rainfall  evaporation  sunshine  \\\n",
       "location                                                                  \n",
       "Adelaide          12.538624  22.861178  1.625367     5.824924  7.752002   \n",
       "Albany            12.853903  19.979238  2.261720     4.308122  6.630663   \n",
       "Albury             9.476567  22.536642  1.923171          NaN       NaN   \n",
       "AliceSprings      13.057278  29.202125  0.851094     9.248823  9.590290   \n",
       "BadgerysCreek     11.126980  24.050460  2.210729          NaN       NaN   \n",
       "Ballarat           7.343492  18.184284  1.733928          NaN       NaN   \n",
       "Bendigo            8.595387  21.498052  1.658881     3.851730       NaN   \n",
       "Brisbane          16.475152  26.503404  3.086304     5.459438  8.097142   \n",
       "Cairns            21.259924  29.556173  5.665634     6.395025  7.575636   \n",
       "Canberra           6.810098  20.942850  1.738119     4.404717  7.403241   \n",
       "Cobar             13.037693  25.726397  1.157210     6.666946  8.674364   \n",
       "CoffsHarbour      14.379748  23.972188  5.018465     3.904267  7.362374   \n",
       "Dartmoor           8.612331  19.607344  2.176405     3.322320  6.390489   \n",
       "Darwin            23.278834  32.567889  5.189762     6.296204  8.500000   \n",
       "GoldCoast         17.349620  25.753770  3.675627          NaN       NaN   \n",
       "Hobart             9.099671  17.874315  1.614102     3.604310  6.558189   \n",
       "Katherine         20.589277  34.893529  3.137355     7.333562       NaN   \n",
       "Launceston         7.826536  18.889348  2.035030     6.166667       NaN   \n",
       "Melbourne         11.723187  20.719755  1.816550     4.561148  6.439601   \n",
       "MelbourneAirport   9.946744  20.432594  1.479308     4.609807  6.362871   \n",
       "Mildura           10.672261  24.733535  0.933006     5.845688  8.376821   \n",
       "Moree             12.831935  26.876712  1.592925     7.612158  8.898887   \n",
       "MountGambier       8.809195  19.727213  2.144836     3.405263  6.488517   \n",
       "MountGinini        3.619215  11.703967  3.236641          NaN       NaN   \n",
       "Newcastle         13.810882  24.134393  3.106319          NaN       NaN   \n",
       "Nhil               8.914722  22.153077  0.991219          NaN       NaN   \n",
       "NorahHead         15.399320  22.658021  3.345237          NaN       NaN   \n",
       "NorfolkIsland     16.866460  21.851597  3.139085     4.876416  7.023532   \n",
       "Nuriootpa          9.269913  21.609554  1.427889     5.018477  7.640525   \n",
       "PearceRAAF        12.217043  26.035531  1.705367          NaN  8.823077   \n",
       "Penrith           12.580787  24.753368  2.088212          NaN       NaN   \n",
       "Perth             12.826594  24.886918  1.956389     5.528736  8.738932   \n",
       "PerthAirport      12.453155  25.342092  1.787439     5.573372  8.745845   \n",
       "Portland           9.567682  18.000232  2.582278     3.389612  6.473918   \n",
       "Richmond          11.388820  24.520206  2.171412     5.252938       NaN   \n",
       "Sale               8.551591  20.252749  1.481887     3.830098  6.683663   \n",
       "SalmonGums         9.164045  24.044604  1.070945          NaN       NaN   \n",
       "Sydney            14.896311  23.061249  3.413977     5.205730  7.173670   \n",
       "SydneyAirport     14.895522  23.415738  3.029398     5.263759  7.193177   \n",
       "Townsville        20.469527  29.404930  3.287752     7.198843  8.469654   \n",
       "Tuggeranong        7.224117  20.722467  2.138921          NaN       NaN   \n",
       "Uluru             14.253644  30.071097  0.837079          NaN       NaN   \n",
       "WaggaWagga         9.495828  22.829407  1.725356     5.253586  8.204634   \n",
       "Walpole           11.799877  20.408198  2.942554          NaN       NaN   \n",
       "Watsonia          10.096137  20.813459  1.866434     4.602723  6.357817   \n",
       "Williamtown       12.844791  24.084579  3.468759     7.093213  7.138029   \n",
       "Witchcliffe       10.707588  21.541711  2.960237          NaN       NaN   \n",
       "Wollongong        14.976366  21.532090  3.617335          NaN       NaN   \n",
       "Woomera           13.217394  26.403140  0.510367     9.769448  8.970921   \n",
       "\n",
       "                  humidity9am  humidity3pm  pressure9am  pressure3pm  \\\n",
       "location                                                               \n",
       "Adelaide            59.994639    45.242381  1018.730246  1016.771880   \n",
       "Albany              75.505462    67.392487  1018.273217  1016.499272   \n",
       "Albury              74.521224    48.235056  1018.388982  1015.792839   \n",
       "AliceSprings        39.967816    24.279758  1016.764370  1012.950819   \n",
       "BadgerysCreek       76.995795    51.574347  1018.449133  1015.618709   \n",
       "Ballarat            82.402196    59.602240  1017.832266  1016.256392   \n",
       "Bendigo             71.008319    46.981662  1018.004861  1015.860655   \n",
       "Brisbane            63.791482    53.674612  1018.269292  1015.135647   \n",
       "Cairns              70.283363    62.084656  1014.210523  1011.163639   \n",
       "Canberra            73.534731    46.196895  1018.952669  1016.205332   \n",
       "Cobar               56.023891    34.491462  1018.029238  1015.367116   \n",
       "CoffsHarbour        67.987379    62.308936  1018.246728  1015.847487   \n",
       "Dartmoor            85.078111    62.513572  1017.928857  1016.439888   \n",
       "Darwin              68.618839    51.924130  1011.885159  1008.350397   \n",
       "GoldCoast           66.613423    63.257913  1017.961087  1015.251096   \n",
       "Hobart              65.593407    52.756393  1014.398054  1012.809044   \n",
       "Katherine           63.594778    42.610583  1012.806869  1008.520369   \n",
       "Launceston          79.639288    57.584363  1015.666578  1013.745377   \n",
       "Melbourne           68.028391    51.726571  1017.664483  1015.793831   \n",
       "MelbourneAirport    70.304448    51.359723  1018.037320  1016.232334   \n",
       "Mildura             64.581241    35.869804  1018.763558  1016.261876   \n",
       "Moree               61.636062    35.991541  1018.353906  1014.985063   \n",
       "MountGambier        76.076567    58.125793  1017.875926  1016.331502   \n",
       "MountGinini         77.437040    70.056162          NaN          NaN   \n",
       "Newcastle           74.078296    57.345455          NaN          NaN   \n",
       "Nhil                73.696209    45.753323  1018.430675  1016.293698   \n",
       "NorahHead           74.711533    67.544727  1018.219331  1015.958013   \n",
       "NorfolkIsland       70.752666    67.892899  1017.677498  1015.909438   \n",
       "Nuriootpa           67.159954    45.714161  1018.875391  1016.750492   \n",
       "PearceRAAF          61.150407    42.223441  1017.791711  1015.234723   \n",
       "Penrith             75.558351    48.997588          NaN          NaN   \n",
       "Perth               63.041964    47.253633  1017.842994  1015.484319   \n",
       "PerthAirport        59.110919    42.210951  1017.945200  1015.429510   \n",
       "Portland            78.676548    65.995353  1017.619164  1016.546750   \n",
       "Richmond            76.718406    49.026449  1018.659245  1015.582910   \n",
       "Sale                79.270797    56.601685  1017.790093  1015.857064   \n",
       "SalmonGums          63.215709    41.184403          NaN          NaN   \n",
       "Sydney              67.829281    54.415324  1018.324940  1015.978770   \n",
       "SydneyAirport       64.704046    53.986694  1018.324349  1015.918878   \n",
       "Townsville          63.998854    57.427630  1015.212382  1011.955575   \n",
       "Tuggeranong         73.075983    47.278455  1018.516105  1015.670276   \n",
       "Uluru               43.634615    24.787159  1017.071407  1013.307988   \n",
       "WaggaWagga          68.285756    42.985311  1018.603378  1015.971005   \n",
       "Walpole             76.342105    66.566213  1017.833742  1016.184252   \n",
       "Watsonia            78.680999    54.903907  1017.999045  1016.061939   \n",
       "Williamtown         71.444780    53.598724  1018.383669  1015.843702   \n",
       "Witchcliffe         71.722310    58.037795  1018.479664  1016.806044   \n",
       "Wollongong          67.440504    64.932377  1018.066312  1015.954319   \n",
       "Woomera             53.680373    28.804450  1018.697026  1016.037427   \n",
       "\n",
       "                  cloud9am  cloud3pm    temp9am    temp3pm  raintoday  \\\n",
       "location                                                                \n",
       "Adelaide               NaN       NaN  16.903499  21.521580   0.225194   \n",
       "Albany            5.188436  4.808703  16.110015  18.412974   0.302624   \n",
       "Albury            6.356091  5.381587  14.283598  21.265204   0.206446   \n",
       "AliceSprings      2.979363  3.344924  21.225976  27.956519   0.080069   \n",
       "BadgerysCreek          NaN       NaN  16.592578  22.518741   0.197107   \n",
       "Ballarat          5.913397  6.305913  11.609347  16.694231   0.260782   \n",
       "Bendigo           4.562284  4.977147  13.762396  20.132092   0.189670   \n",
       "Brisbane          3.889411  3.855365  21.872843  24.799640   0.220084   \n",
       "Cairns            4.627374  4.500496  25.824897  27.928395   0.320727   \n",
       "Canberra          5.016235  4.857500  12.655984  19.443902   0.184763   \n",
       "Cobar             3.452628  3.908624  17.994666  24.423783   0.132808   \n",
       "CoffsHarbour      4.470835  4.623260  20.154207  22.357097   0.291091   \n",
       "Dartmoor               NaN       NaN  12.538977  18.100646   0.315681   \n",
       "Darwin            4.296276  4.295342  27.234656  31.122870   0.269094   \n",
       "GoldCoast              NaN       NaN  22.357815  23.757493   0.254182   \n",
       "Hobart            4.856454  4.973409  12.466731  16.204797   0.240604   \n",
       "Katherine         2.615031  3.169611  26.685115  33.548645   0.168929   \n",
       "Launceston        6.354105  5.832046  12.015882  17.629405   0.232959   \n",
       "Melbourne         5.257959  5.287568  14.580659  19.209257   0.254505   \n",
       "MelbourneAirport  5.244669  5.261459  14.089078  18.894294   0.221037   \n",
       "Mildura           3.376012  3.926224  15.451110  23.323709   0.109348   \n",
       "Moree             3.460904  4.012400  18.805309  25.592881   0.138419   \n",
       "MountGambier      5.634727  5.571037  13.728440  18.081128   0.309867   \n",
       "MountGinini            NaN       NaN   6.830516  10.179445   0.279389   \n",
       "Newcastle         4.139280  4.304535  18.115849  22.316698   0.245031   \n",
       "Nhil                   NaN       NaN  13.239291  20.652831   0.159349   \n",
       "NorahHead              NaN       NaN  18.508953  20.816257   0.275306   \n",
       "NorfolkIsland     5.066748  4.931950  19.822660  20.472337   0.313397   \n",
       "Nuriootpa         4.642576  4.881416  14.774826  20.226672   0.202433   \n",
       "PearceRAAF        4.022784  4.172840  18.794594  24.511466   0.184287   \n",
       "Penrith                NaN       NaN  16.985331  23.352938   0.194867   \n",
       "Perth             3.394744  3.463161  18.457784  23.319869   0.207387   \n",
       "PerthAirport      3.384837  3.440727  18.621521  23.914899   0.191299   \n",
       "Portland          6.386226  6.131107  13.152729  16.463937   0.367519   \n",
       "Richmond          6.236905  5.505013  16.617741  23.174874   0.190490   \n",
       "Sale              5.456104  5.142510  13.373343  18.760272   0.210160   \n",
       "SalmonGums             NaN       NaN  16.891647  22.467634   0.161024   \n",
       "Sydney            4.195356  4.230460  17.848682  21.578229   0.260549   \n",
       "SydneyAirport     4.274226  4.276061  18.567033  21.791130   0.255787   \n",
       "Townsville        4.380165  4.102322  25.666925  27.816910   0.168200   \n",
       "Tuggeranong            NaN       NaN  12.541164  19.399593   0.192849   \n",
       "Uluru             5.654618  4.886364  20.687804  28.765268   0.081716   \n",
       "WaggaWagga        4.000666  4.295447  14.765570  21.555288   0.185273   \n",
       "Walpole                NaN       NaN  15.897518  18.516146   0.343116   \n",
       "Watsonia          5.245441  5.265779  13.702237  19.317395   0.246149   \n",
       "Williamtown       4.724625  4.511199  18.159356  22.601106   0.268902   \n",
       "Witchcliffe            NaN       NaN  16.427401  19.676783   0.303704   \n",
       "Wollongong        6.239923  5.894897  18.251671  19.996459   0.237028   \n",
       "Woomera           2.568988  2.973123  17.760825  25.033934   0.068725   \n",
       "\n",
       "                  amountOfRain  raintomorrow       temp   humidity  \\\n",
       "location                                                             \n",
       "Adelaide              1.617357      0.224007  28.046256  54.954834   \n",
       "Albany                2.273260      0.304072  24.868309  80.193375   \n",
       "Albury                1.912085      0.206230  27.719232  57.874174   \n",
       "AliceSprings          0.875144      0.081515  35.448744  30.162267   \n",
       "BadgerysCreek         2.196262      0.196974  29.568422  62.229038   \n",
       "Ballarat              1.779020      0.261106  22.761476  71.602793   \n",
       "Bendigo               1.656144      0.189344  26.391808  56.242154   \n",
       "Brisbane              3.069928      0.219458  32.204664  64.416477   \n",
       "Cairns                5.628630      0.320988  35.585547  74.415261   \n",
       "Canberra              1.745061      0.185453  26.051792  55.972421   \n",
       "Cobar                 1.154437      0.132965  31.357627  42.419518   \n",
       "CoffsHarbour          5.024575      0.291154  29.447356  74.532314   \n",
       "Dartmoor              2.174324      0.315805  24.408859  74.832879   \n",
       "Darwin                5.186258      0.268820  39.250261  62.514036   \n",
       "GoldCoast             3.694479      0.254455  31.499480  75.444784   \n",
       "Hobart                1.611233      0.240000  22.326283  63.627847   \n",
       "Katherine             3.199204      0.172637  41.828527  51.026839   \n",
       "Launceston            2.033276      0.232932  23.606750  69.304921   \n",
       "Melbourne             1.844732      0.262163  25.715318  62.266975   \n",
       "MelbourneAirport      1.479539      0.221037  25.314563  61.871128   \n",
       "Mildura               0.933045      0.109573  30.171235  43.755270   \n",
       "Moree                 1.615807      0.139367  32.627400  44.037728   \n",
       "MountGambier          2.144974      0.309305  24.482093  69.672436   \n",
       "MountGinini           3.286724      0.283338  15.338016  83.980440   \n",
       "Newcastle             3.146032      0.246326  29.506214  68.603480   \n",
       "Nhil                  0.993501      0.160020  27.347688  55.229308   \n",
       "NorahHead             3.344189      0.275516  27.613488  80.738206   \n",
       "NorfolkIsland         3.076730      0.313424  27.052098  81.060993   \n",
       "Nuriootpa             1.441260      0.203698  26.585590  55.470375   \n",
       "PearceRAAF            1.732525      0.187500  31.845030  51.104278   \n",
       "Penrith               2.143351      0.196544  30.373043  58.895730   \n",
       "Perth                 1.956389      0.207387  30.266829  57.303191   \n",
       "PerthAirport          1.787439      0.191299  30.912393  51.400262   \n",
       "Portland              2.586921      0.368924  22.567114  78.875926   \n",
       "Richmond              2.158311      0.189387  29.704643  59.237757   \n",
       "Sale                  1.479115      0.210587  25.095445  67.948024   \n",
       "SalmonGums            1.071529      0.161101  29.356484  50.242177   \n",
       "Sydney                3.398052      0.259610  28.334459  65.059796   \n",
       "SydneyAirport         3.049495      0.256136  28.743443  65.023029   \n",
       "Townsville            3.277386      0.168530  35.408565  69.044153   \n",
       "Tuggeranong           2.141823      0.192475  25.807475  57.148257   \n",
       "Uluru                 0.893987      0.082365  35.855847  30.791515   \n",
       "WaggaWagga            1.731904      0.185076  28.222370  52.070832   \n",
       "Walpole               2.972443      0.344764  25.312511  79.733980   \n",
       "Watsonia              1.881158      0.246889  25.802338  65.907948   \n",
       "Williamtown           3.533825      0.273945  29.529670  64.440348   \n",
       "Witchcliffe           2.953638      0.303404  26.756972  69.499828   \n",
       "Wollongong            3.615259      0.236459  26.669261  77.930956   \n",
       "Woomera               0.511970      0.069146  32.197299  35.315625   \n",
       "\n",
       "                  precipitation3pm  precipitation9am  modelo_vigente  \\\n",
       "location                                                               \n",
       "Adelaide                 10.052691         10.006718        0.188529   \n",
       "Albany                   10.009241          9.913054        0.317938   \n",
       "Albury                    9.989040          9.970921        0.196727   \n",
       "AliceSprings             10.014351         10.065199        0.102462   \n",
       "BadgerysCreek             9.972708         10.100505        0.202926   \n",
       "Ballarat                  9.928633          9.999439        0.282206   \n",
       "Bendigo                  10.127471          9.973601        0.193707   \n",
       "Brisbane                  9.978718          9.829047        0.207628   \n",
       "Cairns                   10.035273         10.069608        0.323811   \n",
       "Canberra                  9.919010         10.078365        0.188505   \n",
       "Cobar                    10.019494          9.874570        0.143285   \n",
       "CoffsHarbour             10.062976         10.047041        0.285602   \n",
       "Dartmoor                 10.051116         10.144305        0.314749   \n",
       "Darwin                   10.042431         10.162353        0.280417   \n",
       "GoldCoast                 9.971370          9.967876        0.261287   \n",
       "Hobart                   10.015890         10.059698        0.270416   \n",
       "Katherine                 9.946766         10.121882        0.224866   \n",
       "Launceston                9.974182         10.171335        0.261794   \n",
       "Melbourne                 9.947147          9.946505        0.258471   \n",
       "MelbourneAirport          9.956196         10.019777        0.231304   \n",
       "Mildura                  10.039792         10.034170        0.127972   \n",
       "Moree                     9.929713         10.036134        0.142624   \n",
       "MountGambier              9.994256          9.903191        0.306838   \n",
       "MountGinini              10.042174          9.787329        0.297677   \n",
       "Newcastle                 9.922399         10.060606        0.258889   \n",
       "Nhil                     10.121123          9.905473        0.169246   \n",
       "NorahHead                10.117699         10.121133        0.306507   \n",
       "NorfolkIsland            10.019515          9.888696        0.325128   \n",
       "Nuriootpa                10.063565          9.909770        0.194977   \n",
       "PearceRAAF                9.944963         10.064702        0.173603   \n",
       "Penrith                  10.104277         10.011491        0.199351   \n",
       "Perth                     9.979207          9.961900        0.172557   \n",
       "PerthAirport             10.044944          9.886971        0.161388   \n",
       "Portland                  9.960359          9.900124        0.359718   \n",
       "Richmond                 10.012313         10.124473        0.207330   \n",
       "Sale                      9.998554         10.085170        0.250262   \n",
       "SalmonGums                9.989162          9.860404        0.145591   \n",
       "Sydney                    9.998947         10.110916        0.239888   \n",
       "SydneyAirport            10.001733          9.839892        0.251286   \n",
       "Townsville                9.992835          9.987431        0.222626   \n",
       "Tuggeranong              10.147033          9.893671        0.169182   \n",
       "Uluru                    10.090955          9.977491        0.104210   \n",
       "WaggaWagga               10.067274          9.815379        0.181179   \n",
       "Walpole                  10.041335          9.984428        0.342115   \n",
       "Watsonia                  9.988712         10.021309        0.259427   \n",
       "Williamtown              10.107502         10.047931        0.261361   \n",
       "Witchcliffe              10.048415         10.011889        0.266886   \n",
       "Wollongong                9.917880          9.997872        0.293309   \n",
       "Woomera                  10.074666         10.011173        0.090278   \n",
       "\n",
       "                  wind_gustspeed  wind_speed9am  wind_speed3pm    labels  \\\n",
       "location                                                                   \n",
       "Adelaide               36.092819       9.718962      15.168736  1.708932   \n",
       "Albany                       NaN      12.644103      19.001305  1.188276   \n",
       "Albury                 32.787677       8.179902      14.386994  1.680992   \n",
       "AliceSprings           40.317771      14.622631      18.012924  1.879162   \n",
       "BadgerysCreek          33.456904       8.027172      13.909200  1.648769   \n",
       "Ballarat               44.927808      19.939098      22.810958  1.895959   \n",
       "Bendigo                38.688767      12.787271      17.089163  1.816385   \n",
       "Brisbane               28.042246       6.893035      10.909292  1.854063   \n",
       "Cairns                 38.149660      15.969430      21.927080  2.380071   \n",
       "Canberra               40.091269      10.487939      19.292910  1.428682   \n",
       "Cobar                  36.548881      14.683319      15.153824  2.156823   \n",
       "CoffsHarbour           39.248542      15.259248      21.224929  1.993556   \n",
       "Dartmoor               38.633529      10.678036      17.687041  1.655405   \n",
       "Darwin                 40.360565      14.803836      20.586689  1.970709   \n",
       "GoldCoast              42.219145      19.230656      25.769979  1.933684   \n",
       "Hobart                 47.653433      16.361644      19.799397  1.602192   \n",
       "Katherine              38.560223      12.155301      15.834665  1.736816   \n",
       "Launceston             35.606885       8.517657      15.606095  1.609294   \n",
       "Melbourne              43.994722      17.829772      20.683234  1.659783   \n",
       "MelbourneAirport       46.897770      20.281061      22.994236  1.669741   \n",
       "Mildura                37.034075      13.910560      16.627344  2.052191   \n",
       "Moree                  39.910420      18.139342      16.971077  2.158673   \n",
       "MountGambier           42.744308      17.480288      22.309133  1.967547   \n",
       "MountGinini            46.318311      15.821395      15.050218  1.715474   \n",
       "Newcastle                    NaN       6.382898      10.623558  0.519106   \n",
       "Nhil                   42.202170      16.303299      20.867553  1.873954   \n",
       "NorahHead              42.096603      13.792470      20.879147  1.440708   \n",
       "NorfolkIsland          42.498198      20.078269      21.706213  2.206978   \n",
       "Nuriootpa              40.615048      14.220221      18.173850  1.864490   \n",
       "PearceRAAF             43.147874      15.919637      20.175125  1.764925   \n",
       "Penrith                31.669504       6.302065      11.918895  1.637668   \n",
       "Perth                  34.787613      10.614227      14.408867  1.872503   \n",
       "PerthAirport           44.054338      17.676276      21.263689  1.791991   \n",
       "Portland               42.134363      16.305153      20.764910  1.927083   \n",
       "Richmond               34.821797       7.203315      14.948332  1.554676   \n",
       "Sale                   42.599444      14.220388      22.183425  1.465143   \n",
       "SalmonGums             39.420802      16.074600      17.085283  2.172525   \n",
       "Sydney                 41.680727      15.177625      19.307448  1.825171   \n",
       "SydneyAirport          47.167693      18.603064      25.681884  1.619983   \n",
       "Townsville             38.715856      15.143677      24.222541  2.174835   \n",
       "Tuggeranong            35.075894       7.537005      14.850494  1.557742   \n",
       "Uluru                  40.827835      17.462410      17.030365  2.044972   \n",
       "WaggaWagga             36.480296      12.874266      16.207758  1.830200   \n",
       "Walpole                39.735943      13.788585      17.071144  1.993570   \n",
       "Watsonia               37.923574       9.892909      15.066010  1.516353   \n",
       "Williamtown            41.705155      16.653612      22.354167  1.845613   \n",
       "Witchcliffe            40.055130      13.914487      19.139125  1.927817   \n",
       "Wollongong             45.596845      16.615610      21.822892  1.644729   \n",
       "Woomera                43.859830      19.965096      20.646100  1.982859   \n",
       "\n",
       "                  wind_gustdir_E  wind_gustdir_N  wind_gustdir_S  \\\n",
       "location                                                           \n",
       "Adelaide                0.096365        0.260919        0.294731   \n",
       "Albany                  0.000000        0.000000        0.000000   \n",
       "Albury                  0.129218        0.264782        0.235362   \n",
       "AliceSprings            0.428530        0.172216        0.327497   \n",
       "BadgerysCreek           0.262237        0.218629        0.308514   \n",
       "Ballarat                0.047005        0.372026        0.371167   \n",
       "Bendigo                 0.041249        0.311945        0.406187   \n",
       "Brisbane                0.408513        0.190713        0.192648   \n",
       "Cairns                  0.230159        0.183128        0.565256   \n",
       "Canberra                0.201186        0.416043        0.124323   \n",
       "Cobar                   0.199011        0.243526        0.345941   \n",
       "CoffsHarbour            0.089924        0.339777        0.388987   \n",
       "Dartmoor                0.100176        0.314630        0.402468   \n",
       "Darwin                  0.362989        0.331235        0.118259   \n",
       "GoldCoast               0.129126        0.289804        0.470348   \n",
       "Hobart                  0.052877        0.493151        0.306301   \n",
       "Katherine               0.503483        0.179602        0.216915   \n",
       "Launceston              0.043603        0.649168        0.198795   \n",
       "Melbourne               0.007700        0.429471        0.430872   \n",
       "MelbourneAirport        0.006052        0.408069        0.435159   \n",
       "Mildura                 0.069204        0.277105        0.422145   \n",
       "Moree                   0.230166        0.306486        0.258220   \n",
       "MountGambier            0.053130        0.300402        0.383688   \n",
       "MountGinini             0.174933        0.211761        0.190971   \n",
       "Newcastle               0.000000        0.000000        0.000000   \n",
       "Nhil                    0.119153        0.237322        0.361891   \n",
       "NorahHead               0.060767        0.391445        0.420944   \n",
       "NorfolkIsland           0.317268        0.173566        0.342105   \n",
       "Nuriootpa               0.099104        0.201098        0.308870   \n",
       "PearceRAAF              0.347948        0.128109        0.261194   \n",
       "Penrith                 0.191564        0.282953        0.359110   \n",
       "Perth                   0.135705        0.203830        0.490014   \n",
       "PerthAirport            0.337367        0.158744        0.272832   \n",
       "Portland                0.117477        0.226562        0.278935   \n",
       "Richmond                0.281149        0.199941        0.324245   \n",
       "Sale                    0.290425        0.099798        0.142320   \n",
       "SalmonGums              0.130053        0.287639        0.419156   \n",
       "Sydney                  0.147709        0.152975        0.217746   \n",
       "SydneyAirport           0.116084        0.292521        0.383771   \n",
       "Townsville              0.576096        0.276870        0.127257   \n",
       "Tuggeranong             0.168452        0.379450        0.183792   \n",
       "Uluru                   0.443153        0.172309        0.268823   \n",
       "WaggaWagga              0.292009        0.179495        0.162750   \n",
       "Walpole                 0.098285        0.268524        0.406001   \n",
       "Watsonia                0.055861        0.344718        0.387554   \n",
       "Williamtown             0.172472        0.155727        0.371065   \n",
       "Witchcliffe             0.048122        0.224472        0.520540   \n",
       "Wollongong              0.059115        0.345370        0.414094   \n",
       "Woomera                 0.078443        0.263510        0.508135   \n",
       "\n",
       "                  wind_gustdir_W  \n",
       "location                          \n",
       "Adelaide                0.340659  \n",
       "Albany                  0.000000  \n",
       "Albury                  0.367753  \n",
       "AliceSprings            0.055396  \n",
       "BadgerysCreek           0.205280  \n",
       "Ballarat                0.202350  \n",
       "Bendigo                 0.229734  \n",
       "Brisbane                0.202598  \n",
       "Cairns                  0.014991  \n",
       "Canberra                0.170751  \n",
       "Cobar                   0.199593  \n",
       "CoffsHarbour            0.085237  \n",
       "Dartmoor                0.181551  \n",
       "Darwin                  0.174925  \n",
       "GoldCoast               0.081215  \n",
       "Hobart                  0.141370  \n",
       "Katherine               0.083085  \n",
       "Launceston              0.099828  \n",
       "Melbourne               0.126706  \n",
       "MelbourneAirport        0.145821  \n",
       "Mildura                 0.230104  \n",
       "Moree                   0.174661  \n",
       "MountGambier            0.246410  \n",
       "MountGinini             0.364716  \n",
       "Newcastle               0.000000  \n",
       "Nhil                    0.280158  \n",
       "NorahHead               0.125369  \n",
       "NorfolkIsland           0.151390  \n",
       "Nuriootpa               0.377637  \n",
       "PearceRAAF              0.227923  \n",
       "Penrith                 0.164323  \n",
       "Perth                   0.168810  \n",
       "PerthAirport            0.217228  \n",
       "Portland                0.369792  \n",
       "Richmond                0.189387  \n",
       "Sale                    0.404108  \n",
       "SalmonGums              0.148799  \n",
       "Sydney                  0.205635  \n",
       "SydneyAirport           0.192608  \n",
       "Townsville              0.010318  \n",
       "Tuggeranong             0.263676  \n",
       "Uluru                   0.096008  \n",
       "WaggaWagga              0.357227  \n",
       "Walpole                 0.203307  \n",
       "Watsonia                0.196527  \n",
       "Williamtown             0.249163  \n",
       "Witchcliffe             0.201878  \n",
       "Wollongong              0.178218  \n",
       "Woomera                 0.138582  "
      ]
     },
     "execution_count": 29,
     "metadata": {},
     "output_type": "execute_result"
    }
   ],
   "source": [
    "data.groupby('location').mean()"
   ]
  },
  {
   "cell_type": "code",
   "execution_count": 30,
   "metadata": {
    "ExecuteTime": {
     "end_time": "2020-08-04T22:19:17.139389Z",
     "start_time": "2020-08-04T22:19:17.039657Z"
    }
   },
   "outputs": [],
   "source": [
    "data_missingless=data.dropna()"
   ]
  },
  {
   "cell_type": "markdown",
   "metadata": {},
   "source": [
    "# Exploration"
   ]
  },
  {
   "cell_type": "markdown",
   "metadata": {},
   "source": [
    "Lets take a look at the categorical variables"
   ]
  },
  {
   "cell_type": "code",
   "execution_count": 31,
   "metadata": {
    "ExecuteTime": {
     "end_time": "2020-08-04T22:19:17.967174Z",
     "start_time": "2020-08-04T22:19:17.960194Z"
    }
   },
   "outputs": [
    {
     "data": {
      "text/plain": [
       "date                        object\n",
       "location                    object\n",
       "mintemp                    float64\n",
       "maxtemp                    float64\n",
       "rainfall                   float64\n",
       "evaporation                float64\n",
       "sunshine                   float64\n",
       "humidity9am                float64\n",
       "humidity3pm                float64\n",
       "pressure9am                float64\n",
       "pressure3pm                float64\n",
       "cloud9am                   float64\n",
       "cloud3pm                   float64\n",
       "temp9am                    float64\n",
       "temp3pm                    float64\n",
       "raintoday                  float64\n",
       "amountOfRain               float64\n",
       "raintomorrow                 int64\n",
       "temp                       float64\n",
       "humidity                   float64\n",
       "precipitation3pm             int64\n",
       "precipitation9am           float64\n",
       "modelo_vigente             float64\n",
       "wind_gustdir                object\n",
       "wind_gustspeed             float64\n",
       "wind_dir9am                 object\n",
       "wind_dir3pm                 object\n",
       "wind_speed9am              float64\n",
       "wind_speed3pm              float64\n",
       "labels                       int64\n",
       "wind_gustdir_simplified     object\n",
       "wind_gustdir_E               int64\n",
       "wind_gustdir_N               int64\n",
       "wind_gustdir_S               int64\n",
       "wind_gustdir_W               int64\n",
       "dtype: object"
      ]
     },
     "execution_count": 31,
     "metadata": {},
     "output_type": "execute_result"
    }
   ],
   "source": [
    "data_missingless.dtypes"
   ]
  },
  {
   "cell_type": "code",
   "execution_count": 32,
   "metadata": {
    "ExecuteTime": {
     "end_time": "2020-08-04T22:19:18.388048Z",
     "start_time": "2020-08-04T22:19:18.344166Z"
    }
   },
   "outputs": [
    {
     "data": {
      "text/html": [
       "<div>\n",
       "<style scoped>\n",
       "    .dataframe tbody tr th:only-of-type {\n",
       "        vertical-align: middle;\n",
       "    }\n",
       "\n",
       "    .dataframe tbody tr th {\n",
       "        vertical-align: top;\n",
       "    }\n",
       "\n",
       "    .dataframe thead th {\n",
       "        text-align: right;\n",
       "    }\n",
       "</style>\n",
       "<table border=\"1\" class=\"dataframe\">\n",
       "  <thead>\n",
       "    <tr style=\"text-align: right;\">\n",
       "      <th></th>\n",
       "      <th>rainfall</th>\n",
       "      <th>raintoday</th>\n",
       "      <th>raintomorrow</th>\n",
       "    </tr>\n",
       "    <tr>\n",
       "      <th>wind_gustdir</th>\n",
       "      <th></th>\n",
       "      <th></th>\n",
       "      <th></th>\n",
       "    </tr>\n",
       "  </thead>\n",
       "  <tbody>\n",
       "    <tr>\n",
       "      <th>E</th>\n",
       "      <td>1.672752</td>\n",
       "      <td>0.149134</td>\n",
       "      <td>0.158210</td>\n",
       "    </tr>\n",
       "    <tr>\n",
       "      <th>ENE</th>\n",
       "      <td>1.432233</td>\n",
       "      <td>0.137578</td>\n",
       "      <td>0.149198</td>\n",
       "    </tr>\n",
       "    <tr>\n",
       "      <th>ESE</th>\n",
       "      <td>1.948206</td>\n",
       "      <td>0.175473</td>\n",
       "      <td>0.174060</td>\n",
       "    </tr>\n",
       "    <tr>\n",
       "      <th>N</th>\n",
       "      <td>1.258458</td>\n",
       "      <td>0.152463</td>\n",
       "      <td>0.274946</td>\n",
       "    </tr>\n",
       "    <tr>\n",
       "      <th>NE</th>\n",
       "      <td>1.554145</td>\n",
       "      <td>0.128406</td>\n",
       "      <td>0.178261</td>\n",
       "    </tr>\n",
       "    <tr>\n",
       "      <th>NNE</th>\n",
       "      <td>1.189531</td>\n",
       "      <td>0.134657</td>\n",
       "      <td>0.236823</td>\n",
       "    </tr>\n",
       "    <tr>\n",
       "      <th>NNW</th>\n",
       "      <td>1.607171</td>\n",
       "      <td>0.187841</td>\n",
       "      <td>0.271239</td>\n",
       "    </tr>\n",
       "    <tr>\n",
       "      <th>NW</th>\n",
       "      <td>2.098567</td>\n",
       "      <td>0.238225</td>\n",
       "      <td>0.289078</td>\n",
       "    </tr>\n",
       "    <tr>\n",
       "      <th>S</th>\n",
       "      <td>2.725377</td>\n",
       "      <td>0.276232</td>\n",
       "      <td>0.218790</td>\n",
       "    </tr>\n",
       "    <tr>\n",
       "      <th>SE</th>\n",
       "      <td>2.685282</td>\n",
       "      <td>0.224250</td>\n",
       "      <td>0.195918</td>\n",
       "    </tr>\n",
       "    <tr>\n",
       "      <th>SSE</th>\n",
       "      <td>2.644391</td>\n",
       "      <td>0.241409</td>\n",
       "      <td>0.207043</td>\n",
       "    </tr>\n",
       "    <tr>\n",
       "      <th>SSW</th>\n",
       "      <td>2.640954</td>\n",
       "      <td>0.276581</td>\n",
       "      <td>0.213111</td>\n",
       "    </tr>\n",
       "    <tr>\n",
       "      <th>SW</th>\n",
       "      <td>2.303572</td>\n",
       "      <td>0.281510</td>\n",
       "      <td>0.190744</td>\n",
       "    </tr>\n",
       "    <tr>\n",
       "      <th>W</th>\n",
       "      <td>2.869776</td>\n",
       "      <td>0.322481</td>\n",
       "      <td>0.274747</td>\n",
       "    </tr>\n",
       "    <tr>\n",
       "      <th>WNW</th>\n",
       "      <td>2.628788</td>\n",
       "      <td>0.286024</td>\n",
       "      <td>0.310815</td>\n",
       "    </tr>\n",
       "    <tr>\n",
       "      <th>WSW</th>\n",
       "      <td>2.639766</td>\n",
       "      <td>0.304337</td>\n",
       "      <td>0.248538</td>\n",
       "    </tr>\n",
       "  </tbody>\n",
       "</table>\n",
       "</div>"
      ],
      "text/plain": [
       "              rainfall  raintoday  raintomorrow\n",
       "wind_gustdir                                   \n",
       "E             1.672752   0.149134      0.158210\n",
       "ENE           1.432233   0.137578      0.149198\n",
       "ESE           1.948206   0.175473      0.174060\n",
       "N             1.258458   0.152463      0.274946\n",
       "NE            1.554145   0.128406      0.178261\n",
       "NNE           1.189531   0.134657      0.236823\n",
       "NNW           1.607171   0.187841      0.271239\n",
       "NW            2.098567   0.238225      0.289078\n",
       "S             2.725377   0.276232      0.218790\n",
       "SE            2.685282   0.224250      0.195918\n",
       "SSE           2.644391   0.241409      0.207043\n",
       "SSW           2.640954   0.276581      0.213111\n",
       "SW            2.303572   0.281510      0.190744\n",
       "W             2.869776   0.322481      0.274747\n",
       "WNW           2.628788   0.286024      0.310815\n",
       "WSW           2.639766   0.304337      0.248538"
      ]
     },
     "execution_count": 32,
     "metadata": {},
     "output_type": "execute_result"
    }
   ],
   "source": [
    "data_missingless.groupby('wind_gustdir').mean()[['rainfall','raintoday','raintomorrow']]"
   ]
  },
  {
   "cell_type": "code",
   "execution_count": 33,
   "metadata": {
    "ExecuteTime": {
     "end_time": "2020-08-04T22:19:18.688245Z",
     "start_time": "2020-08-04T22:19:18.648352Z"
    }
   },
   "outputs": [
    {
     "data": {
      "text/html": [
       "<div>\n",
       "<style scoped>\n",
       "    .dataframe tbody tr th:only-of-type {\n",
       "        vertical-align: middle;\n",
       "    }\n",
       "\n",
       "    .dataframe tbody tr th {\n",
       "        vertical-align: top;\n",
       "    }\n",
       "\n",
       "    .dataframe thead th {\n",
       "        text-align: right;\n",
       "    }\n",
       "</style>\n",
       "<table border=\"1\" class=\"dataframe\">\n",
       "  <thead>\n",
       "    <tr style=\"text-align: right;\">\n",
       "      <th></th>\n",
       "      <th>rainfall</th>\n",
       "      <th>raintoday</th>\n",
       "      <th>raintomorrow</th>\n",
       "    </tr>\n",
       "    <tr>\n",
       "      <th>wind_dir9am</th>\n",
       "      <th></th>\n",
       "      <th></th>\n",
       "      <th></th>\n",
       "    </tr>\n",
       "  </thead>\n",
       "  <tbody>\n",
       "    <tr>\n",
       "      <th>E</th>\n",
       "      <td>1.282777</td>\n",
       "      <td>0.113908</td>\n",
       "      <td>0.138242</td>\n",
       "    </tr>\n",
       "    <tr>\n",
       "      <th>ENE</th>\n",
       "      <td>1.248335</td>\n",
       "      <td>0.112512</td>\n",
       "      <td>0.169125</td>\n",
       "    </tr>\n",
       "    <tr>\n",
       "      <th>ESE</th>\n",
       "      <td>1.739009</td>\n",
       "      <td>0.149225</td>\n",
       "      <td>0.148948</td>\n",
       "    </tr>\n",
       "    <tr>\n",
       "      <th>N</th>\n",
       "      <td>1.231413</td>\n",
       "      <td>0.173382</td>\n",
       "      <td>0.310665</td>\n",
       "    </tr>\n",
       "    <tr>\n",
       "      <th>NE</th>\n",
       "      <td>1.315378</td>\n",
       "      <td>0.143440</td>\n",
       "      <td>0.216113</td>\n",
       "    </tr>\n",
       "    <tr>\n",
       "      <th>NNE</th>\n",
       "      <td>1.114147</td>\n",
       "      <td>0.144521</td>\n",
       "      <td>0.284605</td>\n",
       "    </tr>\n",
       "    <tr>\n",
       "      <th>NNW</th>\n",
       "      <td>1.892718</td>\n",
       "      <td>0.243043</td>\n",
       "      <td>0.291297</td>\n",
       "    </tr>\n",
       "    <tr>\n",
       "      <th>NW</th>\n",
       "      <td>2.130511</td>\n",
       "      <td>0.239137</td>\n",
       "      <td>0.259435</td>\n",
       "    </tr>\n",
       "    <tr>\n",
       "      <th>S</th>\n",
       "      <td>3.491872</td>\n",
       "      <td>0.293145</td>\n",
       "      <td>0.209428</td>\n",
       "    </tr>\n",
       "    <tr>\n",
       "      <th>SE</th>\n",
       "      <td>2.130682</td>\n",
       "      <td>0.178753</td>\n",
       "      <td>0.155227</td>\n",
       "    </tr>\n",
       "    <tr>\n",
       "      <th>SSE</th>\n",
       "      <td>2.721606</td>\n",
       "      <td>0.238968</td>\n",
       "      <td>0.193875</td>\n",
       "    </tr>\n",
       "    <tr>\n",
       "      <th>SSW</th>\n",
       "      <td>2.586422</td>\n",
       "      <td>0.280287</td>\n",
       "      <td>0.197446</td>\n",
       "    </tr>\n",
       "    <tr>\n",
       "      <th>SW</th>\n",
       "      <td>3.139081</td>\n",
       "      <td>0.334983</td>\n",
       "      <td>0.211771</td>\n",
       "    </tr>\n",
       "    <tr>\n",
       "      <th>W</th>\n",
       "      <td>3.076039</td>\n",
       "      <td>0.340097</td>\n",
       "      <td>0.264010</td>\n",
       "    </tr>\n",
       "    <tr>\n",
       "      <th>WNW</th>\n",
       "      <td>2.723971</td>\n",
       "      <td>0.287465</td>\n",
       "      <td>0.256676</td>\n",
       "    </tr>\n",
       "    <tr>\n",
       "      <th>WSW</th>\n",
       "      <td>3.233303</td>\n",
       "      <td>0.366516</td>\n",
       "      <td>0.241629</td>\n",
       "    </tr>\n",
       "  </tbody>\n",
       "</table>\n",
       "</div>"
      ],
      "text/plain": [
       "             rainfall  raintoday  raintomorrow\n",
       "wind_dir9am                                   \n",
       "E            1.282777   0.113908      0.138242\n",
       "ENE          1.248335   0.112512      0.169125\n",
       "ESE          1.739009   0.149225      0.148948\n",
       "N            1.231413   0.173382      0.310665\n",
       "NE           1.315378   0.143440      0.216113\n",
       "NNE          1.114147   0.144521      0.284605\n",
       "NNW          1.892718   0.243043      0.291297\n",
       "NW           2.130511   0.239137      0.259435\n",
       "S            3.491872   0.293145      0.209428\n",
       "SE           2.130682   0.178753      0.155227\n",
       "SSE          2.721606   0.238968      0.193875\n",
       "SSW          2.586422   0.280287      0.197446\n",
       "SW           3.139081   0.334983      0.211771\n",
       "W            3.076039   0.340097      0.264010\n",
       "WNW          2.723971   0.287465      0.256676\n",
       "WSW          3.233303   0.366516      0.241629"
      ]
     },
     "execution_count": 33,
     "metadata": {},
     "output_type": "execute_result"
    }
   ],
   "source": [
    "data_missingless.groupby('wind_dir9am').mean()[['rainfall','raintoday','raintomorrow']]"
   ]
  },
  {
   "cell_type": "markdown",
   "metadata": {},
   "source": [
    "Lets look at modelo_vigente"
   ]
  },
  {
   "cell_type": "code",
   "execution_count": 34,
   "metadata": {
    "ExecuteTime": {
     "end_time": "2020-08-04T22:20:37.899218Z",
     "start_time": "2020-08-04T22:19:19.246751Z"
    }
   },
   "outputs": [
    {
     "data": {
      "text/plain": [
       "<matplotlib.axes._subplots.AxesSubplot at 0x2095bff4c88>"
      ]
     },
     "execution_count": 34,
     "metadata": {},
     "output_type": "execute_result"
    },
    {
     "data": {
      "image/png": "[encoded data removed]",
      "text/plain": [
       "<Figure size 432x288 with 1 Axes>"
      ]
     },
     "metadata": {
      "needs_background": "light"
     },
     "output_type": "display_data"
    }
   ],
   "source": [
    "sns.regplot(data_missingless['modelo_vigente'],data_missingless['raintomorrow'],logistic=True)"
   ]
  },
  {
   "cell_type": "markdown",
   "metadata": {},
   "source": [
    "Maybe we will try modelo_vigente as our baseline"
   ]
  },
  {
   "cell_type": "markdown",
   "metadata": {},
   "source": [
    "What is labels?"
   ]
  },
  {
   "cell_type": "code",
   "execution_count": 35,
   "metadata": {
    "ExecuteTime": {
     "end_time": "2020-08-04T22:20:38.275248Z",
     "start_time": "2020-08-04T22:20:38.016904Z"
    }
   },
   "outputs": [
    {
     "data": {
      "text/plain": [
       "(array([33201.,     0.,     0., 24429.,     0.,     0., 51985.,     0.,\n",
       "            0., 54771.]),\n",
       " array([0. , 0.3, 0.6, 0.9, 1.2, 1.5, 1.8, 2.1, 2.4, 2.7, 3. ]),\n",
       " <a list of 10 Patch objects>)"
      ]
     },
     "execution_count": 35,
     "metadata": {},
     "output_type": "execute_result"
    },
    {
     "data": {
      "image/png": "[encoded data removed]",
      "text/plain": [
       "<Figure size 432x288 with 1 Axes>"
      ]
     },
     "metadata": {
      "needs_background": "light"
     },
     "output_type": "display_data"
    }
   ],
   "source": [
    "plt.hist(data['labels'])"
   ]
  },
  {
   "cell_type": "code",
   "execution_count": 36,
   "metadata": {
    "ExecuteTime": {
     "end_time": "2020-08-04T22:20:38.441808Z",
     "start_time": "2020-08-04T22:20:38.375976Z"
    }
   },
   "outputs": [
    {
     "data": {
      "text/html": [
       "<div>\n",
       "<style scoped>\n",
       "    .dataframe tbody tr th:only-of-type {\n",
       "        vertical-align: middle;\n",
       "    }\n",
       "\n",
       "    .dataframe tbody tr th {\n",
       "        vertical-align: top;\n",
       "    }\n",
       "\n",
       "    .dataframe thead th {\n",
       "        text-align: right;\n",
       "    }\n",
       "</style>\n",
       "<table border=\"1\" class=\"dataframe\">\n",
       "  <thead>\n",
       "    <tr style=\"text-align: right;\">\n",
       "      <th></th>\n",
       "      <th>mintemp</th>\n",
       "      <th>maxtemp</th>\n",
       "      <th>rainfall</th>\n",
       "      <th>evaporation</th>\n",
       "      <th>sunshine</th>\n",
       "      <th>humidity9am</th>\n",
       "      <th>humidity3pm</th>\n",
       "      <th>pressure9am</th>\n",
       "      <th>pressure3pm</th>\n",
       "      <th>cloud9am</th>\n",
       "      <th>cloud3pm</th>\n",
       "      <th>temp9am</th>\n",
       "      <th>temp3pm</th>\n",
       "      <th>raintoday</th>\n",
       "      <th>amountOfRain</th>\n",
       "      <th>raintomorrow</th>\n",
       "      <th>temp</th>\n",
       "      <th>humidity</th>\n",
       "      <th>precipitation3pm</th>\n",
       "      <th>precipitation9am</th>\n",
       "      <th>modelo_vigente</th>\n",
       "      <th>wind_gustspeed</th>\n",
       "      <th>wind_speed9am</th>\n",
       "      <th>wind_speed3pm</th>\n",
       "      <th>wind_gustdir_E</th>\n",
       "      <th>wind_gustdir_N</th>\n",
       "      <th>wind_gustdir_S</th>\n",
       "      <th>wind_gustdir_W</th>\n",
       "    </tr>\n",
       "    <tr>\n",
       "      <th>labels</th>\n",
       "      <th></th>\n",
       "      <th></th>\n",
       "      <th></th>\n",
       "      <th></th>\n",
       "      <th></th>\n",
       "      <th></th>\n",
       "      <th></th>\n",
       "      <th></th>\n",
       "      <th></th>\n",
       "      <th></th>\n",
       "      <th></th>\n",
       "      <th></th>\n",
       "      <th></th>\n",
       "      <th></th>\n",
       "      <th></th>\n",
       "      <th></th>\n",
       "      <th></th>\n",
       "      <th></th>\n",
       "      <th></th>\n",
       "      <th></th>\n",
       "      <th></th>\n",
       "      <th></th>\n",
       "      <th></th>\n",
       "      <th></th>\n",
       "      <th></th>\n",
       "      <th></th>\n",
       "      <th></th>\n",
       "      <th></th>\n",
       "    </tr>\n",
       "  </thead>\n",
       "  <tbody>\n",
       "    <tr>\n",
       "      <th>0</th>\n",
       "      <td>13.620849</td>\n",
       "      <td>25.217218</td>\n",
       "      <td>2.428788</td>\n",
       "      <td>5.755437</td>\n",
       "      <td>7.780119</td>\n",
       "      <td>67.106718</td>\n",
       "      <td>48.894190</td>\n",
       "      <td>1015.673996</td>\n",
       "      <td>1013.156274</td>\n",
       "      <td>4.345673</td>\n",
       "      <td>4.449163</td>\n",
       "      <td>18.704257</td>\n",
       "      <td>23.474622</td>\n",
       "      <td>0.231491</td>\n",
       "      <td>3.401957</td>\n",
       "      <td>0.278596</td>\n",
       "      <td>30.775010</td>\n",
       "      <td>59.174145</td>\n",
       "      <td>9.979020</td>\n",
       "      <td>9.837479</td>\n",
       "      <td>0.254125</td>\n",
       "      <td>45.974985</td>\n",
       "      <td>9.336998</td>\n",
       "      <td>21.217470</td>\n",
       "      <td>0.163910</td>\n",
       "      <td>0.289490</td>\n",
       "      <td>0.337200</td>\n",
       "      <td>0.209401</td>\n",
       "    </tr>\n",
       "    <tr>\n",
       "      <th>1</th>\n",
       "      <td>13.898696</td>\n",
       "      <td>23.367294</td>\n",
       "      <td>3.296908</td>\n",
       "      <td>6.413597</td>\n",
       "      <td>7.165021</td>\n",
       "      <td>60.296145</td>\n",
       "      <td>49.077947</td>\n",
       "      <td>1013.247663</td>\n",
       "      <td>1011.503306</td>\n",
       "      <td>4.612218</td>\n",
       "      <td>4.895325</td>\n",
       "      <td>18.066660</td>\n",
       "      <td>21.566716</td>\n",
       "      <td>0.325107</td>\n",
       "      <td>3.838676</td>\n",
       "      <td>0.361892</td>\n",
       "      <td>28.717062</td>\n",
       "      <td>59.211281</td>\n",
       "      <td>10.056156</td>\n",
       "      <td>10.058447</td>\n",
       "      <td>0.331164</td>\n",
       "      <td>60.987987</td>\n",
       "      <td>27.440864</td>\n",
       "      <td>28.721922</td>\n",
       "      <td>0.142578</td>\n",
       "      <td>0.303502</td>\n",
       "      <td>0.271838</td>\n",
       "      <td>0.282082</td>\n",
       "    </tr>\n",
       "    <tr>\n",
       "      <th>2</th>\n",
       "      <td>11.950739</td>\n",
       "      <td>23.205915</td>\n",
       "      <td>1.516583</td>\n",
       "      <td>4.211974</td>\n",
       "      <td>7.537171</td>\n",
       "      <td>72.122669</td>\n",
       "      <td>52.270237</td>\n",
       "      <td>1020.075826</td>\n",
       "      <td>1017.296796</td>\n",
       "      <td>4.100869</td>\n",
       "      <td>4.114370</td>\n",
       "      <td>16.871466</td>\n",
       "      <td>21.932241</td>\n",
       "      <td>0.172080</td>\n",
       "      <td>1.445305</td>\n",
       "      <td>0.151386</td>\n",
       "      <td>28.497725</td>\n",
       "      <td>62.867575</td>\n",
       "      <td>9.985559</td>\n",
       "      <td>10.013001</td>\n",
       "      <td>0.171829</td>\n",
       "      <td>27.685166</td>\n",
       "      <td>8.392851</td>\n",
       "      <td>13.214408</td>\n",
       "      <td>0.234383</td>\n",
       "      <td>0.276268</td>\n",
       "      <td>0.319648</td>\n",
       "      <td>0.169701</td>\n",
       "    </tr>\n",
       "    <tr>\n",
       "      <th>3</th>\n",
       "      <td>14.396398</td>\n",
       "      <td>24.854440</td>\n",
       "      <td>1.958963</td>\n",
       "      <td>5.897947</td>\n",
       "      <td>8.070583</td>\n",
       "      <td>63.224921</td>\n",
       "      <td>48.307314</td>\n",
       "      <td>1017.528900</td>\n",
       "      <td>1015.067552</td>\n",
       "      <td>4.139210</td>\n",
       "      <td>4.175981</td>\n",
       "      <td>19.002934</td>\n",
       "      <td>23.398832</td>\n",
       "      <td>0.207930</td>\n",
       "      <td>1.908549</td>\n",
       "      <td>0.185052</td>\n",
       "      <td>30.396871</td>\n",
       "      <td>58.281938</td>\n",
       "      <td>10.038984</td>\n",
       "      <td>9.999126</td>\n",
       "      <td>0.192556</td>\n",
       "      <td>39.423426</td>\n",
       "      <td>18.380105</td>\n",
       "      <td>19.813399</td>\n",
       "      <td>0.234435</td>\n",
       "      <td>0.232931</td>\n",
       "      <td>0.368689</td>\n",
       "      <td>0.163945</td>\n",
       "    </tr>\n",
       "  </tbody>\n",
       "</table>\n",
       "</div>"
      ],
      "text/plain": [
       "          mintemp    maxtemp  rainfall  evaporation  sunshine  humidity9am  \\\n",
       "labels                                                                       \n",
       "0       13.620849  25.217218  2.428788     5.755437  7.780119    67.106718   \n",
       "1       13.898696  23.367294  3.296908     6.413597  7.165021    60.296145   \n",
       "2       11.950739  23.205915  1.516583     4.211974  7.537171    72.122669   \n",
       "3       14.396398  24.854440  1.958963     5.897947  8.070583    63.224921   \n",
       "\n",
       "        humidity3pm  pressure9am  pressure3pm  cloud9am  cloud3pm    temp9am  \\\n",
       "labels                                                                         \n",
       "0         48.894190  1015.673996  1013.156274  4.345673  4.449163  18.704257   \n",
       "1         49.077947  1013.247663  1011.503306  4.612218  4.895325  18.066660   \n",
       "2         52.270237  1020.075826  1017.296796  4.100869  4.114370  16.871466   \n",
       "3         48.307314  1017.528900  1015.067552  4.139210  4.175981  19.002934   \n",
       "\n",
       "          temp3pm  raintoday  amountOfRain  raintomorrow       temp  \\\n",
       "labels                                                                \n",
       "0       23.474622   0.231491      3.401957      0.278596  30.775010   \n",
       "1       21.566716   0.325107      3.838676      0.361892  28.717062   \n",
       "2       21.932241   0.172080      1.445305      0.151386  28.497725   \n",
       "3       23.398832   0.207930      1.908549      0.185052  30.396871   \n",
       "\n",
       "         humidity  precipitation3pm  precipitation9am  modelo_vigente  \\\n",
       "labels                                                                  \n",
       "0       59.174145          9.979020          9.837479        0.254125   \n",
       "1       59.211281         10.056156         10.058447        0.331164   \n",
       "2       62.867575          9.985559         10.013001        0.171829   \n",
       "3       58.281938         10.038984          9.999126        0.192556   \n",
       "\n",
       "        wind_gustspeed  wind_speed9am  wind_speed3pm  wind_gustdir_E  \\\n",
       "labels                                                                 \n",
       "0            45.974985       9.336998      21.217470        0.163910   \n",
       "1            60.987987      27.440864      28.721922        0.142578   \n",
       "2            27.685166       8.392851      13.214408        0.234383   \n",
       "3            39.423426      18.380105      19.813399        0.234435   \n",
       "\n",
       "        wind_gustdir_N  wind_gustdir_S  wind_gustdir_W  \n",
       "labels                                                  \n",
       "0             0.289490        0.337200        0.209401  \n",
       "1             0.303502        0.271838        0.282082  \n",
       "2             0.276268        0.319648        0.169701  \n",
       "3             0.232931        0.368689        0.163945  "
      ]
     },
     "execution_count": 36,
     "metadata": {},
     "output_type": "execute_result"
    }
   ],
   "source": [
    "data_missingless.groupby('labels').mean()"
   ]
  },
  {
   "cell_type": "markdown",
   "metadata": {},
   "source": [
    "I dont know, maybe it is some type of cluster"
   ]
  },
  {
   "cell_type": "code",
   "execution_count": 37,
   "metadata": {
    "ExecuteTime": {
     "end_time": "2020-08-04T22:20:38.737568Z",
     "start_time": "2020-08-04T22:20:38.535522Z"
    }
   },
   "outputs": [
    {
     "data": {
      "text/plain": [
       "(array([47729.,     0.,     0.,     0.,     0.,     0.,     0.,     0.,\n",
       "            0., 13595.]),\n",
       " array([0. , 0.1, 0.2, 0.3, 0.4, 0.5, 0.6, 0.7, 0.8, 0.9, 1. ]),\n",
       " <a list of 10 Patch objects>)"
      ]
     },
     "execution_count": 37,
     "metadata": {},
     "output_type": "execute_result"
    },
    {
     "data": {
      "image/png": "[encoded data removed]",
      "text/plain": [
       "<Figure size 432x288 with 1 Axes>"
      ]
     },
     "metadata": {
      "needs_background": "light"
     },
     "output_type": "display_data"
    }
   ],
   "source": [
    "plt.hist(data_missingless['raintoday'])"
   ]
  },
  {
   "cell_type": "code",
   "execution_count": 38,
   "metadata": {
    "ExecuteTime": {
     "end_time": "2020-08-04T22:20:39.203347Z",
     "start_time": "2020-08-04T22:20:38.828836Z"
    }
   },
   "outputs": [
    {
     "data": {
      "text/html": [
       "<div>\n",
       "<style scoped>\n",
       "    .dataframe tbody tr th:only-of-type {\n",
       "        vertical-align: middle;\n",
       "    }\n",
       "\n",
       "    .dataframe tbody tr th {\n",
       "        vertical-align: top;\n",
       "    }\n",
       "\n",
       "    .dataframe thead th {\n",
       "        text-align: right;\n",
       "    }\n",
       "</style>\n",
       "<table border=\"1\" class=\"dataframe\">\n",
       "  <thead>\n",
       "    <tr style=\"text-align: right;\">\n",
       "      <th></th>\n",
       "      <th>mintemp</th>\n",
       "      <th>maxtemp</th>\n",
       "      <th>rainfall</th>\n",
       "      <th>evaporation</th>\n",
       "      <th>sunshine</th>\n",
       "      <th>humidity9am</th>\n",
       "      <th>humidity3pm</th>\n",
       "      <th>pressure9am</th>\n",
       "      <th>pressure3pm</th>\n",
       "      <th>cloud9am</th>\n",
       "      <th>cloud3pm</th>\n",
       "      <th>temp9am</th>\n",
       "      <th>temp3pm</th>\n",
       "      <th>raintoday</th>\n",
       "      <th>amountOfRain</th>\n",
       "      <th>raintomorrow</th>\n",
       "      <th>temp</th>\n",
       "      <th>humidity</th>\n",
       "      <th>precipitation3pm</th>\n",
       "      <th>precipitation9am</th>\n",
       "      <th>modelo_vigente</th>\n",
       "      <th>wind_gustspeed</th>\n",
       "      <th>wind_speed9am</th>\n",
       "      <th>wind_speed3pm</th>\n",
       "      <th>labels</th>\n",
       "      <th>wind_gustdir_E</th>\n",
       "      <th>wind_gustdir_N</th>\n",
       "      <th>wind_gustdir_S</th>\n",
       "      <th>wind_gustdir_W</th>\n",
       "    </tr>\n",
       "  </thead>\n",
       "  <tbody>\n",
       "    <tr>\n",
       "      <th>mintemp</th>\n",
       "      <td>1.000000</td>\n",
       "      <td>0.751131</td>\n",
       "      <td>0.108920</td>\n",
       "      <td>0.504563</td>\n",
       "      <td>0.078985</td>\n",
       "      <td>-0.172991</td>\n",
       "      <td>0.069594</td>\n",
       "      <td>-0.466959</td>\n",
       "      <td>-0.487898</td>\n",
       "      <td>0.104685</td>\n",
       "      <td>0.037394</td>\n",
       "      <td>0.906678</td>\n",
       "      <td>0.728575</td>\n",
       "      <td>0.046411</td>\n",
       "      <td>0.141326</td>\n",
       "      <td>0.085544</td>\n",
       "      <td>0.585605</td>\n",
       "      <td>0.062698</td>\n",
       "      <td>0.003044</td>\n",
       "      <td>-0.000448</td>\n",
       "      <td>0.130681</td>\n",
       "      <td>0.111325</td>\n",
       "      <td>0.099693</td>\n",
       "      <td>0.134473</td>\n",
       "      <td>0.031346</td>\n",
       "      <td>0.175238</td>\n",
       "      <td>-0.019570</td>\n",
       "      <td>-0.010881</td>\n",
       "      <td>-0.144759</td>\n",
       "    </tr>\n",
       "    <tr>\n",
       "      <th>maxtemp</th>\n",
       "      <td>0.751131</td>\n",
       "      <td>1.000000</td>\n",
       "      <td>-0.070474</td>\n",
       "      <td>0.645171</td>\n",
       "      <td>0.464880</td>\n",
       "      <td>-0.488880</td>\n",
       "      <td>-0.444525</td>\n",
       "      <td>-0.340065</td>\n",
       "      <td>-0.441244</td>\n",
       "      <td>-0.261306</td>\n",
       "      <td>-0.261202</td>\n",
       "      <td>0.894113</td>\n",
       "      <td>0.984556</td>\n",
       "      <td>-0.221972</td>\n",
       "      <td>-0.016351</td>\n",
       "      <td>-0.146448</td>\n",
       "      <td>0.780458</td>\n",
       "      <td>-0.404043</td>\n",
       "      <td>0.003950</td>\n",
       "      <td>-0.001311</td>\n",
       "      <td>-0.219010</td>\n",
       "      <td>0.030005</td>\n",
       "      <td>-0.011993</td>\n",
       "      <td>0.015914</td>\n",
       "      <td>0.007149</td>\n",
       "      <td>0.200371</td>\n",
       "      <td>0.045986</td>\n",
       "      <td>-0.073480</td>\n",
       "      <td>-0.169321</td>\n",
       "    </tr>\n",
       "    <tr>\n",
       "      <th>rainfall</th>\n",
       "      <td>0.108920</td>\n",
       "      <td>-0.070474</td>\n",
       "      <td>1.000000</td>\n",
       "      <td>-0.074045</td>\n",
       "      <td>-0.242960</td>\n",
       "      <td>0.261640</td>\n",
       "      <td>0.275481</td>\n",
       "      <td>-0.179367</td>\n",
       "      <td>-0.135641</td>\n",
       "      <td>0.214724</td>\n",
       "      <td>0.188844</td>\n",
       "      <td>0.013191</td>\n",
       "      <td>-0.075299</td>\n",
       "      <td>0.550403</td>\n",
       "      <td>0.294001</td>\n",
       "      <td>0.249993</td>\n",
       "      <td>-0.061899</td>\n",
       "      <td>0.252958</td>\n",
       "      <td>-0.009644</td>\n",
       "      <td>-0.004275</td>\n",
       "      <td>0.373576</td>\n",
       "      <td>0.105783</td>\n",
       "      <td>0.049685</td>\n",
       "      <td>0.043294</td>\n",
       "      <td>-0.047648</td>\n",
       "      <td>-0.034212</td>\n",
       "      <td>-0.053683</td>\n",
       "      <td>0.045581</td>\n",
       "      <td>0.040856</td>\n",
       "    </tr>\n",
       "    <tr>\n",
       "      <th>evaporation</th>\n",
       "      <td>0.504563</td>\n",
       "      <td>0.645171</td>\n",
       "      <td>-0.074045</td>\n",
       "      <td>1.000000</td>\n",
       "      <td>0.365619</td>\n",
       "      <td>-0.549290</td>\n",
       "      <td>-0.415304</td>\n",
       "      <td>-0.295733</td>\n",
       "      <td>-0.323086</td>\n",
       "      <td>-0.193361</td>\n",
       "      <td>-0.199779</td>\n",
       "      <td>0.590351</td>\n",
       "      <td>0.623806</td>\n",
       "      <td>-0.215441</td>\n",
       "      <td>-0.042377</td>\n",
       "      <td>-0.126794</td>\n",
       "      <td>0.505210</td>\n",
       "      <td>-0.376074</td>\n",
       "      <td>0.009231</td>\n",
       "      <td>-0.000972</td>\n",
       "      <td>-0.185670</td>\n",
       "      <td>0.206127</td>\n",
       "      <td>0.190176</td>\n",
       "      <td>0.127353</td>\n",
       "      <td>-0.025148</td>\n",
       "      <td>0.111896</td>\n",
       "      <td>-0.051915</td>\n",
       "      <td>0.037483</td>\n",
       "      <td>-0.101250</td>\n",
       "    </tr>\n",
       "    <tr>\n",
       "      <th>sunshine</th>\n",
       "      <td>0.078985</td>\n",
       "      <td>0.464880</td>\n",
       "      <td>-0.242960</td>\n",
       "      <td>0.365619</td>\n",
       "      <td>1.000000</td>\n",
       "      <td>-0.498152</td>\n",
       "      <td>-0.627710</td>\n",
       "      <td>0.044250</td>\n",
       "      <td>-0.019505</td>\n",
       "      <td>-0.676787</td>\n",
       "      <td>-0.703123</td>\n",
       "      <td>0.290785</td>\n",
       "      <td>0.486674</td>\n",
       "      <td>-0.325735</td>\n",
       "      <td>-0.297510</td>\n",
       "      <td>-0.450817</td>\n",
       "      <td>0.359636</td>\n",
       "      <td>-0.571155</td>\n",
       "      <td>-0.001739</td>\n",
       "      <td>0.004112</td>\n",
       "      <td>-0.651491</td>\n",
       "      <td>-0.052478</td>\n",
       "      <td>-0.013522</td>\n",
       "      <td>0.033990</td>\n",
       "      <td>0.050506</td>\n",
       "      <td>0.113242</td>\n",
       "      <td>-0.033439</td>\n",
       "      <td>-0.017702</td>\n",
       "      <td>-0.057547</td>\n",
       "    </tr>\n",
       "    <tr>\n",
       "      <th>humidity9am</th>\n",
       "      <td>-0.172991</td>\n",
       "      <td>-0.488880</td>\n",
       "      <td>0.261640</td>\n",
       "      <td>-0.549290</td>\n",
       "      <td>-0.498152</td>\n",
       "      <td>1.000000</td>\n",
       "      <td>0.682516</td>\n",
       "      <td>0.117002</td>\n",
       "      <td>0.173397</td>\n",
       "      <td>0.433127</td>\n",
       "      <td>0.345627</td>\n",
       "      <td>-0.419391</td>\n",
       "      <td>-0.479974</td>\n",
       "      <td>0.377567</td>\n",
       "      <td>0.179094</td>\n",
       "      <td>0.267304</td>\n",
       "      <td>-0.382191</td>\n",
       "      <td>0.620706</td>\n",
       "      <td>-0.005130</td>\n",
       "      <td>0.000041</td>\n",
       "      <td>0.399985</td>\n",
       "      <td>-0.196586</td>\n",
       "      <td>-0.240400</td>\n",
       "      <td>-0.107701</td>\n",
       "      <td>-0.019414</td>\n",
       "      <td>-0.085611</td>\n",
       "      <td>-0.023779</td>\n",
       "      <td>0.054713</td>\n",
       "      <td>0.049178</td>\n",
       "    </tr>\n",
       "    <tr>\n",
       "      <th>humidity3pm</th>\n",
       "      <td>0.069594</td>\n",
       "      <td>-0.444525</td>\n",
       "      <td>0.275481</td>\n",
       "      <td>-0.415304</td>\n",
       "      <td>-0.627710</td>\n",
       "      <td>0.682516</td>\n",
       "      <td>1.000000</td>\n",
       "      <td>-0.061850</td>\n",
       "      <td>0.024021</td>\n",
       "      <td>0.504211</td>\n",
       "      <td>0.508928</td>\n",
       "      <td>-0.151021</td>\n",
       "      <td>-0.494088</td>\n",
       "      <td>0.381983</td>\n",
       "      <td>0.313294</td>\n",
       "      <td>0.452579</td>\n",
       "      <td>-0.347821</td>\n",
       "      <td>0.909306</td>\n",
       "      <td>-0.004565</td>\n",
       "      <td>-0.000998</td>\n",
       "      <td>0.655662</td>\n",
       "      <td>-0.045567</td>\n",
       "      <td>-0.062997</td>\n",
       "      <td>0.022707</td>\n",
       "      <td>-0.006601</td>\n",
       "      <td>-0.051722</td>\n",
       "      <td>-0.023260</td>\n",
       "      <td>0.046158</td>\n",
       "      <td>0.024053</td>\n",
       "    </tr>\n",
       "    <tr>\n",
       "      <th>pressure9am</th>\n",
       "      <td>-0.466959</td>\n",
       "      <td>-0.340065</td>\n",
       "      <td>-0.179367</td>\n",
       "      <td>-0.295733</td>\n",
       "      <td>0.044250</td>\n",
       "      <td>0.117002</td>\n",
       "      <td>-0.061850</td>\n",
       "      <td>1.000000</td>\n",
       "      <td>0.961335</td>\n",
       "      <td>-0.151748</td>\n",
       "      <td>-0.165347</td>\n",
       "      <td>-0.433974</td>\n",
       "      <td>-0.299276</td>\n",
       "      <td>-0.187663</td>\n",
       "      <td>-0.170150</td>\n",
       "      <td>-0.254683</td>\n",
       "      <td>-0.262955</td>\n",
       "      <td>-0.054818</td>\n",
       "      <td>-0.003109</td>\n",
       "      <td>0.003460</td>\n",
       "      <td>-0.377505</td>\n",
       "      <td>-0.434927</td>\n",
       "      <td>-0.202079</td>\n",
       "      <td>-0.295709</td>\n",
       "      <td>0.173958</td>\n",
       "      <td>0.097275</td>\n",
       "      <td>-0.051368</td>\n",
       "      <td>0.091622</td>\n",
       "      <td>-0.151402</td>\n",
       "    </tr>\n",
       "    <tr>\n",
       "      <th>pressure3pm</th>\n",
       "      <td>-0.487898</td>\n",
       "      <td>-0.441244</td>\n",
       "      <td>-0.135641</td>\n",
       "      <td>-0.323086</td>\n",
       "      <td>-0.019505</td>\n",
       "      <td>0.173397</td>\n",
       "      <td>0.024021</td>\n",
       "      <td>0.961335</td>\n",
       "      <td>1.000000</td>\n",
       "      <td>-0.084141</td>\n",
       "      <td>-0.102970</td>\n",
       "      <td>-0.491718</td>\n",
       "      <td>-0.410349</td>\n",
       "      <td>-0.105297</td>\n",
       "      <td>-0.170059</td>\n",
       "      <td>-0.231582</td>\n",
       "      <td>-0.342480</td>\n",
       "      <td>0.023314</td>\n",
       "      <td>-0.003299</td>\n",
       "      <td>0.003799</td>\n",
       "      <td>-0.328828</td>\n",
       "      <td>-0.388885</td>\n",
       "      <td>-0.156239</td>\n",
       "      <td>-0.256598</td>\n",
       "      <td>0.161178</td>\n",
       "      <td>0.049315</td>\n",
       "      <td>-0.123489</td>\n",
       "      <td>0.155629</td>\n",
       "      <td>-0.097765</td>\n",
       "    </tr>\n",
       "    <tr>\n",
       "      <th>cloud9am</th>\n",
       "      <td>0.104685</td>\n",
       "      <td>-0.261306</td>\n",
       "      <td>0.214724</td>\n",
       "      <td>-0.193361</td>\n",
       "      <td>-0.676787</td>\n",
       "      <td>0.433127</td>\n",
       "      <td>0.504211</td>\n",
       "      <td>-0.151748</td>\n",
       "      <td>-0.084141</td>\n",
       "      <td>1.000000</td>\n",
       "      <td>0.612153</td>\n",
       "      <td>-0.108630</td>\n",
       "      <td>-0.278550</td>\n",
       "      <td>0.293103</td>\n",
       "      <td>0.204720</td>\n",
       "      <td>0.321644</td>\n",
       "      <td>-0.203093</td>\n",
       "      <td>0.457588</td>\n",
       "      <td>-0.000492</td>\n",
       "      <td>0.001017</td>\n",
       "      <td>0.480683</td>\n",
       "      <td>0.089123</td>\n",
       "      <td>0.032950</td>\n",
       "      <td>0.065776</td>\n",
       "      <td>-0.044892</td>\n",
       "      <td>-0.080598</td>\n",
       "      <td>-0.013037</td>\n",
       "      <td>0.053303</td>\n",
       "      <td>0.033692</td>\n",
       "    </tr>\n",
       "    <tr>\n",
       "      <th>cloud3pm</th>\n",
       "      <td>0.037394</td>\n",
       "      <td>-0.261202</td>\n",
       "      <td>0.188844</td>\n",
       "      <td>-0.199779</td>\n",
       "      <td>-0.703123</td>\n",
       "      <td>0.345627</td>\n",
       "      <td>0.508928</td>\n",
       "      <td>-0.165347</td>\n",
       "      <td>-0.102970</td>\n",
       "      <td>0.612153</td>\n",
       "      <td>1.000000</td>\n",
       "      <td>-0.111310</td>\n",
       "      <td>-0.300269</td>\n",
       "      <td>0.268137</td>\n",
       "      <td>0.240169</td>\n",
       "      <td>0.387231</td>\n",
       "      <td>-0.203970</td>\n",
       "      <td>0.463137</td>\n",
       "      <td>0.000602</td>\n",
       "      <td>-0.005676</td>\n",
       "      <td>0.560123</td>\n",
       "      <td>0.132094</td>\n",
       "      <td>0.061788</td>\n",
       "      <td>0.040290</td>\n",
       "      <td>-0.067838</td>\n",
       "      <td>-0.101440</td>\n",
       "      <td>0.042250</td>\n",
       "      <td>-0.005239</td>\n",
       "      <td>0.062923</td>\n",
       "    </tr>\n",
       "    <tr>\n",
       "      <th>temp9am</th>\n",
       "      <td>0.906678</td>\n",
       "      <td>0.894113</td>\n",
       "      <td>0.013191</td>\n",
       "      <td>0.590351</td>\n",
       "      <td>0.290785</td>\n",
       "      <td>-0.419391</td>\n",
       "      <td>-0.151021</td>\n",
       "      <td>-0.433974</td>\n",
       "      <td>-0.491718</td>\n",
       "      <td>-0.108630</td>\n",
       "      <td>-0.111310</td>\n",
       "      <td>1.000000</td>\n",
       "      <td>0.870990</td>\n",
       "      <td>-0.097624</td>\n",
       "      <td>0.071822</td>\n",
       "      <td>-0.017739</td>\n",
       "      <td>0.698298</td>\n",
       "      <td>-0.137038</td>\n",
       "      <td>0.003672</td>\n",
       "      <td>0.000664</td>\n",
       "      <td>-0.030485</td>\n",
       "      <td>0.080846</td>\n",
       "      <td>0.047931</td>\n",
       "      <td>0.114723</td>\n",
       "      <td>0.021345</td>\n",
       "      <td>0.208394</td>\n",
       "      <td>0.012216</td>\n",
       "      <td>-0.058123</td>\n",
       "      <td>-0.158034</td>\n",
       "    </tr>\n",
       "    <tr>\n",
       "      <th>temp3pm</th>\n",
       "      <td>0.728575</td>\n",
       "      <td>0.984556</td>\n",
       "      <td>-0.075299</td>\n",
       "      <td>0.623806</td>\n",
       "      <td>0.486674</td>\n",
       "      <td>-0.479974</td>\n",
       "      <td>-0.494088</td>\n",
       "      <td>-0.299276</td>\n",
       "      <td>-0.410349</td>\n",
       "      <td>-0.278550</td>\n",
       "      <td>-0.300269</td>\n",
       "      <td>0.870990</td>\n",
       "      <td>1.000000</td>\n",
       "      <td>-0.228432</td>\n",
       "      <td>-0.039567</td>\n",
       "      <td>-0.182559</td>\n",
       "      <td>0.768917</td>\n",
       "      <td>-0.449140</td>\n",
       "      <td>0.003509</td>\n",
       "      <td>-0.001032</td>\n",
       "      <td>-0.269893</td>\n",
       "      <td>-0.005920</td>\n",
       "      <td>-0.022267</td>\n",
       "      <td>-0.005726</td>\n",
       "      <td>0.027118</td>\n",
       "      <td>0.212334</td>\n",
       "      <td>0.048578</td>\n",
       "      <td>-0.079416</td>\n",
       "      <td>-0.177411</td>\n",
       "    </tr>\n",
       "    <tr>\n",
       "      <th>raintoday</th>\n",
       "      <td>0.046411</td>\n",
       "      <td>-0.221972</td>\n",
       "      <td>0.550403</td>\n",
       "      <td>-0.215441</td>\n",
       "      <td>-0.325735</td>\n",
       "      <td>0.377567</td>\n",
       "      <td>0.381983</td>\n",
       "      <td>-0.187663</td>\n",
       "      <td>-0.105297</td>\n",
       "      <td>0.293103</td>\n",
       "      <td>0.268137</td>\n",
       "      <td>-0.097624</td>\n",
       "      <td>-0.228432</td>\n",
       "      <td>1.000000</td>\n",
       "      <td>0.215334</td>\n",
       "      <td>0.305072</td>\n",
       "      <td>-0.174524</td>\n",
       "      <td>0.346446</td>\n",
       "      <td>-0.003279</td>\n",
       "      <td>-0.004499</td>\n",
       "      <td>0.455939</td>\n",
       "      <td>0.144298</td>\n",
       "      <td>0.080286</td>\n",
       "      <td>0.081672</td>\n",
       "      <td>-0.058557</td>\n",
       "      <td>-0.085012</td>\n",
       "      <td>-0.082031</td>\n",
       "      <td>0.066423</td>\n",
       "      <td>0.099834</td>\n",
       "    </tr>\n",
       "    <tr>\n",
       "      <th>amountOfRain</th>\n",
       "      <td>0.141326</td>\n",
       "      <td>-0.016351</td>\n",
       "      <td>0.294001</td>\n",
       "      <td>-0.042377</td>\n",
       "      <td>-0.297510</td>\n",
       "      <td>0.179094</td>\n",
       "      <td>0.313294</td>\n",
       "      <td>-0.170150</td>\n",
       "      <td>-0.170059</td>\n",
       "      <td>0.204720</td>\n",
       "      <td>0.240169</td>\n",
       "      <td>0.071822</td>\n",
       "      <td>-0.039567</td>\n",
       "      <td>0.215334</td>\n",
       "      <td>1.000000</td>\n",
       "      <td>0.489956</td>\n",
       "      <td>-0.011733</td>\n",
       "      <td>0.286080</td>\n",
       "      <td>-0.002923</td>\n",
       "      <td>-0.011454</td>\n",
       "      <td>0.495022</td>\n",
       "      <td>0.136474</td>\n",
       "      <td>0.037565</td>\n",
       "      <td>0.026825</td>\n",
       "      <td>-0.080797</td>\n",
       "      <td>-0.011285</td>\n",
       "      <td>0.013700</td>\n",
       "      <td>-0.003469</td>\n",
       "      <td>0.000363</td>\n",
       "    </tr>\n",
       "    <tr>\n",
       "      <th>raintomorrow</th>\n",
       "      <td>0.085544</td>\n",
       "      <td>-0.146448</td>\n",
       "      <td>0.249993</td>\n",
       "      <td>-0.126794</td>\n",
       "      <td>-0.450817</td>\n",
       "      <td>0.267304</td>\n",
       "      <td>0.452579</td>\n",
       "      <td>-0.254683</td>\n",
       "      <td>-0.231582</td>\n",
       "      <td>0.321644</td>\n",
       "      <td>0.387231</td>\n",
       "      <td>-0.017739</td>\n",
       "      <td>-0.182559</td>\n",
       "      <td>0.305072</td>\n",
       "      <td>0.489956</td>\n",
       "      <td>1.000000</td>\n",
       "      <td>-0.113155</td>\n",
       "      <td>0.410263</td>\n",
       "      <td>0.005888</td>\n",
       "      <td>-0.013297</td>\n",
       "      <td>0.839977</td>\n",
       "      <td>0.230636</td>\n",
       "      <td>0.081749</td>\n",
       "      <td>0.086321</td>\n",
       "      <td>-0.125690</td>\n",
       "      <td>-0.075864</td>\n",
       "      <td>0.042005</td>\n",
       "      <td>-0.027980</td>\n",
       "      <td>0.064083</td>\n",
       "    </tr>\n",
       "    <tr>\n",
       "      <th>temp</th>\n",
       "      <td>0.585605</td>\n",
       "      <td>0.780458</td>\n",
       "      <td>-0.061899</td>\n",
       "      <td>0.505210</td>\n",
       "      <td>0.359636</td>\n",
       "      <td>-0.382191</td>\n",
       "      <td>-0.347821</td>\n",
       "      <td>-0.262955</td>\n",
       "      <td>-0.342480</td>\n",
       "      <td>-0.203093</td>\n",
       "      <td>-0.203970</td>\n",
       "      <td>0.698298</td>\n",
       "      <td>0.768917</td>\n",
       "      <td>-0.174524</td>\n",
       "      <td>-0.011733</td>\n",
       "      <td>-0.113155</td>\n",
       "      <td>1.000000</td>\n",
       "      <td>-0.316345</td>\n",
       "      <td>0.000199</td>\n",
       "      <td>-0.000144</td>\n",
       "      <td>-0.167708</td>\n",
       "      <td>0.025337</td>\n",
       "      <td>-0.007131</td>\n",
       "      <td>0.011946</td>\n",
       "      <td>0.006238</td>\n",
       "      <td>0.160300</td>\n",
       "      <td>0.034509</td>\n",
       "      <td>-0.061358</td>\n",
       "      <td>-0.129839</td>\n",
       "    </tr>\n",
       "    <tr>\n",
       "      <th>humidity</th>\n",
       "      <td>0.062698</td>\n",
       "      <td>-0.404043</td>\n",
       "      <td>0.252958</td>\n",
       "      <td>-0.376074</td>\n",
       "      <td>-0.571155</td>\n",
       "      <td>0.620706</td>\n",
       "      <td>0.909306</td>\n",
       "      <td>-0.054818</td>\n",
       "      <td>0.023314</td>\n",
       "      <td>0.457588</td>\n",
       "      <td>0.463137</td>\n",
       "      <td>-0.137038</td>\n",
       "      <td>-0.449140</td>\n",
       "      <td>0.346446</td>\n",
       "      <td>0.286080</td>\n",
       "      <td>0.410263</td>\n",
       "      <td>-0.316345</td>\n",
       "      <td>1.000000</td>\n",
       "      <td>-0.005204</td>\n",
       "      <td>-0.002052</td>\n",
       "      <td>0.596045</td>\n",
       "      <td>-0.040691</td>\n",
       "      <td>-0.056789</td>\n",
       "      <td>0.022938</td>\n",
       "      <td>-0.008489</td>\n",
       "      <td>-0.048275</td>\n",
       "      <td>-0.019361</td>\n",
       "      <td>0.043599</td>\n",
       "      <td>0.019204</td>\n",
       "    </tr>\n",
       "    <tr>\n",
       "      <th>precipitation3pm</th>\n",
       "      <td>0.003044</td>\n",
       "      <td>0.003950</td>\n",
       "      <td>-0.009644</td>\n",
       "      <td>0.009231</td>\n",
       "      <td>-0.001739</td>\n",
       "      <td>-0.005130</td>\n",
       "      <td>-0.004565</td>\n",
       "      <td>-0.003109</td>\n",
       "      <td>-0.003299</td>\n",
       "      <td>-0.000492</td>\n",
       "      <td>0.000602</td>\n",
       "      <td>0.003672</td>\n",
       "      <td>0.003509</td>\n",
       "      <td>-0.003279</td>\n",
       "      <td>-0.002923</td>\n",
       "      <td>0.005888</td>\n",
       "      <td>0.000199</td>\n",
       "      <td>-0.005204</td>\n",
       "      <td>1.000000</td>\n",
       "      <td>0.004146</td>\n",
       "      <td>0.002687</td>\n",
       "      <td>0.007498</td>\n",
       "      <td>0.009777</td>\n",
       "      <td>0.006408</td>\n",
       "      <td>0.003919</td>\n",
       "      <td>-0.006027</td>\n",
       "      <td>0.001496</td>\n",
       "      <td>0.000882</td>\n",
       "      <td>0.003452</td>\n",
       "    </tr>\n",
       "    <tr>\n",
       "      <th>precipitation9am</th>\n",
       "      <td>-0.000448</td>\n",
       "      <td>-0.001311</td>\n",
       "      <td>-0.004275</td>\n",
       "      <td>-0.000972</td>\n",
       "      <td>0.004112</td>\n",
       "      <td>0.000041</td>\n",
       "      <td>-0.000998</td>\n",
       "      <td>0.003460</td>\n",
       "      <td>0.003799</td>\n",
       "      <td>0.001017</td>\n",
       "      <td>-0.005676</td>\n",
       "      <td>0.000664</td>\n",
       "      <td>-0.001032</td>\n",
       "      <td>-0.004499</td>\n",
       "      <td>-0.011454</td>\n",
       "      <td>-0.013297</td>\n",
       "      <td>-0.000144</td>\n",
       "      <td>-0.002052</td>\n",
       "      <td>0.004146</td>\n",
       "      <td>1.000000</td>\n",
       "      <td>-0.009201</td>\n",
       "      <td>0.000192</td>\n",
       "      <td>0.005947</td>\n",
       "      <td>0.002060</td>\n",
       "      <td>0.007427</td>\n",
       "      <td>-0.002383</td>\n",
       "      <td>0.002409</td>\n",
       "      <td>0.006872</td>\n",
       "      <td>-0.008445</td>\n",
       "    </tr>\n",
       "    <tr>\n",
       "      <th>modelo_vigente</th>\n",
       "      <td>0.130681</td>\n",
       "      <td>-0.219010</td>\n",
       "      <td>0.373576</td>\n",
       "      <td>-0.185670</td>\n",
       "      <td>-0.651491</td>\n",
       "      <td>0.399985</td>\n",
       "      <td>0.655662</td>\n",
       "      <td>-0.377505</td>\n",
       "      <td>-0.328828</td>\n",
       "      <td>0.480683</td>\n",
       "      <td>0.560123</td>\n",
       "      <td>-0.030485</td>\n",
       "      <td>-0.269893</td>\n",
       "      <td>0.455939</td>\n",
       "      <td>0.495022</td>\n",
       "      <td>0.839977</td>\n",
       "      <td>-0.167708</td>\n",
       "      <td>0.596045</td>\n",
       "      <td>0.002687</td>\n",
       "      <td>-0.009201</td>\n",
       "      <td>1.000000</td>\n",
       "      <td>0.258391</td>\n",
       "      <td>0.103443</td>\n",
       "      <td>0.103314</td>\n",
       "      <td>-0.135078</td>\n",
       "      <td>-0.100737</td>\n",
       "      <td>0.045969</td>\n",
       "      <td>-0.029670</td>\n",
       "      <td>0.087156</td>\n",
       "    </tr>\n",
       "    <tr>\n",
       "      <th>wind_gustspeed</th>\n",
       "      <td>0.111325</td>\n",
       "      <td>0.030005</td>\n",
       "      <td>0.105783</td>\n",
       "      <td>0.206127</td>\n",
       "      <td>-0.052478</td>\n",
       "      <td>-0.196586</td>\n",
       "      <td>-0.045567</td>\n",
       "      <td>-0.434927</td>\n",
       "      <td>-0.388885</td>\n",
       "      <td>0.089123</td>\n",
       "      <td>0.132094</td>\n",
       "      <td>0.080846</td>\n",
       "      <td>-0.005920</td>\n",
       "      <td>0.144298</td>\n",
       "      <td>0.136474</td>\n",
       "      <td>0.230636</td>\n",
       "      <td>0.025337</td>\n",
       "      <td>-0.040691</td>\n",
       "      <td>0.007498</td>\n",
       "      <td>0.000192</td>\n",
       "      <td>0.258391</td>\n",
       "      <td>1.000000</td>\n",
       "      <td>0.609841</td>\n",
       "      <td>0.686537</td>\n",
       "      <td>-0.393604</td>\n",
       "      <td>-0.117815</td>\n",
       "      <td>0.040943</td>\n",
       "      <td>-0.047548</td>\n",
       "      <td>0.131600</td>\n",
       "    </tr>\n",
       "    <tr>\n",
       "      <th>wind_speed9am</th>\n",
       "      <td>0.099693</td>\n",
       "      <td>-0.011993</td>\n",
       "      <td>0.049685</td>\n",
       "      <td>0.190176</td>\n",
       "      <td>-0.013522</td>\n",
       "      <td>-0.240400</td>\n",
       "      <td>-0.062997</td>\n",
       "      <td>-0.202079</td>\n",
       "      <td>-0.156239</td>\n",
       "      <td>0.032950</td>\n",
       "      <td>0.061788</td>\n",
       "      <td>0.047931</td>\n",
       "      <td>-0.022267</td>\n",
       "      <td>0.080286</td>\n",
       "      <td>0.037565</td>\n",
       "      <td>0.081749</td>\n",
       "      <td>-0.007131</td>\n",
       "      <td>-0.056789</td>\n",
       "      <td>0.009777</td>\n",
       "      <td>0.005947</td>\n",
       "      <td>0.103443</td>\n",
       "      <td>0.609841</td>\n",
       "      <td>1.000000</td>\n",
       "      <td>0.504279</td>\n",
       "      <td>0.107932</td>\n",
       "      <td>-0.025012</td>\n",
       "      <td>0.013980</td>\n",
       "      <td>-0.020865</td>\n",
       "      <td>0.034854</td>\n",
       "    </tr>\n",
       "    <tr>\n",
       "      <th>wind_speed3pm</th>\n",
       "      <td>0.134473</td>\n",
       "      <td>0.015914</td>\n",
       "      <td>0.043294</td>\n",
       "      <td>0.127353</td>\n",
       "      <td>0.033990</td>\n",
       "      <td>-0.107701</td>\n",
       "      <td>0.022707</td>\n",
       "      <td>-0.295709</td>\n",
       "      <td>-0.256598</td>\n",
       "      <td>0.065776</td>\n",
       "      <td>0.040290</td>\n",
       "      <td>0.114723</td>\n",
       "      <td>-0.005726</td>\n",
       "      <td>0.081672</td>\n",
       "      <td>0.026825</td>\n",
       "      <td>0.086321</td>\n",
       "      <td>0.011946</td>\n",
       "      <td>0.022938</td>\n",
       "      <td>0.006408</td>\n",
       "      <td>0.002060</td>\n",
       "      <td>0.103314</td>\n",
       "      <td>0.686537</td>\n",
       "      <td>0.504279</td>\n",
       "      <td>1.000000</td>\n",
       "      <td>-0.220764</td>\n",
       "      <td>-0.074718</td>\n",
       "      <td>0.004541</td>\n",
       "      <td>-0.015538</td>\n",
       "      <td>0.090030</td>\n",
       "    </tr>\n",
       "    <tr>\n",
       "      <th>labels</th>\n",
       "      <td>0.031346</td>\n",
       "      <td>0.007149</td>\n",
       "      <td>-0.047648</td>\n",
       "      <td>-0.025148</td>\n",
       "      <td>0.050506</td>\n",
       "      <td>-0.019414</td>\n",
       "      <td>-0.006601</td>\n",
       "      <td>0.173958</td>\n",
       "      <td>0.161178</td>\n",
       "      <td>-0.044892</td>\n",
       "      <td>-0.067838</td>\n",
       "      <td>0.021345</td>\n",
       "      <td>0.027118</td>\n",
       "      <td>-0.058557</td>\n",
       "      <td>-0.080797</td>\n",
       "      <td>-0.125690</td>\n",
       "      <td>0.006238</td>\n",
       "      <td>-0.008489</td>\n",
       "      <td>0.003919</td>\n",
       "      <td>0.007427</td>\n",
       "      <td>-0.135078</td>\n",
       "      <td>-0.393604</td>\n",
       "      <td>0.107932</td>\n",
       "      <td>-0.220764</td>\n",
       "      <td>1.000000</td>\n",
       "      <td>0.080475</td>\n",
       "      <td>-0.054642</td>\n",
       "      <td>0.043900</td>\n",
       "      <td>-0.073634</td>\n",
       "    </tr>\n",
       "    <tr>\n",
       "      <th>wind_gustdir_E</th>\n",
       "      <td>0.175238</td>\n",
       "      <td>0.200371</td>\n",
       "      <td>-0.034212</td>\n",
       "      <td>0.111896</td>\n",
       "      <td>0.113242</td>\n",
       "      <td>-0.085611</td>\n",
       "      <td>-0.051722</td>\n",
       "      <td>0.097275</td>\n",
       "      <td>0.049315</td>\n",
       "      <td>-0.080598</td>\n",
       "      <td>-0.101440</td>\n",
       "      <td>0.208394</td>\n",
       "      <td>0.212334</td>\n",
       "      <td>-0.085012</td>\n",
       "      <td>-0.011285</td>\n",
       "      <td>-0.075864</td>\n",
       "      <td>0.160300</td>\n",
       "      <td>-0.048275</td>\n",
       "      <td>-0.006027</td>\n",
       "      <td>-0.002383</td>\n",
       "      <td>-0.100737</td>\n",
       "      <td>-0.117815</td>\n",
       "      <td>-0.025012</td>\n",
       "      <td>-0.074718</td>\n",
       "      <td>0.080475</td>\n",
       "      <td>1.000000</td>\n",
       "      <td>-0.308454</td>\n",
       "      <td>-0.360267</td>\n",
       "      <td>-0.250348</td>\n",
       "    </tr>\n",
       "    <tr>\n",
       "      <th>wind_gustdir_N</th>\n",
       "      <td>-0.019570</td>\n",
       "      <td>0.045986</td>\n",
       "      <td>-0.053683</td>\n",
       "      <td>-0.051915</td>\n",
       "      <td>-0.033439</td>\n",
       "      <td>-0.023779</td>\n",
       "      <td>-0.023260</td>\n",
       "      <td>-0.051368</td>\n",
       "      <td>-0.123489</td>\n",
       "      <td>-0.013037</td>\n",
       "      <td>0.042250</td>\n",
       "      <td>0.012216</td>\n",
       "      <td>0.048578</td>\n",
       "      <td>-0.082031</td>\n",
       "      <td>0.013700</td>\n",
       "      <td>0.042005</td>\n",
       "      <td>0.034509</td>\n",
       "      <td>-0.019361</td>\n",
       "      <td>0.001496</td>\n",
       "      <td>0.002409</td>\n",
       "      <td>0.045969</td>\n",
       "      <td>0.040943</td>\n",
       "      <td>0.013980</td>\n",
       "      <td>0.004541</td>\n",
       "      <td>-0.054642</td>\n",
       "      <td>-0.308454</td>\n",
       "      <td>1.000000</td>\n",
       "      <td>-0.425886</td>\n",
       "      <td>-0.295946</td>\n",
       "    </tr>\n",
       "    <tr>\n",
       "      <th>wind_gustdir_S</th>\n",
       "      <td>-0.010881</td>\n",
       "      <td>-0.073480</td>\n",
       "      <td>0.045581</td>\n",
       "      <td>0.037483</td>\n",
       "      <td>-0.017702</td>\n",
       "      <td>0.054713</td>\n",
       "      <td>0.046158</td>\n",
       "      <td>0.091622</td>\n",
       "      <td>0.155629</td>\n",
       "      <td>0.053303</td>\n",
       "      <td>-0.005239</td>\n",
       "      <td>-0.058123</td>\n",
       "      <td>-0.079416</td>\n",
       "      <td>0.066423</td>\n",
       "      <td>-0.003469</td>\n",
       "      <td>-0.027980</td>\n",
       "      <td>-0.061358</td>\n",
       "      <td>0.043599</td>\n",
       "      <td>0.000882</td>\n",
       "      <td>0.006872</td>\n",
       "      <td>-0.029670</td>\n",
       "      <td>-0.047548</td>\n",
       "      <td>-0.020865</td>\n",
       "      <td>-0.015538</td>\n",
       "      <td>0.043900</td>\n",
       "      <td>-0.360267</td>\n",
       "      <td>-0.425886</td>\n",
       "      <td>1.000000</td>\n",
       "      <td>-0.345658</td>\n",
       "    </tr>\n",
       "    <tr>\n",
       "      <th>wind_gustdir_W</th>\n",
       "      <td>-0.144759</td>\n",
       "      <td>-0.169321</td>\n",
       "      <td>0.040856</td>\n",
       "      <td>-0.101250</td>\n",
       "      <td>-0.057547</td>\n",
       "      <td>0.049178</td>\n",
       "      <td>0.024053</td>\n",
       "      <td>-0.151402</td>\n",
       "      <td>-0.097765</td>\n",
       "      <td>0.033692</td>\n",
       "      <td>0.062923</td>\n",
       "      <td>-0.158034</td>\n",
       "      <td>-0.177411</td>\n",
       "      <td>0.099834</td>\n",
       "      <td>0.000363</td>\n",
       "      <td>0.064083</td>\n",
       "      <td>-0.129839</td>\n",
       "      <td>0.019204</td>\n",
       "      <td>0.003452</td>\n",
       "      <td>-0.008445</td>\n",
       "      <td>0.087156</td>\n",
       "      <td>0.131600</td>\n",
       "      <td>0.034854</td>\n",
       "      <td>0.090030</td>\n",
       "      <td>-0.073634</td>\n",
       "      <td>-0.250348</td>\n",
       "      <td>-0.295946</td>\n",
       "      <td>-0.345658</td>\n",
       "      <td>1.000000</td>\n",
       "    </tr>\n",
       "  </tbody>\n",
       "</table>\n",
       "</div>"
      ],
      "text/plain": [
       "                   mintemp   maxtemp  rainfall  evaporation  sunshine  \\\n",
       "mintemp           1.000000  0.751131  0.108920     0.504563  0.078985   \n",
       "maxtemp           0.751131  1.000000 -0.070474     0.645171  0.464880   \n",
       "rainfall          0.108920 -0.070474  1.000000    -0.074045 -0.242960   \n",
       "evaporation       0.504563  0.645171 -0.074045     1.000000  0.365619   \n",
       "sunshine          0.078985  0.464880 -0.242960     0.365619  1.000000   \n",
       "humidity9am      -0.172991 -0.488880  0.261640    -0.549290 -0.498152   \n",
       "humidity3pm       0.069594 -0.444525  0.275481    -0.415304 -0.627710   \n",
       "pressure9am      -0.466959 -0.340065 -0.179367    -0.295733  0.044250   \n",
       "pressure3pm      -0.487898 -0.441244 -0.135641    -0.323086 -0.019505   \n",
       "cloud9am          0.104685 -0.261306  0.214724    -0.193361 -0.676787   \n",
       "cloud3pm          0.037394 -0.261202  0.188844    -0.199779 -0.703123   \n",
       "temp9am           0.906678  0.894113  0.013191     0.590351  0.290785   \n",
       "temp3pm           0.728575  0.984556 -0.075299     0.623806  0.486674   \n",
       "raintoday         0.046411 -0.221972  0.550403    -0.215441 -0.325735   \n",
       "amountOfRain      0.141326 -0.016351  0.294001    -0.042377 -0.297510   \n",
       "raintomorrow      0.085544 -0.146448  0.249993    -0.126794 -0.450817   \n",
       "temp              0.585605  0.780458 -0.061899     0.505210  0.359636   \n",
       "humidity          0.062698 -0.404043  0.252958    -0.376074 -0.571155   \n",
       "precipitation3pm  0.003044  0.003950 -0.009644     0.009231 -0.001739   \n",
       "precipitation9am -0.000448 -0.001311 -0.004275    -0.000972  0.004112   \n",
       "modelo_vigente    0.130681 -0.219010  0.373576    -0.185670 -0.651491   \n",
       "wind_gustspeed    0.111325  0.030005  0.105783     0.206127 -0.052478   \n",
       "wind_speed9am     0.099693 -0.011993  0.049685     0.190176 -0.013522   \n",
       "wind_speed3pm     0.134473  0.015914  0.043294     0.127353  0.033990   \n",
       "labels            0.031346  0.007149 -0.047648    -0.025148  0.050506   \n",
       "wind_gustdir_E    0.175238  0.200371 -0.034212     0.111896  0.113242   \n",
       "wind_gustdir_N   -0.019570  0.045986 -0.053683    -0.051915 -0.033439   \n",
       "wind_gustdir_S   -0.010881 -0.073480  0.045581     0.037483 -0.017702   \n",
       "wind_gustdir_W   -0.144759 -0.169321  0.040856    -0.101250 -0.057547   \n",
       "\n",
       "                  humidity9am  humidity3pm  pressure9am  pressure3pm  \\\n",
       "mintemp             -0.172991     0.069594    -0.466959    -0.487898   \n",
       "maxtemp             -0.488880    -0.444525    -0.340065    -0.441244   \n",
       "rainfall             0.261640     0.275481    -0.179367    -0.135641   \n",
       "evaporation         -0.549290    -0.415304    -0.295733    -0.323086   \n",
       "sunshine            -0.498152    -0.627710     0.044250    -0.019505   \n",
       "humidity9am          1.000000     0.682516     0.117002     0.173397   \n",
       "humidity3pm          0.682516     1.000000    -0.061850     0.024021   \n",
       "pressure9am          0.117002    -0.061850     1.000000     0.961335   \n",
       "pressure3pm          0.173397     0.024021     0.961335     1.000000   \n",
       "cloud9am             0.433127     0.504211    -0.151748    -0.084141   \n",
       "cloud3pm             0.345627     0.508928    -0.165347    -0.102970   \n",
       "temp9am             -0.419391    -0.151021    -0.433974    -0.491718   \n",
       "temp3pm             -0.479974    -0.494088    -0.299276    -0.410349   \n",
       "raintoday            0.377567     0.381983    -0.187663    -0.105297   \n",
       "amountOfRain         0.179094     0.313294    -0.170150    -0.170059   \n",
       "raintomorrow         0.267304     0.452579    -0.254683    -0.231582   \n",
       "temp                -0.382191    -0.347821    -0.262955    -0.342480   \n",
       "humidity             0.620706     0.909306    -0.054818     0.023314   \n",
       "precipitation3pm    -0.005130    -0.004565    -0.003109    -0.003299   \n",
       "precipitation9am     0.000041    -0.000998     0.003460     0.003799   \n",
       "modelo_vigente       0.399985     0.655662    -0.377505    -0.328828   \n",
       "wind_gustspeed      -0.196586    -0.045567    -0.434927    -0.388885   \n",
       "wind_speed9am       -0.240400    -0.062997    -0.202079    -0.156239   \n",
       "wind_speed3pm       -0.107701     0.022707    -0.295709    -0.256598   \n",
       "labels              -0.019414    -0.006601     0.173958     0.161178   \n",
       "wind_gustdir_E      -0.085611    -0.051722     0.097275     0.049315   \n",
       "wind_gustdir_N      -0.023779    -0.023260    -0.051368    -0.123489   \n",
       "wind_gustdir_S       0.054713     0.046158     0.091622     0.155629   \n",
       "wind_gustdir_W       0.049178     0.024053    -0.151402    -0.097765   \n",
       "\n",
       "                  cloud9am  cloud3pm   temp9am   temp3pm  raintoday  \\\n",
       "mintemp           0.104685  0.037394  0.906678  0.728575   0.046411   \n",
       "maxtemp          -0.261306 -0.261202  0.894113  0.984556  -0.221972   \n",
       "rainfall          0.214724  0.188844  0.013191 -0.075299   0.550403   \n",
       "evaporation      -0.193361 -0.199779  0.590351  0.623806  -0.215441   \n",
       "sunshine         -0.676787 -0.703123  0.290785  0.486674  -0.325735   \n",
       "humidity9am       0.433127  0.345627 -0.419391 -0.479974   0.377567   \n",
       "humidity3pm       0.504211  0.508928 -0.151021 -0.494088   0.381983   \n",
       "pressure9am      -0.151748 -0.165347 -0.433974 -0.299276  -0.187663   \n",
       "pressure3pm      -0.084141 -0.102970 -0.491718 -0.410349  -0.105297   \n",
       "cloud9am          1.000000  0.612153 -0.108630 -0.278550   0.293103   \n",
       "cloud3pm          0.612153  1.000000 -0.111310 -0.300269   0.268137   \n",
       "temp9am          -0.108630 -0.111310  1.000000  0.870990  -0.097624   \n",
       "temp3pm          -0.278550 -0.300269  0.870990  1.000000  -0.228432   \n",
       "raintoday         0.293103  0.268137 -0.097624 -0.228432   1.000000   \n",
       "amountOfRain      0.204720  0.240169  0.071822 -0.039567   0.215334   \n",
       "raintomorrow      0.321644  0.387231 -0.017739 -0.182559   0.305072   \n",
       "temp             -0.203093 -0.203970  0.698298  0.768917  -0.174524   \n",
       "humidity          0.457588  0.463137 -0.137038 -0.449140   0.346446   \n",
       "precipitation3pm -0.000492  0.000602  0.003672  0.003509  -0.003279   \n",
       "precipitation9am  0.001017 -0.005676  0.000664 -0.001032  -0.004499   \n",
       "modelo_vigente    0.480683  0.560123 -0.030485 -0.269893   0.455939   \n",
       "wind_gustspeed    0.089123  0.132094  0.080846 -0.005920   0.144298   \n",
       "wind_speed9am     0.032950  0.061788  0.047931 -0.022267   0.080286   \n",
       "wind_speed3pm     0.065776  0.040290  0.114723 -0.005726   0.081672   \n",
       "labels           -0.044892 -0.067838  0.021345  0.027118  -0.058557   \n",
       "wind_gustdir_E   -0.080598 -0.101440  0.208394  0.212334  -0.085012   \n",
       "wind_gustdir_N   -0.013037  0.042250  0.012216  0.048578  -0.082031   \n",
       "wind_gustdir_S    0.053303 -0.005239 -0.058123 -0.079416   0.066423   \n",
       "wind_gustdir_W    0.033692  0.062923 -0.158034 -0.177411   0.099834   \n",
       "\n",
       "                  amountOfRain  raintomorrow      temp  humidity  \\\n",
       "mintemp               0.141326      0.085544  0.585605  0.062698   \n",
       "maxtemp              -0.016351     -0.146448  0.780458 -0.404043   \n",
       "rainfall              0.294001      0.249993 -0.061899  0.252958   \n",
       "evaporation          -0.042377     -0.126794  0.505210 -0.376074   \n",
       "sunshine             -0.297510     -0.450817  0.359636 -0.571155   \n",
       "humidity9am           0.179094      0.267304 -0.382191  0.620706   \n",
       "humidity3pm           0.313294      0.452579 -0.347821  0.909306   \n",
       "pressure9am          -0.170150     -0.254683 -0.262955 -0.054818   \n",
       "pressure3pm          -0.170059     -0.231582 -0.342480  0.023314   \n",
       "cloud9am              0.204720      0.321644 -0.203093  0.457588   \n",
       "cloud3pm              0.240169      0.387231 -0.203970  0.463137   \n",
       "temp9am               0.071822     -0.017739  0.698298 -0.137038   \n",
       "temp3pm              -0.039567     -0.182559  0.768917 -0.449140   \n",
       "raintoday             0.215334      0.305072 -0.174524  0.346446   \n",
       "amountOfRain          1.000000      0.489956 -0.011733  0.286080   \n",
       "raintomorrow          0.489956      1.000000 -0.113155  0.410263   \n",
       "temp                 -0.011733     -0.113155  1.000000 -0.316345   \n",
       "humidity              0.286080      0.410263 -0.316345  1.000000   \n",
       "precipitation3pm     -0.002923      0.005888  0.000199 -0.005204   \n",
       "precipitation9am     -0.011454     -0.013297 -0.000144 -0.002052   \n",
       "modelo_vigente        0.495022      0.839977 -0.167708  0.596045   \n",
       "wind_gustspeed        0.136474      0.230636  0.025337 -0.040691   \n",
       "wind_speed9am         0.037565      0.081749 -0.007131 -0.056789   \n",
       "wind_speed3pm         0.026825      0.086321  0.011946  0.022938   \n",
       "labels               -0.080797     -0.125690  0.006238 -0.008489   \n",
       "wind_gustdir_E       -0.011285     -0.075864  0.160300 -0.048275   \n",
       "wind_gustdir_N        0.013700      0.042005  0.034509 -0.019361   \n",
       "wind_gustdir_S       -0.003469     -0.027980 -0.061358  0.043599   \n",
       "wind_gustdir_W        0.000363      0.064083 -0.129839  0.019204   \n",
       "\n",
       "                  precipitation3pm  precipitation9am  modelo_vigente  \\\n",
       "mintemp                   0.003044         -0.000448        0.130681   \n",
       "maxtemp                   0.003950         -0.001311       -0.219010   \n",
       "rainfall                 -0.009644         -0.004275        0.373576   \n",
       "evaporation               0.009231         -0.000972       -0.185670   \n",
       "sunshine                 -0.001739          0.004112       -0.651491   \n",
       "humidity9am              -0.005130          0.000041        0.399985   \n",
       "humidity3pm              -0.004565         -0.000998        0.655662   \n",
       "pressure9am              -0.003109          0.003460       -0.377505   \n",
       "pressure3pm              -0.003299          0.003799       -0.328828   \n",
       "cloud9am                 -0.000492          0.001017        0.480683   \n",
       "cloud3pm                  0.000602         -0.005676        0.560123   \n",
       "temp9am                   0.003672          0.000664       -0.030485   \n",
       "temp3pm                   0.003509         -0.001032       -0.269893   \n",
       "raintoday                -0.003279         -0.004499        0.455939   \n",
       "amountOfRain             -0.002923         -0.011454        0.495022   \n",
       "raintomorrow              0.005888         -0.013297        0.839977   \n",
       "temp                      0.000199         -0.000144       -0.167708   \n",
       "humidity                 -0.005204         -0.002052        0.596045   \n",
       "precipitation3pm          1.000000          0.004146        0.002687   \n",
       "precipitation9am          0.004146          1.000000       -0.009201   \n",
       "modelo_vigente            0.002687         -0.009201        1.000000   \n",
       "wind_gustspeed            0.007498          0.000192        0.258391   \n",
       "wind_speed9am             0.009777          0.005947        0.103443   \n",
       "wind_speed3pm             0.006408          0.002060        0.103314   \n",
       "labels                    0.003919          0.007427       -0.135078   \n",
       "wind_gustdir_E           -0.006027         -0.002383       -0.100737   \n",
       "wind_gustdir_N            0.001496          0.002409        0.045969   \n",
       "wind_gustdir_S            0.000882          0.006872       -0.029670   \n",
       "wind_gustdir_W            0.003452         -0.008445        0.087156   \n",
       "\n",
       "                  wind_gustspeed  wind_speed9am  wind_speed3pm    labels  \\\n",
       "mintemp                 0.111325       0.099693       0.134473  0.031346   \n",
       "maxtemp                 0.030005      -0.011993       0.015914  0.007149   \n",
       "rainfall                0.105783       0.049685       0.043294 -0.047648   \n",
       "evaporation             0.206127       0.190176       0.127353 -0.025148   \n",
       "sunshine               -0.052478      -0.013522       0.033990  0.050506   \n",
       "humidity9am            -0.196586      -0.240400      -0.107701 -0.019414   \n",
       "humidity3pm            -0.045567      -0.062997       0.022707 -0.006601   \n",
       "pressure9am            -0.434927      -0.202079      -0.295709  0.173958   \n",
       "pressure3pm            -0.388885      -0.156239      -0.256598  0.161178   \n",
       "cloud9am                0.089123       0.032950       0.065776 -0.044892   \n",
       "cloud3pm                0.132094       0.061788       0.040290 -0.067838   \n",
       "temp9am                 0.080846       0.047931       0.114723  0.021345   \n",
       "temp3pm                -0.005920      -0.022267      -0.005726  0.027118   \n",
       "raintoday               0.144298       0.080286       0.081672 -0.058557   \n",
       "amountOfRain            0.136474       0.037565       0.026825 -0.080797   \n",
       "raintomorrow            0.230636       0.081749       0.086321 -0.125690   \n",
       "temp                    0.025337      -0.007131       0.011946  0.006238   \n",
       "humidity               -0.040691      -0.056789       0.022938 -0.008489   \n",
       "precipitation3pm        0.007498       0.009777       0.006408  0.003919   \n",
       "precipitation9am        0.000192       0.005947       0.002060  0.007427   \n",
       "modelo_vigente          0.258391       0.103443       0.103314 -0.135078   \n",
       "wind_gustspeed          1.000000       0.609841       0.686537 -0.393604   \n",
       "wind_speed9am           0.609841       1.000000       0.504279  0.107932   \n",
       "wind_speed3pm           0.686537       0.504279       1.000000 -0.220764   \n",
       "labels                 -0.393604       0.107932      -0.220764  1.000000   \n",
       "wind_gustdir_E         -0.117815      -0.025012      -0.074718  0.080475   \n",
       "wind_gustdir_N          0.040943       0.013980       0.004541 -0.054642   \n",
       "wind_gustdir_S         -0.047548      -0.020865      -0.015538  0.043900   \n",
       "wind_gustdir_W          0.131600       0.034854       0.090030 -0.073634   \n",
       "\n",
       "                  wind_gustdir_E  wind_gustdir_N  wind_gustdir_S  \\\n",
       "mintemp                 0.175238       -0.019570       -0.010881   \n",
       "maxtemp                 0.200371        0.045986       -0.073480   \n",
       "rainfall               -0.034212       -0.053683        0.045581   \n",
       "evaporation             0.111896       -0.051915        0.037483   \n",
       "sunshine                0.113242       -0.033439       -0.017702   \n",
       "humidity9am            -0.085611       -0.023779        0.054713   \n",
       "humidity3pm            -0.051722       -0.023260        0.046158   \n",
       "pressure9am             0.097275       -0.051368        0.091622   \n",
       "pressure3pm             0.049315       -0.123489        0.155629   \n",
       "cloud9am               -0.080598       -0.013037        0.053303   \n",
       "cloud3pm               -0.101440        0.042250       -0.005239   \n",
       "temp9am                 0.208394        0.012216       -0.058123   \n",
       "temp3pm                 0.212334        0.048578       -0.079416   \n",
       "raintoday              -0.085012       -0.082031        0.066423   \n",
       "amountOfRain           -0.011285        0.013700       -0.003469   \n",
       "raintomorrow           -0.075864        0.042005       -0.027980   \n",
       "temp                    0.160300        0.034509       -0.061358   \n",
       "humidity               -0.048275       -0.019361        0.043599   \n",
       "precipitation3pm       -0.006027        0.001496        0.000882   \n",
       "precipitation9am       -0.002383        0.002409        0.006872   \n",
       "modelo_vigente         -0.100737        0.045969       -0.029670   \n",
       "wind_gustspeed         -0.117815        0.040943       -0.047548   \n",
       "wind_speed9am          -0.025012        0.013980       -0.020865   \n",
       "wind_speed3pm          -0.074718        0.004541       -0.015538   \n",
       "labels                  0.080475       -0.054642        0.043900   \n",
       "wind_gustdir_E          1.000000       -0.308454       -0.360267   \n",
       "wind_gustdir_N         -0.308454        1.000000       -0.425886   \n",
       "wind_gustdir_S         -0.360267       -0.425886        1.000000   \n",
       "wind_gustdir_W         -0.250348       -0.295946       -0.345658   \n",
       "\n",
       "                  wind_gustdir_W  \n",
       "mintemp                -0.144759  \n",
       "maxtemp                -0.169321  \n",
       "rainfall                0.040856  \n",
       "evaporation            -0.101250  \n",
       "sunshine               -0.057547  \n",
       "humidity9am             0.049178  \n",
       "humidity3pm             0.024053  \n",
       "pressure9am            -0.151402  \n",
       "pressure3pm            -0.097765  \n",
       "cloud9am                0.033692  \n",
       "cloud3pm                0.062923  \n",
       "temp9am                -0.158034  \n",
       "temp3pm                -0.177411  \n",
       "raintoday               0.099834  \n",
       "amountOfRain            0.000363  \n",
       "raintomorrow            0.064083  \n",
       "temp                   -0.129839  \n",
       "humidity                0.019204  \n",
       "precipitation3pm        0.003452  \n",
       "precipitation9am       -0.008445  \n",
       "modelo_vigente          0.087156  \n",
       "wind_gustspeed          0.131600  \n",
       "wind_speed9am           0.034854  \n",
       "wind_speed3pm           0.090030  \n",
       "labels                 -0.073634  \n",
       "wind_gustdir_E         -0.250348  \n",
       "wind_gustdir_N         -0.295946  \n",
       "wind_gustdir_S         -0.345658  \n",
       "wind_gustdir_W          1.000000  "
      ]
     },
     "execution_count": 38,
     "metadata": {},
     "output_type": "execute_result"
    }
   ],
   "source": [
    "data_missingless.corr()"
   ]
  },
  {
   "cell_type": "code",
   "execution_count": 39,
   "metadata": {
    "ExecuteTime": {
     "end_time": "2020-08-04T22:20:39.520499Z",
     "start_time": "2020-08-04T22:20:39.308068Z"
    }
   },
   "outputs": [
    {
     "data": {
      "text/plain": [
       "raintomorrow        1.000000\n",
       "modelo_vigente      0.839977\n",
       "amountOfRain        0.489956\n",
       "humidity3pm         0.452579\n",
       "humidity            0.410263\n",
       "cloud3pm            0.387231\n",
       "cloud9am            0.321644\n",
       "raintoday           0.305072\n",
       "humidity9am         0.267304\n",
       "rainfall            0.249993\n",
       "wind_gustspeed      0.230636\n",
       "wind_speed3pm       0.086321\n",
       "mintemp             0.085544\n",
       "wind_speed9am       0.081749\n",
       "wind_gustdir_W      0.064083\n",
       "wind_gustdir_N      0.042005\n",
       "precipitation3pm    0.005888\n",
       "precipitation9am   -0.013297\n",
       "temp9am            -0.017739\n",
       "wind_gustdir_S     -0.027980\n",
       "wind_gustdir_E     -0.075864\n",
       "temp               -0.113155\n",
       "labels             -0.125690\n",
       "evaporation        -0.126794\n",
       "maxtemp            -0.146448\n",
       "temp3pm            -0.182559\n",
       "pressure3pm        -0.231582\n",
       "pressure9am        -0.254683\n",
       "sunshine           -0.450817\n",
       "Name: raintomorrow, dtype: float64"
      ]
     },
     "execution_count": 39,
     "metadata": {},
     "output_type": "execute_result"
    }
   ],
   "source": [
    "data_missingless.corr()['raintomorrow'].sort_values(ascending=False)"
   ]
  },
  {
   "cell_type": "code",
   "execution_count": 40,
   "metadata": {
    "ExecuteTime": {
     "end_time": "2020-08-04T22:20:39.803740Z",
     "start_time": "2020-08-04T22:20:39.605273Z"
    }
   },
   "outputs": [
    {
     "data": {
      "text/plain": [
       "modelo_vigente      1.000000\n",
       "raintomorrow        0.839977\n",
       "humidity3pm         0.655662\n",
       "humidity            0.596045\n",
       "cloud3pm            0.560123\n",
       "amountOfRain        0.495022\n",
       "cloud9am            0.480683\n",
       "raintoday           0.455939\n",
       "humidity9am         0.399985\n",
       "rainfall            0.373576\n",
       "wind_gustspeed      0.258391\n",
       "mintemp             0.130681\n",
       "wind_speed9am       0.103443\n",
       "wind_speed3pm       0.103314\n",
       "wind_gustdir_W      0.087156\n",
       "wind_gustdir_N      0.045969\n",
       "precipitation3pm    0.002687\n",
       "precipitation9am   -0.009201\n",
       "wind_gustdir_S     -0.029670\n",
       "temp9am            -0.030485\n",
       "wind_gustdir_E     -0.100737\n",
       "labels             -0.135078\n",
       "temp               -0.167708\n",
       "evaporation        -0.185670\n",
       "maxtemp            -0.219010\n",
       "temp3pm            -0.269893\n",
       "pressure3pm        -0.328828\n",
       "pressure9am        -0.377505\n",
       "sunshine           -0.651491\n",
       "Name: modelo_vigente, dtype: float64"
      ]
     },
     "execution_count": 40,
     "metadata": {},
     "output_type": "execute_result"
    }
   ],
   "source": [
    "data_missingless.corr()['modelo_vigente'].sort_values(ascending=False)"
   ]
  },
  {
   "cell_type": "markdown",
   "metadata": {},
   "source": [
    "# Model Baseline"
   ]
  },
  {
   "cell_type": "code",
   "execution_count": 41,
   "metadata": {
    "ExecuteTime": {
     "end_time": "2020-08-04T22:20:40.926013Z",
     "start_time": "2020-08-04T22:20:39.890542Z"
    }
   },
   "outputs": [],
   "source": [
    "from sklearn.metrics import precision_score, recall_score"
   ]
  },
  {
   "cell_type": "markdown",
   "metadata": {},
   "source": [
    "Simplest model ever"
   ]
  },
  {
   "cell_type": "code",
   "execution_count": 42,
   "metadata": {
    "ExecuteTime": {
     "end_time": "2020-08-04T22:20:41.089574Z",
     "start_time": "2020-08-04T22:20:41.010786Z"
    }
   },
   "outputs": [],
   "source": [
    "y_pred_low=data['raintomorrow'].apply(lambda x: 0)"
   ]
  },
  {
   "cell_type": "code",
   "execution_count": 43,
   "metadata": {
    "ExecuteTime": {
     "end_time": "2020-08-04T22:20:41.256129Z",
     "start_time": "2020-08-04T22:20:41.183323Z"
    }
   },
   "outputs": [],
   "source": [
    "y_pred_high=data['raintomorrow'].apply(lambda x: 1)"
   ]
  },
  {
   "cell_type": "markdown",
   "metadata": {},
   "source": [
    "## Average worker"
   ]
  },
  {
   "cell_type": "code",
   "execution_count": 44,
   "metadata": {
    "ExecuteTime": {
     "end_time": "2020-08-04T22:20:41.447617Z",
     "start_time": "2020-08-04T22:20:41.345888Z"
    }
   },
   "outputs": [
    {
     "data": {
      "text/plain": [
       "0.225371990315477"
      ]
     },
     "execution_count": 44,
     "metadata": {},
     "output_type": "execute_result"
    }
   ],
   "source": [
    "precision_score(data['raintomorrow'],y_pred_high)"
   ]
  },
  {
   "cell_type": "code",
   "execution_count": 45,
   "metadata": {
    "ExecuteTime": {
     "end_time": "2020-08-04T22:20:41.710912Z",
     "start_time": "2020-08-04T22:20:41.580262Z"
    }
   },
   "outputs": [
    {
     "data": {
      "text/plain": [
       "1.0"
      ]
     },
     "execution_count": 45,
     "metadata": {},
     "output_type": "execute_result"
    }
   ],
   "source": [
    "recall_score(data['raintomorrow'],y_pred_high)"
   ]
  },
  {
   "cell_type": "markdown",
   "metadata": {},
   "source": [
    "This model always predicts it is going to rain. For the average worker it means that he will always take an umbrella. But only 22% of the time the umbrella will be usefull"
   ]
  },
  {
   "cell_type": "markdown",
   "metadata": {},
   "source": [
    "## Ballplayer"
   ]
  },
  {
   "cell_type": "code",
   "execution_count": 46,
   "metadata": {
    "ExecuteTime": {
     "end_time": "2020-08-04T22:20:41.996684Z",
     "start_time": "2020-08-04T22:20:41.865523Z"
    }
   },
   "outputs": [
    {
     "data": {
      "text/plain": [
       "0.7746280096845231"
      ]
     },
     "execution_count": 46,
     "metadata": {},
     "output_type": "execute_result"
    }
   ],
   "source": [
    "1-precision_score(data['raintomorrow'],y_pred_high)"
   ]
  },
  {
   "cell_type": "code",
   "execution_count": 47,
   "metadata": {
    "ExecuteTime": {
     "end_time": "2020-08-04T22:20:42.259008Z",
     "start_time": "2020-08-04T22:20:42.154779Z"
    }
   },
   "outputs": [
    {
     "data": {
      "text/plain": [
       "0.0"
      ]
     },
     "execution_count": 47,
     "metadata": {},
     "output_type": "execute_result"
    }
   ],
   "source": [
    "recall_score(data['raintomorrow'],y_pred_low)"
   ]
  },
  {
   "cell_type": "markdown",
   "metadata": {},
   "source": [
    "This model always predicts that is not going to rain. Which means that the ballplayer will go to the ballpark but in 22% of the time there wont be any games to be played"
   ]
  },
  {
   "cell_type": "markdown",
   "metadata": {},
   "source": [
    "# Before we make our models lets separate the dataset in train, test"
   ]
  },
  {
   "cell_type": "code",
   "execution_count": 48,
   "metadata": {
    "ExecuteTime": {
     "end_time": "2020-08-04T22:20:53.861989Z",
     "start_time": "2020-08-04T22:20:53.856041Z"
    }
   },
   "outputs": [
    {
     "data": {
      "text/plain": [
       "Index(['date', 'location', 'mintemp', 'maxtemp', 'rainfall', 'evaporation',\n",
       "       'sunshine', 'humidity9am', 'humidity3pm', 'pressure9am', 'pressure3pm',\n",
       "       'cloud9am', 'cloud3pm', 'temp9am', 'temp3pm', 'raintoday',\n",
       "       'amountOfRain', 'raintomorrow', 'temp', 'humidity', 'precipitation3pm',\n",
       "       'precipitation9am', 'modelo_vigente', 'wind_gustdir', 'wind_gustspeed',\n",
       "       'wind_dir9am', 'wind_dir3pm', 'wind_speed9am', 'wind_speed3pm',\n",
       "       'labels', 'wind_gustdir_simplified', 'wind_gustdir_E', 'wind_gustdir_N',\n",
       "       'wind_gustdir_S', 'wind_gustdir_W'],\n",
       "      dtype='object')"
      ]
     },
     "execution_count": 48,
     "metadata": {},
     "output_type": "execute_result"
    }
   ],
   "source": [
    "data_missingless.columns"
   ]
  },
  {
   "cell_type": "code",
   "execution_count": 49,
   "metadata": {
    "ExecuteTime": {
     "end_time": "2020-08-04T22:20:54.142158Z",
     "start_time": "2020-08-04T22:20:54.120178Z"
    }
   },
   "outputs": [],
   "source": [
    "from sklearn.model_selection import train_test_split"
   ]
  },
  {
   "cell_type": "code",
   "execution_count": 50,
   "metadata": {
    "ExecuteTime": {
     "end_time": "2020-08-04T22:20:54.381349Z",
     "start_time": "2020-08-04T22:20:54.349415Z"
    }
   },
   "outputs": [],
   "source": [
    "X_train, X_test, y_train, y_test = train_test_split(data_missingless[['mintemp', 'maxtemp', 'rainfall', 'evaporation',\n",
    "       'sunshine', 'humidity9am', 'humidity3pm', 'pressure9am', 'pressure3pm',\n",
    "       'cloud9am', 'cloud3pm', 'temp9am', 'temp3pm', 'raintoday',\n",
    "       'amountOfRain', 'temp', 'humidity', 'precipitation3pm',\n",
    "       'precipitation9am', 'wind_gustspeed',\n",
    "        'wind_speed3pm', 'wind_gustdir_E', 'wind_gustdir_N',\n",
    "       'wind_gustdir_S', 'wind_gustdir_W']], data_missingless['raintomorrow'], test_size=0.25, random_state=42)"
   ]
  },
  {
   "cell_type": "markdown",
   "metadata": {},
   "source": [
    "# Model Modelo Vigente"
   ]
  },
  {
   "cell_type": "markdown",
   "metadata": {},
   "source": [
    "Lets use modelo_vigente to predict"
   ]
  },
  {
   "cell_type": "code",
   "execution_count": 51,
   "metadata": {
    "ExecuteTime": {
     "end_time": "2020-08-04T22:20:55.042527Z",
     "start_time": "2020-08-04T22:20:55.037498Z"
    }
   },
   "outputs": [],
   "source": [
    "y_pred_vigente_high=(data['modelo_vigente']>0.65).astype(int)"
   ]
  },
  {
   "cell_type": "code",
   "execution_count": 52,
   "metadata": {
    "ExecuteTime": {
     "end_time": "2020-08-04T22:20:55.324529Z",
     "start_time": "2020-08-04T22:20:55.318548Z"
    }
   },
   "outputs": [],
   "source": [
    "y_pred_vigente_low=(data['modelo_vigente']>0.15).astype(int)"
   ]
  },
  {
   "cell_type": "code",
   "execution_count": 53,
   "metadata": {
    "ExecuteTime": {
     "end_time": "2020-08-04T22:20:55.578621Z",
     "start_time": "2020-08-04T22:20:55.574660Z"
    }
   },
   "outputs": [],
   "source": [
    "from sklearn.metrics import precision_score, recall_score, roc_auc_score"
   ]
  },
  {
   "cell_type": "markdown",
   "metadata": {},
   "source": [
    "## Average worker"
   ]
  },
  {
   "cell_type": "code",
   "execution_count": 54,
   "metadata": {
    "ExecuteTime": {
     "end_time": "2020-08-04T22:20:56.134593Z",
     "start_time": "2020-08-04T22:20:56.063783Z"
    }
   },
   "outputs": [
    {
     "data": {
      "text/plain": [
       "0.5080728716974616"
      ]
     },
     "execution_count": 54,
     "metadata": {},
     "output_type": "execute_result"
    }
   ],
   "source": [
    "precision_score(data['raintomorrow'],y_pred_vigente_low)"
   ]
  },
  {
   "cell_type": "code",
   "execution_count": 55,
   "metadata": {
    "ExecuteTime": {
     "end_time": "2020-08-04T22:20:56.387005Z",
     "start_time": "2020-08-04T22:20:56.314200Z"
    }
   },
   "outputs": [
    {
     "data": {
      "text/plain": [
       "0.9530069099546534"
      ]
     },
     "execution_count": 55,
     "metadata": {},
     "output_type": "execute_result"
    }
   ],
   "source": [
    "recall_score(data['raintomorrow'],y_pred_vigente_low)"
   ]
  },
  {
   "cell_type": "code",
   "execution_count": 56,
   "metadata": {
    "ExecuteTime": {
     "end_time": "2020-08-04T22:20:56.595447Z",
     "start_time": "2020-08-04T22:20:56.557549Z"
    }
   },
   "outputs": [
    {
     "data": {
      "text/plain": [
       "0.8422740811847432"
      ]
     },
     "execution_count": 56,
     "metadata": {},
     "output_type": "execute_result"
    }
   ],
   "source": [
    "roc_auc_score(data['raintomorrow'],y_pred_vigente_low)"
   ]
  },
  {
   "cell_type": "markdown",
   "metadata": {},
   "source": [
    "In this model for the average worker, he is gonna have to deal with low precision and high recall. Which means when the model, he is going to guess wrong half the time (meaning the worker will take the umbrella unnecessarily). But the model is gonna capture 95% of the time is gonna rain (so it reduces the chances of getting wet)"
   ]
  },
  {
   "cell_type": "markdown",
   "metadata": {},
   "source": [
    "## Ballplayer"
   ]
  },
  {
   "cell_type": "code",
   "execution_count": 57,
   "metadata": {
    "ExecuteTime": {
     "end_time": "2020-08-04T22:20:57.361264Z",
     "start_time": "2020-08-04T22:20:57.296481Z"
    }
   },
   "outputs": [
    {
     "data": {
      "text/plain": [
       "0.9505960800161649"
      ]
     },
     "execution_count": 57,
     "metadata": {},
     "output_type": "execute_result"
    }
   ],
   "source": [
    "precision_score(data['raintomorrow'],y_pred_vigente_high)"
   ]
  },
  {
   "cell_type": "code",
   "execution_count": 58,
   "metadata": {
    "ExecuteTime": {
     "end_time": "2020-08-04T22:20:57.600624Z",
     "start_time": "2020-08-04T22:20:57.532807Z"
    }
   },
   "outputs": [
    {
     "data": {
      "text/plain": [
       "0.50793565104729"
      ]
     },
     "execution_count": 58,
     "metadata": {},
     "output_type": "execute_result"
    }
   ],
   "source": [
    "recall_score(data['raintomorrow'],y_pred_vigente_high)"
   ]
  },
  {
   "cell_type": "code",
   "execution_count": 59,
   "metadata": {
    "ExecuteTime": {
     "end_time": "2020-08-04T22:20:57.822032Z",
     "start_time": "2020-08-04T22:20:57.781142Z"
    }
   },
   "outputs": [
    {
     "data": {
      "text/plain": [
       "0.8422740811847432"
      ]
     },
     "execution_count": 59,
     "metadata": {},
     "output_type": "execute_result"
    }
   ],
   "source": [
    "roc_auc_score(data['raintomorrow'],y_pred_vigente_low)"
   ]
  },
  {
   "cell_type": "markdown",
   "metadata": {
    "ExecuteTime": {
     "end_time": "2020-07-21T18:45:33.161931Z",
     "start_time": "2020-07-21T18:45:33.149830Z"
    }
   },
   "source": [
    "In this model for the ballplayer, he is gonna have to deal with high precision and low recall. Which means that the model will only capture half the time that is gonna rain (meaning the ballplayer will drive to the ballpark unnecessarily). But when the model says that it is going to rain, the chances of getting it wrong are 5% (so it reduces the chances of not going to the ballpark in a good day to play baseball)"
   ]
  },
  {
   "cell_type": "markdown",
   "metadata": {},
   "source": [
    "## Conclusion"
   ]
  },
  {
   "cell_type": "markdown",
   "metadata": {},
   "source": [
    "This seems to be a good model. But maybe it is overfitted, since we dont know the origin of it. The ideal would be to test it with some dataset that we have never seem before"
   ]
  },
  {
   "cell_type": "markdown",
   "metadata": {},
   "source": [
    "# Standardization"
   ]
  },
  {
   "cell_type": "code",
   "execution_count": 60,
   "metadata": {
    "ExecuteTime": {
     "end_time": "2020-08-04T22:20:59.101641Z",
     "start_time": "2020-08-04T22:20:59.096659Z"
    }
   },
   "outputs": [],
   "source": [
    "from sklearn.preprocessing import StandardScaler"
   ]
  },
  {
   "cell_type": "code",
   "execution_count": 61,
   "metadata": {
    "ExecuteTime": {
     "end_time": "2020-08-04T22:20:59.366656Z",
     "start_time": "2020-08-04T22:20:59.363697Z"
    }
   },
   "outputs": [],
   "source": [
    "scaler = StandardScaler()"
   ]
  },
  {
   "cell_type": "code",
   "execution_count": 62,
   "metadata": {
    "ExecuteTime": {
     "end_time": "2020-08-04T22:20:59.701446Z",
     "start_time": "2020-08-04T22:20:59.657620Z"
    }
   },
   "outputs": [
    {
     "data": {
      "text/plain": [
       "StandardScaler(copy=True, with_mean=True, with_std=True)"
      ]
     },
     "execution_count": 62,
     "metadata": {},
     "output_type": "execute_result"
    }
   ],
   "source": [
    "scaler.fit(X_train)"
   ]
  },
  {
   "cell_type": "code",
   "execution_count": 63,
   "metadata": {
    "ExecuteTime": {
     "end_time": "2020-08-04T22:20:59.965658Z",
     "start_time": "2020-08-04T22:20:59.948678Z"
    }
   },
   "outputs": [],
   "source": [
    "X_train_std=scaler.transform(X_train)"
   ]
  },
  {
   "cell_type": "code",
   "execution_count": 64,
   "metadata": {
    "ExecuteTime": {
     "end_time": "2020-08-04T22:21:00.182776Z",
     "start_time": "2020-08-04T22:21:00.164826Z"
    }
   },
   "outputs": [
    {
     "data": {
      "text/plain": [
       "StandardScaler(copy=True, with_mean=True, with_std=True)"
      ]
     },
     "execution_count": 64,
     "metadata": {},
     "output_type": "execute_result"
    }
   ],
   "source": [
    "scaler.fit(X_test)"
   ]
  },
  {
   "cell_type": "code",
   "execution_count": 65,
   "metadata": {
    "ExecuteTime": {
     "end_time": "2020-08-04T22:21:00.427122Z",
     "start_time": "2020-08-04T22:21:00.417150Z"
    }
   },
   "outputs": [],
   "source": [
    "X_test_std=scaler.transform(X_test)"
   ]
  },
  {
   "cell_type": "markdown",
   "metadata": {},
   "source": [
    "# Our first Model (finally!)"
   ]
  },
  {
   "cell_type": "code",
   "execution_count": 66,
   "metadata": {
    "ExecuteTime": {
     "end_time": "2020-08-04T22:21:01.056489Z",
     "start_time": "2020-08-04T22:21:00.925788Z"
    }
   },
   "outputs": [],
   "source": [
    "from sklearn.model_selection import KFold\n",
    "from sklearn.linear_model import LogisticRegression"
   ]
  },
  {
   "cell_type": "code",
   "execution_count": 67,
   "metadata": {
    "ExecuteTime": {
     "end_time": "2020-08-04T22:21:01.276898Z",
     "start_time": "2020-08-04T22:21:01.272912Z"
    }
   },
   "outputs": [],
   "source": [
    "model = LogisticRegression()"
   ]
  },
  {
   "cell_type": "code",
   "execution_count": 68,
   "metadata": {
    "ExecuteTime": {
     "end_time": "2020-08-04T22:21:02.352989Z",
     "start_time": "2020-08-04T22:21:01.555089Z"
    }
   },
   "outputs": [
    {
     "name": "stderr",
     "output_type": "stream",
     "text": [
      "C:\\Users\\Pedro\\Anaconda3\\lib\\site-packages\\sklearn\\linear_model\\logistic.py:432: FutureWarning: Default solver will be changed to 'lbfgs' in 0.22. Specify a solver to silence this warning.\n",
      "  FutureWarning)\n"
     ]
    },
    {
     "data": {
      "text/plain": [
       "LogisticRegression(C=1.0, class_weight=None, dual=False, fit_intercept=True,\n",
       "                   intercept_scaling=1, l1_ratio=None, max_iter=100,\n",
       "                   multi_class='warn', n_jobs=None, penalty='l2',\n",
       "                   random_state=None, solver='warn', tol=0.0001, verbose=0,\n",
       "                   warm_start=False)"
      ]
     },
     "execution_count": 68,
     "metadata": {},
     "output_type": "execute_result"
    }
   ],
   "source": [
    "model.fit(X_train_std, y_train)"
   ]
  },
  {
   "cell_type": "code",
   "execution_count": 69,
   "metadata": {
    "ExecuteTime": {
     "end_time": "2020-08-04T22:21:02.449694Z",
     "start_time": "2020-08-04T22:21:02.443714Z"
    }
   },
   "outputs": [
    {
     "data": {
      "text/plain": [
       "array([[-7.58076172e-02, -3.67022547e-02, -8.69285995e-03,\n",
       "        -6.53600625e-02, -7.54706377e-02, -3.12513296e-02,\n",
       "         2.93552047e-01,  1.31882908e-01, -2.65201453e-01,\n",
       "        -2.57707275e-02,  1.53377115e-01,  1.00368818e-01,\n",
       "         2.52796128e-02,  3.57596977e-02,  3.88535011e+01,\n",
       "        -1.51853215e-02, -2.49100253e-02,  1.48060959e-02,\n",
       "        -1.87476172e-02,  9.02405441e-02, -1.30947613e-02,\n",
       "        -1.76321042e-02, -1.52412395e-03,  7.26015383e-03,\n",
       "         1.11114071e-02]])"
      ]
     },
     "execution_count": 69,
     "metadata": {},
     "output_type": "execute_result"
    }
   ],
   "source": [
    "model.coef_"
   ]
  },
  {
   "cell_type": "code",
   "execution_count": 70,
   "metadata": {
    "ExecuteTime": {
     "end_time": "2020-08-04T22:21:02.553416Z",
     "start_time": "2020-08-04T22:21:02.542446Z"
    }
   },
   "outputs": [
    {
     "data": {
      "text/html": [
       "<div>\n",
       "<style scoped>\n",
       "    .dataframe tbody tr th:only-of-type {\n",
       "        vertical-align: middle;\n",
       "    }\n",
       "\n",
       "    .dataframe tbody tr th {\n",
       "        vertical-align: top;\n",
       "    }\n",
       "\n",
       "    .dataframe thead th {\n",
       "        text-align: right;\n",
       "    }\n",
       "</style>\n",
       "<table border=\"1\" class=\"dataframe\">\n",
       "  <thead>\n",
       "    <tr style=\"text-align: right;\">\n",
       "      <th></th>\n",
       "      <th>coef</th>\n",
       "    </tr>\n",
       "  </thead>\n",
       "  <tbody>\n",
       "    <tr>\n",
       "      <th>amountOfRain</th>\n",
       "      <td>38.853501</td>\n",
       "    </tr>\n",
       "    <tr>\n",
       "      <th>humidity3pm</th>\n",
       "      <td>0.293552</td>\n",
       "    </tr>\n",
       "    <tr>\n",
       "      <th>cloud3pm</th>\n",
       "      <td>0.153377</td>\n",
       "    </tr>\n",
       "    <tr>\n",
       "      <th>pressure9am</th>\n",
       "      <td>0.131883</td>\n",
       "    </tr>\n",
       "    <tr>\n",
       "      <th>temp9am</th>\n",
       "      <td>0.100369</td>\n",
       "    </tr>\n",
       "    <tr>\n",
       "      <th>wind_gustspeed</th>\n",
       "      <td>0.090241</td>\n",
       "    </tr>\n",
       "    <tr>\n",
       "      <th>raintoday</th>\n",
       "      <td>0.035760</td>\n",
       "    </tr>\n",
       "    <tr>\n",
       "      <th>temp3pm</th>\n",
       "      <td>0.025280</td>\n",
       "    </tr>\n",
       "    <tr>\n",
       "      <th>precipitation3pm</th>\n",
       "      <td>0.014806</td>\n",
       "    </tr>\n",
       "    <tr>\n",
       "      <th>wind_gustdir_W</th>\n",
       "      <td>0.011111</td>\n",
       "    </tr>\n",
       "    <tr>\n",
       "      <th>wind_gustdir_S</th>\n",
       "      <td>0.007260</td>\n",
       "    </tr>\n",
       "    <tr>\n",
       "      <th>wind_gustdir_N</th>\n",
       "      <td>-0.001524</td>\n",
       "    </tr>\n",
       "    <tr>\n",
       "      <th>rainfall</th>\n",
       "      <td>-0.008693</td>\n",
       "    </tr>\n",
       "    <tr>\n",
       "      <th>wind_speed3pm</th>\n",
       "      <td>-0.013095</td>\n",
       "    </tr>\n",
       "    <tr>\n",
       "      <th>temp</th>\n",
       "      <td>-0.015185</td>\n",
       "    </tr>\n",
       "    <tr>\n",
       "      <th>wind_gustdir_E</th>\n",
       "      <td>-0.017632</td>\n",
       "    </tr>\n",
       "    <tr>\n",
       "      <th>precipitation9am</th>\n",
       "      <td>-0.018748</td>\n",
       "    </tr>\n",
       "    <tr>\n",
       "      <th>humidity</th>\n",
       "      <td>-0.024910</td>\n",
       "    </tr>\n",
       "    <tr>\n",
       "      <th>cloud9am</th>\n",
       "      <td>-0.025771</td>\n",
       "    </tr>\n",
       "    <tr>\n",
       "      <th>humidity9am</th>\n",
       "      <td>-0.031251</td>\n",
       "    </tr>\n",
       "    <tr>\n",
       "      <th>maxtemp</th>\n",
       "      <td>-0.036702</td>\n",
       "    </tr>\n",
       "    <tr>\n",
       "      <th>evaporation</th>\n",
       "      <td>-0.065360</td>\n",
       "    </tr>\n",
       "    <tr>\n",
       "      <th>sunshine</th>\n",
       "      <td>-0.075471</td>\n",
       "    </tr>\n",
       "    <tr>\n",
       "      <th>mintemp</th>\n",
       "      <td>-0.075808</td>\n",
       "    </tr>\n",
       "    <tr>\n",
       "      <th>pressure3pm</th>\n",
       "      <td>-0.265201</td>\n",
       "    </tr>\n",
       "  </tbody>\n",
       "</table>\n",
       "</div>"
      ],
      "text/plain": [
       "                       coef\n",
       "amountOfRain      38.853501\n",
       "humidity3pm        0.293552\n",
       "cloud3pm           0.153377\n",
       "pressure9am        0.131883\n",
       "temp9am            0.100369\n",
       "wind_gustspeed     0.090241\n",
       "raintoday          0.035760\n",
       "temp3pm            0.025280\n",
       "precipitation3pm   0.014806\n",
       "wind_gustdir_W     0.011111\n",
       "wind_gustdir_S     0.007260\n",
       "wind_gustdir_N    -0.001524\n",
       "rainfall          -0.008693\n",
       "wind_speed3pm     -0.013095\n",
       "temp              -0.015185\n",
       "wind_gustdir_E    -0.017632\n",
       "precipitation9am  -0.018748\n",
       "humidity          -0.024910\n",
       "cloud9am          -0.025771\n",
       "humidity9am       -0.031251\n",
       "maxtemp           -0.036702\n",
       "evaporation       -0.065360\n",
       "sunshine          -0.075471\n",
       "mintemp           -0.075808\n",
       "pressure3pm       -0.265201"
      ]
     },
     "execution_count": 70,
     "metadata": {},
     "output_type": "execute_result"
    }
   ],
   "source": [
    "pd.DataFrame(data=model.coef_[0],index=X_train.columns,columns=['coef']).sort_values('coef',ascending=False)"
   ]
  },
  {
   "cell_type": "code",
   "execution_count": 71,
   "metadata": {
    "ExecuteTime": {
     "end_time": "2020-08-04T22:21:02.649161Z",
     "start_time": "2020-08-04T22:21:02.646167Z"
    }
   },
   "outputs": [],
   "source": [
    "from sklearn.model_selection import KFold\n",
    "from sklearn.model_selection import cross_val_score, cross_validate"
   ]
  },
  {
   "cell_type": "code",
   "execution_count": 72,
   "metadata": {
    "ExecuteTime": {
     "end_time": "2020-08-04T22:21:07.648782Z",
     "start_time": "2020-08-04T22:21:02.739919Z"
    }
   },
   "outputs": [
    {
     "data": {
      "text/plain": [
       "array([1.        , 0.99938119, 0.99875699, 1.        , 0.9993921 ,\n",
       "       1.        ])"
      ]
     },
     "execution_count": 72,
     "metadata": {},
     "output_type": "execute_result"
    }
   ],
   "source": [
    "cross_val_score(model, X_train_std, y_train, cv=KFold(6, shuffle=True), scoring='precision', n_jobs=-1)"
   ]
  },
  {
   "cell_type": "code",
   "execution_count": 73,
   "metadata": {
    "ExecuteTime": {
     "end_time": "2020-08-04T22:21:10.877143Z",
     "start_time": "2020-08-04T22:21:07.807358Z"
    }
   },
   "outputs": [
    {
     "data": {
      "text/plain": [
       "array([0.96967895, 0.9774665 , 0.9688914 , 0.97117117, 0.96662831,\n",
       "       0.96986136])"
      ]
     },
     "execution_count": 73,
     "metadata": {},
     "output_type": "execute_result"
    }
   ],
   "source": [
    "cross_val_score(model, X_train_std, y_train, cv=KFold(6, shuffle=True), scoring='recall', n_jobs=-1)"
   ]
  },
  {
   "cell_type": "code",
   "execution_count": 74,
   "metadata": {
    "ExecuteTime": {
     "end_time": "2020-08-04T22:21:12.790511Z",
     "start_time": "2020-08-04T22:21:10.970894Z"
    }
   },
   "outputs": [
    {
     "data": {
      "text/plain": [
       "array([0.9999573 , 0.9999705 , 0.99994298, 0.999952  , 0.99997801,\n",
       "       0.99994776])"
      ]
     },
     "execution_count": 74,
     "metadata": {},
     "output_type": "execute_result"
    }
   ],
   "source": [
    "cross_val_score(model, X_train_std, y_train, cv=KFold(6, shuffle=True), scoring='roc_auc', n_jobs=-1)"
   ]
  },
  {
   "cell_type": "code",
   "execution_count": 75,
   "metadata": {
    "ExecuteTime": {
     "end_time": "2020-08-04T22:21:12.924102Z",
     "start_time": "2020-08-04T22:21:12.911129Z"
    }
   },
   "outputs": [
    {
     "data": {
      "text/html": [
       "<div>\n",
       "<style scoped>\n",
       "    .dataframe tbody tr th:only-of-type {\n",
       "        vertical-align: middle;\n",
       "    }\n",
       "\n",
       "    .dataframe tbody tr th {\n",
       "        vertical-align: top;\n",
       "    }\n",
       "\n",
       "    .dataframe thead th {\n",
       "        text-align: right;\n",
       "    }\n",
       "</style>\n",
       "<table border=\"1\" class=\"dataframe\">\n",
       "  <thead>\n",
       "    <tr style=\"text-align: right;\">\n",
       "      <th></th>\n",
       "      <th>amountOfRain</th>\n",
       "      <th>rainfall</th>\n",
       "    </tr>\n",
       "  </thead>\n",
       "  <tbody>\n",
       "    <tr>\n",
       "      <th>0</th>\n",
       "      <td>0.0</td>\n",
       "      <td>0.6</td>\n",
       "    </tr>\n",
       "    <tr>\n",
       "      <th>1</th>\n",
       "      <td>0.0</td>\n",
       "      <td>0.0</td>\n",
       "    </tr>\n",
       "    <tr>\n",
       "      <th>2</th>\n",
       "      <td>0.0</td>\n",
       "      <td>0.0</td>\n",
       "    </tr>\n",
       "    <tr>\n",
       "      <th>3</th>\n",
       "      <td>1.0</td>\n",
       "      <td>0.0</td>\n",
       "    </tr>\n",
       "    <tr>\n",
       "      <th>4</th>\n",
       "      <td>0.2</td>\n",
       "      <td>1.0</td>\n",
       "    </tr>\n",
       "    <tr>\n",
       "      <th>5</th>\n",
       "      <td>0.0</td>\n",
       "      <td>0.2</td>\n",
       "    </tr>\n",
       "    <tr>\n",
       "      <th>6</th>\n",
       "      <td>0.0</td>\n",
       "      <td>0.0</td>\n",
       "    </tr>\n",
       "    <tr>\n",
       "      <th>7</th>\n",
       "      <td>0.0</td>\n",
       "      <td>0.0</td>\n",
       "    </tr>\n",
       "    <tr>\n",
       "      <th>8</th>\n",
       "      <td>1.4</td>\n",
       "      <td>0.0</td>\n",
       "    </tr>\n",
       "    <tr>\n",
       "      <th>9</th>\n",
       "      <td>0.0</td>\n",
       "      <td>1.4</td>\n",
       "    </tr>\n",
       "    <tr>\n",
       "      <th>10</th>\n",
       "      <td>2.2</td>\n",
       "      <td>0.0</td>\n",
       "    </tr>\n",
       "    <tr>\n",
       "      <th>11</th>\n",
       "      <td>15.6</td>\n",
       "      <td>2.2</td>\n",
       "    </tr>\n",
       "    <tr>\n",
       "      <th>12</th>\n",
       "      <td>3.6</td>\n",
       "      <td>15.6</td>\n",
       "    </tr>\n",
       "    <tr>\n",
       "      <th>13</th>\n",
       "      <td>0.0</td>\n",
       "      <td>3.6</td>\n",
       "    </tr>\n",
       "    <tr>\n",
       "      <th>14</th>\n",
       "      <td>0.0</td>\n",
       "      <td>NaN</td>\n",
       "    </tr>\n",
       "    <tr>\n",
       "      <th>15</th>\n",
       "      <td>16.8</td>\n",
       "      <td>0.0</td>\n",
       "    </tr>\n",
       "    <tr>\n",
       "      <th>16</th>\n",
       "      <td>10.6</td>\n",
       "      <td>16.8</td>\n",
       "    </tr>\n",
       "    <tr>\n",
       "      <th>17</th>\n",
       "      <td>0.0</td>\n",
       "      <td>10.6</td>\n",
       "    </tr>\n",
       "    <tr>\n",
       "      <th>18</th>\n",
       "      <td>0.0</td>\n",
       "      <td>0.0</td>\n",
       "    </tr>\n",
       "    <tr>\n",
       "      <th>19</th>\n",
       "      <td>0.0</td>\n",
       "      <td>0.0</td>\n",
       "    </tr>\n",
       "  </tbody>\n",
       "</table>\n",
       "</div>"
      ],
      "text/plain": [
       "    amountOfRain  rainfall\n",
       "0            0.0       0.6\n",
       "1            0.0       0.0\n",
       "2            0.0       0.0\n",
       "3            1.0       0.0\n",
       "4            0.2       1.0\n",
       "5            0.0       0.2\n",
       "6            0.0       0.0\n",
       "7            0.0       0.0\n",
       "8            1.4       0.0\n",
       "9            0.0       1.4\n",
       "10           2.2       0.0\n",
       "11          15.6       2.2\n",
       "12           3.6      15.6\n",
       "13           0.0       3.6\n",
       "14           0.0       NaN\n",
       "15          16.8       0.0\n",
       "16          10.6      16.8\n",
       "17           0.0      10.6\n",
       "18           0.0       0.0\n",
       "19           0.0       0.0"
      ]
     },
     "execution_count": 75,
     "metadata": {},
     "output_type": "execute_result"
    }
   ],
   "source": [
    "data[['amountOfRain','rainfall']].head(20)"
   ]
  },
  {
   "cell_type": "markdown",
   "metadata": {},
   "source": [
    "Ok, its clear that the coef of amountOfRain is super high because there is a data leak. This variable is the amount of rain in the next day. So of course it will be a good variable to predict if it will rain tomorrow. However, we should not have this information. We will remove this from the model."
   ]
  },
  {
   "cell_type": "code",
   "execution_count": 76,
   "metadata": {
    "ExecuteTime": {
     "end_time": "2020-08-04T22:21:13.442043Z",
     "start_time": "2020-08-04T22:21:13.028825Z"
    }
   },
   "outputs": [
    {
     "data": {
      "text/plain": [
       "<matplotlib.axes._subplots.AxesSubplot at 0x20931139c48>"
      ]
     },
     "execution_count": 76,
     "metadata": {},
     "output_type": "execute_result"
    },
    {
     "data": {
      "image/png": "[encoded data removed]",
      "text/plain": [
       "<Figure size 432x288 with 2 Axes>"
      ]
     },
     "metadata": {
      "needs_background": "light"
     },
     "output_type": "display_data"
    }
   ],
   "source": [
    "sns.heatmap(data_missingless.corr(),cmap='Blues')"
   ]
  },
  {
   "cell_type": "code",
   "execution_count": 77,
   "metadata": {
    "ExecuteTime": {
     "end_time": "2020-08-04T22:21:13.751346Z",
     "start_time": "2020-08-04T22:21:13.533927Z"
    }
   },
   "outputs": [
    {
     "data": {
      "text/plain": [
       "<matplotlib.axes._subplots.AxesSubplot at 0x209314525c8>"
      ]
     },
     "execution_count": 77,
     "metadata": {},
     "output_type": "execute_result"
    },
    {
     "data": {
      "image/png": "[encoded data removed]",
      "text/plain": [
       "<Figure size 432x288 with 1 Axes>"
      ]
     },
     "metadata": {
      "needs_background": "light"
     },
     "output_type": "display_data"
    }
   ],
   "source": [
    "sns.distplot(data_missingless['precipitation3pm'])"
   ]
  },
  {
   "cell_type": "code",
   "execution_count": 78,
   "metadata": {
    "ExecuteTime": {
     "end_time": "2020-08-04T22:21:14.056587Z",
     "start_time": "2020-08-04T22:21:13.839170Z"
    }
   },
   "outputs": [
    {
     "data": {
      "text/plain": [
       "<matplotlib.axes._subplots.AxesSubplot at 0x20931551908>"
      ]
     },
     "execution_count": 78,
     "metadata": {},
     "output_type": "execute_result"
    },
    {
     "data": {
      "image/png": "[encoded data removed]",
      "text/plain": [
       "<Figure size 432x288 with 1 Axes>"
      ]
     },
     "metadata": {
      "needs_background": "light"
     },
     "output_type": "display_data"
    }
   ],
   "source": [
    "sns.distplot(data_missingless['precipitation9am'])"
   ]
  },
  {
   "cell_type": "code",
   "execution_count": 79,
   "metadata": {
    "ExecuteTime": {
     "end_time": "2020-08-04T22:21:14.162332Z",
     "start_time": "2020-08-04T22:21:14.148368Z"
    }
   },
   "outputs": [
    {
     "data": {
      "text/plain": [
       "count    61324.000000\n",
       "mean         9.987470\n",
       "std          5.017327\n",
       "min        -11.023931\n",
       "25%          6.627903\n",
       "50%          9.967814\n",
       "75%         13.390447\n",
       "max         32.478590\n",
       "Name: precipitation9am, dtype: float64"
      ]
     },
     "execution_count": 79,
     "metadata": {},
     "output_type": "execute_result"
    }
   ],
   "source": [
    "data_missingless['precipitation9am'].describe()"
   ]
  },
  {
   "cell_type": "markdown",
   "metadata": {},
   "source": [
    "# Logistic Regression"
   ]
  },
  {
   "cell_type": "code",
   "execution_count": 80,
   "metadata": {
    "ExecuteTime": {
     "end_time": "2020-08-04T22:21:14.284984Z",
     "start_time": "2020-08-04T22:21:14.257025Z"
    }
   },
   "outputs": [
    {
     "data": {
      "text/html": [
       "<div>\n",
       "<style scoped>\n",
       "    .dataframe tbody tr th:only-of-type {\n",
       "        vertical-align: middle;\n",
       "    }\n",
       "\n",
       "    .dataframe tbody tr th {\n",
       "        vertical-align: top;\n",
       "    }\n",
       "\n",
       "    .dataframe thead th {\n",
       "        text-align: right;\n",
       "    }\n",
       "</style>\n",
       "<table border=\"1\" class=\"dataframe\">\n",
       "  <thead>\n",
       "    <tr style=\"text-align: right;\">\n",
       "      <th></th>\n",
       "      <th>mintemp</th>\n",
       "      <th>maxtemp</th>\n",
       "      <th>rainfall</th>\n",
       "      <th>evaporation</th>\n",
       "      <th>sunshine</th>\n",
       "      <th>humidity9am</th>\n",
       "      <th>humidity3pm</th>\n",
       "      <th>pressure9am</th>\n",
       "      <th>pressure3pm</th>\n",
       "      <th>cloud9am</th>\n",
       "      <th>cloud3pm</th>\n",
       "      <th>temp9am</th>\n",
       "      <th>temp3pm</th>\n",
       "      <th>raintoday</th>\n",
       "      <th>amountOfRain</th>\n",
       "      <th>temp</th>\n",
       "      <th>humidity</th>\n",
       "      <th>precipitation3pm</th>\n",
       "      <th>precipitation9am</th>\n",
       "      <th>wind_gustspeed</th>\n",
       "      <th>wind_speed3pm</th>\n",
       "      <th>wind_gustdir_E</th>\n",
       "      <th>wind_gustdir_N</th>\n",
       "      <th>wind_gustdir_S</th>\n",
       "      <th>wind_gustdir_W</th>\n",
       "    </tr>\n",
       "  </thead>\n",
       "  <tbody>\n",
       "    <tr>\n",
       "      <th>0</th>\n",
       "      <td>-1.823203</td>\n",
       "      <td>-1.109087</td>\n",
       "      <td>-0.281460</td>\n",
       "      <td>-0.932913</td>\n",
       "      <td>0.158475</td>\n",
       "      <td>0.491839</td>\n",
       "      <td>0.358723</td>\n",
       "      <td>3.092749</td>\n",
       "      <td>3.143567</td>\n",
       "      <td>0.983724</td>\n",
       "      <td>0.624905</td>\n",
       "      <td>-1.052638</td>\n",
       "      <td>-1.233840</td>\n",
       "      <td>-0.540985</td>\n",
       "      <td>-0.270034</td>\n",
       "      <td>-0.763206</td>\n",
       "      <td>0.400557</td>\n",
       "      <td>1.891522</td>\n",
       "      <td>-0.702434</td>\n",
       "      <td>0.014100</td>\n",
       "      <td>0.497839</td>\n",
       "      <td>-0.514717</td>\n",
       "      <td>-0.600583</td>\n",
       "      <td>1.424935</td>\n",
       "      <td>-0.492937</td>\n",
       "    </tr>\n",
       "    <tr>\n",
       "      <th>1</th>\n",
       "      <td>0.479626</td>\n",
       "      <td>0.493555</td>\n",
       "      <td>-0.310008</td>\n",
       "      <td>0.245973</td>\n",
       "      <td>0.371489</td>\n",
       "      <td>0.273112</td>\n",
       "      <td>0.107848</td>\n",
       "      <td>0.084678</td>\n",
       "      <td>-0.212587</td>\n",
       "      <td>-0.094448</td>\n",
       "      <td>-1.643277</td>\n",
       "      <td>0.803693</td>\n",
       "      <td>0.561759</td>\n",
       "      <td>-0.540985</td>\n",
       "      <td>-0.270034</td>\n",
       "      <td>0.542304</td>\n",
       "      <td>0.165506</td>\n",
       "      <td>-0.311278</td>\n",
       "      <td>-0.468423</td>\n",
       "      <td>-0.731535</td>\n",
       "      <td>0.264733</td>\n",
       "      <td>-0.514717</td>\n",
       "      <td>1.665050</td>\n",
       "      <td>-0.701786</td>\n",
       "      <td>-0.492937</td>\n",
       "    </tr>\n",
       "    <tr>\n",
       "      <th>2</th>\n",
       "      <td>-1.714286</td>\n",
       "      <td>-0.430491</td>\n",
       "      <td>-0.310008</td>\n",
       "      <td>-0.932913</td>\n",
       "      <td>0.051968</td>\n",
       "      <td>0.874610</td>\n",
       "      <td>0.258373</td>\n",
       "      <td>0.929803</td>\n",
       "      <td>0.723679</td>\n",
       "      <td>-0.094448</td>\n",
       "      <td>-0.131155</td>\n",
       "      <td>-1.372171</td>\n",
       "      <td>-0.748145</td>\n",
       "      <td>-0.540985</td>\n",
       "      <td>-0.270034</td>\n",
       "      <td>-0.210422</td>\n",
       "      <td>0.306536</td>\n",
       "      <td>0.318093</td>\n",
       "      <td>-1.046291</td>\n",
       "      <td>-0.955226</td>\n",
       "      <td>-1.250459</td>\n",
       "      <td>-0.514717</td>\n",
       "      <td>1.665050</td>\n",
       "      <td>-0.701786</td>\n",
       "      <td>-0.492937</td>\n",
       "    </tr>\n",
       "    <tr>\n",
       "      <th>3</th>\n",
       "      <td>1.662161</td>\n",
       "      <td>2.110635</td>\n",
       "      <td>-0.310008</td>\n",
       "      <td>1.746374</td>\n",
       "      <td>1.303423</td>\n",
       "      <td>-1.586063</td>\n",
       "      <td>-1.848977</td>\n",
       "      <td>-1.390709</td>\n",
       "      <td>-1.408127</td>\n",
       "      <td>-1.172620</td>\n",
       "      <td>-0.131155</td>\n",
       "      <td>1.777506</td>\n",
       "      <td>2.166023</td>\n",
       "      <td>-0.540985</td>\n",
       "      <td>-0.270034</td>\n",
       "      <td>1.859574</td>\n",
       "      <td>-1.667895</td>\n",
       "      <td>1.262150</td>\n",
       "      <td>-0.706128</td>\n",
       "      <td>0.386917</td>\n",
       "      <td>1.197158</td>\n",
       "      <td>-0.514717</td>\n",
       "      <td>-0.600583</td>\n",
       "      <td>-0.701786</td>\n",
       "      <td>2.028657</td>\n",
       "    </tr>\n",
       "    <tr>\n",
       "      <th>4</th>\n",
       "      <td>1.817757</td>\n",
       "      <td>1.330971</td>\n",
       "      <td>-0.310008</td>\n",
       "      <td>0.192388</td>\n",
       "      <td>0.930649</td>\n",
       "      <td>0.655884</td>\n",
       "      <td>0.659773</td>\n",
       "      <td>-0.602881</td>\n",
       "      <td>-0.803155</td>\n",
       "      <td>-1.172620</td>\n",
       "      <td>-0.509186</td>\n",
       "      <td>1.625348</td>\n",
       "      <td>1.341814</td>\n",
       "      <td>-0.540985</td>\n",
       "      <td>-0.270034</td>\n",
       "      <td>1.224462</td>\n",
       "      <td>0.682619</td>\n",
       "      <td>-0.940650</td>\n",
       "      <td>-1.298894</td>\n",
       "      <td>-0.955226</td>\n",
       "      <td>-1.017353</td>\n",
       "      <td>1.942814</td>\n",
       "      <td>-0.600583</td>\n",
       "      <td>-0.701786</td>\n",
       "      <td>-0.492937</td>\n",
       "    </tr>\n",
       "    <tr>\n",
       "      <th>...</th>\n",
       "      <td>...</td>\n",
       "      <td>...</td>\n",
       "      <td>...</td>\n",
       "      <td>...</td>\n",
       "      <td>...</td>\n",
       "      <td>...</td>\n",
       "      <td>...</td>\n",
       "      <td>...</td>\n",
       "      <td>...</td>\n",
       "      <td>...</td>\n",
       "      <td>...</td>\n",
       "      <td>...</td>\n",
       "      <td>...</td>\n",
       "      <td>...</td>\n",
       "      <td>...</td>\n",
       "      <td>...</td>\n",
       "      <td>...</td>\n",
       "      <td>...</td>\n",
       "      <td>...</td>\n",
       "      <td>...</td>\n",
       "      <td>...</td>\n",
       "      <td>...</td>\n",
       "      <td>...</td>\n",
       "      <td>...</td>\n",
       "      <td>...</td>\n",
       "    </tr>\n",
       "    <tr>\n",
       "      <th>15326</th>\n",
       "      <td>-0.905183</td>\n",
       "      <td>-1.383413</td>\n",
       "      <td>0.004029</td>\n",
       "      <td>-0.450641</td>\n",
       "      <td>-1.758648</td>\n",
       "      <td>-0.328386</td>\n",
       "      <td>0.459073</td>\n",
       "      <td>-0.631529</td>\n",
       "      <td>-0.918388</td>\n",
       "      <td>0.983724</td>\n",
       "      <td>1.002936</td>\n",
       "      <td>-0.763538</td>\n",
       "      <td>-1.292712</td>\n",
       "      <td>1.848481</td>\n",
       "      <td>-0.177112</td>\n",
       "      <td>-0.986671</td>\n",
       "      <td>0.494577</td>\n",
       "      <td>0.318093</td>\n",
       "      <td>-0.225201</td>\n",
       "      <td>2.101877</td>\n",
       "      <td>0.964052</td>\n",
       "      <td>-0.514717</td>\n",
       "      <td>1.665050</td>\n",
       "      <td>-0.701786</td>\n",
       "      <td>-0.492937</td>\n",
       "    </tr>\n",
       "    <tr>\n",
       "      <th>15327</th>\n",
       "      <td>-0.671788</td>\n",
       "      <td>-1.599986</td>\n",
       "      <td>-0.310008</td>\n",
       "      <td>-1.308014</td>\n",
       "      <td>-2.051541</td>\n",
       "      <td>1.421426</td>\n",
       "      <td>1.964323</td>\n",
       "      <td>0.929803</td>\n",
       "      <td>0.824508</td>\n",
       "      <td>1.343115</td>\n",
       "      <td>1.380966</td>\n",
       "      <td>-1.174365</td>\n",
       "      <td>-1.454610</td>\n",
       "      <td>-0.540985</td>\n",
       "      <td>-0.084190</td>\n",
       "      <td>-1.163091</td>\n",
       "      <td>1.904886</td>\n",
       "      <td>-1.255336</td>\n",
       "      <td>-1.161010</td>\n",
       "      <td>-1.402607</td>\n",
       "      <td>-0.784246</td>\n",
       "      <td>1.942814</td>\n",
       "      <td>-0.600583</td>\n",
       "      <td>-0.701786</td>\n",
       "      <td>-0.492937</td>\n",
       "    </tr>\n",
       "    <tr>\n",
       "      <th>15328</th>\n",
       "      <td>-0.002723</td>\n",
       "      <td>-0.387176</td>\n",
       "      <td>-0.310008</td>\n",
       "      <td>0.245973</td>\n",
       "      <td>0.611129</td>\n",
       "      <td>-1.640745</td>\n",
       "      <td>-1.146527</td>\n",
       "      <td>-0.445316</td>\n",
       "      <td>-0.313416</td>\n",
       "      <td>-1.532011</td>\n",
       "      <td>-1.643277</td>\n",
       "      <td>-0.200552</td>\n",
       "      <td>-0.321322</td>\n",
       "      <td>-0.540985</td>\n",
       "      <td>-0.270034</td>\n",
       "      <td>-0.175138</td>\n",
       "      <td>-1.009751</td>\n",
       "      <td>-0.625964</td>\n",
       "      <td>0.096555</td>\n",
       "      <td>1.132552</td>\n",
       "      <td>1.313711</td>\n",
       "      <td>-0.514717</td>\n",
       "      <td>-0.600583</td>\n",
       "      <td>-0.701786</td>\n",
       "      <td>2.028657</td>\n",
       "    </tr>\n",
       "    <tr>\n",
       "      <th>15329</th>\n",
       "      <td>-1.480891</td>\n",
       "      <td>-1.022457</td>\n",
       "      <td>-0.053069</td>\n",
       "      <td>-0.986499</td>\n",
       "      <td>-0.427313</td>\n",
       "      <td>0.819928</td>\n",
       "      <td>1.613098</td>\n",
       "      <td>-0.430991</td>\n",
       "      <td>-0.255799</td>\n",
       "      <td>-0.813230</td>\n",
       "      <td>1.002936</td>\n",
       "      <td>-1.113502</td>\n",
       "      <td>-1.174968</td>\n",
       "      <td>1.848481</td>\n",
       "      <td>-0.223573</td>\n",
       "      <td>-0.692638</td>\n",
       "      <td>1.575814</td>\n",
       "      <td>1.262150</td>\n",
       "      <td>-0.478184</td>\n",
       "      <td>0.014100</td>\n",
       "      <td>0.730945</td>\n",
       "      <td>-0.514717</td>\n",
       "      <td>-0.600583</td>\n",
       "      <td>-0.701786</td>\n",
       "      <td>2.028657</td>\n",
       "    </tr>\n",
       "    <tr>\n",
       "      <th>15330</th>\n",
       "      <td>-1.760965</td>\n",
       "      <td>-1.830997</td>\n",
       "      <td>1.402922</td>\n",
       "      <td>-1.093671</td>\n",
       "      <td>-0.453939</td>\n",
       "      <td>0.054386</td>\n",
       "      <td>1.010998</td>\n",
       "      <td>1.144665</td>\n",
       "      <td>1.789582</td>\n",
       "      <td>-0.094448</td>\n",
       "      <td>0.246875</td>\n",
       "      <td>-1.539545</td>\n",
       "      <td>-1.896151</td>\n",
       "      <td>1.848481</td>\n",
       "      <td>-0.223573</td>\n",
       "      <td>-1.351273</td>\n",
       "      <td>1.011690</td>\n",
       "      <td>-2.199393</td>\n",
       "      <td>0.268559</td>\n",
       "      <td>0.983425</td>\n",
       "      <td>-1.017353</td>\n",
       "      <td>-0.514717</td>\n",
       "      <td>-0.600583</td>\n",
       "      <td>1.424935</td>\n",
       "      <td>-0.492937</td>\n",
       "    </tr>\n",
       "  </tbody>\n",
       "</table>\n",
       "<p>15331 rows × 25 columns</p>\n",
       "</div>"
      ],
      "text/plain": [
       "        mintemp   maxtemp  rainfall  evaporation  sunshine  humidity9am  \\\n",
       "0     -1.823203 -1.109087 -0.281460    -0.932913  0.158475     0.491839   \n",
       "1      0.479626  0.493555 -0.310008     0.245973  0.371489     0.273112   \n",
       "2     -1.714286 -0.430491 -0.310008    -0.932913  0.051968     0.874610   \n",
       "3      1.662161  2.110635 -0.310008     1.746374  1.303423    -1.586063   \n",
       "4      1.817757  1.330971 -0.310008     0.192388  0.930649     0.655884   \n",
       "...         ...       ...       ...          ...       ...          ...   \n",
       "15326 -0.905183 -1.383413  0.004029    -0.450641 -1.758648    -0.328386   \n",
       "15327 -0.671788 -1.599986 -0.310008    -1.308014 -2.051541     1.421426   \n",
       "15328 -0.002723 -0.387176 -0.310008     0.245973  0.611129    -1.640745   \n",
       "15329 -1.480891 -1.022457 -0.053069    -0.986499 -0.427313     0.819928   \n",
       "15330 -1.760965 -1.830997  1.402922    -1.093671 -0.453939     0.054386   \n",
       "\n",
       "       humidity3pm  pressure9am  pressure3pm  cloud9am  cloud3pm   temp9am  \\\n",
       "0         0.358723     3.092749     3.143567  0.983724  0.624905 -1.052638   \n",
       "1         0.107848     0.084678    -0.212587 -0.094448 -1.643277  0.803693   \n",
       "2         0.258373     0.929803     0.723679 -0.094448 -0.131155 -1.372171   \n",
       "3        -1.848977    -1.390709    -1.408127 -1.172620 -0.131155  1.777506   \n",
       "4         0.659773    -0.602881    -0.803155 -1.172620 -0.509186  1.625348   \n",
       "...            ...          ...          ...       ...       ...       ...   \n",
       "15326     0.459073    -0.631529    -0.918388  0.983724  1.002936 -0.763538   \n",
       "15327     1.964323     0.929803     0.824508  1.343115  1.380966 -1.174365   \n",
       "15328    -1.146527    -0.445316    -0.313416 -1.532011 -1.643277 -0.200552   \n",
       "15329     1.613098    -0.430991    -0.255799 -0.813230  1.002936 -1.113502   \n",
       "15330     1.010998     1.144665     1.789582 -0.094448  0.246875 -1.539545   \n",
       "\n",
       "        temp3pm  raintoday  amountOfRain      temp  humidity  \\\n",
       "0     -1.233840  -0.540985     -0.270034 -0.763206  0.400557   \n",
       "1      0.561759  -0.540985     -0.270034  0.542304  0.165506   \n",
       "2     -0.748145  -0.540985     -0.270034 -0.210422  0.306536   \n",
       "3      2.166023  -0.540985     -0.270034  1.859574 -1.667895   \n",
       "4      1.341814  -0.540985     -0.270034  1.224462  0.682619   \n",
       "...         ...        ...           ...       ...       ...   \n",
       "15326 -1.292712   1.848481     -0.177112 -0.986671  0.494577   \n",
       "15327 -1.454610  -0.540985     -0.084190 -1.163091  1.904886   \n",
       "15328 -0.321322  -0.540985     -0.270034 -0.175138 -1.009751   \n",
       "15329 -1.174968   1.848481     -0.223573 -0.692638  1.575814   \n",
       "15330 -1.896151   1.848481     -0.223573 -1.351273  1.011690   \n",
       "\n",
       "       precipitation3pm  precipitation9am  wind_gustspeed  wind_speed3pm  \\\n",
       "0              1.891522         -0.702434        0.014100       0.497839   \n",
       "1             -0.311278         -0.468423       -0.731535       0.264733   \n",
       "2              0.318093         -1.046291       -0.955226      -1.250459   \n",
       "3              1.262150         -0.706128        0.386917       1.197158   \n",
       "4             -0.940650         -1.298894       -0.955226      -1.017353   \n",
       "...                 ...               ...             ...            ...   \n",
       "15326          0.318093         -0.225201        2.101877       0.964052   \n",
       "15327         -1.255336         -1.161010       -1.402607      -0.784246   \n",
       "15328         -0.625964          0.096555        1.132552       1.313711   \n",
       "15329          1.262150         -0.478184        0.014100       0.730945   \n",
       "15330         -2.199393          0.268559        0.983425      -1.017353   \n",
       "\n",
       "       wind_gustdir_E  wind_gustdir_N  wind_gustdir_S  wind_gustdir_W  \n",
       "0           -0.514717       -0.600583        1.424935       -0.492937  \n",
       "1           -0.514717        1.665050       -0.701786       -0.492937  \n",
       "2           -0.514717        1.665050       -0.701786       -0.492937  \n",
       "3           -0.514717       -0.600583       -0.701786        2.028657  \n",
       "4            1.942814       -0.600583       -0.701786       -0.492937  \n",
       "...               ...             ...             ...             ...  \n",
       "15326       -0.514717        1.665050       -0.701786       -0.492937  \n",
       "15327        1.942814       -0.600583       -0.701786       -0.492937  \n",
       "15328       -0.514717       -0.600583       -0.701786        2.028657  \n",
       "15329       -0.514717       -0.600583       -0.701786        2.028657  \n",
       "15330       -0.514717       -0.600583        1.424935       -0.492937  \n",
       "\n",
       "[15331 rows x 25 columns]"
      ]
     },
     "execution_count": 80,
     "metadata": {},
     "output_type": "execute_result"
    }
   ],
   "source": [
    "pd.DataFrame(X_test_std,columns=X_train.columns)"
   ]
  },
  {
   "cell_type": "code",
   "execution_count": 81,
   "metadata": {
    "ExecuteTime": {
     "end_time": "2020-08-04T22:21:14.297913Z",
     "start_time": "2020-08-04T22:21:14.286943Z"
    }
   },
   "outputs": [],
   "source": [
    "X_train_std_2=pd.DataFrame(X_train_std,columns=X_train.columns).drop(columns=['amountOfRain'])\n",
    "X_test_std_2=pd.DataFrame(X_test_std,columns=X_test.columns).drop(columns=['amountOfRain'])"
   ]
  },
  {
   "cell_type": "code",
   "execution_count": 82,
   "metadata": {
    "ExecuteTime": {
     "end_time": "2020-08-04T22:21:14.750725Z",
     "start_time": "2020-08-04T22:21:14.299909Z"
    }
   },
   "outputs": [
    {
     "name": "stderr",
     "output_type": "stream",
     "text": [
      "C:\\Users\\Pedro\\Anaconda3\\lib\\site-packages\\sklearn\\linear_model\\logistic.py:432: FutureWarning: Default solver will be changed to 'lbfgs' in 0.22. Specify a solver to silence this warning.\n",
      "  FutureWarning)\n"
     ]
    },
    {
     "data": {
      "text/plain": [
       "LogisticRegression(C=1.0, class_weight=None, dual=False, fit_intercept=True,\n",
       "                   intercept_scaling=1, l1_ratio=None, max_iter=100,\n",
       "                   multi_class='warn', n_jobs=None, penalty='l2',\n",
       "                   random_state=None, solver='warn', tol=0.0001, verbose=0,\n",
       "                   warm_start=False)"
      ]
     },
     "execution_count": 82,
     "metadata": {},
     "output_type": "execute_result"
    }
   ],
   "source": [
    "lg=LogisticRegression()\n",
    "lg.fit(X_train_std_2,y_train)"
   ]
  },
  {
   "cell_type": "code",
   "execution_count": 83,
   "metadata": {
    "ExecuteTime": {
     "end_time": "2020-08-04T22:21:14.873396Z",
     "start_time": "2020-08-04T22:21:14.864421Z"
    }
   },
   "outputs": [
    {
     "data": {
      "text/html": [
       "<div>\n",
       "<style scoped>\n",
       "    .dataframe tbody tr th:only-of-type {\n",
       "        vertical-align: middle;\n",
       "    }\n",
       "\n",
       "    .dataframe tbody tr th {\n",
       "        vertical-align: top;\n",
       "    }\n",
       "\n",
       "    .dataframe thead th {\n",
       "        text-align: right;\n",
       "    }\n",
       "</style>\n",
       "<table border=\"1\" class=\"dataframe\">\n",
       "  <thead>\n",
       "    <tr style=\"text-align: right;\">\n",
       "      <th></th>\n",
       "      <th>coef</th>\n",
       "    </tr>\n",
       "  </thead>\n",
       "  <tbody>\n",
       "    <tr>\n",
       "      <th>humidity3pm</th>\n",
       "      <td>1.148448</td>\n",
       "    </tr>\n",
       "    <tr>\n",
       "      <th>pressure9am</th>\n",
       "      <td>1.025943</td>\n",
       "    </tr>\n",
       "    <tr>\n",
       "      <th>wind_gustspeed</th>\n",
       "      <td>0.700185</td>\n",
       "    </tr>\n",
       "    <tr>\n",
       "      <th>cloud3pm</th>\n",
       "      <td>0.333680</td>\n",
       "    </tr>\n",
       "    <tr>\n",
       "      <th>temp9am</th>\n",
       "      <td>0.288763</td>\n",
       "    </tr>\n",
       "    <tr>\n",
       "      <th>raintoday</th>\n",
       "      <td>0.204234</td>\n",
       "    </tr>\n",
       "    <tr>\n",
       "      <th>maxtemp</th>\n",
       "      <td>0.162752</td>\n",
       "    </tr>\n",
       "    <tr>\n",
       "      <th>wind_gustdir_W</th>\n",
       "      <td>0.063551</td>\n",
       "    </tr>\n",
       "    <tr>\n",
       "      <th>rainfall</th>\n",
       "      <td>0.061127</td>\n",
       "    </tr>\n",
       "    <tr>\n",
       "      <th>humidity9am</th>\n",
       "      <td>0.044585</td>\n",
       "    </tr>\n",
       "    <tr>\n",
       "      <th>precipitation3pm</th>\n",
       "      <td>0.022057</td>\n",
       "    </tr>\n",
       "    <tr>\n",
       "      <th>wind_gustdir_S</th>\n",
       "      <td>-0.001762</td>\n",
       "    </tr>\n",
       "    <tr>\n",
       "      <th>wind_gustdir_N</th>\n",
       "      <td>-0.004356</td>\n",
       "    </tr>\n",
       "    <tr>\n",
       "      <th>temp</th>\n",
       "      <td>-0.005153</td>\n",
       "    </tr>\n",
       "    <tr>\n",
       "      <th>temp3pm</th>\n",
       "      <td>-0.012768</td>\n",
       "    </tr>\n",
       "    <tr>\n",
       "      <th>humidity</th>\n",
       "      <td>-0.019745</td>\n",
       "    </tr>\n",
       "    <tr>\n",
       "      <th>evaporation</th>\n",
       "      <td>-0.026954</td>\n",
       "    </tr>\n",
       "    <tr>\n",
       "      <th>precipitation9am</th>\n",
       "      <td>-0.034028</td>\n",
       "    </tr>\n",
       "    <tr>\n",
       "      <th>wind_gustdir_E</th>\n",
       "      <td>-0.055190</td>\n",
       "    </tr>\n",
       "    <tr>\n",
       "      <th>cloud9am</th>\n",
       "      <td>-0.055988</td>\n",
       "    </tr>\n",
       "    <tr>\n",
       "      <th>wind_speed3pm</th>\n",
       "      <td>-0.240786</td>\n",
       "    </tr>\n",
       "    <tr>\n",
       "      <th>mintemp</th>\n",
       "      <td>-0.331292</td>\n",
       "    </tr>\n",
       "    <tr>\n",
       "      <th>sunshine</th>\n",
       "      <td>-0.545597</td>\n",
       "    </tr>\n",
       "    <tr>\n",
       "      <th>pressure3pm</th>\n",
       "      <td>-1.431206</td>\n",
       "    </tr>\n",
       "  </tbody>\n",
       "</table>\n",
       "</div>"
      ],
      "text/plain": [
       "                      coef\n",
       "humidity3pm       1.148448\n",
       "pressure9am       1.025943\n",
       "wind_gustspeed    0.700185\n",
       "cloud3pm          0.333680\n",
       "temp9am           0.288763\n",
       "raintoday         0.204234\n",
       "maxtemp           0.162752\n",
       "wind_gustdir_W    0.063551\n",
       "rainfall          0.061127\n",
       "humidity9am       0.044585\n",
       "precipitation3pm  0.022057\n",
       "wind_gustdir_S   -0.001762\n",
       "wind_gustdir_N   -0.004356\n",
       "temp             -0.005153\n",
       "temp3pm          -0.012768\n",
       "humidity         -0.019745\n",
       "evaporation      -0.026954\n",
       "precipitation9am -0.034028\n",
       "wind_gustdir_E   -0.055190\n",
       "cloud9am         -0.055988\n",
       "wind_speed3pm    -0.240786\n",
       "mintemp          -0.331292\n",
       "sunshine         -0.545597\n",
       "pressure3pm      -1.431206"
      ]
     },
     "execution_count": 83,
     "metadata": {},
     "output_type": "execute_result"
    }
   ],
   "source": [
    "pd.DataFrame(data=lg.coef_[0],index=X_train_std_2.columns,columns=['coef']).sort_values('coef',ascending=False)"
   ]
  },
  {
   "cell_type": "code",
   "execution_count": 84,
   "metadata": {
    "ExecuteTime": {
     "end_time": "2020-08-04T22:21:16.239017Z",
     "start_time": "2020-08-04T22:21:15.194517Z"
    }
   },
   "outputs": [
    {
     "data": {
      "text/plain": [
       "0.7272086296047839"
      ]
     },
     "execution_count": 84,
     "metadata": {},
     "output_type": "execute_result"
    }
   ],
   "source": [
    "cross_val_score(lg, X_train_std_2, y_train, cv=KFold(6, shuffle=True), scoring='precision', n_jobs=-1).mean()"
   ]
  },
  {
   "cell_type": "code",
   "execution_count": 85,
   "metadata": {
    "ExecuteTime": {
     "end_time": "2020-08-04T22:21:17.466317Z",
     "start_time": "2020-08-04T22:21:16.402530Z"
    }
   },
   "outputs": [
    {
     "data": {
      "text/plain": [
       "0.533152652317278"
      ]
     },
     "execution_count": 85,
     "metadata": {},
     "output_type": "execute_result"
    }
   ],
   "source": [
    "cross_val_score(lg, X_train_std_2, y_train, cv=KFold(6, shuffle=True), scoring='recall', n_jobs=-1).mean()"
   ]
  },
  {
   "cell_type": "code",
   "execution_count": 86,
   "metadata": {
    "ExecuteTime": {
     "end_time": "2020-08-04T22:21:18.713703Z",
     "start_time": "2020-08-04T22:21:17.627895Z"
    }
   },
   "outputs": [
    {
     "data": {
      "text/plain": [
       "0.883297684771406"
      ]
     },
     "execution_count": 86,
     "metadata": {},
     "output_type": "execute_result"
    }
   ],
   "source": [
    "cross_val_score(lg, X_train_std_2, y_train, cv=KFold(6, shuffle=True), scoring='roc_auc', n_jobs=-1).mean()"
   ]
  },
  {
   "cell_type": "markdown",
   "metadata": {},
   "source": [
    "Lets try dropping the variables with the smallest (in absolute terms) coeficients to see what happens to the model"
   ]
  },
  {
   "cell_type": "code",
   "execution_count": 87,
   "metadata": {
    "ExecuteTime": {
     "end_time": "2020-08-04T22:21:18.907147Z",
     "start_time": "2020-08-04T22:21:18.879221Z"
    }
   },
   "outputs": [],
   "source": [
    "X_train_std_3=pd.DataFrame(X_train_std_2,columns=X_train.columns).drop(columns=['wind_gustdir_S','wind_gustdir_N',\n",
    "                                                                               'temp','temp3pm','humidity',\n",
    "                                                                                'amountOfRain','precipitation3pm'])\n",
    "X_test_std_3=pd.DataFrame(X_test_std_2,columns=X_test.columns).drop(columns=['wind_gustdir_S','wind_gustdir_N',\n",
    "                                                                               'temp','temp3pm','humidity',\n",
    "                                                                            'amountOfRain','precipitation3pm'])"
   ]
  },
  {
   "cell_type": "code",
   "execution_count": 88,
   "metadata": {
    "ExecuteTime": {
     "end_time": "2020-08-04T22:21:19.376922Z",
     "start_time": "2020-08-04T22:21:19.061734Z"
    }
   },
   "outputs": [
    {
     "name": "stderr",
     "output_type": "stream",
     "text": [
      "C:\\Users\\Pedro\\Anaconda3\\lib\\site-packages\\sklearn\\linear_model\\logistic.py:432: FutureWarning: Default solver will be changed to 'lbfgs' in 0.22. Specify a solver to silence this warning.\n",
      "  FutureWarning)\n"
     ]
    },
    {
     "data": {
      "text/plain": [
       "LogisticRegression(C=1.0, class_weight=None, dual=False, fit_intercept=True,\n",
       "                   intercept_scaling=1, l1_ratio=None, max_iter=100,\n",
       "                   multi_class='warn', n_jobs=None, penalty='l2',\n",
       "                   random_state=None, solver='warn', tol=0.0001, verbose=0,\n",
       "                   warm_start=False)"
      ]
     },
     "execution_count": 88,
     "metadata": {},
     "output_type": "execute_result"
    }
   ],
   "source": [
    "lg2=LogisticRegression()\n",
    "lg2.fit(X_train_std_3,y_train)"
   ]
  },
  {
   "cell_type": "code",
   "execution_count": 89,
   "metadata": {
    "ExecuteTime": {
     "end_time": "2020-08-04T22:21:19.519509Z",
     "start_time": "2020-08-04T22:21:19.509535Z"
    }
   },
   "outputs": [
    {
     "data": {
      "text/html": [
       "<div>\n",
       "<style scoped>\n",
       "    .dataframe tbody tr th:only-of-type {\n",
       "        vertical-align: middle;\n",
       "    }\n",
       "\n",
       "    .dataframe tbody tr th {\n",
       "        vertical-align: top;\n",
       "    }\n",
       "\n",
       "    .dataframe thead th {\n",
       "        text-align: right;\n",
       "    }\n",
       "</style>\n",
       "<table border=\"1\" class=\"dataframe\">\n",
       "  <thead>\n",
       "    <tr style=\"text-align: right;\">\n",
       "      <th></th>\n",
       "      <th>coef</th>\n",
       "    </tr>\n",
       "  </thead>\n",
       "  <tbody>\n",
       "    <tr>\n",
       "      <th>humidity3pm</th>\n",
       "      <td>1.132802</td>\n",
       "    </tr>\n",
       "    <tr>\n",
       "      <th>pressure9am</th>\n",
       "      <td>1.022168</td>\n",
       "    </tr>\n",
       "    <tr>\n",
       "      <th>wind_gustspeed</th>\n",
       "      <td>0.699973</td>\n",
       "    </tr>\n",
       "    <tr>\n",
       "      <th>cloud3pm</th>\n",
       "      <td>0.333955</td>\n",
       "    </tr>\n",
       "    <tr>\n",
       "      <th>temp9am</th>\n",
       "      <td>0.284385</td>\n",
       "    </tr>\n",
       "    <tr>\n",
       "      <th>raintoday</th>\n",
       "      <td>0.204566</td>\n",
       "    </tr>\n",
       "    <tr>\n",
       "      <th>maxtemp</th>\n",
       "      <td>0.149933</td>\n",
       "    </tr>\n",
       "    <tr>\n",
       "      <th>wind_gustdir_W</th>\n",
       "      <td>0.066375</td>\n",
       "    </tr>\n",
       "    <tr>\n",
       "      <th>rainfall</th>\n",
       "      <td>0.060851</td>\n",
       "    </tr>\n",
       "    <tr>\n",
       "      <th>humidity9am</th>\n",
       "      <td>0.042584</td>\n",
       "    </tr>\n",
       "    <tr>\n",
       "      <th>evaporation</th>\n",
       "      <td>-0.026470</td>\n",
       "    </tr>\n",
       "    <tr>\n",
       "      <th>precipitation9am</th>\n",
       "      <td>-0.033961</td>\n",
       "    </tr>\n",
       "    <tr>\n",
       "      <th>wind_gustdir_E</th>\n",
       "      <td>-0.052715</td>\n",
       "    </tr>\n",
       "    <tr>\n",
       "      <th>cloud9am</th>\n",
       "      <td>-0.056266</td>\n",
       "    </tr>\n",
       "    <tr>\n",
       "      <th>wind_speed3pm</th>\n",
       "      <td>-0.240528</td>\n",
       "    </tr>\n",
       "    <tr>\n",
       "      <th>mintemp</th>\n",
       "      <td>-0.330218</td>\n",
       "    </tr>\n",
       "    <tr>\n",
       "      <th>sunshine</th>\n",
       "      <td>-0.545829</td>\n",
       "    </tr>\n",
       "    <tr>\n",
       "      <th>pressure3pm</th>\n",
       "      <td>-1.427084</td>\n",
       "    </tr>\n",
       "  </tbody>\n",
       "</table>\n",
       "</div>"
      ],
      "text/plain": [
       "                      coef\n",
       "humidity3pm       1.132802\n",
       "pressure9am       1.022168\n",
       "wind_gustspeed    0.699973\n",
       "cloud3pm          0.333955\n",
       "temp9am           0.284385\n",
       "raintoday         0.204566\n",
       "maxtemp           0.149933\n",
       "wind_gustdir_W    0.066375\n",
       "rainfall          0.060851\n",
       "humidity9am       0.042584\n",
       "evaporation      -0.026470\n",
       "precipitation9am -0.033961\n",
       "wind_gustdir_E   -0.052715\n",
       "cloud9am         -0.056266\n",
       "wind_speed3pm    -0.240528\n",
       "mintemp          -0.330218\n",
       "sunshine         -0.545829\n",
       "pressure3pm      -1.427084"
      ]
     },
     "execution_count": 89,
     "metadata": {},
     "output_type": "execute_result"
    }
   ],
   "source": [
    "pd.DataFrame(data=lg2.coef_[0],index=X_train_std_3.columns,columns=['coef']).sort_values('coef',ascending=False)"
   ]
  },
  {
   "cell_type": "code",
   "execution_count": 90,
   "metadata": {
    "ExecuteTime": {
     "end_time": "2020-08-04T22:21:20.252546Z",
     "start_time": "2020-08-04T22:21:19.521504Z"
    }
   },
   "outputs": [
    {
     "data": {
      "text/plain": [
       "0.7279810166279596"
      ]
     },
     "execution_count": 90,
     "metadata": {},
     "output_type": "execute_result"
    }
   ],
   "source": [
    "cross_val_score(lg2, X_train_std_3, y_train, cv=KFold(6, shuffle=True), scoring='precision', n_jobs=-1).mean()"
   ]
  },
  {
   "cell_type": "code",
   "execution_count": 91,
   "metadata": {
    "ExecuteTime": {
     "end_time": "2020-08-04T22:21:21.047890Z",
     "start_time": "2020-08-04T22:21:20.254542Z"
    }
   },
   "outputs": [
    {
     "data": {
      "text/plain": [
       "0.5317580337189314"
      ]
     },
     "execution_count": 91,
     "metadata": {},
     "output_type": "execute_result"
    }
   ],
   "source": [
    "cross_val_score(lg2, X_train_std_3, y_train, cv=KFold(6, shuffle=True), scoring='recall', n_jobs=-1).mean()"
   ]
  },
  {
   "cell_type": "code",
   "execution_count": 92,
   "metadata": {
    "ExecuteTime": {
     "end_time": "2020-08-04T22:21:21.760927Z",
     "start_time": "2020-08-04T22:21:21.053828Z"
    }
   },
   "outputs": [
    {
     "data": {
      "text/plain": [
       "0.8834967480188537"
      ]
     },
     "execution_count": 92,
     "metadata": {},
     "output_type": "execute_result"
    }
   ],
   "source": [
    "cross_val_score(lg2, X_train_std_3, y_train, cv=KFold(6, shuffle=True), scoring='roc_auc', n_jobs=-1).mean()"
   ]
  },
  {
   "cell_type": "markdown",
   "metadata": {},
   "source": [
    "It seems just a bit better without the less significants variables. We will consider this model (lg2)\n",
    "as the best Logistic Regression model"
   ]
  },
  {
   "cell_type": "code",
   "execution_count": 93,
   "metadata": {
    "ExecuteTime": {
     "end_time": "2020-08-04T22:21:22.354338Z",
     "start_time": "2020-08-04T22:21:22.321427Z"
    }
   },
   "outputs": [],
   "source": [
    "y_pred_high=(lg2.predict_proba(X_train_std_3)[:,1]>0.65).astype(int)\n",
    "y_pred_low=(lg2.predict_proba(X_train_std_3)[:,1]>0.1).astype(int)"
   ]
  },
  {
   "cell_type": "code",
   "execution_count": 94,
   "metadata": {
    "ExecuteTime": {
     "end_time": "2020-08-04T22:21:22.382265Z",
     "start_time": "2020-08-04T22:21:22.356334Z"
    }
   },
   "outputs": [
    {
     "data": {
      "text/plain": [
       "0.8071598101265823"
      ]
     },
     "execution_count": 94,
     "metadata": {},
     "output_type": "execute_result"
    }
   ],
   "source": [
    "precision_score(y_train,y_pred_high)"
   ]
  },
  {
   "cell_type": "code",
   "execution_count": 95,
   "metadata": {
    "ExecuteTime": {
     "end_time": "2020-08-04T22:21:22.408195Z",
     "start_time": "2020-08-04T22:21:22.384259Z"
    }
   },
   "outputs": [
    {
     "data": {
      "text/plain": [
       "0.40191057711246797"
      ]
     },
     "execution_count": 95,
     "metadata": {},
     "output_type": "execute_result"
    }
   ],
   "source": [
    "recall_score(y_train,y_pred_high)"
   ]
  },
  {
   "cell_type": "code",
   "execution_count": 96,
   "metadata": {
    "ExecuteTime": {
     "end_time": "2020-08-04T22:21:22.863978Z",
     "start_time": "2020-08-04T22:21:22.844029Z"
    }
   },
   "outputs": [
    {
     "data": {
      "text/plain": [
       "0.4082141451253116"
      ]
     },
     "execution_count": 96,
     "metadata": {},
     "output_type": "execute_result"
    }
   ],
   "source": [
    "precision_score(y_train,y_pred_low)"
   ]
  },
  {
   "cell_type": "code",
   "execution_count": 97,
   "metadata": {
    "ExecuteTime": {
     "end_time": "2020-08-04T22:21:23.027567Z",
     "start_time": "2020-08-04T22:21:23.006594Z"
    }
   },
   "outputs": [
    {
     "data": {
      "text/plain": [
       "0.9191451644672051"
      ]
     },
     "execution_count": 97,
     "metadata": {},
     "output_type": "execute_result"
    }
   ],
   "source": [
    "recall_score(y_train,y_pred_low)"
   ]
  },
  {
   "cell_type": "markdown",
   "metadata": {},
   "source": [
    "# K Neighbors Classifier"
   ]
  },
  {
   "cell_type": "code",
   "execution_count": 98,
   "metadata": {
    "ExecuteTime": {
     "end_time": "2020-08-04T22:21:23.261265Z",
     "start_time": "2020-08-04T22:21:23.167656Z"
    }
   },
   "outputs": [],
   "source": [
    "from sklearn.neighbors import KNeighborsClassifier"
   ]
  },
  {
   "cell_type": "code",
   "execution_count": 99,
   "metadata": {
    "ExecuteTime": {
     "end_time": "2020-08-04T22:21:23.402771Z",
     "start_time": "2020-08-04T22:21:23.397787Z"
    }
   },
   "outputs": [],
   "source": [
    "n_neighbors = list(range(1,30))\n",
    "p=[1,2]\n",
    "hyperparameters = dict(n_neighbors=n_neighbors, p=p)"
   ]
  },
  {
   "cell_type": "code",
   "execution_count": 100,
   "metadata": {
    "ExecuteTime": {
     "end_time": "2020-08-04T22:21:23.539978Z",
     "start_time": "2020-08-04T22:21:23.535988Z"
    }
   },
   "outputs": [],
   "source": [
    "knn=KNeighborsClassifier()"
   ]
  },
  {
   "cell_type": "code",
   "execution_count": 101,
   "metadata": {
    "ExecuteTime": {
     "end_time": "2020-08-04T22:21:23.676643Z",
     "start_time": "2020-08-04T22:21:23.673620Z"
    }
   },
   "outputs": [],
   "source": [
    "from sklearn.model_selection import GridSearchCV"
   ]
  },
  {
   "cell_type": "code",
   "execution_count": 102,
   "metadata": {
    "ExecuteTime": {
     "end_time": "2020-08-04T22:21:23.815239Z",
     "start_time": "2020-08-04T22:21:23.810255Z"
    }
   },
   "outputs": [],
   "source": [
    "grid_search = GridSearchCV(knn, \n",
    "                           hyperparameters, \n",
    "                           cv=KFold(4), \n",
    "                           scoring='roc_auc', \n",
    "                           n_jobs=-1,\n",
    "                           verbose=True)"
   ]
  },
  {
   "cell_type": "code",
   "execution_count": 103,
   "metadata": {
    "ExecuteTime": {
     "end_time": "2020-08-04T22:49:02.376649Z",
     "start_time": "2020-08-04T22:21:23.973817Z"
    }
   },
   "outputs": [
    {
     "name": "stdout",
     "output_type": "stream",
     "text": [
      "Fitting 4 folds for each of 58 candidates, totalling 232 fits\n"
     ]
    },
    {
     "name": "stderr",
     "output_type": "stream",
     "text": [
      "[Parallel(n_jobs=-1)]: Using backend LokyBackend with 8 concurrent workers.\n",
      "[Parallel(n_jobs=-1)]: Done  34 tasks      | elapsed:  4.1min\n",
      "[Parallel(n_jobs=-1)]: Done 184 tasks      | elapsed: 21.8min\n",
      "[Parallel(n_jobs=-1)]: Done 232 out of 232 | elapsed: 27.6min finished\n"
     ]
    },
    {
     "data": {
      "text/plain": [
       "GridSearchCV(cv=KFold(n_splits=4, random_state=None, shuffle=False),\n",
       "             error_score='raise-deprecating',\n",
       "             estimator=KNeighborsClassifier(algorithm='auto', leaf_size=30,\n",
       "                                            metric='minkowski',\n",
       "                                            metric_params=None, n_jobs=None,\n",
       "                                            n_neighbors=5, p=2,\n",
       "                                            weights='uniform'),\n",
       "             iid='warn', n_jobs=-1,\n",
       "             param_grid={'n_neighbors': [1, 2, 3, 4, 5, 6, 7, 8, 9, 10, 11, 12,\n",
       "                                         13, 14, 15, 16, 17, 18, 19, 20, 21, 22,\n",
       "                                         23, 24, 25, 26, 27, 28, 29],\n",
       "                         'p': [1, 2]},\n",
       "             pre_dispatch='2*n_jobs', refit=True, return_train_score=False,\n",
       "             scoring='roc_auc', verbose=True)"
      ]
     },
     "execution_count": 103,
     "metadata": {},
     "output_type": "execute_result"
    }
   ],
   "source": [
    "grid_search.fit(X_train_std_2,y_train)"
   ]
  },
  {
   "cell_type": "code",
   "execution_count": 104,
   "metadata": {
    "ExecuteTime": {
     "end_time": "2020-08-04T22:49:02.539247Z",
     "start_time": "2020-08-04T22:49:02.533230Z"
    }
   },
   "outputs": [
    {
     "data": {
      "text/plain": [
       "{'n_neighbors': 29, 'p': 1}"
      ]
     },
     "execution_count": 104,
     "metadata": {},
     "output_type": "execute_result"
    }
   ],
   "source": [
    "grid_search.best_params_"
   ]
  },
  {
   "cell_type": "code",
   "execution_count": 105,
   "metadata": {
    "ExecuteTime": {
     "end_time": "2020-08-04T22:49:02.710753Z",
     "start_time": "2020-08-04T22:49:02.704770Z"
    }
   },
   "outputs": [
    {
     "data": {
      "text/plain": [
       "0.877692432556663"
      ]
     },
     "execution_count": 105,
     "metadata": {},
     "output_type": "execute_result"
    }
   ],
   "source": [
    "grid_search.best_score_"
   ]
  },
  {
   "cell_type": "markdown",
   "metadata": {},
   "source": [
    "# Decision Tree"
   ]
  },
  {
   "cell_type": "code",
   "execution_count": 106,
   "metadata": {
    "ExecuteTime": {
     "end_time": "2020-08-04T22:49:02.934196Z",
     "start_time": "2020-08-04T22:49:02.862385Z"
    }
   },
   "outputs": [],
   "source": [
    "from sklearn.tree import DecisionTreeClassifier"
   ]
  },
  {
   "cell_type": "code",
   "execution_count": 107,
   "metadata": {
    "ExecuteTime": {
     "end_time": "2020-08-04T22:49:03.093729Z",
     "start_time": "2020-08-04T22:49:03.087745Z"
    }
   },
   "outputs": [],
   "source": [
    "max_depth = list(range(1,10,2))\n",
    "min_samples_split=list(range(2,20,4))\n",
    "min_samples_leaf=list(range(1,20,4))\n",
    "hyperparameters = dict(max_depth=max_depth, min_samples_split=min_samples_split,min_samples_leaf=min_samples_leaf)"
   ]
  },
  {
   "cell_type": "code",
   "execution_count": 108,
   "metadata": {
    "ExecuteTime": {
     "end_time": "2020-08-04T22:49:03.250309Z",
     "start_time": "2020-08-04T22:49:03.246322Z"
    }
   },
   "outputs": [],
   "source": [
    "treeclass = DecisionTreeClassifier()"
   ]
  },
  {
   "cell_type": "code",
   "execution_count": 109,
   "metadata": {
    "ExecuteTime": {
     "end_time": "2020-08-04T22:49:03.403931Z",
     "start_time": "2020-08-04T22:49:03.399909Z"
    }
   },
   "outputs": [],
   "source": [
    "grid_search = GridSearchCV(treeclass, \n",
    "                           hyperparameters, \n",
    "                           cv=KFold(4), \n",
    "                           scoring='roc_auc', \n",
    "                           n_jobs=-1,\n",
    "                           verbose=True)"
   ]
  },
  {
   "cell_type": "code",
   "execution_count": 110,
   "metadata": {
    "ExecuteTime": {
     "end_time": "2020-08-04T22:54:06.107573Z",
     "start_time": "2020-08-04T22:53:34.840242Z"
    }
   },
   "outputs": [
    {
     "name": "stdout",
     "output_type": "stream",
     "text": [
      "Fitting 4 folds for each of 125 candidates, totalling 500 fits\n"
     ]
    },
    {
     "name": "stderr",
     "output_type": "stream",
     "text": [
      "[Parallel(n_jobs=-1)]: Using backend LokyBackend with 8 concurrent workers.\n",
      "[Parallel(n_jobs=-1)]: Done  52 tasks      | elapsed:    2.3s\n",
      "[Parallel(n_jobs=-1)]: Done 221 tasks      | elapsed:   11.2s\n",
      "[Parallel(n_jobs=-1)]: Done 471 tasks      | elapsed:   27.7s\n",
      "[Parallel(n_jobs=-1)]: Done 500 out of 500 | elapsed:   30.3s finished\n"
     ]
    },
    {
     "data": {
      "text/plain": [
       "GridSearchCV(cv=KFold(n_splits=4, random_state=None, shuffle=False),\n",
       "             error_score='raise-deprecating',\n",
       "             estimator=DecisionTreeClassifier(class_weight=None,\n",
       "                                              criterion='gini', max_depth=None,\n",
       "                                              max_features=None,\n",
       "                                              max_leaf_nodes=None,\n",
       "                                              min_impurity_decrease=0.0,\n",
       "                                              min_impurity_split=None,\n",
       "                                              min_samples_leaf=1,\n",
       "                                              min_samples_split=2,\n",
       "                                              min_weight_fraction_leaf=0.0,\n",
       "                                              presort=False, random_state=None,\n",
       "                                              splitter='best'),\n",
       "             iid='warn', n_jobs=-1,\n",
       "             param_grid={'max_depth': [1, 3, 5, 7, 9],\n",
       "                         'min_samples_leaf': [1, 5, 9, 13, 17],\n",
       "                         'min_samples_split': [2, 6, 10, 14, 18]},\n",
       "             pre_dispatch='2*n_jobs', refit=True, return_train_score=False,\n",
       "             scoring='roc_auc', verbose=True)"
      ]
     },
     "execution_count": 110,
     "metadata": {},
     "output_type": "execute_result"
    }
   ],
   "source": [
    "grid_search.fit(X_train_std_3,y_train)"
   ]
  },
  {
   "cell_type": "code",
   "execution_count": 111,
   "metadata": {
    "ExecuteTime": {
     "end_time": "2020-08-04T22:54:33.710270Z",
     "start_time": "2020-08-04T22:54:33.704286Z"
    }
   },
   "outputs": [
    {
     "data": {
      "text/plain": [
       "{'max_depth': 7, 'min_samples_leaf': 17, 'min_samples_split': 2}"
      ]
     },
     "execution_count": 111,
     "metadata": {},
     "output_type": "execute_result"
    }
   ],
   "source": [
    "grid_search.best_params_"
   ]
  },
  {
   "cell_type": "code",
   "execution_count": 112,
   "metadata": {
    "ExecuteTime": {
     "end_time": "2020-08-04T22:54:35.208646Z",
     "start_time": "2020-08-04T22:54:35.202618Z"
    }
   },
   "outputs": [
    {
     "data": {
      "text/plain": [
       "0.8630675611702924"
      ]
     },
     "execution_count": 112,
     "metadata": {},
     "output_type": "execute_result"
    }
   ],
   "source": [
    "grid_search.best_score_"
   ]
  },
  {
   "cell_type": "code",
   "execution_count": 113,
   "metadata": {
    "ExecuteTime": {
     "end_time": "2020-08-04T22:54:47.788069Z",
     "start_time": "2020-08-04T22:54:47.785078Z"
    }
   },
   "outputs": [],
   "source": [
    "tree=DecisionTreeClassifier(max_depth= 7, min_samples_leaf= 17, min_samples_split= 2)"
   ]
  },
  {
   "cell_type": "code",
   "execution_count": 114,
   "metadata": {
    "ExecuteTime": {
     "end_time": "2020-08-04T22:54:48.914320Z",
     "start_time": "2020-08-04T22:54:48.700661Z"
    }
   },
   "outputs": [],
   "source": [
    "treefit=tree.fit(X_train_std_3,y_train)"
   ]
  },
  {
   "cell_type": "markdown",
   "metadata": {},
   "source": [
    "# Conclusion"
   ]
  },
  {
   "cell_type": "markdown",
   "metadata": {},
   "source": [
    "It seems that the best model (in terms of roc_auc_score) is lg2, the logistic regression with the reduced features. So we are gonna use it for both clients in the test dataset"
   ]
  },
  {
   "cell_type": "code",
   "execution_count": 128,
   "metadata": {
    "ExecuteTime": {
     "end_time": "2020-08-04T23:05:29.231225Z",
     "start_time": "2020-08-04T23:05:29.223234Z"
    }
   },
   "outputs": [],
   "source": [
    "y_pred_high=(lg2.predict_proba(X_test_std_3)[:,1]>0.65).astype(int)\n",
    "y_pred_low=(lg2.predict_proba(X_test_std_3)[:,1]>0.1).astype(int)"
   ]
  },
  {
   "cell_type": "markdown",
   "metadata": {},
   "source": [
    "## Ballplayer"
   ]
  },
  {
   "cell_type": "markdown",
   "metadata": {},
   "source": [
    "Using the test dataset (a dataset that I or the model have never seen), we observe that 80% of the time we say it is going to rain then its rainning. But we only capture 40% of all rainny days. This precision/recall makes sense for this client"
   ]
  },
  {
   "cell_type": "code",
   "execution_count": 130,
   "metadata": {
    "ExecuteTime": {
     "end_time": "2020-08-04T23:06:05.159705Z",
     "start_time": "2020-08-04T23:06:05.147738Z"
    }
   },
   "outputs": [
    {
     "data": {
      "text/plain": [
       "0.3939038686987104"
      ]
     },
     "execution_count": 130,
     "metadata": {},
     "output_type": "execute_result"
    }
   ],
   "source": [
    "recall_score(y_test,y_pred_high)"
   ]
  },
  {
   "cell_type": "code",
   "execution_count": 131,
   "metadata": {
    "ExecuteTime": {
     "end_time": "2020-08-04T23:06:45.933315Z",
     "start_time": "2020-08-04T23:06:45.920350Z"
    }
   },
   "outputs": [
    {
     "data": {
      "text/plain": [
       "0.8"
      ]
     },
     "execution_count": 131,
     "metadata": {},
     "output_type": "execute_result"
    }
   ],
   "source": [
    "precision_score(y_test,y_pred_high)"
   ]
  },
  {
   "cell_type": "markdown",
   "metadata": {},
   "source": [
    "## Average worker"
   ]
  },
  {
   "cell_type": "markdown",
   "metadata": {},
   "source": [
    "Using the test dataset (a dataset that I or the model have never seen), we observe that we capture 92% of the rainny days. But when we say its going to rain we only guess right 41% of all rainny days. This precision/recall makes sense for this client"
   ]
  },
  {
   "cell_type": "code",
   "execution_count": 132,
   "metadata": {
    "ExecuteTime": {
     "end_time": "2020-08-04T23:10:07.277528Z",
     "start_time": "2020-08-04T23:10:07.265547Z"
    }
   },
   "outputs": [
    {
     "data": {
      "text/plain": [
       "0.9246776084407972"
      ]
     },
     "execution_count": 132,
     "metadata": {},
     "output_type": "execute_result"
    }
   ],
   "source": [
    "recall_score(y_test,y_pred_low)"
   ]
  },
  {
   "cell_type": "code",
   "execution_count": 133,
   "metadata": {
    "ExecuteTime": {
     "end_time": "2020-08-04T23:10:18.244331Z",
     "start_time": "2020-08-04T23:10:18.233362Z"
    }
   },
   "outputs": [
    {
     "data": {
      "text/plain": [
       "0.41209508881922674"
      ]
     },
     "execution_count": 133,
     "metadata": {},
     "output_type": "execute_result"
    }
   ],
   "source": [
    "precision_score(y_test,y_pred_low)"
   ]
  },
  {
   "cell_type": "markdown",
   "metadata": {},
   "source": [
    "We also observe that this model is performing better for the average worker (compared to the ballplayer situation)"
   ]
  },
  {
   "cell_type": "code",
   "execution_count": null,
   "metadata": {},
   "outputs": [],
   "source": []
  }
 ],
 "metadata": {
  "hide_input": false,
  "kernelspec": {
   "display_name": "Python 3",
   "language": "python",
   "name": "python3"
  },
  "language_info": {
   "codemirror_mode": {
    "name": "ipython",
    "version": 3
   },
   "file_extension": ".py",
   "mimetype": "text/x-python",
   "name": "python",
   "nbconvert_exporter": "python",
   "pygments_lexer": "ipython3",
   "version": "3.7.4"
  },
  "toc": {
   "base_numbering": 1,
   "nav_menu": {},
   "number_sections": true,
   "sideBar": true,
   "skip_h1_title": false,
   "title_cell": "Table of Contents",
   "title_sidebar": "Contents",
   "toc_cell": false,
   "toc_position": {},
   "toc_section_display": true,
   "toc_window_display": false
  },
  "varInspector": {
   "cols": {
    "lenName": 16,
    "lenType": 16,
    "lenVar": 40
   },
   "kernels_config": {
    "python": {
     "delete_cmd_postfix": "",
     "delete_cmd_prefix": "del ",
     "library": "var_list.py",
     "varRefreshCmd": "print(var_dic_list())"
    },
    "r": {
     "delete_cmd_postfix": ") ",
     "delete_cmd_prefix": "rm(",
     "library": "var_list.r",
     "varRefreshCmd": "cat(var_dic_list()) "
    }
   },
   "types_to_exclude": [
    "module",
    "function",
    "builtin_function_or_method",
    "instance",
    "_Feature"
   ],
   "window_display": false
  }
 },
 "nbformat": 4,
 "nbformat_minor": 2
}
