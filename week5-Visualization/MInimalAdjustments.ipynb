{
 "cells": [
  {
   "cell_type": "markdown",
   "metadata": {},
   "source": [
    "# NBA Database Transformation"
   ]
  },
  {
   "cell_type": "markdown",
   "metadata": {},
   "source": [
    "## Minimal adjustments"
   ]
  },
  {
   "cell_type": "code",
   "execution_count": 58,
   "metadata": {
    "ExecuteTime": {
     "end_time": "2020-07-07T19:08:45.746484Z",
     "start_time": "2020-07-07T19:08:45.741498Z"
    }
   },
   "outputs": [],
   "source": [
    "import pandas as pd\n",
    "from dotenv import load_dotenv\n",
    "import sqlalchemy as db\n",
    "import re\n",
    "import os"
   ]
  },
  {
   "cell_type": "code",
   "execution_count": 59,
   "metadata": {
    "ExecuteTime": {
     "end_time": "2020-07-07T19:08:46.185562Z",
     "start_time": "2020-07-07T19:08:46.177557Z"
    }
   },
   "outputs": [
    {
     "data": {
      "text/plain": [
       "True"
      ]
     },
     "execution_count": 59,
     "metadata": {},
     "output_type": "execute_result"
    }
   ],
   "source": [
    "load_dotenv(\"./.env\")"
   ]
  },
  {
   "cell_type": "code",
   "execution_count": 60,
   "metadata": {
    "ExecuteTime": {
     "end_time": "2020-07-07T19:08:46.550296Z",
     "start_time": "2020-07-07T19:08:46.482295Z"
    }
   },
   "outputs": [],
   "source": [
    "server = 'postgresql'\n",
    "username = 'postgres'\n",
    "password = os.getenv(\"password\")\n",
    "ip = 'localhost'\n",
    "database = 'nba'\n",
    "\n",
    "# create the engine\n",
    "engine = db.create_engine(f'{server}://{username}:{password}@{ip}/{database}')\n",
    "\n",
    "# open the connection\n",
    "conn = engine.connect()"
   ]
  },
  {
   "cell_type": "code",
   "execution_count": 61,
   "metadata": {
    "ExecuteTime": {
     "end_time": "2020-07-07T19:08:47.098028Z",
     "start_time": "2020-07-07T19:08:46.914251Z"
    }
   },
   "outputs": [],
   "source": [
    "players=pd.read_sql_table('players', con=conn)\n",
    "players_season_average_2010s=pd.read_sql_table('players_season_average_2010s', con=conn)\n",
    "seasons=pd.read_sql_table('seasons', con=conn)"
   ]
  },
  {
   "cell_type": "code",
   "execution_count": 62,
   "metadata": {
    "ExecuteTime": {
     "end_time": "2020-07-07T19:08:47.263836Z",
     "start_time": "2020-07-07T19:08:47.258850Z"
    }
   },
   "outputs": [],
   "source": [
    "players[\"position\"]=players[\"position\"].apply(lambda x: x[0] if len(x)>0 else x)"
   ]
  },
  {
   "cell_type": "code",
   "execution_count": 63,
   "metadata": {
    "ExecuteTime": {
     "end_time": "2020-07-07T19:08:47.761736Z",
     "start_time": "2020-07-07T19:08:47.746777Z"
    }
   },
   "outputs": [
    {
     "data": {
      "text/html": [
       "<div>\n",
       "<style scoped>\n",
       "    .dataframe tbody tr th:only-of-type {\n",
       "        vertical-align: middle;\n",
       "    }\n",
       "\n",
       "    .dataframe tbody tr th {\n",
       "        vertical-align: top;\n",
       "    }\n",
       "\n",
       "    .dataframe thead th {\n",
       "        text-align: right;\n",
       "    }\n",
       "</style>\n",
       "<table border=\"1\" class=\"dataframe\">\n",
       "  <thead>\n",
       "    <tr style=\"text-align: right;\">\n",
       "      <th></th>\n",
       "      <th>player_id</th>\n",
       "      <th>first_name</th>\n",
       "      <th>last_name</th>\n",
       "      <th>position</th>\n",
       "      <th>team</th>\n",
       "      <th>Ht</th>\n",
       "      <th>weight</th>\n",
       "    </tr>\n",
       "  </thead>\n",
       "  <tbody>\n",
       "    <tr>\n",
       "      <th>0</th>\n",
       "      <td>14</td>\n",
       "      <td>Ike</td>\n",
       "      <td>Anigbogu</td>\n",
       "      <td>C</td>\n",
       "      <td>Indiana Pacers</td>\n",
       "      <td>NaN</td>\n",
       "      <td>NaN</td>\n",
       "    </tr>\n",
       "    <tr>\n",
       "      <th>1</th>\n",
       "      <td>25</td>\n",
       "      <td>Ron</td>\n",
       "      <td>Baker</td>\n",
       "      <td>G</td>\n",
       "      <td>New York Knicks</td>\n",
       "      <td>NaN</td>\n",
       "      <td>NaN</td>\n",
       "    </tr>\n",
       "    <tr>\n",
       "      <th>2</th>\n",
       "      <td>47</td>\n",
       "      <td>Jabari</td>\n",
       "      <td>Bird</td>\n",
       "      <td>G</td>\n",
       "      <td>Boston Celtics</td>\n",
       "      <td>NaN</td>\n",
       "      <td>NaN</td>\n",
       "    </tr>\n",
       "    <tr>\n",
       "      <th>3</th>\n",
       "      <td>67</td>\n",
       "      <td>MarShon</td>\n",
       "      <td>Brooks</td>\n",
       "      <td>G</td>\n",
       "      <td>Memphis Grizzlies</td>\n",
       "      <td>NaN</td>\n",
       "      <td>NaN</td>\n",
       "    </tr>\n",
       "    <tr>\n",
       "      <th>4</th>\n",
       "      <td>71</td>\n",
       "      <td>Lorenzo</td>\n",
       "      <td>Brown</td>\n",
       "      <td>G</td>\n",
       "      <td>Toronto Raptors</td>\n",
       "      <td>NaN</td>\n",
       "      <td>NaN</td>\n",
       "    </tr>\n",
       "    <tr>\n",
       "      <th>...</th>\n",
       "      <td>...</td>\n",
       "      <td>...</td>\n",
       "      <td>...</td>\n",
       "      <td>...</td>\n",
       "      <td>...</td>\n",
       "      <td>...</td>\n",
       "      <td>...</td>\n",
       "    </tr>\n",
       "    <tr>\n",
       "      <th>3263</th>\n",
       "      <td>666641</td>\n",
       "      <td>Jaylen</td>\n",
       "      <td>Hoard</td>\n",
       "      <td>F</td>\n",
       "      <td>Portland Trail Blazers</td>\n",
       "      <td>NaN</td>\n",
       "      <td>NaN</td>\n",
       "    </tr>\n",
       "    <tr>\n",
       "      <th>3264</th>\n",
       "      <td>213</td>\n",
       "      <td>Aaron</td>\n",
       "      <td>Holiday</td>\n",
       "      <td>G</td>\n",
       "      <td>Indiana Pacers</td>\n",
       "      <td>1.8538</td>\n",
       "      <td>83.805</td>\n",
       "    </tr>\n",
       "    <tr>\n",
       "      <th>3265</th>\n",
       "      <td>214</td>\n",
       "      <td>Jrue</td>\n",
       "      <td>Holiday</td>\n",
       "      <td>G</td>\n",
       "      <td>New Orleans Pelicans</td>\n",
       "      <td>1.9288</td>\n",
       "      <td>92.865</td>\n",
       "    </tr>\n",
       "    <tr>\n",
       "      <th>3266</th>\n",
       "      <td>215</td>\n",
       "      <td>Justin</td>\n",
       "      <td>Holiday</td>\n",
       "      <td>F</td>\n",
       "      <td>Indiana Pacers</td>\n",
       "      <td>1.9788</td>\n",
       "      <td>81.993</td>\n",
       "    </tr>\n",
       "    <tr>\n",
       "      <th>3267</th>\n",
       "      <td>216</td>\n",
       "      <td>Rondae</td>\n",
       "      <td>Hollis-Jefferson</td>\n",
       "      <td>F</td>\n",
       "      <td>Toronto Raptors</td>\n",
       "      <td>2.0038</td>\n",
       "      <td>98.301</td>\n",
       "    </tr>\n",
       "  </tbody>\n",
       "</table>\n",
       "<p>3268 rows × 7 columns</p>\n",
       "</div>"
      ],
      "text/plain": [
       "      player_id first_name         last_name position                    team  \\\n",
       "0            14        Ike          Anigbogu        C          Indiana Pacers   \n",
       "1            25        Ron             Baker        G         New York Knicks   \n",
       "2            47     Jabari              Bird        G          Boston Celtics   \n",
       "3            67    MarShon            Brooks        G       Memphis Grizzlies   \n",
       "4            71    Lorenzo             Brown        G         Toronto Raptors   \n",
       "...         ...        ...               ...      ...                     ...   \n",
       "3263     666641     Jaylen             Hoard        F  Portland Trail Blazers   \n",
       "3264        213      Aaron           Holiday        G          Indiana Pacers   \n",
       "3265        214       Jrue           Holiday        G    New Orleans Pelicans   \n",
       "3266        215     Justin           Holiday        F          Indiana Pacers   \n",
       "3267        216     Rondae  Hollis-Jefferson        F         Toronto Raptors   \n",
       "\n",
       "          Ht  weight  \n",
       "0        NaN     NaN  \n",
       "1        NaN     NaN  \n",
       "2        NaN     NaN  \n",
       "3        NaN     NaN  \n",
       "4        NaN     NaN  \n",
       "...      ...     ...  \n",
       "3263     NaN     NaN  \n",
       "3264  1.8538  83.805  \n",
       "3265  1.9288  92.865  \n",
       "3266  1.9788  81.993  \n",
       "3267  2.0038  98.301  \n",
       "\n",
       "[3268 rows x 7 columns]"
      ]
     },
     "execution_count": 63,
     "metadata": {},
     "output_type": "execute_result"
    }
   ],
   "source": [
    "players"
   ]
  },
  {
   "cell_type": "code",
   "execution_count": 64,
   "metadata": {
    "ExecuteTime": {
     "end_time": "2020-07-07T19:08:48.680640Z",
     "start_time": "2020-07-07T19:08:48.671667Z"
    }
   },
   "outputs": [],
   "source": [
    "players_season_average_2010s[\"min\"]=players_season_average_2010s[\"min\"].apply(lambda x: int(x[0:2]) if len(x)==5 else int(x[0]))"
   ]
  },
  {
   "cell_type": "code",
   "execution_count": 65,
   "metadata": {
    "ExecuteTime": {
     "end_time": "2020-07-07T19:08:49.363347Z",
     "start_time": "2020-07-07T19:08:49.353372Z"
    }
   },
   "outputs": [
    {
     "data": {
      "text/plain": [
       "0       23\n",
       "1       25\n",
       "2       35\n",
       "3       25\n",
       "4        8\n",
       "        ..\n",
       "3225    14\n",
       "3226    10\n",
       "3227    35\n",
       "3228    31\n",
       "3229    17\n",
       "Name: min, Length: 3230, dtype: int64"
      ]
     },
     "execution_count": 65,
     "metadata": {},
     "output_type": "execute_result"
    }
   ],
   "source": [
    "players_season_average_2010s[\"min\"]"
   ]
  },
  {
   "cell_type": "code",
   "execution_count": 54,
   "metadata": {
    "ExecuteTime": {
     "end_time": "2020-07-07T17:46:29.043947Z",
     "start_time": "2020-07-07T17:46:29.024999Z"
    }
   },
   "outputs": [],
   "source": [
    "players.to_csv(\"./data/players.csv\",index=False)"
   ]
  },
  {
   "cell_type": "code",
   "execution_count": 66,
   "metadata": {
    "ExecuteTime": {
     "end_time": "2020-07-07T19:08:57.180784Z",
     "start_time": "2020-07-07T19:08:57.114953Z"
    }
   },
   "outputs": [],
   "source": [
    "players_season_average_2010s.to_csv(\"./data/players_season_average_2010s.csv\",index=False)"
   ]
  },
  {
   "cell_type": "code",
   "execution_count": 53,
   "metadata": {
    "ExecuteTime": {
     "end_time": "2020-07-07T17:46:25.700537Z",
     "start_time": "2020-07-07T17:46:25.689568Z"
    }
   },
   "outputs": [],
   "source": [
    "seasons.to_csv(\"./data/seasons.csv\",index=False)"
   ]
  },
  {
   "cell_type": "code",
   "execution_count": null,
   "metadata": {},
   "outputs": [],
   "source": []
  }
 ],
 "metadata": {
  "hide_input": false,
  "kernelspec": {
   "display_name": "Python 3",
   "language": "python",
   "name": "python3"
  },
  "language_info": {
   "codemirror_mode": {
    "name": "ipython",
    "version": 3
   },
   "file_extension": ".py",
   "mimetype": "text/x-python",
   "name": "python",
   "nbconvert_exporter": "python",
   "pygments_lexer": "ipython3",
   "version": "3.7.4"
  },
  "toc": {
   "base_numbering": 1,
   "nav_menu": {},
   "number_sections": true,
   "sideBar": true,
   "skip_h1_title": false,
   "title_cell": "Table of Contents",
   "title_sidebar": "Contents",
   "toc_cell": false,
   "toc_position": {},
   "toc_section_display": true,
   "toc_window_display": false
  },
  "varInspector": {
   "cols": {
    "lenName": 16,
    "lenType": 16,
    "lenVar": 40
   },
   "kernels_config": {
    "python": {
     "delete_cmd_postfix": "",
     "delete_cmd_prefix": "del ",
     "library": "var_list.py",
     "varRefreshCmd": "print(var_dic_list())"
    },
    "r": {
     "delete_cmd_postfix": ") ",
     "delete_cmd_prefix": "rm(",
     "library": "var_list.r",
     "varRefreshCmd": "cat(var_dic_list()) "
    }
   },
   "types_to_exclude": [
    "module",
    "function",
    "builtin_function_or_method",
    "instance",
    "_Feature"
   ],
   "window_display": false
  }
 },
 "nbformat": 4,
 "nbformat_minor": 2
}
