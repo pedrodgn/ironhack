{
 "cells": [
  {
   "cell_type": "markdown",
   "metadata": {
    "colab_type": "text",
    "id": "IDajsaA66_XV"
   },
   "source": [
    "# Univariate and Bivariate Analysis Lab"
   ]
  },
  {
   "cell_type": "markdown",
   "metadata": {
    "colab_type": "text",
    "id": "RDV1Nk366_XW"
   },
   "source": [
    "This data was created <b>based on the following dataset</b>: https://www.kaggle.com/mustafaali96/weight-height"
   ]
  },
  {
   "cell_type": "markdown",
   "metadata": {
    "colab_type": "text",
    "id": "fkvI5riG6_XW"
   },
   "source": [
    "The variables used are:\n",
    "* Money\n",
    "* Height\n",
    "* Weight\n",
    "* Gender\n"
   ]
  },
  {
   "cell_type": "markdown",
   "metadata": {
    "colab_type": "text",
    "id": "_DJ77m7a6_XX"
   },
   "source": [
    "## Context"
   ]
  },
  {
   "cell_type": "markdown",
   "metadata": {
    "colab_type": "text",
    "id": "gx-BUqLB6_XX"
   },
   "source": [
    "We'll use the weight-height dataset to have a deeper understanding of some important variable distributions.\n",
    "\n",
    "We'll understand how to:\n",
    "- have a glance on the statistics distribution just by observing the main statistical numerical description of our dataset.\n",
    "- understand the effect of a normal and non-normal distribution on our outlier analysis\n",
    "- understand how one variable can impact on another variable distribution"
   ]
  },
  {
   "cell_type": "markdown",
   "metadata": {
    "colab_type": "text",
    "id": "onNqQWXN6_XY"
   },
   "source": [
    "## Import libraries "
   ]
  },
  {
   "cell_type": "code",
   "execution_count": 1,
   "metadata": {
    "ExecuteTime": {
     "end_time": "2020-07-08T19:03:22.437004Z",
     "start_time": "2020-07-08T19:03:21.690967Z"
    },
    "colab": {},
    "colab_type": "code",
    "id": "XReTo0-96_XY"
   },
   "outputs": [
    {
     "name": "stderr",
     "output_type": "stream",
     "text": [
      "C:\\Users\\Pedro\\Anaconda3\\lib\\site-packages\\statsmodels\\tools\\_testing.py:19: FutureWarning: pandas.util.testing is deprecated. Use the functions in the public API at pandas.testing instead.\n",
      "  import pandas.util.testing as tm\n"
     ]
    }
   ],
   "source": [
    "import pandas as pd\n",
    "import numpy as np\n",
    "import matplotlib.pyplot as plt\n",
    "import seaborn as sns"
   ]
  },
  {
   "cell_type": "markdown",
   "metadata": {
    "colab_type": "text",
    "id": "1TkZPHRk6_Xb"
   },
   "source": [
    "## Read dataset from `weight-height-money.csv`.\n",
    "\n",
    "Take a look at the first rows of the dataset."
   ]
  },
  {
   "cell_type": "code",
   "execution_count": 3,
   "metadata": {
    "ExecuteTime": {
     "end_time": "2020-07-08T19:29:54.756338Z",
     "start_time": "2020-07-08T19:29:54.730379Z"
    },
    "colab": {},
    "colab_type": "code",
    "id": "DxmxwuGY6_Xb"
   },
   "outputs": [
    {
     "data": {
      "text/html": [
       "<div>\n",
       "<style scoped>\n",
       "    .dataframe tbody tr th:only-of-type {\n",
       "        vertical-align: middle;\n",
       "    }\n",
       "\n",
       "    .dataframe tbody tr th {\n",
       "        vertical-align: top;\n",
       "    }\n",
       "\n",
       "    .dataframe thead th {\n",
       "        text-align: right;\n",
       "    }\n",
       "</style>\n",
       "<table border=\"1\" class=\"dataframe\">\n",
       "  <thead>\n",
       "    <tr style=\"text-align: right;\">\n",
       "      <th></th>\n",
       "      <th>Gender</th>\n",
       "      <th>Height</th>\n",
       "      <th>Weight</th>\n",
       "      <th>Money</th>\n",
       "    </tr>\n",
       "  </thead>\n",
       "  <tbody>\n",
       "    <tr>\n",
       "      <th>0</th>\n",
       "      <td>Male</td>\n",
       "      <td>73.847017</td>\n",
       "      <td>241.893563</td>\n",
       "      <td>21.462754</td>\n",
       "    </tr>\n",
       "    <tr>\n",
       "      <th>1</th>\n",
       "      <td>Male</td>\n",
       "      <td>68.781904</td>\n",
       "      <td>162.310473</td>\n",
       "      <td>94.732358</td>\n",
       "    </tr>\n",
       "    <tr>\n",
       "      <th>2</th>\n",
       "      <td>Male</td>\n",
       "      <td>74.110105</td>\n",
       "      <td>212.740856</td>\n",
       "      <td>130.077362</td>\n",
       "    </tr>\n",
       "    <tr>\n",
       "      <th>3</th>\n",
       "      <td>Male</td>\n",
       "      <td>71.730978</td>\n",
       "      <td>220.042470</td>\n",
       "      <td>214.096064</td>\n",
       "    </tr>\n",
       "    <tr>\n",
       "      <th>4</th>\n",
       "      <td>Male</td>\n",
       "      <td>69.881796</td>\n",
       "      <td>206.349801</td>\n",
       "      <td>765.091245</td>\n",
       "    </tr>\n",
       "  </tbody>\n",
       "</table>\n",
       "</div>"
      ],
      "text/plain": [
       "  Gender     Height      Weight       Money\n",
       "0   Male  73.847017  241.893563   21.462754\n",
       "1   Male  68.781904  162.310473   94.732358\n",
       "2   Male  74.110105  212.740856  130.077362\n",
       "3   Male  71.730978  220.042470  214.096064\n",
       "4   Male  69.881796  206.349801  765.091245"
      ]
     },
     "execution_count": 3,
     "metadata": {},
     "output_type": "execute_result"
    }
   ],
   "source": [
    "data=pd.read_csv(\"data/weight-height-money.csv\")\n",
    "data.head()"
   ]
  },
  {
   "cell_type": "markdown",
   "metadata": {
    "colab_type": "text",
    "id": "5dT2rAyw6_Xe"
   },
   "source": [
    "## Use the describe method to understand the data."
   ]
  },
  {
   "cell_type": "code",
   "execution_count": 5,
   "metadata": {
    "ExecuteTime": {
     "end_time": "2020-07-08T19:30:19.667602Z",
     "start_time": "2020-07-08T19:30:19.660622Z"
    }
   },
   "outputs": [
    {
     "data": {
      "text/plain": [
       "Gender     object\n",
       "Height    float64\n",
       "Weight    float64\n",
       "Money     float64\n",
       "dtype: object"
      ]
     },
     "execution_count": 5,
     "metadata": {},
     "output_type": "execute_result"
    }
   ],
   "source": [
    "data.dtypes"
   ]
  },
  {
   "cell_type": "code",
   "execution_count": 4,
   "metadata": {
    "ExecuteTime": {
     "end_time": "2020-07-08T19:30:00.447427Z",
     "start_time": "2020-07-08T19:30:00.425487Z"
    },
    "colab": {},
    "colab_type": "code",
    "id": "2s8i42qY6_Xe"
   },
   "outputs": [
    {
     "data": {
      "text/html": [
       "<div>\n",
       "<style scoped>\n",
       "    .dataframe tbody tr th:only-of-type {\n",
       "        vertical-align: middle;\n",
       "    }\n",
       "\n",
       "    .dataframe tbody tr th {\n",
       "        vertical-align: top;\n",
       "    }\n",
       "\n",
       "    .dataframe thead th {\n",
       "        text-align: right;\n",
       "    }\n",
       "</style>\n",
       "<table border=\"1\" class=\"dataframe\">\n",
       "  <thead>\n",
       "    <tr style=\"text-align: right;\">\n",
       "      <th></th>\n",
       "      <th>Height</th>\n",
       "      <th>Weight</th>\n",
       "      <th>Money</th>\n",
       "    </tr>\n",
       "  </thead>\n",
       "  <tbody>\n",
       "    <tr>\n",
       "      <th>count</th>\n",
       "      <td>10000.000000</td>\n",
       "      <td>10000.000000</td>\n",
       "      <td>1.000000e+04</td>\n",
       "    </tr>\n",
       "    <tr>\n",
       "      <th>mean</th>\n",
       "      <td>66.367560</td>\n",
       "      <td>161.440357</td>\n",
       "      <td>6.311565e+02</td>\n",
       "    </tr>\n",
       "    <tr>\n",
       "      <th>std</th>\n",
       "      <td>3.847528</td>\n",
       "      <td>32.108439</td>\n",
       "      <td>8.060481e+02</td>\n",
       "    </tr>\n",
       "    <tr>\n",
       "      <th>min</th>\n",
       "      <td>54.263133</td>\n",
       "      <td>64.700127</td>\n",
       "      <td>1.735664e-07</td>\n",
       "    </tr>\n",
       "    <tr>\n",
       "      <th>25%</th>\n",
       "      <td>63.505620</td>\n",
       "      <td>135.818051</td>\n",
       "      <td>8.906720e+01</td>\n",
       "    </tr>\n",
       "    <tr>\n",
       "      <th>50%</th>\n",
       "      <td>66.318070</td>\n",
       "      <td>161.212928</td>\n",
       "      <td>3.390872e+02</td>\n",
       "    </tr>\n",
       "    <tr>\n",
       "      <th>75%</th>\n",
       "      <td>69.174262</td>\n",
       "      <td>187.169525</td>\n",
       "      <td>8.515404e+02</td>\n",
       "    </tr>\n",
       "    <tr>\n",
       "      <th>max</th>\n",
       "      <td>78.998742</td>\n",
       "      <td>269.989699</td>\n",
       "      <td>8.168216e+03</td>\n",
       "    </tr>\n",
       "  </tbody>\n",
       "</table>\n",
       "</div>"
      ],
      "text/plain": [
       "             Height        Weight         Money\n",
       "count  10000.000000  10000.000000  1.000000e+04\n",
       "mean      66.367560    161.440357  6.311565e+02\n",
       "std        3.847528     32.108439  8.060481e+02\n",
       "min       54.263133     64.700127  1.735664e-07\n",
       "25%       63.505620    135.818051  8.906720e+01\n",
       "50%       66.318070    161.212928  3.390872e+02\n",
       "75%       69.174262    187.169525  8.515404e+02\n",
       "max       78.998742    269.989699  8.168216e+03"
      ]
     },
     "execution_count": 4,
     "metadata": {},
     "output_type": "execute_result"
    }
   ],
   "source": [
    "data.describe()"
   ]
  },
  {
   "cell_type": "markdown",
   "metadata": {
    "colab_type": "text",
    "id": "97z21EZ56_Xj"
   },
   "source": [
    "## From that observation, what can you conclude? Can you imagine which kind of distribution each one has?\n",
    "\n",
    "Try to predict which category each variable most likely seems to fall into (without plotting it yet):\n",
    "- Left skewed\n",
    "- Right skewed\n",
    "- Gaussian-like\n",
    "\n",
    "_hint: Remember the effect of outliers on the mean and median values_"
   ]
  },
  {
   "cell_type": "code",
   "execution_count": 0,
   "metadata": {
    "colab": {},
    "colab_type": "code",
    "id": "e6Pm83sN6_Xj"
   },
   "outputs": [],
   "source": [
    "# Money: right skewed\n",
    "# Height and weight: gaussian-like"
   ]
  },
  {
   "cell_type": "markdown",
   "metadata": {
    "colab_type": "text",
    "id": "ulFpz4Cc80L9"
   },
   "source": [
    "Usually, the comparison between mean and median already leads us to meaningful insights regarding the variable's distribution. If mean and median are close, you can suppose that most of the data is concentrated in a region within the mean. However, if median and mean are far apart, you can suppose that some observations are pulling the mean closer to them."
   ]
  },
  {
   "cell_type": "markdown",
   "metadata": {
    "colab_type": "text",
    "id": "SZ5EUnL36_Xl"
   },
   "source": [
    "# Univariate Analysis"
   ]
  },
  {
   "cell_type": "markdown",
   "metadata": {
    "colab_type": "text",
    "id": "MonHc-Dv6_Xm"
   },
   "source": [
    "## Gender count\n",
    "\n",
    "Count how many Male and Female exist on this dataset using pandas. "
   ]
  },
  {
   "cell_type": "code",
   "execution_count": 7,
   "metadata": {
    "ExecuteTime": {
     "end_time": "2020-07-08T19:37:49.571244Z",
     "start_time": "2020-07-08T19:37:49.561272Z"
    },
    "colab": {},
    "colab_type": "code",
    "id": "550hCUU26_Xm"
   },
   "outputs": [
    {
     "data": {
      "text/plain": [
       "Male      5000\n",
       "Female    5000\n",
       "Name: Gender, dtype: int64"
      ]
     },
     "execution_count": 7,
     "metadata": {},
     "output_type": "execute_result"
    }
   ],
   "source": [
    "data[\"Gender\"].value_counts()"
   ]
  },
  {
   "cell_type": "markdown",
   "metadata": {
    "colab_type": "text",
    "id": "8PYiGbsg6_Xo"
   },
   "source": [
    "## Visual gender count\n",
    "\n",
    "Use seaborn (sns) to visually see how many male and female exist on the dataset.\n",
    "\n",
    "_hint: If you don't know how to do this, you can google: seaborn + the pandas method you used on the previous exercise_"
   ]
  },
  {
   "cell_type": "code",
   "execution_count": 8,
   "metadata": {
    "ExecuteTime": {
     "end_time": "2020-07-08T19:38:26.958442Z",
     "start_time": "2020-07-08T19:38:26.849161Z"
    },
    "colab": {},
    "colab_type": "code",
    "id": "8ZiHJakJ6_Xp"
   },
   "outputs": [
    {
     "data": {
      "text/plain": [
       "<matplotlib.axes._subplots.AxesSubplot at 0x21567330988>"
      ]
     },
     "execution_count": 8,
     "metadata": {},
     "output_type": "execute_result"
    },
    {
     "data": {
      "image/png": "[encoded data removed]",
      "text/plain": [
       "<Figure size 432x288 with 1 Axes>"
      ]
     },
     "metadata": {
      "needs_background": "light"
     },
     "output_type": "display_data"
    }
   ],
   "source": [
    "sns.countplot(data[\"Gender\"])"
   ]
  },
  {
   "cell_type": "markdown",
   "metadata": {
    "colab_type": "text",
    "id": "OKAJFx0w6_Xq"
   },
   "source": [
    "## Consider only Height\n",
    "\n",
    "Create a pandas series of the Height variable"
   ]
  },
  {
   "cell_type": "code",
   "execution_count": 9,
   "metadata": {
    "ExecuteTime": {
     "end_time": "2020-07-08T19:38:42.810772Z",
     "start_time": "2020-07-08T19:38:42.807778Z"
    },
    "colab": {},
    "colab_type": "code",
    "id": "QN-nwoar6_Xr"
   },
   "outputs": [],
   "source": [
    "# your answer here\n",
    "\n",
    "height = data[\"Height\"]"
   ]
  },
  {
   "cell_type": "markdown",
   "metadata": {
    "colab_type": "text",
    "id": "ATOR57i06_Xt"
   },
   "source": [
    "### Histogram-plot\n",
    "\n",
    "Plot the histogram of the height"
   ]
  },
  {
   "cell_type": "code",
   "execution_count": 10,
   "metadata": {
    "ExecuteTime": {
     "end_time": "2020-07-08T19:42:41.980138Z",
     "start_time": "2020-07-08T19:42:41.815572Z"
    },
    "colab": {},
    "colab_type": "code",
    "id": "DETusxSt6_Xu"
   },
   "outputs": [
    {
     "data": {
      "text/plain": [
       "(array([  23.,  218.,  926., 1906., 2196., 2167., 1612.,  765.,  163.,\n",
       "          24.]),\n",
       " array([54.26313333, 56.73669423, 59.21025513, 61.68381603, 64.15737693,\n",
       "        66.63093784, 69.10449874, 71.57805964, 74.05162054, 76.52518144,\n",
       "        78.99874235]),\n",
       " <a list of 10 Patch objects>)"
      ]
     },
     "execution_count": 10,
     "metadata": {},
     "output_type": "execute_result"
    },
    {
     "data": {
      "image/png": "[encoded data removed]",
      "text/plain": [
       "<Figure size 864x576 with 1 Axes>"
      ]
     },
     "metadata": {
      "needs_background": "light"
     },
     "output_type": "display_data"
    }
   ],
   "source": [
    "plt.figure(figsize=(12, 8))\n",
    "plt.hist(height)"
   ]
  },
  {
   "cell_type": "markdown",
   "metadata": {
    "colab_type": "text",
    "id": "0z4log2p6_Xw"
   },
   "source": [
    "### Box-plot\n",
    "\n",
    "Plot the boxplot of the height"
   ]
  },
  {
   "cell_type": "code",
   "execution_count": 12,
   "metadata": {
    "ExecuteTime": {
     "end_time": "2020-07-08T19:43:10.246122Z",
     "start_time": "2020-07-08T19:43:10.102532Z"
    },
    "colab": {},
    "colab_type": "code",
    "id": "KPvda1GA6_Xx"
   },
   "outputs": [
    {
     "data": {
      "text/plain": [
       "<matplotlib.axes._subplots.AxesSubplot at 0x215677002c8>"
      ]
     },
     "execution_count": 12,
     "metadata": {},
     "output_type": "execute_result"
    },
    {
     "data": {
      "image/png": "[encoded data removed]",
      "text/plain": [
       "<Figure size 864x576 with 1 Axes>"
      ]
     },
     "metadata": {
      "needs_background": "light"
     },
     "output_type": "display_data"
    }
   ],
   "source": [
    "plt.figure(figsize=(12, 8))\n",
    "sns.boxplot(height)\n"
   ]
  },
  {
   "cell_type": "markdown",
   "metadata": {
    "colab_type": "text",
    "id": "yOJYQJNK6_Xy"
   },
   "source": [
    "What do you think the distribution of height is like? Do you think it is common for variables to behave like that in real life?"
   ]
  },
  {
   "cell_type": "code",
   "execution_count": 13,
   "metadata": {
    "ExecuteTime": {
     "end_time": "2020-07-08T19:44:06.246397Z",
     "start_time": "2020-07-08T19:44:06.242408Z"
    },
    "colab": {},
    "colab_type": "code",
    "id": "1AUPhMGX6_Xy"
   },
   "outputs": [],
   "source": [
    "#I think it is a normal distribution. Yep, its pretty common, specially in large datasets "
   ]
  },
  {
   "cell_type": "markdown",
   "metadata": {
    "colab_type": "text",
    "id": "qTyDt57_6_X0"
   },
   "source": [
    "### KDE distribution for height"
   ]
  },
  {
   "cell_type": "markdown",
   "metadata": {
    "colab_type": "text",
    "id": "KGzIwcRV6_X0"
   },
   "source": [
    "Plot the kde (kernel-density-estimation) distribution (without the hist distribution) of the height."
   ]
  },
  {
   "cell_type": "code",
   "execution_count": 15,
   "metadata": {
    "ExecuteTime": {
     "end_time": "2020-07-08T19:44:48.848356Z",
     "start_time": "2020-07-08T19:44:48.710687Z"
    }
   },
   "outputs": [
    {
     "data": {
      "text/plain": [
       "<matplotlib.axes._subplots.AxesSubplot at 0x2156517e488>"
      ]
     },
     "execution_count": 15,
     "metadata": {},
     "output_type": "execute_result"
    },
    {
     "data": {
      "image/png": "[encoded data removed]",
      "text/plain": [
       "<Figure size 432x288 with 1 Axes>"
      ]
     },
     "metadata": {
      "needs_background": "light"
     },
     "output_type": "display_data"
    }
   ],
   "source": [
    "sns.kdeplot(height)"
   ]
  },
  {
   "cell_type": "markdown",
   "metadata": {
    "colab_type": "text",
    "id": "ikhooBE46_X1"
   },
   "source": [
    "### Analysis"
   ]
  },
  {
   "cell_type": "markdown",
   "metadata": {
    "colab_type": "text",
    "id": "opXZgn7q6_X1"
   },
   "source": [
    "As we can see we have a high count for height in the range near 60 to 75. How many people fall off 3 standard deviations from the mean? Can you consider them outliers? Why is that?"
   ]
  },
  {
   "cell_type": "markdown",
   "metadata": {
    "colab_type": "text",
    "id": "dgkPi6856_X1"
   },
   "source": [
    "#### Calculate the mean"
   ]
  },
  {
   "cell_type": "code",
   "execution_count": 19,
   "metadata": {
    "ExecuteTime": {
     "end_time": "2020-07-08T19:52:22.425802Z",
     "start_time": "2020-07-08T19:52:22.421845Z"
    },
    "colab": {},
    "colab_type": "code",
    "id": "SkxJqzbq6_X2"
   },
   "outputs": [],
   "source": [
    "ht_mean=height.mean()"
   ]
  },
  {
   "cell_type": "markdown",
   "metadata": {
    "colab_type": "text",
    "id": "F3nLhNNu6_X4"
   },
   "source": [
    "#### Calculate the standard deviation "
   ]
  },
  {
   "cell_type": "code",
   "execution_count": 18,
   "metadata": {
    "ExecuteTime": {
     "end_time": "2020-07-08T19:52:21.016777Z",
     "start_time": "2020-07-08T19:52:21.010828Z"
    },
    "colab": {},
    "colab_type": "code",
    "id": "bUK8X9RY6_X5"
   },
   "outputs": [],
   "source": [
    "ht_std=height.std()"
   ]
  },
  {
   "cell_type": "markdown",
   "metadata": {
    "colab_type": "text",
    "id": "270jlexC6_X6"
   },
   "source": [
    "#### Calculate the values for the cutoffs:\n",
    "\n",
    "`upper_cutoff = mean` <b><span style=\"color:red\">+</span></b> `3 * standard_deviation` \n",
    "\n",
    "`lower_cutoff = mean` <b><span style=\"color:red\">-</span></b> `3 * standard_deviation`"
   ]
  },
  {
   "cell_type": "code",
   "execution_count": 21,
   "metadata": {
    "ExecuteTime": {
     "end_time": "2020-07-08T19:52:51.047550Z",
     "start_time": "2020-07-08T19:52:51.043607Z"
    }
   },
   "outputs": [],
   "source": [
    "upper_cutoff = ht_mean + 3*ht_std\n",
    "lower_cutoff = ht_mean - 3*ht_std"
   ]
  },
  {
   "cell_type": "markdown",
   "metadata": {
    "colab_type": "text",
    "id": "isBRD1mN6_X7"
   },
   "source": [
    "#### Now filter the original dataset. \n",
    "\n",
    "Use the values you calculated above to filter the original dataset. \n",
    "\n",
    "You should obtain a filtered dataset containing only the rows in which the `Height` column is greater than the upper cutoff and lower than the lower cutoff."
   ]
  },
  {
   "cell_type": "code",
   "execution_count": 22,
   "metadata": {
    "ExecuteTime": {
     "end_time": "2020-07-08T19:54:34.801712Z",
     "start_time": "2020-07-08T19:54:34.789746Z"
    },
    "colab": {},
    "colab_type": "code",
    "id": "RTL9hhAi6_X7",
    "outputId": "c5cc08d8-842e-420a-dff3-7dbfa10ebb38"
   },
   "outputs": [
    {
     "data": {
      "text/html": [
       "<div>\n",
       "<style scoped>\n",
       "    .dataframe tbody tr th:only-of-type {\n",
       "        vertical-align: middle;\n",
       "    }\n",
       "\n",
       "    .dataframe tbody tr th {\n",
       "        vertical-align: top;\n",
       "    }\n",
       "\n",
       "    .dataframe thead th {\n",
       "        text-align: right;\n",
       "    }\n",
       "</style>\n",
       "<table border=\"1\" class=\"dataframe\">\n",
       "  <thead>\n",
       "    <tr style=\"text-align: right;\">\n",
       "      <th></th>\n",
       "      <th>Gender</th>\n",
       "      <th>Height</th>\n",
       "      <th>Weight</th>\n",
       "      <th>Money</th>\n",
       "    </tr>\n",
       "  </thead>\n",
       "  <tbody>\n",
       "    <tr>\n",
       "      <th>994</th>\n",
       "      <td>Male</td>\n",
       "      <td>78.095867</td>\n",
       "      <td>255.690835</td>\n",
       "      <td>1357.105000</td>\n",
       "    </tr>\n",
       "    <tr>\n",
       "      <th>1317</th>\n",
       "      <td>Male</td>\n",
       "      <td>78.462053</td>\n",
       "      <td>227.342565</td>\n",
       "      <td>5.457968</td>\n",
       "    </tr>\n",
       "    <tr>\n",
       "      <th>2014</th>\n",
       "      <td>Male</td>\n",
       "      <td>78.998742</td>\n",
       "      <td>269.989699</td>\n",
       "      <td>131.474470</td>\n",
       "    </tr>\n",
       "    <tr>\n",
       "      <th>3285</th>\n",
       "      <td>Male</td>\n",
       "      <td>78.528210</td>\n",
       "      <td>253.889004</td>\n",
       "      <td>0.089663</td>\n",
       "    </tr>\n",
       "    <tr>\n",
       "      <th>3757</th>\n",
       "      <td>Male</td>\n",
       "      <td>78.621374</td>\n",
       "      <td>245.733783</td>\n",
       "      <td>204.113245</td>\n",
       "    </tr>\n",
       "    <tr>\n",
       "      <th>6624</th>\n",
       "      <td>Female</td>\n",
       "      <td>54.616858</td>\n",
       "      <td>71.393749</td>\n",
       "      <td>226.061310</td>\n",
       "    </tr>\n",
       "    <tr>\n",
       "      <th>9285</th>\n",
       "      <td>Female</td>\n",
       "      <td>54.263133</td>\n",
       "      <td>64.700127</td>\n",
       "      <td>646.532185</td>\n",
       "    </tr>\n",
       "  </tbody>\n",
       "</table>\n",
       "</div>"
      ],
      "text/plain": [
       "      Gender     Height      Weight        Money\n",
       "994     Male  78.095867  255.690835  1357.105000\n",
       "1317    Male  78.462053  227.342565     5.457968\n",
       "2014    Male  78.998742  269.989699   131.474470\n",
       "3285    Male  78.528210  253.889004     0.089663\n",
       "3757    Male  78.621374  245.733783   204.113245\n",
       "6624  Female  54.616858   71.393749   226.061310\n",
       "9285  Female  54.263133   64.700127   646.532185"
      ]
     },
     "execution_count": 22,
     "metadata": {},
     "output_type": "execute_result"
    }
   ],
   "source": [
    "above_cutoff=data[\"Height\"]>upper_cutoff\n",
    "below_cutoff=data[\"Height\"]<lower_cutoff\n",
    "data.loc[above_cutoff | below_cutoff,:]"
   ]
  },
  {
   "cell_type": "markdown",
   "metadata": {
    "ExecuteTime": {
     "end_time": "2020-04-06T04:33:34.040229Z",
     "start_time": "2020-04-06T04:33:34.035243Z"
    },
    "colab_type": "text",
    "id": "nG_njBjW6_X_"
   },
   "source": [
    "#### Finally, calculate the shape of this filtered dataset and compare with the original dataframe.\n",
    "\n",
    "Which percentage felt in these thresholds? Did you expect this value? Why?"
   ]
  },
  {
   "cell_type": "code",
   "execution_count": 25,
   "metadata": {
    "ExecuteTime": {
     "end_time": "2020-07-08T19:55:32.804408Z",
     "start_time": "2020-07-08T19:55:32.797426Z"
    },
    "colab": {},
    "colab_type": "code",
    "id": "hud6jYs96_X_"
   },
   "outputs": [
    {
     "data": {
      "text/plain": [
       "0.0007"
      ]
     },
     "execution_count": 25,
     "metadata": {},
     "output_type": "execute_result"
    }
   ],
   "source": [
    "data.loc[above_cutoff | below_cutoff,:].shape[0]/data.shape[0]"
   ]
  },
  {
   "cell_type": "code",
   "execution_count": 26,
   "metadata": {
    "ExecuteTime": {
     "end_time": "2020-07-08T19:57:16.892321Z",
     "start_time": "2020-07-08T19:57:16.889303Z"
    }
   },
   "outputs": [],
   "source": [
    "#0.07% are above the upper cutoff or below the lower cutoff. I expected this result because this is a normal distribution "
   ]
  },
  {
   "cell_type": "markdown",
   "metadata": {
    "colab_type": "text",
    "id": "E9elL5936_YB"
   },
   "source": [
    "## Now perform the same analysis for `money` variable."
   ]
  },
  {
   "cell_type": "markdown",
   "metadata": {
    "colab_type": "text",
    "id": "iHTk6LhO6_YB"
   },
   "source": [
    "You'll do exactly the same analysis for a variable of your dataset that has some different aspects. Let's try to understand that."
   ]
  },
  {
   "cell_type": "markdown",
   "metadata": {
    "colab_type": "text",
    "id": "jBi_YffX6_YB"
   },
   "source": [
    "### Considering only money"
   ]
  },
  {
   "cell_type": "markdown",
   "metadata": {
    "colab_type": "text",
    "id": "ze_KooVx6_YC"
   },
   "source": [
    "Generate a variable called money from the dataset"
   ]
  },
  {
   "cell_type": "code",
   "execution_count": 27,
   "metadata": {
    "ExecuteTime": {
     "end_time": "2020-07-08T20:04:40.741910Z",
     "start_time": "2020-07-08T20:04:40.736960Z"
    },
    "colab": {},
    "colab_type": "code",
    "id": "VlGJ0JoG6_YC"
   },
   "outputs": [],
   "source": [
    "# your code here\n",
    "money = data[\"Money\"]"
   ]
  },
  {
   "cell_type": "code",
   "execution_count": 28,
   "metadata": {
    "ExecuteTime": {
     "end_time": "2020-07-08T20:04:42.496960Z",
     "start_time": "2020-07-08T20:04:42.490956Z"
    },
    "colab": {},
    "colab_type": "code",
    "id": "tYzsJnzo6_YD",
    "outputId": "b8f36a66-939e-45d6-fd9c-06e95dc939bd"
   },
   "outputs": [
    {
     "data": {
      "text/plain": [
       "(10000,)"
      ]
     },
     "execution_count": 28,
     "metadata": {},
     "output_type": "execute_result"
    }
   ],
   "source": [
    "money.shape"
   ]
  },
  {
   "cell_type": "markdown",
   "metadata": {
    "colab_type": "text",
    "id": "KXMvChJi6_YF"
   },
   "source": [
    "### Histogram-plot"
   ]
  },
  {
   "cell_type": "code",
   "execution_count": 30,
   "metadata": {
    "ExecuteTime": {
     "end_time": "2020-07-08T20:05:00.531479Z",
     "start_time": "2020-07-08T20:05:00.380863Z"
    },
    "colab": {},
    "colab_type": "code",
    "id": "oexSHeHc6_YF"
   },
   "outputs": [
    {
     "data": {
      "text/plain": [
       "(array([7.389e+03, 1.583e+03, 6.010e+02, 2.510e+02, 1.170e+02, 3.800e+01,\n",
       "        1.100e+01, 6.000e+00, 3.000e+00, 1.000e+00]),\n",
       " array([1.73566424e-07, 8.16821619e+02, 1.63364324e+03, 2.45046486e+03,\n",
       "        3.26728648e+03, 4.08410810e+03, 4.90092971e+03, 5.71775133e+03,\n",
       "        6.53457295e+03, 7.35139457e+03, 8.16821619e+03]),\n",
       " <a list of 10 Patch objects>)"
      ]
     },
     "execution_count": 30,
     "metadata": {},
     "output_type": "execute_result"
    },
    {
     "data": {
      "image/png": "[encoded data removed]",
      "text/plain": [
       "<Figure size 432x288 with 1 Axes>"
      ]
     },
     "metadata": {
      "needs_background": "light"
     },
     "output_type": "display_data"
    }
   ],
   "source": [
    "plt.hist(money)"
   ]
  },
  {
   "cell_type": "markdown",
   "metadata": {
    "colab_type": "text",
    "id": "oZcX8mYB6_YH"
   },
   "source": [
    "### Box-plot"
   ]
  },
  {
   "cell_type": "code",
   "execution_count": 31,
   "metadata": {
    "ExecuteTime": {
     "end_time": "2020-07-08T20:05:12.228491Z",
     "start_time": "2020-07-08T20:05:12.087867Z"
    },
    "colab": {},
    "colab_type": "code",
    "id": "NoG2kvO86_YI"
   },
   "outputs": [
    {
     "data": {
      "text/plain": [
       "<matplotlib.axes._subplots.AxesSubplot at 0x21567b3d888>"
      ]
     },
     "execution_count": 31,
     "metadata": {},
     "output_type": "execute_result"
    },
    {
     "data": {
      "image/png": "[encoded data removed]",
      "text/plain": [
       "<Figure size 432x288 with 1 Axes>"
      ]
     },
     "metadata": {
      "needs_background": "light"
     },
     "output_type": "display_data"
    }
   ],
   "source": [
    "sns.boxplot(money)"
   ]
  },
  {
   "cell_type": "markdown",
   "metadata": {
    "colab_type": "text",
    "id": "u9gi0NLV6_YJ"
   },
   "source": [
    "### KDE distribution for height"
   ]
  },
  {
   "cell_type": "code",
   "execution_count": 32,
   "metadata": {
    "ExecuteTime": {
     "end_time": "2020-07-08T20:05:45.216327Z",
     "start_time": "2020-07-08T20:05:45.074665Z"
    },
    "colab": {},
    "colab_type": "code",
    "id": "sfT2BzQe6_YK"
   },
   "outputs": [
    {
     "data": {
      "text/plain": [
       "<matplotlib.axes._subplots.AxesSubplot at 0x21567babe08>"
      ]
     },
     "execution_count": 32,
     "metadata": {},
     "output_type": "execute_result"
    },
    {
     "data": {
      "image/png": "[encoded data removed]",
      "text/plain": [
       "<Figure size 432x288 with 1 Axes>"
      ]
     },
     "metadata": {
      "needs_background": "light"
     },
     "output_type": "display_data"
    }
   ],
   "source": [
    "sns.kdeplot(money)"
   ]
  },
  {
   "cell_type": "markdown",
   "metadata": {
    "colab_type": "text",
    "id": "kzJUTeh36_YM"
   },
   "source": [
    "### Analysis"
   ]
  },
  {
   "cell_type": "markdown",
   "metadata": {
    "colab_type": "text",
    "id": "Gl1ewWWR6_YM"
   },
   "source": [
    "Again, how many people fall off 3 standard deviations in both cases (which percentage of the dataset)? Let's do it by parts:"
   ]
  },
  {
   "cell_type": "markdown",
   "metadata": {
    "colab_type": "text",
    "id": "nkEp1XFN6_YM"
   },
   "source": [
    "#### Calculate the mean"
   ]
  },
  {
   "cell_type": "code",
   "execution_count": 33,
   "metadata": {
    "ExecuteTime": {
     "end_time": "2020-07-08T20:09:16.556702Z",
     "start_time": "2020-07-08T20:09:16.552717Z"
    },
    "colab": {},
    "colab_type": "code",
    "id": "_LAoCUi06_YN"
   },
   "outputs": [],
   "source": [
    "money_mean=money.mean()"
   ]
  },
  {
   "cell_type": "markdown",
   "metadata": {
    "colab_type": "text",
    "id": "k7tGEVD96_YO"
   },
   "source": [
    "#### Calculate the standard deviation "
   ]
  },
  {
   "cell_type": "code",
   "execution_count": 34,
   "metadata": {
    "ExecuteTime": {
     "end_time": "2020-07-08T20:09:31.102180Z",
     "start_time": "2020-07-08T20:09:31.096184Z"
    },
    "colab": {},
    "colab_type": "code",
    "id": "KkW0F87D6_YP"
   },
   "outputs": [],
   "source": [
    "money_std=money.std()"
   ]
  },
  {
   "cell_type": "markdown",
   "metadata": {
    "colab_type": "text",
    "id": "hyHPl0TD6_YQ"
   },
   "source": [
    "#### Calculate the values for the cutoffs:\n",
    "\n",
    "`upper_cutoff = mean` <b><span style=\"color:red\">+</span></b> `3 * standard_deviation` \n",
    "\n",
    "`lower_cutoff = mean` <b><span style=\"color:red\">-</span></b> `3 * standard_deviation`"
   ]
  },
  {
   "cell_type": "code",
   "execution_count": 35,
   "metadata": {
    "ExecuteTime": {
     "end_time": "2020-07-08T20:10:19.960711Z",
     "start_time": "2020-07-08T20:10:19.957714Z"
    }
   },
   "outputs": [],
   "source": [
    "upper_cutoff = money_mean + 3*money_std\n",
    "lower_cutoff = money_mean - 3*money_std"
   ]
  },
  {
   "cell_type": "markdown",
   "metadata": {
    "colab_type": "text",
    "id": "lO6g6RXi6_YQ"
   },
   "source": [
    "#### Again, filter the original dataset. "
   ]
  },
  {
   "cell_type": "code",
   "execution_count": 36,
   "metadata": {
    "ExecuteTime": {
     "end_time": "2020-07-08T20:10:54.061381Z",
     "start_time": "2020-07-08T20:10:54.037479Z"
    },
    "colab": {},
    "colab_type": "code",
    "id": "VjdtbNc06_YR"
   },
   "outputs": [
    {
     "data": {
      "text/html": [
       "<div>\n",
       "<style scoped>\n",
       "    .dataframe tbody tr th:only-of-type {\n",
       "        vertical-align: middle;\n",
       "    }\n",
       "\n",
       "    .dataframe tbody tr th {\n",
       "        vertical-align: top;\n",
       "    }\n",
       "\n",
       "    .dataframe thead th {\n",
       "        text-align: right;\n",
       "    }\n",
       "</style>\n",
       "<table border=\"1\" class=\"dataframe\">\n",
       "  <thead>\n",
       "    <tr style=\"text-align: right;\">\n",
       "      <th></th>\n",
       "      <th>Gender</th>\n",
       "      <th>Height</th>\n",
       "      <th>Weight</th>\n",
       "      <th>Money</th>\n",
       "    </tr>\n",
       "  </thead>\n",
       "  <tbody>\n",
       "    <tr>\n",
       "      <th>234</th>\n",
       "      <td>Male</td>\n",
       "      <td>67.369809</td>\n",
       "      <td>176.636164</td>\n",
       "      <td>3725.078083</td>\n",
       "    </tr>\n",
       "    <tr>\n",
       "      <th>294</th>\n",
       "      <td>Male</td>\n",
       "      <td>64.425194</td>\n",
       "      <td>169.109401</td>\n",
       "      <td>3942.967034</td>\n",
       "    </tr>\n",
       "    <tr>\n",
       "      <th>355</th>\n",
       "      <td>Male</td>\n",
       "      <td>72.938649</td>\n",
       "      <td>216.097455</td>\n",
       "      <td>3762.418909</td>\n",
       "    </tr>\n",
       "    <tr>\n",
       "      <th>518</th>\n",
       "      <td>Male</td>\n",
       "      <td>68.346457</td>\n",
       "      <td>178.675992</td>\n",
       "      <td>3286.659362</td>\n",
       "    </tr>\n",
       "    <tr>\n",
       "      <th>662</th>\n",
       "      <td>Male</td>\n",
       "      <td>69.430998</td>\n",
       "      <td>172.325881</td>\n",
       "      <td>3798.711723</td>\n",
       "    </tr>\n",
       "    <tr>\n",
       "      <th>...</th>\n",
       "      <td>...</td>\n",
       "      <td>...</td>\n",
       "      <td>...</td>\n",
       "      <td>...</td>\n",
       "    </tr>\n",
       "    <tr>\n",
       "      <th>9873</th>\n",
       "      <td>Female</td>\n",
       "      <td>63.707174</td>\n",
       "      <td>132.760922</td>\n",
       "      <td>3164.374960</td>\n",
       "    </tr>\n",
       "    <tr>\n",
       "      <th>9888</th>\n",
       "      <td>Female</td>\n",
       "      <td>65.105932</td>\n",
       "      <td>149.694693</td>\n",
       "      <td>3929.572877</td>\n",
       "    </tr>\n",
       "    <tr>\n",
       "      <th>9922</th>\n",
       "      <td>Female</td>\n",
       "      <td>58.752489</td>\n",
       "      <td>106.846041</td>\n",
       "      <td>3541.679543</td>\n",
       "    </tr>\n",
       "    <tr>\n",
       "      <th>9930</th>\n",
       "      <td>Female</td>\n",
       "      <td>68.544449</td>\n",
       "      <td>148.828165</td>\n",
       "      <td>3916.316217</td>\n",
       "    </tr>\n",
       "    <tr>\n",
       "      <th>9946</th>\n",
       "      <td>Female</td>\n",
       "      <td>66.624544</td>\n",
       "      <td>149.828094</td>\n",
       "      <td>6535.362439</td>\n",
       "    </tr>\n",
       "  </tbody>\n",
       "</table>\n",
       "<p>229 rows × 4 columns</p>\n",
       "</div>"
      ],
      "text/plain": [
       "      Gender     Height      Weight        Money\n",
       "234     Male  67.369809  176.636164  3725.078083\n",
       "294     Male  64.425194  169.109401  3942.967034\n",
       "355     Male  72.938649  216.097455  3762.418909\n",
       "518     Male  68.346457  178.675992  3286.659362\n",
       "662     Male  69.430998  172.325881  3798.711723\n",
       "...      ...        ...         ...          ...\n",
       "9873  Female  63.707174  132.760922  3164.374960\n",
       "9888  Female  65.105932  149.694693  3929.572877\n",
       "9922  Female  58.752489  106.846041  3541.679543\n",
       "9930  Female  68.544449  148.828165  3916.316217\n",
       "9946  Female  66.624544  149.828094  6535.362439\n",
       "\n",
       "[229 rows x 4 columns]"
      ]
     },
     "execution_count": 36,
     "metadata": {},
     "output_type": "execute_result"
    }
   ],
   "source": [
    "above_cutoff=data[\"Money\"]>upper_cutoff\n",
    "below_cutoff=data[\"Money\"]<lower_cutoff\n",
    "data.loc[above_cutoff | below_cutoff,:]"
   ]
  },
  {
   "cell_type": "markdown",
   "metadata": {
    "colab_type": "text",
    "id": "vGnDsa-s6_YT"
   },
   "source": [
    "#### Finally, calculate the shape of this filtered dataset and compare with the original dataframe.\n",
    "\n",
    "Which percentage felt in these thresholds?"
   ]
  },
  {
   "cell_type": "code",
   "execution_count": 37,
   "metadata": {
    "ExecuteTime": {
     "end_time": "2020-07-08T20:11:15.153749Z",
     "start_time": "2020-07-08T20:11:15.146769Z"
    },
    "colab": {},
    "colab_type": "code",
    "id": "P2m7MHNF6_YT"
   },
   "outputs": [
    {
     "data": {
      "text/plain": [
       "0.0229"
      ]
     },
     "execution_count": 37,
     "metadata": {},
     "output_type": "execute_result"
    }
   ],
   "source": [
    "data.loc[above_cutoff | below_cutoff,:].shape[0]/data.shape[0]"
   ]
  },
  {
   "cell_type": "markdown",
   "metadata": {
    "colab_type": "text",
    "id": "4xo8UdNG6_YX"
   },
   "source": [
    "# Bivariate Analysis"
   ]
  },
  {
   "cell_type": "markdown",
   "metadata": {
    "colab_type": "text",
    "id": "ZPow_mX16_YX"
   },
   "source": [
    "## Considering both height and weight\n",
    "\n",
    "Now we'll consider both height and weight variables to understand our data. We'll perform what is called a bivariate analysis."
   ]
  },
  {
   "cell_type": "markdown",
   "metadata": {
    "colab_type": "text",
    "id": "O0RTnQXc6_YY"
   },
   "source": [
    "### Perform a scatterplot to check the relation between Height and Weight"
   ]
  },
  {
   "cell_type": "code",
   "execution_count": 39,
   "metadata": {
    "ExecuteTime": {
     "end_time": "2020-07-08T20:12:24.085124Z",
     "start_time": "2020-07-08T20:12:23.836714Z"
    },
    "colab": {},
    "colab_type": "code",
    "id": "SigXKLfC6_YY"
   },
   "outputs": [
    {
     "data": {
      "text/plain": [
       "<matplotlib.collections.PathCollection at 0x21567c2c208>"
      ]
     },
     "execution_count": 39,
     "metadata": {},
     "output_type": "execute_result"
    },
    {
     "data": {
      "image/png": "[encoded data removed]",
      "text/plain": [
       "<Figure size 864x576 with 1 Axes>"
      ]
     },
     "metadata": {
      "needs_background": "light"
     },
     "output_type": "display_data"
    }
   ],
   "source": [
    "plt.figure(figsize=(12, 8))\n",
    "plt.scatter(data[\"Height\"],data[\"Weight\"])\n"
   ]
  },
  {
   "cell_type": "markdown",
   "metadata": {
    "colab_type": "text",
    "id": "59aT_5lW6_Ya"
   },
   "source": [
    "### Do the same plot, but color the markers by Gender"
   ]
  },
  {
   "cell_type": "code",
   "execution_count": 48,
   "metadata": {
    "ExecuteTime": {
     "end_time": "2020-07-08T20:37:55.024327Z",
     "start_time": "2020-07-08T20:37:54.146469Z"
    },
    "colab": {},
    "colab_type": "code",
    "id": "il_2ixhp6_Ya"
   },
   "outputs": [
    {
     "data": {
      "text/plain": [
       "<matplotlib.axes._subplots.AxesSubplot at 0x21568719988>"
      ]
     },
     "execution_count": 48,
     "metadata": {},
     "output_type": "execute_result"
    },
    {
     "data": {
      "image/png": "[encoded data removed]",
      "text/plain": [
       "<Figure size 432x288 with 1 Axes>"
      ]
     },
     "metadata": {
      "needs_background": "light"
     },
     "output_type": "display_data"
    }
   ],
   "source": [
    "sns.scatterplot(x=data[\"Height\"],y=data[\"Weight\"],hue=data[\"Gender\"])"
   ]
  },
  {
   "cell_type": "markdown",
   "metadata": {
    "colab_type": "text",
    "id": "BG61NYRy6_Ye"
   },
   "source": [
    "### Create a variable called `gender_groupby` to group data by 'Gender'. However, don't define any aggregations yet. \n",
    "\n",
    "Just perform the groupby operation."
   ]
  },
  {
   "cell_type": "code",
   "execution_count": 49,
   "metadata": {
    "ExecuteTime": {
     "end_time": "2020-07-08T20:38:48.401746Z",
     "start_time": "2020-07-08T20:38:48.397758Z"
    },
    "colab": {},
    "colab_type": "code",
    "id": "T1-ve0L86_Ye"
   },
   "outputs": [],
   "source": [
    "# your code here\n",
    "gender_groupby = data.groupby('Gender')"
   ]
  },
  {
   "cell_type": "markdown",
   "metadata": {
    "colab_type": "text",
    "id": "QgBhuRB_6_Yh"
   },
   "source": [
    "#### Run `gender_groupby.head()` to check the groups obtained."
   ]
  },
  {
   "cell_type": "code",
   "execution_count": 50,
   "metadata": {
    "ExecuteTime": {
     "end_time": "2020-07-08T20:38:51.613735Z",
     "start_time": "2020-07-08T20:38:51.594820Z"
    },
    "colab": {},
    "colab_type": "code",
    "id": "ry9aSDKm6_Yh"
   },
   "outputs": [
    {
     "data": {
      "text/html": [
       "<div>\n",
       "<style scoped>\n",
       "    .dataframe tbody tr th:only-of-type {\n",
       "        vertical-align: middle;\n",
       "    }\n",
       "\n",
       "    .dataframe tbody tr th {\n",
       "        vertical-align: top;\n",
       "    }\n",
       "\n",
       "    .dataframe thead th {\n",
       "        text-align: right;\n",
       "    }\n",
       "</style>\n",
       "<table border=\"1\" class=\"dataframe\">\n",
       "  <thead>\n",
       "    <tr style=\"text-align: right;\">\n",
       "      <th></th>\n",
       "      <th>Gender</th>\n",
       "      <th>Height</th>\n",
       "      <th>Weight</th>\n",
       "      <th>Money</th>\n",
       "    </tr>\n",
       "  </thead>\n",
       "  <tbody>\n",
       "    <tr>\n",
       "      <th>0</th>\n",
       "      <td>Male</td>\n",
       "      <td>73.847017</td>\n",
       "      <td>241.893563</td>\n",
       "      <td>21.462754</td>\n",
       "    </tr>\n",
       "    <tr>\n",
       "      <th>1</th>\n",
       "      <td>Male</td>\n",
       "      <td>68.781904</td>\n",
       "      <td>162.310473</td>\n",
       "      <td>94.732358</td>\n",
       "    </tr>\n",
       "    <tr>\n",
       "      <th>2</th>\n",
       "      <td>Male</td>\n",
       "      <td>74.110105</td>\n",
       "      <td>212.740856</td>\n",
       "      <td>130.077362</td>\n",
       "    </tr>\n",
       "    <tr>\n",
       "      <th>3</th>\n",
       "      <td>Male</td>\n",
       "      <td>71.730978</td>\n",
       "      <td>220.042470</td>\n",
       "      <td>214.096064</td>\n",
       "    </tr>\n",
       "    <tr>\n",
       "      <th>4</th>\n",
       "      <td>Male</td>\n",
       "      <td>69.881796</td>\n",
       "      <td>206.349801</td>\n",
       "      <td>765.091245</td>\n",
       "    </tr>\n",
       "    <tr>\n",
       "      <th>5000</th>\n",
       "      <td>Female</td>\n",
       "      <td>58.910732</td>\n",
       "      <td>102.088326</td>\n",
       "      <td>25.530452</td>\n",
       "    </tr>\n",
       "    <tr>\n",
       "      <th>5001</th>\n",
       "      <td>Female</td>\n",
       "      <td>65.230013</td>\n",
       "      <td>141.305823</td>\n",
       "      <td>270.612186</td>\n",
       "    </tr>\n",
       "    <tr>\n",
       "      <th>5002</th>\n",
       "      <td>Female</td>\n",
       "      <td>63.369004</td>\n",
       "      <td>131.041403</td>\n",
       "      <td>1114.256936</td>\n",
       "    </tr>\n",
       "    <tr>\n",
       "      <th>5003</th>\n",
       "      <td>Female</td>\n",
       "      <td>64.479997</td>\n",
       "      <td>128.171511</td>\n",
       "      <td>2194.127692</td>\n",
       "    </tr>\n",
       "    <tr>\n",
       "      <th>5004</th>\n",
       "      <td>Female</td>\n",
       "      <td>61.793096</td>\n",
       "      <td>129.781407</td>\n",
       "      <td>462.814462</td>\n",
       "    </tr>\n",
       "  </tbody>\n",
       "</table>\n",
       "</div>"
      ],
      "text/plain": [
       "      Gender     Height      Weight        Money\n",
       "0       Male  73.847017  241.893563    21.462754\n",
       "1       Male  68.781904  162.310473    94.732358\n",
       "2       Male  74.110105  212.740856   130.077362\n",
       "3       Male  71.730978  220.042470   214.096064\n",
       "4       Male  69.881796  206.349801   765.091245\n",
       "5000  Female  58.910732  102.088326    25.530452\n",
       "5001  Female  65.230013  141.305823   270.612186\n",
       "5002  Female  63.369004  131.041403  1114.256936\n",
       "5003  Female  64.479997  128.171511  2194.127692\n",
       "5004  Female  61.793096  129.781407   462.814462"
      ]
     },
     "execution_count": 50,
     "metadata": {},
     "output_type": "execute_result"
    }
   ],
   "source": [
    "gender_groupby.head()"
   ]
  },
  {
   "cell_type": "markdown",
   "metadata": {
    "colab_type": "text",
    "id": "Fw0jkp5D6_Yj"
   },
   "source": [
    "#### Run gender_groupby.describe() to check the statistics for each group. \n",
    "\n",
    "_hint: You can transpose this result to obtain a better visualization of the results_\n"
   ]
  },
  {
   "cell_type": "code",
   "execution_count": 51,
   "metadata": {
    "ExecuteTime": {
     "end_time": "2020-07-08T20:39:13.472241Z",
     "start_time": "2020-07-08T20:39:13.400433Z"
    },
    "colab": {},
    "colab_type": "code",
    "id": "2BqS-oLr6_Yk"
   },
   "outputs": [
    {
     "data": {
      "text/html": [
       "<div>\n",
       "<style scoped>\n",
       "    .dataframe tbody tr th:only-of-type {\n",
       "        vertical-align: middle;\n",
       "    }\n",
       "\n",
       "    .dataframe tbody tr th {\n",
       "        vertical-align: top;\n",
       "    }\n",
       "\n",
       "    .dataframe thead tr th {\n",
       "        text-align: left;\n",
       "    }\n",
       "\n",
       "    .dataframe thead tr:last-of-type th {\n",
       "        text-align: right;\n",
       "    }\n",
       "</style>\n",
       "<table border=\"1\" class=\"dataframe\">\n",
       "  <thead>\n",
       "    <tr>\n",
       "      <th></th>\n",
       "      <th colspan=\"8\" halign=\"left\">Height</th>\n",
       "      <th colspan=\"5\" halign=\"left\">Weight</th>\n",
       "      <th colspan=\"8\" halign=\"left\">Money</th>\n",
       "    </tr>\n",
       "    <tr>\n",
       "      <th></th>\n",
       "      <th>count</th>\n",
       "      <th>mean</th>\n",
       "      <th>std</th>\n",
       "      <th>min</th>\n",
       "      <th>25%</th>\n",
       "      <th>50%</th>\n",
       "      <th>75%</th>\n",
       "      <th>max</th>\n",
       "      <th>count</th>\n",
       "      <th>mean</th>\n",
       "      <th>...</th>\n",
       "      <th>75%</th>\n",
       "      <th>max</th>\n",
       "      <th>count</th>\n",
       "      <th>mean</th>\n",
       "      <th>std</th>\n",
       "      <th>min</th>\n",
       "      <th>25%</th>\n",
       "      <th>50%</th>\n",
       "      <th>75%</th>\n",
       "      <th>max</th>\n",
       "    </tr>\n",
       "    <tr>\n",
       "      <th>Gender</th>\n",
       "      <th></th>\n",
       "      <th></th>\n",
       "      <th></th>\n",
       "      <th></th>\n",
       "      <th></th>\n",
       "      <th></th>\n",
       "      <th></th>\n",
       "      <th></th>\n",
       "      <th></th>\n",
       "      <th></th>\n",
       "      <th></th>\n",
       "      <th></th>\n",
       "      <th></th>\n",
       "      <th></th>\n",
       "      <th></th>\n",
       "      <th></th>\n",
       "      <th></th>\n",
       "      <th></th>\n",
       "      <th></th>\n",
       "      <th></th>\n",
       "      <th></th>\n",
       "    </tr>\n",
       "  </thead>\n",
       "  <tbody>\n",
       "    <tr>\n",
       "      <th>Female</th>\n",
       "      <td>5000.0</td>\n",
       "      <td>63.708774</td>\n",
       "      <td>2.696284</td>\n",
       "      <td>54.263133</td>\n",
       "      <td>61.894441</td>\n",
       "      <td>63.730924</td>\n",
       "      <td>65.563565</td>\n",
       "      <td>73.389586</td>\n",
       "      <td>5000.0</td>\n",
       "      <td>135.860093</td>\n",
       "      <td>...</td>\n",
       "      <td>148.810926</td>\n",
       "      <td>202.237214</td>\n",
       "      <td>5000.0</td>\n",
       "      <td>751.959852</td>\n",
       "      <td>860.718215</td>\n",
       "      <td>4.194596e-03</td>\n",
       "      <td>162.499271</td>\n",
       "      <td>453.032412</td>\n",
       "      <td>1015.017353</td>\n",
       "      <td>7347.139257</td>\n",
       "    </tr>\n",
       "    <tr>\n",
       "      <th>Male</th>\n",
       "      <td>5000.0</td>\n",
       "      <td>69.026346</td>\n",
       "      <td>2.863362</td>\n",
       "      <td>58.406905</td>\n",
       "      <td>67.174679</td>\n",
       "      <td>69.027709</td>\n",
       "      <td>70.988744</td>\n",
       "      <td>78.998742</td>\n",
       "      <td>5000.0</td>\n",
       "      <td>187.020621</td>\n",
       "      <td>...</td>\n",
       "      <td>200.357802</td>\n",
       "      <td>269.989699</td>\n",
       "      <td>5000.0</td>\n",
       "      <td>510.353076</td>\n",
       "      <td>727.686958</td>\n",
       "      <td>1.735664e-07</td>\n",
       "      <td>48.648924</td>\n",
       "      <td>232.012273</td>\n",
       "      <td>667.073116</td>\n",
       "      <td>8168.216190</td>\n",
       "    </tr>\n",
       "  </tbody>\n",
       "</table>\n",
       "<p>2 rows × 24 columns</p>\n",
       "</div>"
      ],
      "text/plain": [
       "        Height                                                        \\\n",
       "         count       mean       std        min        25%        50%   \n",
       "Gender                                                                 \n",
       "Female  5000.0  63.708774  2.696284  54.263133  61.894441  63.730924   \n",
       "Male    5000.0  69.026346  2.863362  58.406905  67.174679  69.027709   \n",
       "\n",
       "                              Weight              ...                          \\\n",
       "              75%        max   count        mean  ...         75%         max   \n",
       "Gender                                            ...                           \n",
       "Female  65.563565  73.389586  5000.0  135.860093  ...  148.810926  202.237214   \n",
       "Male    70.988744  78.998742  5000.0  187.020621  ...  200.357802  269.989699   \n",
       "\n",
       "         Money                                                                \\\n",
       "         count        mean         std           min         25%         50%   \n",
       "Gender                                                                         \n",
       "Female  5000.0  751.959852  860.718215  4.194596e-03  162.499271  453.032412   \n",
       "Male    5000.0  510.353076  727.686958  1.735664e-07   48.648924  232.012273   \n",
       "\n",
       "                                  \n",
       "                75%          max  \n",
       "Gender                            \n",
       "Female  1015.017353  7347.139257  \n",
       "Male     667.073116  8168.216190  \n",
       "\n",
       "[2 rows x 24 columns]"
      ]
     },
     "execution_count": 51,
     "metadata": {},
     "output_type": "execute_result"
    }
   ],
   "source": [
    "gender_groupby.describe()"
   ]
  },
  {
   "cell_type": "markdown",
   "metadata": {
    "colab_type": "text",
    "id": "rdqDmgC36_Yl"
   },
   "source": [
    "The results above should give you some insights of the effect of gender on your dataset both visually and numerically."
   ]
  },
  {
   "cell_type": "markdown",
   "metadata": {
    "colab_type": "text",
    "id": "rcOvujkn6_Ym"
   },
   "source": [
    "## Distribution plots"
   ]
  },
  {
   "cell_type": "markdown",
   "metadata": {
    "colab_type": "text",
    "id": "3JUuAPkq6_Ym"
   },
   "source": [
    "### Verifying the distribution of your variables for each Gender.\n",
    "\n",
    "We have seen that each variable in our dataset has its own \"DNA\". This is the distribution of each variable. However, the story does not stop there. Each variable has peculiarities within it and it is our job as data analyst to discover it. We'll see futurely that what `machine learning models` mostly do for us is automate this process (if we understand them, of course) \n",
    "\n",
    "In this case, specifically, we want to understand the effect of our `Gender` variable on the distribution of our dataset.\n"
   ]
  },
  {
   "cell_type": "markdown",
   "metadata": {
    "colab_type": "text",
    "id": "7VbGftCN6_Ym"
   },
   "source": [
    "### First, plot the distribution of the `Height` variable again."
   ]
  },
  {
   "cell_type": "code",
   "execution_count": 52,
   "metadata": {
    "ExecuteTime": {
     "end_time": "2020-07-08T20:45:40.005583Z",
     "start_time": "2020-07-08T20:45:39.857969Z"
    },
    "colab": {},
    "colab_type": "code",
    "id": "agy8521H6_Yn"
   },
   "outputs": [
    {
     "data": {
      "text/plain": [
       "(array([  23.,  218.,  926., 1906., 2196., 2167., 1612.,  765.,  163.,\n",
       "          24.]),\n",
       " array([54.26313333, 56.73669423, 59.21025513, 61.68381603, 64.15737693,\n",
       "        66.63093784, 69.10449874, 71.57805964, 74.05162054, 76.52518144,\n",
       "        78.99874235]),\n",
       " <a list of 10 Patch objects>)"
      ]
     },
     "execution_count": 52,
     "metadata": {},
     "output_type": "execute_result"
    },
    {
     "data": {
      "image/png": "[encoded data removed]",
      "text/plain": [
       "<Figure size 432x288 with 1 Axes>"
      ]
     },
     "metadata": {
      "needs_background": "light"
     },
     "output_type": "display_data"
    }
   ],
   "source": [
    "plt.hist(height)"
   ]
  },
  {
   "cell_type": "markdown",
   "metadata": {
    "colab_type": "text",
    "id": "iHH6KpQr6_Yp"
   },
   "source": [
    "### Now, filter your dataset for each gender. Create a dataframe called `men` and another called `women` and plot the `Height` distribution for each of them in the same plot."
   ]
  },
  {
   "cell_type": "code",
   "execution_count": 61,
   "metadata": {
    "ExecuteTime": {
     "end_time": "2020-07-08T20:54:18.803113Z",
     "start_time": "2020-07-08T20:54:18.626557Z"
    },
    "colab": {},
    "colab_type": "code",
    "id": "gS71p7-K6_Yp"
   },
   "outputs": [
    {
     "data": {
      "text/plain": [
       "<matplotlib.axes._subplots.AxesSubplot at 0x21569bddb48>"
      ]
     },
     "execution_count": 61,
     "metadata": {},
     "output_type": "execute_result"
    },
    {
     "data": {
      "image/png": "[encoded data removed]",
      "text/plain": [
       "<Figure size 432x288 with 1 Axes>"
      ]
     },
     "metadata": {
      "needs_background": "light"
     },
     "output_type": "display_data"
    }
   ],
   "source": [
    "men=data.loc[data[\"Gender\"]=='Male',:]\n",
    "women=data.loc[data[\"Gender\"]=='Female',:]\n",
    "sns.kdeplot(men[\"Height\"])\n",
    "sns.kdeplot(women[\"Height\"])"
   ]
  },
  {
   "cell_type": "markdown",
   "metadata": {
    "colab_type": "text",
    "id": "OKn0Zyrc6_Yw"
   },
   "source": [
    "## Boxplot "
   ]
  },
  {
   "cell_type": "markdown",
   "metadata": {
    "colab_type": "text",
    "id": "8Em89WIn6_Yw"
   },
   "source": [
    "### Gender vs Height\n",
    "\n",
    "Plot the boxplot considering the x-axis as `Gender` and y-axis as `Height`"
   ]
  },
  {
   "cell_type": "code",
   "execution_count": 62,
   "metadata": {
    "ExecuteTime": {
     "end_time": "2020-07-08T21:09:30.023222Z",
     "start_time": "2020-07-08T21:09:29.864061Z"
    },
    "colab": {},
    "colab_type": "code",
    "id": "gw4HbUh36_Yx"
   },
   "outputs": [
    {
     "data": {
      "text/plain": [
       "<matplotlib.axes._subplots.AxesSubplot at 0x21569b79508>"
      ]
     },
     "execution_count": 62,
     "metadata": {},
     "output_type": "execute_result"
    },
    {
     "data": {
      "image/png": "[encoded data removed]",
      "text/plain": [
       "<Figure size 864x576 with 1 Axes>"
      ]
     },
     "metadata": {
      "needs_background": "light"
     },
     "output_type": "display_data"
    }
   ],
   "source": [
    "plt.figure(figsize=(12, 8))\n",
    "sns.boxplot(x=data[\"Gender\"],y=data[\"Height\"])"
   ]
  },
  {
   "cell_type": "markdown",
   "metadata": {
    "colab_type": "text",
    "id": "CSIGCqV66_Yy"
   },
   "source": [
    "### Gender vs Money"
   ]
  },
  {
   "cell_type": "code",
   "execution_count": 63,
   "metadata": {
    "ExecuteTime": {
     "end_time": "2020-07-08T21:09:45.702483Z",
     "start_time": "2020-07-08T21:09:45.528955Z"
    },
    "colab": {},
    "colab_type": "code",
    "id": "weexLFSX6_Yz"
   },
   "outputs": [
    {
     "data": {
      "text/plain": [
       "<matplotlib.axes._subplots.AxesSubplot at 0x21569eb1348>"
      ]
     },
     "execution_count": 63,
     "metadata": {},
     "output_type": "execute_result"
    },
    {
     "data": {
      "image/png": "[encoded data removed]",
      "text/plain": [
       "<Figure size 864x576 with 1 Axes>"
      ]
     },
     "metadata": {
      "needs_background": "light"
     },
     "output_type": "display_data"
    }
   ],
   "source": [
    "plt.figure(figsize=(12, 8))\n",
    "sns.boxplot(x=data[\"Gender\"],y=data[\"Money\"])"
   ]
  },
  {
   "cell_type": "markdown",
   "metadata": {
    "colab_type": "text",
    "id": "HNT8LjTI6_Y3"
   },
   "source": [
    "### Multivariate Analysis"
   ]
  },
  {
   "cell_type": "markdown",
   "metadata": {
    "colab_type": "text",
    "id": "_affOA406_Y3"
   },
   "source": [
    "Use `sns.pairplot` to see some combinations obtained so far. Use `hue = 'Gender`. \n",
    "\n",
    "Note that in a real problem, pairplot starts to get messy since there can be countless number of variables in a dataset. Use it wisely."
   ]
  },
  {
   "cell_type": "code",
   "execution_count": 64,
   "metadata": {
    "ExecuteTime": {
     "end_time": "2020-07-08T21:10:37.205370Z",
     "start_time": "2020-07-08T21:10:34.408815Z"
    },
    "colab": {},
    "colab_type": "code",
    "id": "LxvLM7Vf6_Y3"
   },
   "outputs": [
    {
     "data": {
      "text/plain": [
       "<seaborn.axisgrid.PairGrid at 0x21569cfb408>"
      ]
     },
     "execution_count": 64,
     "metadata": {},
     "output_type": "execute_result"
    },
    {
     "data": {
      "image/png": "[encoded data removed]",
      "text/plain": [
       "<Figure size 612.625x540 with 12 Axes>"
      ]
     },
     "metadata": {
      "needs_background": "light"
     },
     "output_type": "display_data"
    }
   ],
   "source": [
    "sns.pairplot(data, hue='Gender')"
   ]
  },
  {
   "cell_type": "code",
   "execution_count": 0,
   "metadata": {
    "colab": {},
    "colab_type": "code",
    "id": "9Oz73LT46_Y5"
   },
   "outputs": [],
   "source": []
  }
 ],
 "metadata": {
  "colab": {
   "collapsed_sections": [],
   "name": "main.ipynb",
   "provenance": []
  },
  "hide_input": false,
  "kernelspec": {
   "display_name": "Python 3",
   "language": "python",
   "name": "python3"
  },
  "language_info": {
   "codemirror_mode": {
    "name": "ipython",
    "version": 3
   },
   "file_extension": ".py",
   "mimetype": "text/x-python",
   "name": "python",
   "nbconvert_exporter": "python",
   "pygments_lexer": "ipython3",
   "version": "3.7.4"
  },
  "toc": {
   "base_numbering": 1,
   "nav_menu": {},
   "number_sections": true,
   "sideBar": true,
   "skip_h1_title": false,
   "title_cell": "Table of Contents",
   "title_sidebar": "Contents",
   "toc_cell": false,
   "toc_position": {},
   "toc_section_display": true,
   "toc_window_display": false
  },
  "varInspector": {
   "cols": {
    "lenName": 16,
    "lenType": 16,
    "lenVar": 40
   },
   "kernels_config": {
    "python": {
     "delete_cmd_postfix": "",
     "delete_cmd_prefix": "del ",
     "library": "var_list.py",
     "varRefreshCmd": "print(var_dic_list())"
    },
    "r": {
     "delete_cmd_postfix": ") ",
     "delete_cmd_prefix": "rm(",
     "library": "var_list.r",
     "varRefreshCmd": "cat(var_dic_list()) "
    }
   },
   "types_to_exclude": [
    "module",
    "function",
    "builtin_function_or_method",
    "instance",
    "_Feature"
   ],
   "window_display": false
  }
 },
 "nbformat": 4,
 "nbformat_minor": 1
}
