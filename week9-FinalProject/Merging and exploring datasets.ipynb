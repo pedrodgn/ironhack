{
 "cells": [
  {
   "cell_type": "code",
   "execution_count": 226,
   "metadata": {
    "ExecuteTime": {
     "end_time": "2020-07-29T22:06:49.309255Z",
     "start_time": "2020-07-29T22:06:49.303270Z"
    }
   },
   "outputs": [],
   "source": [
    "import pandas as pd\n",
    "import re\n",
    "from datetime import datetime, timedelta"
   ]
  },
  {
   "cell_type": "code",
   "execution_count": 227,
   "metadata": {
    "ExecuteTime": {
     "end_time": "2020-07-29T22:06:49.871749Z",
     "start_time": "2020-07-29T22:06:49.862775Z"
    }
   },
   "outputs": [],
   "source": [
    "earthquakes=pd.read_csv('./VillarricaEarthquakes.csv')"
   ]
  },
  {
   "cell_type": "code",
   "execution_count": 228,
   "metadata": {
    "ExecuteTime": {
     "end_time": "2020-07-29T22:06:50.403372Z",
     "start_time": "2020-07-29T22:06:50.397344Z"
    }
   },
   "outputs": [],
   "source": [
    "eruptions=pd.read_csv('./VillarricaEruptions.csv')"
   ]
  },
  {
   "cell_type": "markdown",
   "metadata": {},
   "source": [
    "# Exploring datasets"
   ]
  },
  {
   "cell_type": "code",
   "execution_count": 229,
   "metadata": {
    "ExecuteTime": {
     "end_time": "2020-07-29T22:06:50.946891Z",
     "start_time": "2020-07-29T22:06:50.932912Z"
    }
   },
   "outputs": [
    {
     "data": {
      "text/html": [
       "<div>\n",
       "<style scoped>\n",
       "    .dataframe tbody tr th:only-of-type {\n",
       "        vertical-align: middle;\n",
       "    }\n",
       "\n",
       "    .dataframe tbody tr th {\n",
       "        vertical-align: top;\n",
       "    }\n",
       "\n",
       "    .dataframe thead th {\n",
       "        text-align: right;\n",
       "    }\n",
       "</style>\n",
       "<table border=\"1\" class=\"dataframe\">\n",
       "  <thead>\n",
       "    <tr style=\"text-align: right;\">\n",
       "      <th></th>\n",
       "      <th>volcano_number</th>\n",
       "      <th>volcano_name</th>\n",
       "      <th>eruption_number</th>\n",
       "      <th>eruption_category</th>\n",
       "      <th>vei</th>\n",
       "      <th>start_year</th>\n",
       "      <th>start_month</th>\n",
       "      <th>start_day</th>\n",
       "      <th>latitude</th>\n",
       "      <th>longitude</th>\n",
       "      <th>date</th>\n",
       "    </tr>\n",
       "  </thead>\n",
       "  <tbody>\n",
       "    <tr>\n",
       "      <th>0</th>\n",
       "      <td>357120</td>\n",
       "      <td>Villarrica</td>\n",
       "      <td>12184</td>\n",
       "      <td>Confirmed Eruption</td>\n",
       "      <td>1.0</td>\n",
       "      <td>2009.0</td>\n",
       "      <td>11.0</td>\n",
       "      <td>22.0</td>\n",
       "      <td>-39.42</td>\n",
       "      <td>-71.93</td>\n",
       "      <td>2009-11-22</td>\n",
       "    </tr>\n",
       "    <tr>\n",
       "      <th>1</th>\n",
       "      <td>357120</td>\n",
       "      <td>Villarrica</td>\n",
       "      <td>12183</td>\n",
       "      <td>Confirmed Eruption</td>\n",
       "      <td>1.0</td>\n",
       "      <td>2009.0</td>\n",
       "      <td>1.0</td>\n",
       "      <td>29.0</td>\n",
       "      <td>-39.42</td>\n",
       "      <td>-71.93</td>\n",
       "      <td>2009-01-29</td>\n",
       "    </tr>\n",
       "    <tr>\n",
       "      <th>2</th>\n",
       "      <td>357120</td>\n",
       "      <td>Villarrica</td>\n",
       "      <td>12182</td>\n",
       "      <td>Confirmed Eruption</td>\n",
       "      <td>1.0</td>\n",
       "      <td>2008.0</td>\n",
       "      <td>10.0</td>\n",
       "      <td>26.0</td>\n",
       "      <td>-39.42</td>\n",
       "      <td>-71.93</td>\n",
       "      <td>2008-10-26</td>\n",
       "    </tr>\n",
       "    <tr>\n",
       "      <th>3</th>\n",
       "      <td>357120</td>\n",
       "      <td>Villarrica</td>\n",
       "      <td>12181</td>\n",
       "      <td>Confirmed Eruption</td>\n",
       "      <td>1.0</td>\n",
       "      <td>2004.0</td>\n",
       "      <td>8.0</td>\n",
       "      <td>5.0</td>\n",
       "      <td>-39.42</td>\n",
       "      <td>-71.93</td>\n",
       "      <td>2004-08-05</td>\n",
       "    </tr>\n",
       "    <tr>\n",
       "      <th>4</th>\n",
       "      <td>357120</td>\n",
       "      <td>Villarrica</td>\n",
       "      <td>12180</td>\n",
       "      <td>Confirmed Eruption</td>\n",
       "      <td>1.0</td>\n",
       "      <td>2003.0</td>\n",
       "      <td>5.0</td>\n",
       "      <td>23.0</td>\n",
       "      <td>-39.42</td>\n",
       "      <td>-71.93</td>\n",
       "      <td>2003-05-23</td>\n",
       "    </tr>\n",
       "  </tbody>\n",
       "</table>\n",
       "</div>"
      ],
      "text/plain": [
       "   volcano_number volcano_name  eruption_number   eruption_category  vei  \\\n",
       "0          357120   Villarrica            12184  Confirmed Eruption  1.0   \n",
       "1          357120   Villarrica            12183  Confirmed Eruption  1.0   \n",
       "2          357120   Villarrica            12182  Confirmed Eruption  1.0   \n",
       "3          357120   Villarrica            12181  Confirmed Eruption  1.0   \n",
       "4          357120   Villarrica            12180  Confirmed Eruption  1.0   \n",
       "\n",
       "   start_year  start_month  start_day  latitude  longitude        date  \n",
       "0      2009.0         11.0       22.0    -39.42     -71.93  2009-11-22  \n",
       "1      2009.0          1.0       29.0    -39.42     -71.93  2009-01-29  \n",
       "2      2008.0         10.0       26.0    -39.42     -71.93  2008-10-26  \n",
       "3      2004.0          8.0        5.0    -39.42     -71.93  2004-08-05  \n",
       "4      2003.0          5.0       23.0    -39.42     -71.93  2003-05-23  "
      ]
     },
     "execution_count": 229,
     "metadata": {},
     "output_type": "execute_result"
    }
   ],
   "source": [
    "eruptions.head()"
   ]
  },
  {
   "cell_type": "code",
   "execution_count": 230,
   "metadata": {
    "ExecuteTime": {
     "end_time": "2020-07-29T22:06:51.451525Z",
     "start_time": "2020-07-29T22:06:51.446538Z"
    }
   },
   "outputs": [],
   "source": [
    "eruptions=eruptions.rename(columns={'latitude':'volcano_latitude','longitude': 'volcano_longitude'})"
   ]
  },
  {
   "cell_type": "code",
   "execution_count": 231,
   "metadata": {
    "ExecuteTime": {
     "end_time": "2020-07-29T22:06:51.982980Z",
     "start_time": "2020-07-29T22:06:51.977967Z"
    }
   },
   "outputs": [],
   "source": [
    "eruptions['date']=pd.to_datetime(eruptions['date'],format=\"%Y/%m/%d\")"
   ]
  },
  {
   "cell_type": "code",
   "execution_count": 232,
   "metadata": {
    "ExecuteTime": {
     "end_time": "2020-07-29T22:06:52.484627Z",
     "start_time": "2020-07-29T22:06:52.477632Z"
    }
   },
   "outputs": [],
   "source": [
    "eruptions['Days since last eruption']=eruptions['date'].diff(periods=-1).dt.days"
   ]
  },
  {
   "cell_type": "code",
   "execution_count": 233,
   "metadata": {
    "ExecuteTime": {
     "end_time": "2020-07-29T22:06:52.995281Z",
     "start_time": "2020-07-29T22:06:52.990261Z"
    }
   },
   "outputs": [],
   "source": [
    "eruptions.loc[eruptions['eruption_number']==12150,'Days since last eruption']=700"
   ]
  },
  {
   "cell_type": "code",
   "execution_count": 234,
   "metadata": {
    "ExecuteTime": {
     "end_time": "2020-07-29T22:06:53.522837Z",
     "start_time": "2020-07-29T22:06:53.514857Z"
    }
   },
   "outputs": [
    {
     "name": "stdout",
     "output_type": "stream",
     "text": [
      "<class 'pandas.core.frame.DataFrame'>\n",
      "RangeIndex: 1726 entries, 0 to 1725\n",
      "Data columns (total 5 columns):\n",
      " #   Column     Non-Null Count  Dtype  \n",
      "---  ------     --------------  -----  \n",
      " 0   id         1726 non-null   object \n",
      " 1   mag        1726 non-null   float64\n",
      " 2   longitude  1726 non-null   float64\n",
      " 3   latitude   1726 non-null   float64\n",
      " 4   date       1726 non-null   object \n",
      "dtypes: float64(3), object(2)\n",
      "memory usage: 67.5+ KB\n"
     ]
    }
   ],
   "source": [
    "earthquakes.info()"
   ]
  },
  {
   "cell_type": "code",
   "execution_count": 235,
   "metadata": {
    "ExecuteTime": {
     "end_time": "2020-07-29T22:06:54.018386Z",
     "start_time": "2020-07-29T22:06:54.012385Z"
    }
   },
   "outputs": [],
   "source": [
    "earthquakes['date']=pd.to_datetime(earthquakes['date'],format=\"%Y/%m/%d\")"
   ]
  },
  {
   "cell_type": "markdown",
   "metadata": {},
   "source": [
    "# Merging datasets"
   ]
  },
  {
   "cell_type": "code",
   "execution_count": 246,
   "metadata": {
    "ExecuteTime": {
     "end_time": "2020-07-29T22:08:50.206974Z",
     "start_time": "2020-07-29T22:08:50.179093Z"
    }
   },
   "outputs": [],
   "source": [
    "for day in range(0,31):    \n",
    "    earthquakes[f'date-{day}']=earthquakes['date']-timedelta(days=day)"
   ]
  },
  {
   "cell_type": "code",
   "execution_count": 248,
   "metadata": {
    "ExecuteTime": {
     "end_time": "2020-07-29T22:08:51.473924Z",
     "start_time": "2020-07-29T22:08:51.305375Z"
    }
   },
   "outputs": [],
   "source": [
    "for x in range(0, 31):\n",
    "    globals()['villarrica%s' % x] = earthquakes.join(eruptions.set_index('date'), on=f'date-{x}')\n",
    "    globals()['villarrica%s' % x] = globals()['villarrica%s' % x].dropna()"
   ]
  },
  {
   "cell_type": "code",
   "execution_count": 252,
   "metadata": {
    "ExecuteTime": {
     "end_time": "2020-07-29T22:16:30.013400Z",
     "start_time": "2020-07-29T22:16:29.933584Z"
    }
   },
   "outputs": [],
   "source": [
    "villarrica=pd.DataFrame()\n",
    "for i in range(0,31):\n",
    "    villarrica=pd.concat([villarrica, globals()['villarrica%s' % i]])"
   ]
  },
  {
   "cell_type": "code",
   "execution_count": 254,
   "metadata": {
    "ExecuteTime": {
     "end_time": "2020-07-29T22:22:52.900957Z",
     "start_time": "2020-07-29T22:22:52.891980Z"
    }
   },
   "outputs": [],
   "source": [
    "villarrica0=earthquakes.join(eruptions.set_index('date'), on='date-0')"
   ]
  },
  {
   "cell_type": "code",
   "execution_count": 255,
   "metadata": {
    "ExecuteTime": {
     "end_time": "2020-07-29T22:23:06.412938Z",
     "start_time": "2020-07-29T22:23:06.401967Z"
    }
   },
   "outputs": [],
   "source": [
    "villarrica=pd.concat([villarrica,villarrica0])"
   ]
  },
  {
   "cell_type": "code",
   "execution_count": 259,
   "metadata": {
    "ExecuteTime": {
     "end_time": "2020-07-29T22:26:06.764434Z",
     "start_time": "2020-07-29T22:26:06.743490Z"
    }
   },
   "outputs": [],
   "source": [
    "villarrica=villarrica.drop_duplicates()"
   ]
  },
  {
   "cell_type": "markdown",
   "metadata": {},
   "source": [
    "# Final adjustments"
   ]
  },
  {
   "cell_type": "code",
   "execution_count": 286,
   "metadata": {
    "ExecuteTime": {
     "end_time": "2020-07-29T22:57:11.309304Z",
     "start_time": "2020-07-29T22:57:11.267414Z"
    }
   },
   "outputs": [
    {
     "data": {
      "text/html": [
       "<div>\n",
       "<style scoped>\n",
       "    .dataframe tbody tr th:only-of-type {\n",
       "        vertical-align: middle;\n",
       "    }\n",
       "\n",
       "    .dataframe tbody tr th {\n",
       "        vertical-align: top;\n",
       "    }\n",
       "\n",
       "    .dataframe thead th {\n",
       "        text-align: right;\n",
       "    }\n",
       "</style>\n",
       "<table border=\"1\" class=\"dataframe\">\n",
       "  <thead>\n",
       "    <tr style=\"text-align: right;\">\n",
       "      <th></th>\n",
       "      <th>id</th>\n",
       "      <th>mag</th>\n",
       "      <th>longitude</th>\n",
       "      <th>latitude</th>\n",
       "      <th>date</th>\n",
       "      <th>date-0</th>\n",
       "      <th>date-1</th>\n",
       "      <th>date-2</th>\n",
       "      <th>date-3</th>\n",
       "      <th>date-4</th>\n",
       "      <th>...</th>\n",
       "      <th>eruption_number</th>\n",
       "      <th>eruption_category</th>\n",
       "      <th>vei</th>\n",
       "      <th>start_year</th>\n",
       "      <th>start_month</th>\n",
       "      <th>start_day</th>\n",
       "      <th>volcano_latitude</th>\n",
       "      <th>volcano_longitude</th>\n",
       "      <th>Days since last eruption</th>\n",
       "      <th>was_erupted</th>\n",
       "    </tr>\n",
       "  </thead>\n",
       "  <tbody>\n",
       "    <tr>\n",
       "      <th>0</th>\n",
       "      <td>usp000hrgh</td>\n",
       "      <td>4.0</td>\n",
       "      <td>-73.333</td>\n",
       "      <td>-42.262</td>\n",
       "      <td>2010-12-22</td>\n",
       "      <td>2010-12-22</td>\n",
       "      <td>2010-12-21</td>\n",
       "      <td>2010-12-20</td>\n",
       "      <td>2010-12-19</td>\n",
       "      <td>2010-12-18</td>\n",
       "      <td>...</td>\n",
       "      <td>NaN</td>\n",
       "      <td>NaN</td>\n",
       "      <td>NaN</td>\n",
       "      <td>NaN</td>\n",
       "      <td>NaN</td>\n",
       "      <td>NaN</td>\n",
       "      <td>NaN</td>\n",
       "      <td>NaN</td>\n",
       "      <td>3.0</td>\n",
       "      <td>0.0</td>\n",
       "    </tr>\n",
       "    <tr>\n",
       "      <th>1</th>\n",
       "      <td>usp000hr5d</td>\n",
       "      <td>4.5</td>\n",
       "      <td>-73.235</td>\n",
       "      <td>-36.492</td>\n",
       "      <td>2010-12-19</td>\n",
       "      <td>2010-12-19</td>\n",
       "      <td>2010-12-18</td>\n",
       "      <td>2010-12-17</td>\n",
       "      <td>2010-12-16</td>\n",
       "      <td>2010-12-15</td>\n",
       "      <td>...</td>\n",
       "      <td>NaN</td>\n",
       "      <td>NaN</td>\n",
       "      <td>NaN</td>\n",
       "      <td>NaN</td>\n",
       "      <td>NaN</td>\n",
       "      <td>NaN</td>\n",
       "      <td>NaN</td>\n",
       "      <td>NaN</td>\n",
       "      <td>2.0</td>\n",
       "      <td>0.0</td>\n",
       "    </tr>\n",
       "    <tr>\n",
       "      <th>2</th>\n",
       "      <td>usp000hr1v</td>\n",
       "      <td>4.3</td>\n",
       "      <td>-73.726</td>\n",
       "      <td>-37.722</td>\n",
       "      <td>2010-12-17</td>\n",
       "      <td>2010-12-17</td>\n",
       "      <td>2010-12-16</td>\n",
       "      <td>2010-12-15</td>\n",
       "      <td>2010-12-14</td>\n",
       "      <td>2010-12-13</td>\n",
       "      <td>...</td>\n",
       "      <td>NaN</td>\n",
       "      <td>NaN</td>\n",
       "      <td>NaN</td>\n",
       "      <td>NaN</td>\n",
       "      <td>NaN</td>\n",
       "      <td>NaN</td>\n",
       "      <td>NaN</td>\n",
       "      <td>NaN</td>\n",
       "      <td>3.0</td>\n",
       "      <td>0.0</td>\n",
       "    </tr>\n",
       "    <tr>\n",
       "      <th>3</th>\n",
       "      <td>usp000hqxc</td>\n",
       "      <td>4.5</td>\n",
       "      <td>-72.108</td>\n",
       "      <td>-40.491</td>\n",
       "      <td>2010-12-14</td>\n",
       "      <td>2010-12-14</td>\n",
       "      <td>2010-12-13</td>\n",
       "      <td>2010-12-12</td>\n",
       "      <td>2010-12-11</td>\n",
       "      <td>2010-12-10</td>\n",
       "      <td>...</td>\n",
       "      <td>NaN</td>\n",
       "      <td>NaN</td>\n",
       "      <td>NaN</td>\n",
       "      <td>NaN</td>\n",
       "      <td>NaN</td>\n",
       "      <td>NaN</td>\n",
       "      <td>NaN</td>\n",
       "      <td>NaN</td>\n",
       "      <td>3.0</td>\n",
       "      <td>0.0</td>\n",
       "    </tr>\n",
       "    <tr>\n",
       "      <th>4</th>\n",
       "      <td>usp000hqtn</td>\n",
       "      <td>4.7</td>\n",
       "      <td>-73.529</td>\n",
       "      <td>-37.045</td>\n",
       "      <td>2010-12-11</td>\n",
       "      <td>2010-12-11</td>\n",
       "      <td>2010-12-10</td>\n",
       "      <td>2010-12-09</td>\n",
       "      <td>2010-12-08</td>\n",
       "      <td>2010-12-07</td>\n",
       "      <td>...</td>\n",
       "      <td>NaN</td>\n",
       "      <td>NaN</td>\n",
       "      <td>NaN</td>\n",
       "      <td>NaN</td>\n",
       "      <td>NaN</td>\n",
       "      <td>NaN</td>\n",
       "      <td>NaN</td>\n",
       "      <td>NaN</td>\n",
       "      <td>4.0</td>\n",
       "      <td>0.0</td>\n",
       "    </tr>\n",
       "    <tr>\n",
       "      <th>...</th>\n",
       "      <td>...</td>\n",
       "      <td>...</td>\n",
       "      <td>...</td>\n",
       "      <td>...</td>\n",
       "      <td>...</td>\n",
       "      <td>...</td>\n",
       "      <td>...</td>\n",
       "      <td>...</td>\n",
       "      <td>...</td>\n",
       "      <td>...</td>\n",
       "      <td>...</td>\n",
       "      <td>...</td>\n",
       "      <td>...</td>\n",
       "      <td>...</td>\n",
       "      <td>...</td>\n",
       "      <td>...</td>\n",
       "      <td>...</td>\n",
       "      <td>...</td>\n",
       "      <td>...</td>\n",
       "      <td>...</td>\n",
       "      <td>...</td>\n",
       "    </tr>\n",
       "    <tr>\n",
       "      <th>1721</th>\n",
       "      <td>iscgem893991</td>\n",
       "      <td>6.2</td>\n",
       "      <td>-73.519</td>\n",
       "      <td>-38.589</td>\n",
       "      <td>1951-01-03</td>\n",
       "      <td>1951-01-03</td>\n",
       "      <td>1951-01-02</td>\n",
       "      <td>1951-01-01</td>\n",
       "      <td>1950-12-31</td>\n",
       "      <td>1950-12-30</td>\n",
       "      <td>...</td>\n",
       "      <td>NaN</td>\n",
       "      <td>NaN</td>\n",
       "      <td>NaN</td>\n",
       "      <td>NaN</td>\n",
       "      <td>NaN</td>\n",
       "      <td>NaN</td>\n",
       "      <td>NaN</td>\n",
       "      <td>NaN</td>\n",
       "      <td>623.0</td>\n",
       "      <td>0.0</td>\n",
       "    </tr>\n",
       "    <tr>\n",
       "      <th>1722</th>\n",
       "      <td>iscgem896480</td>\n",
       "      <td>6.9</td>\n",
       "      <td>-72.676</td>\n",
       "      <td>-37.665</td>\n",
       "      <td>1949-04-20</td>\n",
       "      <td>1949-04-20</td>\n",
       "      <td>1949-04-19</td>\n",
       "      <td>1949-04-18</td>\n",
       "      <td>1949-04-17</td>\n",
       "      <td>1949-04-16</td>\n",
       "      <td>...</td>\n",
       "      <td>NaN</td>\n",
       "      <td>NaN</td>\n",
       "      <td>NaN</td>\n",
       "      <td>NaN</td>\n",
       "      <td>NaN</td>\n",
       "      <td>NaN</td>\n",
       "      <td>NaN</td>\n",
       "      <td>NaN</td>\n",
       "      <td>3113.0</td>\n",
       "      <td>0.0</td>\n",
       "    </tr>\n",
       "    <tr>\n",
       "      <th>1723</th>\n",
       "      <td>iscgem901645</td>\n",
       "      <td>7.0</td>\n",
       "      <td>-73.630</td>\n",
       "      <td>-42.041</td>\n",
       "      <td>1940-10-11</td>\n",
       "      <td>1940-10-11</td>\n",
       "      <td>1940-10-10</td>\n",
       "      <td>1940-10-09</td>\n",
       "      <td>1940-10-08</td>\n",
       "      <td>1940-10-07</td>\n",
       "      <td>...</td>\n",
       "      <td>NaN</td>\n",
       "      <td>NaN</td>\n",
       "      <td>NaN</td>\n",
       "      <td>NaN</td>\n",
       "      <td>NaN</td>\n",
       "      <td>NaN</td>\n",
       "      <td>NaN</td>\n",
       "      <td>NaN</td>\n",
       "      <td>625.0</td>\n",
       "      <td>0.0</td>\n",
       "    </tr>\n",
       "    <tr>\n",
       "      <th>1724</th>\n",
       "      <td>iscgem901785</td>\n",
       "      <td>7.8</td>\n",
       "      <td>-72.315</td>\n",
       "      <td>-36.305</td>\n",
       "      <td>1939-01-25</td>\n",
       "      <td>1939-01-25</td>\n",
       "      <td>1939-01-24</td>\n",
       "      <td>1939-01-23</td>\n",
       "      <td>1939-01-22</td>\n",
       "      <td>1939-01-21</td>\n",
       "      <td>...</td>\n",
       "      <td>NaN</td>\n",
       "      <td>NaN</td>\n",
       "      <td>NaN</td>\n",
       "      <td>NaN</td>\n",
       "      <td>NaN</td>\n",
       "      <td>NaN</td>\n",
       "      <td>NaN</td>\n",
       "      <td>NaN</td>\n",
       "      <td>1791.0</td>\n",
       "      <td>0.0</td>\n",
       "    </tr>\n",
       "    <tr>\n",
       "      <th>1725</th>\n",
       "      <td>iscgem904821</td>\n",
       "      <td>6.6</td>\n",
       "      <td>-72.459</td>\n",
       "      <td>-40.535</td>\n",
       "      <td>1934-03-01</td>\n",
       "      <td>1934-03-01</td>\n",
       "      <td>1934-02-28</td>\n",
       "      <td>1934-02-27</td>\n",
       "      <td>1934-02-26</td>\n",
       "      <td>1934-02-25</td>\n",
       "      <td>...</td>\n",
       "      <td>NaN</td>\n",
       "      <td>NaN</td>\n",
       "      <td>NaN</td>\n",
       "      <td>NaN</td>\n",
       "      <td>NaN</td>\n",
       "      <td>NaN</td>\n",
       "      <td>NaN</td>\n",
       "      <td>NaN</td>\n",
       "      <td>NaN</td>\n",
       "      <td>0.0</td>\n",
       "    </tr>\n",
       "  </tbody>\n",
       "</table>\n",
       "<p>1760 rows × 49 columns</p>\n",
       "</div>"
      ],
      "text/plain": [
       "                id  mag  longitude  latitude       date     date-0     date-1  \\\n",
       "0       usp000hrgh  4.0    -73.333   -42.262 2010-12-22 2010-12-22 2010-12-21   \n",
       "1       usp000hr5d  4.5    -73.235   -36.492 2010-12-19 2010-12-19 2010-12-18   \n",
       "2       usp000hr1v  4.3    -73.726   -37.722 2010-12-17 2010-12-17 2010-12-16   \n",
       "3       usp000hqxc  4.5    -72.108   -40.491 2010-12-14 2010-12-14 2010-12-13   \n",
       "4       usp000hqtn  4.7    -73.529   -37.045 2010-12-11 2010-12-11 2010-12-10   \n",
       "...            ...  ...        ...       ...        ...        ...        ...   \n",
       "1721  iscgem893991  6.2    -73.519   -38.589 1951-01-03 1951-01-03 1951-01-02   \n",
       "1722  iscgem896480  6.9    -72.676   -37.665 1949-04-20 1949-04-20 1949-04-19   \n",
       "1723  iscgem901645  7.0    -73.630   -42.041 1940-10-11 1940-10-11 1940-10-10   \n",
       "1724  iscgem901785  7.8    -72.315   -36.305 1939-01-25 1939-01-25 1939-01-24   \n",
       "1725  iscgem904821  6.6    -72.459   -40.535 1934-03-01 1934-03-01 1934-02-28   \n",
       "\n",
       "         date-2     date-3     date-4  ... eruption_number eruption_category  \\\n",
       "0    2010-12-20 2010-12-19 2010-12-18  ...             NaN               NaN   \n",
       "1    2010-12-17 2010-12-16 2010-12-15  ...             NaN               NaN   \n",
       "2    2010-12-15 2010-12-14 2010-12-13  ...             NaN               NaN   \n",
       "3    2010-12-12 2010-12-11 2010-12-10  ...             NaN               NaN   \n",
       "4    2010-12-09 2010-12-08 2010-12-07  ...             NaN               NaN   \n",
       "...         ...        ...        ...  ...             ...               ...   \n",
       "1721 1951-01-01 1950-12-31 1950-12-30  ...             NaN               NaN   \n",
       "1722 1949-04-18 1949-04-17 1949-04-16  ...             NaN               NaN   \n",
       "1723 1940-10-09 1940-10-08 1940-10-07  ...             NaN               NaN   \n",
       "1724 1939-01-23 1939-01-22 1939-01-21  ...             NaN               NaN   \n",
       "1725 1934-02-27 1934-02-26 1934-02-25  ...             NaN               NaN   \n",
       "\n",
       "     vei start_year start_month start_day volcano_latitude volcano_longitude  \\\n",
       "0    NaN        NaN         NaN       NaN              NaN               NaN   \n",
       "1    NaN        NaN         NaN       NaN              NaN               NaN   \n",
       "2    NaN        NaN         NaN       NaN              NaN               NaN   \n",
       "3    NaN        NaN         NaN       NaN              NaN               NaN   \n",
       "4    NaN        NaN         NaN       NaN              NaN               NaN   \n",
       "...   ..        ...         ...       ...              ...               ...   \n",
       "1721 NaN        NaN         NaN       NaN              NaN               NaN   \n",
       "1722 NaN        NaN         NaN       NaN              NaN               NaN   \n",
       "1723 NaN        NaN         NaN       NaN              NaN               NaN   \n",
       "1724 NaN        NaN         NaN       NaN              NaN               NaN   \n",
       "1725 NaN        NaN         NaN       NaN              NaN               NaN   \n",
       "\n",
       "     Days since last eruption was_erupted  \n",
       "0                         3.0         0.0  \n",
       "1                         2.0         0.0  \n",
       "2                         3.0         0.0  \n",
       "3                         3.0         0.0  \n",
       "4                         4.0         0.0  \n",
       "...                       ...         ...  \n",
       "1721                    623.0         0.0  \n",
       "1722                   3113.0         0.0  \n",
       "1723                    625.0         0.0  \n",
       "1724                   1791.0         0.0  \n",
       "1725                      NaN         0.0  \n",
       "\n",
       "[1760 rows x 49 columns]"
      ]
     },
     "execution_count": 286,
     "metadata": {},
     "output_type": "execute_result"
    }
   ],
   "source": [
    "villarrica"
   ]
  },
  {
   "cell_type": "code",
   "execution_count": 267,
   "metadata": {
    "ExecuteTime": {
     "end_time": "2020-07-29T22:38:16.084834Z",
     "start_time": "2020-07-29T22:38:16.078852Z"
    }
   },
   "outputs": [],
   "source": [
    "villarrica['was_erupted']=villarrica['volcano_number'].fillna(0)"
   ]
  },
  {
   "cell_type": "code",
   "execution_count": 270,
   "metadata": {
    "ExecuteTime": {
     "end_time": "2020-07-29T22:40:02.239221Z",
     "start_time": "2020-07-29T22:40:02.231247Z"
    }
   },
   "outputs": [],
   "source": [
    "villarrica['was_erupted'].loc[villarrica['was_erupted']==357120]=1"
   ]
  },
  {
   "cell_type": "code",
   "execution_count": 285,
   "metadata": {
    "ExecuteTime": {
     "end_time": "2020-07-29T22:57:05.997508Z",
     "start_time": "2020-07-29T22:57:05.990530Z"
    }
   },
   "outputs": [],
   "source": [
    "villarrica=villarrica.sort_values('date',ascending=False)"
   ]
  },
  {
   "cell_type": "code",
   "execution_count": 282,
   "metadata": {
    "ExecuteTime": {
     "end_time": "2020-07-29T22:50:53.262503Z",
     "start_time": "2020-07-29T22:50:53.257483Z"
    }
   },
   "outputs": [],
   "source": [
    "villarrica['Days since last eruption']=villarrica['date'].diff(periods=-1).dt.days"
   ]
  },
  {
   "cell_type": "code",
   "execution_count": 283,
   "metadata": {
    "ExecuteTime": {
     "end_time": "2020-07-29T22:50:54.034674Z",
     "start_time": "2020-07-29T22:50:54.024699Z"
    }
   },
   "outputs": [
    {
     "data": {
      "text/plain": [
       "0          3.0\n",
       "1          2.0\n",
       "2          3.0\n",
       "3          3.0\n",
       "4          4.0\n",
       "         ...  \n",
       "1721     623.0\n",
       "1722    3113.0\n",
       "1723     625.0\n",
       "1724    1791.0\n",
       "1725       NaN\n",
       "Name: Days since last eruption, Length: 1760, dtype: float64"
      ]
     },
     "execution_count": 283,
     "metadata": {},
     "output_type": "execute_result"
    }
   ],
   "source": [
    "villarrica['Days since last eruption']"
   ]
  },
  {
   "cell_type": "code",
   "execution_count": 287,
   "metadata": {
    "ExecuteTime": {
     "end_time": "2020-07-29T22:57:21.589060Z",
     "start_time": "2020-07-29T22:57:21.562137Z"
    }
   },
   "outputs": [
    {
     "data": {
      "text/html": [
       "<div>\n",
       "<style scoped>\n",
       "    .dataframe tbody tr th:only-of-type {\n",
       "        vertical-align: middle;\n",
       "    }\n",
       "\n",
       "    .dataframe tbody tr th {\n",
       "        vertical-align: top;\n",
       "    }\n",
       "\n",
       "    .dataframe thead th {\n",
       "        text-align: right;\n",
       "    }\n",
       "</style>\n",
       "<table border=\"1\" class=\"dataframe\">\n",
       "  <thead>\n",
       "    <tr style=\"text-align: right;\">\n",
       "      <th></th>\n",
       "      <th>id</th>\n",
       "      <th>mag</th>\n",
       "      <th>longitude</th>\n",
       "      <th>latitude</th>\n",
       "      <th>date</th>\n",
       "      <th>date-0</th>\n",
       "      <th>date-1</th>\n",
       "      <th>date-2</th>\n",
       "      <th>date-3</th>\n",
       "      <th>date-4</th>\n",
       "      <th>...</th>\n",
       "      <th>eruption_number</th>\n",
       "      <th>eruption_category</th>\n",
       "      <th>vei</th>\n",
       "      <th>start_year</th>\n",
       "      <th>start_month</th>\n",
       "      <th>start_day</th>\n",
       "      <th>volcano_latitude</th>\n",
       "      <th>volcano_longitude</th>\n",
       "      <th>Days since last eruption</th>\n",
       "      <th>was_erupted</th>\n",
       "    </tr>\n",
       "  </thead>\n",
       "  <tbody>\n",
       "    <tr>\n",
       "      <th>0</th>\n",
       "      <td>usp000hrgh</td>\n",
       "      <td>4.0</td>\n",
       "      <td>-73.333</td>\n",
       "      <td>-42.262</td>\n",
       "      <td>2010-12-22</td>\n",
       "      <td>2010-12-22</td>\n",
       "      <td>2010-12-21</td>\n",
       "      <td>2010-12-20</td>\n",
       "      <td>2010-12-19</td>\n",
       "      <td>2010-12-18</td>\n",
       "      <td>...</td>\n",
       "      <td>NaN</td>\n",
       "      <td>NaN</td>\n",
       "      <td>NaN</td>\n",
       "      <td>NaN</td>\n",
       "      <td>NaN</td>\n",
       "      <td>NaN</td>\n",
       "      <td>NaN</td>\n",
       "      <td>NaN</td>\n",
       "      <td>3.0</td>\n",
       "      <td>0.0</td>\n",
       "    </tr>\n",
       "    <tr>\n",
       "      <th>1</th>\n",
       "      <td>usp000hr5d</td>\n",
       "      <td>4.5</td>\n",
       "      <td>-73.235</td>\n",
       "      <td>-36.492</td>\n",
       "      <td>2010-12-19</td>\n",
       "      <td>2010-12-19</td>\n",
       "      <td>2010-12-18</td>\n",
       "      <td>2010-12-17</td>\n",
       "      <td>2010-12-16</td>\n",
       "      <td>2010-12-15</td>\n",
       "      <td>...</td>\n",
       "      <td>NaN</td>\n",
       "      <td>NaN</td>\n",
       "      <td>NaN</td>\n",
       "      <td>NaN</td>\n",
       "      <td>NaN</td>\n",
       "      <td>NaN</td>\n",
       "      <td>NaN</td>\n",
       "      <td>NaN</td>\n",
       "      <td>2.0</td>\n",
       "      <td>0.0</td>\n",
       "    </tr>\n",
       "    <tr>\n",
       "      <th>2</th>\n",
       "      <td>usp000hr1v</td>\n",
       "      <td>4.3</td>\n",
       "      <td>-73.726</td>\n",
       "      <td>-37.722</td>\n",
       "      <td>2010-12-17</td>\n",
       "      <td>2010-12-17</td>\n",
       "      <td>2010-12-16</td>\n",
       "      <td>2010-12-15</td>\n",
       "      <td>2010-12-14</td>\n",
       "      <td>2010-12-13</td>\n",
       "      <td>...</td>\n",
       "      <td>NaN</td>\n",
       "      <td>NaN</td>\n",
       "      <td>NaN</td>\n",
       "      <td>NaN</td>\n",
       "      <td>NaN</td>\n",
       "      <td>NaN</td>\n",
       "      <td>NaN</td>\n",
       "      <td>NaN</td>\n",
       "      <td>3.0</td>\n",
       "      <td>0.0</td>\n",
       "    </tr>\n",
       "    <tr>\n",
       "      <th>3</th>\n",
       "      <td>usp000hqxc</td>\n",
       "      <td>4.5</td>\n",
       "      <td>-72.108</td>\n",
       "      <td>-40.491</td>\n",
       "      <td>2010-12-14</td>\n",
       "      <td>2010-12-14</td>\n",
       "      <td>2010-12-13</td>\n",
       "      <td>2010-12-12</td>\n",
       "      <td>2010-12-11</td>\n",
       "      <td>2010-12-10</td>\n",
       "      <td>...</td>\n",
       "      <td>NaN</td>\n",
       "      <td>NaN</td>\n",
       "      <td>NaN</td>\n",
       "      <td>NaN</td>\n",
       "      <td>NaN</td>\n",
       "      <td>NaN</td>\n",
       "      <td>NaN</td>\n",
       "      <td>NaN</td>\n",
       "      <td>3.0</td>\n",
       "      <td>0.0</td>\n",
       "    </tr>\n",
       "    <tr>\n",
       "      <th>4</th>\n",
       "      <td>usp000hqtn</td>\n",
       "      <td>4.7</td>\n",
       "      <td>-73.529</td>\n",
       "      <td>-37.045</td>\n",
       "      <td>2010-12-11</td>\n",
       "      <td>2010-12-11</td>\n",
       "      <td>2010-12-10</td>\n",
       "      <td>2010-12-09</td>\n",
       "      <td>2010-12-08</td>\n",
       "      <td>2010-12-07</td>\n",
       "      <td>...</td>\n",
       "      <td>NaN</td>\n",
       "      <td>NaN</td>\n",
       "      <td>NaN</td>\n",
       "      <td>NaN</td>\n",
       "      <td>NaN</td>\n",
       "      <td>NaN</td>\n",
       "      <td>NaN</td>\n",
       "      <td>NaN</td>\n",
       "      <td>4.0</td>\n",
       "      <td>0.0</td>\n",
       "    </tr>\n",
       "  </tbody>\n",
       "</table>\n",
       "<p>5 rows × 49 columns</p>\n",
       "</div>"
      ],
      "text/plain": [
       "           id  mag  longitude  latitude       date     date-0     date-1  \\\n",
       "0  usp000hrgh  4.0    -73.333   -42.262 2010-12-22 2010-12-22 2010-12-21   \n",
       "1  usp000hr5d  4.5    -73.235   -36.492 2010-12-19 2010-12-19 2010-12-18   \n",
       "2  usp000hr1v  4.3    -73.726   -37.722 2010-12-17 2010-12-17 2010-12-16   \n",
       "3  usp000hqxc  4.5    -72.108   -40.491 2010-12-14 2010-12-14 2010-12-13   \n",
       "4  usp000hqtn  4.7    -73.529   -37.045 2010-12-11 2010-12-11 2010-12-10   \n",
       "\n",
       "      date-2     date-3     date-4  ... eruption_number eruption_category vei  \\\n",
       "0 2010-12-20 2010-12-19 2010-12-18  ...             NaN               NaN NaN   \n",
       "1 2010-12-17 2010-12-16 2010-12-15  ...             NaN               NaN NaN   \n",
       "2 2010-12-15 2010-12-14 2010-12-13  ...             NaN               NaN NaN   \n",
       "3 2010-12-12 2010-12-11 2010-12-10  ...             NaN               NaN NaN   \n",
       "4 2010-12-09 2010-12-08 2010-12-07  ...             NaN               NaN NaN   \n",
       "\n",
       "  start_year start_month start_day volcano_latitude volcano_longitude  \\\n",
       "0        NaN         NaN       NaN              NaN               NaN   \n",
       "1        NaN         NaN       NaN              NaN               NaN   \n",
       "2        NaN         NaN       NaN              NaN               NaN   \n",
       "3        NaN         NaN       NaN              NaN               NaN   \n",
       "4        NaN         NaN       NaN              NaN               NaN   \n",
       "\n",
       "  Days since last eruption was_erupted  \n",
       "0                      3.0         0.0  \n",
       "1                      2.0         0.0  \n",
       "2                      3.0         0.0  \n",
       "3                      3.0         0.0  \n",
       "4                      4.0         0.0  \n",
       "\n",
       "[5 rows x 49 columns]"
      ]
     },
     "execution_count": 287,
     "metadata": {},
     "output_type": "execute_result"
    }
   ],
   "source": [
    "villarrica.head(5)"
   ]
  },
  {
   "cell_type": "code",
   "execution_count": 288,
   "metadata": {
    "ExecuteTime": {
     "end_time": "2020-07-29T22:59:21.201971Z",
     "start_time": "2020-07-29T22:59:21.194988Z"
    }
   },
   "outputs": [
    {
     "data": {
      "text/plain": [
       "Int64Index([   0,    1,    2,    3,    4,    5,    6,    8,    7,    9,\n",
       "            ...\n",
       "            1716, 1717, 1718, 1719, 1720, 1721, 1722, 1723, 1724, 1725],\n",
       "           dtype='int64', length=1760)"
      ]
     },
     "execution_count": 288,
     "metadata": {},
     "output_type": "execute_result"
    }
   ],
   "source": [
    "for i in villarrica.index:\n",
    "    villarrica.loc[villarrica.index==i,'Days since last eruption']"
   ]
  },
  {
   "cell_type": "code",
   "execution_count": null,
   "metadata": {},
   "outputs": [],
   "source": []
  }
 ],
 "metadata": {
  "hide_input": false,
  "kernelspec": {
   "display_name": "Python 3",
   "language": "python",
   "name": "python3"
  },
  "language_info": {
   "codemirror_mode": {
    "name": "ipython",
    "version": 3
   },
   "file_extension": ".py",
   "mimetype": "text/x-python",
   "name": "python",
   "nbconvert_exporter": "python",
   "pygments_lexer": "ipython3",
   "version": "3.7.4"
  },
  "toc": {
   "base_numbering": 1,
   "nav_menu": {},
   "number_sections": true,
   "sideBar": true,
   "skip_h1_title": false,
   "title_cell": "Table of Contents",
   "title_sidebar": "Contents",
   "toc_cell": false,
   "toc_position": {},
   "toc_section_display": true,
   "toc_window_display": false
  },
  "varInspector": {
   "cols": {
    "lenName": 16,
    "lenType": 16,
    "lenVar": 40
   },
   "kernels_config": {
    "python": {
     "delete_cmd_postfix": "",
     "delete_cmd_prefix": "del ",
     "library": "var_list.py",
     "varRefreshCmd": "print(var_dic_list())"
    },
    "r": {
     "delete_cmd_postfix": ") ",
     "delete_cmd_prefix": "rm(",
     "library": "var_list.r",
     "varRefreshCmd": "cat(var_dic_list()) "
    }
   },
   "types_to_exclude": [
    "module",
    "function",
    "builtin_function_or_method",
    "instance",
    "_Feature"
   ],
   "window_display": false
  }
 },
 "nbformat": 4,
 "nbformat_minor": 2
}
