{
 "cells": [
  {
   "cell_type": "code",
   "execution_count": 95,
   "metadata": {
    "ExecuteTime": {
     "end_time": "2020-07-30T01:45:57.828037Z",
     "start_time": "2020-07-30T01:45:57.824042Z"
    }
   },
   "outputs": [],
   "source": [
    "import pandas as pd\n",
    "import re\n",
    "from datetime import datetime, timedelta\n",
    "import datetime as dt"
   ]
  },
  {
   "cell_type": "code",
   "execution_count": 58,
   "metadata": {
    "ExecuteTime": {
     "end_time": "2020-07-30T01:34:49.942433Z",
     "start_time": "2020-07-30T01:34:49.933481Z"
    }
   },
   "outputs": [],
   "source": [
    "earthquakes=pd.read_csv('./VillarricaEarthquakes.csv')"
   ]
  },
  {
   "cell_type": "code",
   "execution_count": 59,
   "metadata": {
    "ExecuteTime": {
     "end_time": "2020-07-30T01:34:50.498924Z",
     "start_time": "2020-07-30T01:34:50.490946Z"
    }
   },
   "outputs": [],
   "source": [
    "eruptions=pd.read_csv('./VillarricaEruptions.csv')"
   ]
  },
  {
   "cell_type": "markdown",
   "metadata": {},
   "source": [
    "# Exploring datasets"
   ]
  },
  {
   "cell_type": "code",
   "execution_count": 60,
   "metadata": {
    "ExecuteTime": {
     "end_time": "2020-07-30T01:34:51.060456Z",
     "start_time": "2020-07-30T01:34:51.046460Z"
    }
   },
   "outputs": [
    {
     "data": {
      "text/html": [
       "<div>\n",
       "<style scoped>\n",
       "    .dataframe tbody tr th:only-of-type {\n",
       "        vertical-align: middle;\n",
       "    }\n",
       "\n",
       "    .dataframe tbody tr th {\n",
       "        vertical-align: top;\n",
       "    }\n",
       "\n",
       "    .dataframe thead th {\n",
       "        text-align: right;\n",
       "    }\n",
       "</style>\n",
       "<table border=\"1\" class=\"dataframe\">\n",
       "  <thead>\n",
       "    <tr style=\"text-align: right;\">\n",
       "      <th></th>\n",
       "      <th>volcano_number</th>\n",
       "      <th>volcano_name</th>\n",
       "      <th>eruption_number</th>\n",
       "      <th>eruption_category</th>\n",
       "      <th>vei</th>\n",
       "      <th>start_year</th>\n",
       "      <th>start_month</th>\n",
       "      <th>start_day</th>\n",
       "      <th>latitude</th>\n",
       "      <th>longitude</th>\n",
       "      <th>date</th>\n",
       "    </tr>\n",
       "  </thead>\n",
       "  <tbody>\n",
       "    <tr>\n",
       "      <th>0</th>\n",
       "      <td>357120</td>\n",
       "      <td>Villarrica</td>\n",
       "      <td>12184</td>\n",
       "      <td>Confirmed Eruption</td>\n",
       "      <td>1.0</td>\n",
       "      <td>2009.0</td>\n",
       "      <td>11.0</td>\n",
       "      <td>22.0</td>\n",
       "      <td>-39.42</td>\n",
       "      <td>-71.93</td>\n",
       "      <td>2009-11-22</td>\n",
       "    </tr>\n",
       "    <tr>\n",
       "      <th>1</th>\n",
       "      <td>357120</td>\n",
       "      <td>Villarrica</td>\n",
       "      <td>12183</td>\n",
       "      <td>Confirmed Eruption</td>\n",
       "      <td>1.0</td>\n",
       "      <td>2009.0</td>\n",
       "      <td>1.0</td>\n",
       "      <td>29.0</td>\n",
       "      <td>-39.42</td>\n",
       "      <td>-71.93</td>\n",
       "      <td>2009-01-29</td>\n",
       "    </tr>\n",
       "    <tr>\n",
       "      <th>2</th>\n",
       "      <td>357120</td>\n",
       "      <td>Villarrica</td>\n",
       "      <td>12182</td>\n",
       "      <td>Confirmed Eruption</td>\n",
       "      <td>1.0</td>\n",
       "      <td>2008.0</td>\n",
       "      <td>10.0</td>\n",
       "      <td>26.0</td>\n",
       "      <td>-39.42</td>\n",
       "      <td>-71.93</td>\n",
       "      <td>2008-10-26</td>\n",
       "    </tr>\n",
       "    <tr>\n",
       "      <th>3</th>\n",
       "      <td>357120</td>\n",
       "      <td>Villarrica</td>\n",
       "      <td>12181</td>\n",
       "      <td>Confirmed Eruption</td>\n",
       "      <td>1.0</td>\n",
       "      <td>2004.0</td>\n",
       "      <td>8.0</td>\n",
       "      <td>5.0</td>\n",
       "      <td>-39.42</td>\n",
       "      <td>-71.93</td>\n",
       "      <td>2004-08-05</td>\n",
       "    </tr>\n",
       "    <tr>\n",
       "      <th>4</th>\n",
       "      <td>357120</td>\n",
       "      <td>Villarrica</td>\n",
       "      <td>12180</td>\n",
       "      <td>Confirmed Eruption</td>\n",
       "      <td>1.0</td>\n",
       "      <td>2003.0</td>\n",
       "      <td>5.0</td>\n",
       "      <td>23.0</td>\n",
       "      <td>-39.42</td>\n",
       "      <td>-71.93</td>\n",
       "      <td>2003-05-23</td>\n",
       "    </tr>\n",
       "  </tbody>\n",
       "</table>\n",
       "</div>"
      ],
      "text/plain": [
       "   volcano_number volcano_name  eruption_number   eruption_category  vei  \\\n",
       "0          357120   Villarrica            12184  Confirmed Eruption  1.0   \n",
       "1          357120   Villarrica            12183  Confirmed Eruption  1.0   \n",
       "2          357120   Villarrica            12182  Confirmed Eruption  1.0   \n",
       "3          357120   Villarrica            12181  Confirmed Eruption  1.0   \n",
       "4          357120   Villarrica            12180  Confirmed Eruption  1.0   \n",
       "\n",
       "   start_year  start_month  start_day  latitude  longitude        date  \n",
       "0      2009.0         11.0       22.0    -39.42     -71.93  2009-11-22  \n",
       "1      2009.0          1.0       29.0    -39.42     -71.93  2009-01-29  \n",
       "2      2008.0         10.0       26.0    -39.42     -71.93  2008-10-26  \n",
       "3      2004.0          8.0        5.0    -39.42     -71.93  2004-08-05  \n",
       "4      2003.0          5.0       23.0    -39.42     -71.93  2003-05-23  "
      ]
     },
     "execution_count": 60,
     "metadata": {},
     "output_type": "execute_result"
    }
   ],
   "source": [
    "eruptions.head()"
   ]
  },
  {
   "cell_type": "code",
   "execution_count": 61,
   "metadata": {
    "ExecuteTime": {
     "end_time": "2020-07-30T01:34:51.614985Z",
     "start_time": "2020-07-30T01:34:51.608955Z"
    }
   },
   "outputs": [],
   "source": [
    "eruptions=eruptions.rename(columns={'latitude':'volcano_latitude','longitude': 'volcano_longitude'})"
   ]
  },
  {
   "cell_type": "code",
   "execution_count": 62,
   "metadata": {
    "ExecuteTime": {
     "end_time": "2020-07-30T01:34:52.152501Z",
     "start_time": "2020-07-30T01:34:52.146518Z"
    }
   },
   "outputs": [],
   "source": [
    "eruptions['date']=pd.to_datetime(eruptions['date'],format=\"%Y/%m/%d\")"
   ]
  },
  {
   "cell_type": "code",
   "execution_count": 63,
   "metadata": {
    "ExecuteTime": {
     "end_time": "2020-07-30T01:34:52.694053Z",
     "start_time": "2020-07-30T01:34:52.688069Z"
    }
   },
   "outputs": [],
   "source": [
    "eruptions['Days since last eruption']=eruptions['date'].diff(periods=-1).dt.days"
   ]
  },
  {
   "cell_type": "code",
   "execution_count": 64,
   "metadata": {
    "ExecuteTime": {
     "end_time": "2020-07-30T01:34:53.248596Z",
     "start_time": "2020-07-30T01:34:53.243585Z"
    }
   },
   "outputs": [],
   "source": [
    "eruptions.loc[eruptions['eruption_number']==12150,'Days since last eruption']=700"
   ]
  },
  {
   "cell_type": "code",
   "execution_count": 65,
   "metadata": {
    "ExecuteTime": {
     "end_time": "2020-07-30T01:34:53.781151Z",
     "start_time": "2020-07-30T01:34:53.772214Z"
    }
   },
   "outputs": [
    {
     "name": "stdout",
     "output_type": "stream",
     "text": [
      "<class 'pandas.core.frame.DataFrame'>\n",
      "RangeIndex: 1726 entries, 0 to 1725\n",
      "Data columns (total 5 columns):\n",
      " #   Column     Non-Null Count  Dtype  \n",
      "---  ------     --------------  -----  \n",
      " 0   id         1726 non-null   object \n",
      " 1   mag        1726 non-null   float64\n",
      " 2   longitude  1726 non-null   float64\n",
      " 3   latitude   1726 non-null   float64\n",
      " 4   date       1726 non-null   object \n",
      "dtypes: float64(3), object(2)\n",
      "memory usage: 67.5+ KB\n"
     ]
    }
   ],
   "source": [
    "earthquakes.info()"
   ]
  },
  {
   "cell_type": "code",
   "execution_count": 66,
   "metadata": {
    "ExecuteTime": {
     "end_time": "2020-07-30T01:34:54.305742Z",
     "start_time": "2020-07-30T01:34:54.297765Z"
    }
   },
   "outputs": [],
   "source": [
    "earthquakes['date']=pd.to_datetime(earthquakes['date'],format=\"%Y/%m/%d\")"
   ]
  },
  {
   "cell_type": "markdown",
   "metadata": {},
   "source": [
    "# Merging datasets"
   ]
  },
  {
   "cell_type": "code",
   "execution_count": 67,
   "metadata": {
    "ExecuteTime": {
     "end_time": "2020-07-30T01:34:54.890358Z",
     "start_time": "2020-07-30T01:34:54.856271Z"
    }
   },
   "outputs": [],
   "source": [
    "for day in range(0,31):    \n",
    "    earthquakes[f'date-{day}']=earthquakes['date']-timedelta(days=day)"
   ]
  },
  {
   "cell_type": "code",
   "execution_count": 68,
   "metadata": {
    "ExecuteTime": {
     "end_time": "2020-07-30T01:34:55.623220Z",
     "start_time": "2020-07-30T01:34:55.445695Z"
    }
   },
   "outputs": [],
   "source": [
    "for x in range(0, 31):\n",
    "    globals()['villarrica%s' % x] = earthquakes.join(eruptions.set_index('date'), on=f'date-{x}')\n",
    "    globals()['villarrica%s' % x] = globals()['villarrica%s' % x].dropna()"
   ]
  },
  {
   "cell_type": "code",
   "execution_count": 69,
   "metadata": {
    "ExecuteTime": {
     "end_time": "2020-07-30T01:34:56.284580Z",
     "start_time": "2020-07-30T01:34:56.205594Z"
    }
   },
   "outputs": [],
   "source": [
    "villarrica=pd.DataFrame()\n",
    "for i in range(0,31):\n",
    "    villarrica=pd.concat([villarrica, globals()['villarrica%s' % i]])"
   ]
  },
  {
   "cell_type": "code",
   "execution_count": 70,
   "metadata": {
    "ExecuteTime": {
     "end_time": "2020-07-30T01:34:56.810011Z",
     "start_time": "2020-07-30T01:34:56.801001Z"
    }
   },
   "outputs": [],
   "source": [
    "villarrica0=earthquakes.join(eruptions.set_index('date'), on='date-0')"
   ]
  },
  {
   "cell_type": "code",
   "execution_count": 71,
   "metadata": {
    "ExecuteTime": {
     "end_time": "2020-07-30T01:34:57.355520Z",
     "start_time": "2020-07-30T01:34:57.346542Z"
    }
   },
   "outputs": [],
   "source": [
    "villarrica=pd.concat([villarrica,villarrica0])"
   ]
  },
  {
   "cell_type": "code",
   "execution_count": 72,
   "metadata": {
    "ExecuteTime": {
     "end_time": "2020-07-30T01:34:57.902067Z",
     "start_time": "2020-07-30T01:34:57.885121Z"
    }
   },
   "outputs": [],
   "source": [
    "villarrica=villarrica.drop_duplicates()"
   ]
  },
  {
   "cell_type": "markdown",
   "metadata": {},
   "source": [
    "# Final adjustments"
   ]
  },
  {
   "cell_type": "code",
   "execution_count": 73,
   "metadata": {
    "ExecuteTime": {
     "end_time": "2020-07-30T01:34:59.422889Z",
     "start_time": "2020-07-30T01:34:59.385990Z"
    }
   },
   "outputs": [
    {
     "data": {
      "text/html": [
       "<div>\n",
       "<style scoped>\n",
       "    .dataframe tbody tr th:only-of-type {\n",
       "        vertical-align: middle;\n",
       "    }\n",
       "\n",
       "    .dataframe tbody tr th {\n",
       "        vertical-align: top;\n",
       "    }\n",
       "\n",
       "    .dataframe thead th {\n",
       "        text-align: right;\n",
       "    }\n",
       "</style>\n",
       "<table border=\"1\" class=\"dataframe\">\n",
       "  <thead>\n",
       "    <tr style=\"text-align: right;\">\n",
       "      <th></th>\n",
       "      <th>id</th>\n",
       "      <th>mag</th>\n",
       "      <th>longitude</th>\n",
       "      <th>latitude</th>\n",
       "      <th>date</th>\n",
       "      <th>date-0</th>\n",
       "      <th>date-1</th>\n",
       "      <th>date-2</th>\n",
       "      <th>date-3</th>\n",
       "      <th>date-4</th>\n",
       "      <th>...</th>\n",
       "      <th>volcano_name</th>\n",
       "      <th>eruption_number</th>\n",
       "      <th>eruption_category</th>\n",
       "      <th>vei</th>\n",
       "      <th>start_year</th>\n",
       "      <th>start_month</th>\n",
       "      <th>start_day</th>\n",
       "      <th>volcano_latitude</th>\n",
       "      <th>volcano_longitude</th>\n",
       "      <th>Days since last eruption</th>\n",
       "    </tr>\n",
       "  </thead>\n",
       "  <tbody>\n",
       "    <tr>\n",
       "      <th>747</th>\n",
       "      <td>usp000h4b2</td>\n",
       "      <td>5.9</td>\n",
       "      <td>-74.967</td>\n",
       "      <td>-39.634</td>\n",
       "      <td>2009-11-22</td>\n",
       "      <td>2009-11-22</td>\n",
       "      <td>2009-11-21</td>\n",
       "      <td>2009-11-20</td>\n",
       "      <td>2009-11-19</td>\n",
       "      <td>2009-11-18</td>\n",
       "      <td>...</td>\n",
       "      <td>Villarrica</td>\n",
       "      <td>12184.0</td>\n",
       "      <td>Confirmed Eruption</td>\n",
       "      <td>1.0</td>\n",
       "      <td>2009.0</td>\n",
       "      <td>11.0</td>\n",
       "      <td>22.0</td>\n",
       "      <td>-39.42</td>\n",
       "      <td>-71.93</td>\n",
       "      <td>297.0</td>\n",
       "    </tr>\n",
       "    <tr>\n",
       "      <th>1042</th>\n",
       "      <td>usp000d1hj</td>\n",
       "      <td>3.6</td>\n",
       "      <td>-74.294</td>\n",
       "      <td>-38.658</td>\n",
       "      <td>2004-08-05</td>\n",
       "      <td>2004-08-05</td>\n",
       "      <td>2004-08-04</td>\n",
       "      <td>2004-08-03</td>\n",
       "      <td>2004-08-02</td>\n",
       "      <td>2004-08-01</td>\n",
       "      <td>...</td>\n",
       "      <td>Villarrica</td>\n",
       "      <td>12181.0</td>\n",
       "      <td>Confirmed Eruption</td>\n",
       "      <td>1.0</td>\n",
       "      <td>2004.0</td>\n",
       "      <td>8.0</td>\n",
       "      <td>5.0</td>\n",
       "      <td>-39.42</td>\n",
       "      <td>-71.93</td>\n",
       "      <td>440.0</td>\n",
       "    </tr>\n",
       "    <tr>\n",
       "      <th>1041</th>\n",
       "      <td>usp000d1mc</td>\n",
       "      <td>2.9</td>\n",
       "      <td>-71.392</td>\n",
       "      <td>-36.886</td>\n",
       "      <td>2004-08-06</td>\n",
       "      <td>2004-08-06</td>\n",
       "      <td>2004-08-05</td>\n",
       "      <td>2004-08-04</td>\n",
       "      <td>2004-08-03</td>\n",
       "      <td>2004-08-02</td>\n",
       "      <td>...</td>\n",
       "      <td>Villarrica</td>\n",
       "      <td>12181.0</td>\n",
       "      <td>Confirmed Eruption</td>\n",
       "      <td>1.0</td>\n",
       "      <td>2004.0</td>\n",
       "      <td>8.0</td>\n",
       "      <td>5.0</td>\n",
       "      <td>-39.42</td>\n",
       "      <td>-71.93</td>\n",
       "      <td>440.0</td>\n",
       "    </tr>\n",
       "    <tr>\n",
       "      <th>1611</th>\n",
       "      <td>usp0000mcq</td>\n",
       "      <td>4.8</td>\n",
       "      <td>-73.506</td>\n",
       "      <td>-38.184</td>\n",
       "      <td>1977-01-28</td>\n",
       "      <td>1977-01-28</td>\n",
       "      <td>1977-01-27</td>\n",
       "      <td>1977-01-26</td>\n",
       "      <td>1977-01-25</td>\n",
       "      <td>1977-01-24</td>\n",
       "      <td>...</td>\n",
       "      <td>Villarrica</td>\n",
       "      <td>12166.0</td>\n",
       "      <td>Confirmed Eruption</td>\n",
       "      <td>1.0</td>\n",
       "      <td>1977.0</td>\n",
       "      <td>1.0</td>\n",
       "      <td>26.0</td>\n",
       "      <td>-39.42</td>\n",
       "      <td>-71.93</td>\n",
       "      <td>1916.0</td>\n",
       "    </tr>\n",
       "    <tr>\n",
       "      <th>1699</th>\n",
       "      <td>iscgem879719</td>\n",
       "      <td>5.8</td>\n",
       "      <td>-73.555</td>\n",
       "      <td>-38.534</td>\n",
       "      <td>1960-07-05</td>\n",
       "      <td>1960-07-05</td>\n",
       "      <td>1960-07-04</td>\n",
       "      <td>1960-07-03</td>\n",
       "      <td>1960-07-02</td>\n",
       "      <td>1960-07-01</td>\n",
       "      <td>...</td>\n",
       "      <td>Villarrica</td>\n",
       "      <td>12161.0</td>\n",
       "      <td>Uncertain Eruption</td>\n",
       "      <td>1.0</td>\n",
       "      <td>1960.0</td>\n",
       "      <td>7.0</td>\n",
       "      <td>2.0</td>\n",
       "      <td>-39.42</td>\n",
       "      <td>-71.93</td>\n",
       "      <td>604.0</td>\n",
       "    </tr>\n",
       "    <tr>\n",
       "      <th>...</th>\n",
       "      <td>...</td>\n",
       "      <td>...</td>\n",
       "      <td>...</td>\n",
       "      <td>...</td>\n",
       "      <td>...</td>\n",
       "      <td>...</td>\n",
       "      <td>...</td>\n",
       "      <td>...</td>\n",
       "      <td>...</td>\n",
       "      <td>...</td>\n",
       "      <td>...</td>\n",
       "      <td>...</td>\n",
       "      <td>...</td>\n",
       "      <td>...</td>\n",
       "      <td>...</td>\n",
       "      <td>...</td>\n",
       "      <td>...</td>\n",
       "      <td>...</td>\n",
       "      <td>...</td>\n",
       "      <td>...</td>\n",
       "      <td>...</td>\n",
       "    </tr>\n",
       "    <tr>\n",
       "      <th>1721</th>\n",
       "      <td>iscgem893991</td>\n",
       "      <td>6.2</td>\n",
       "      <td>-73.519</td>\n",
       "      <td>-38.589</td>\n",
       "      <td>1951-01-03</td>\n",
       "      <td>1951-01-03</td>\n",
       "      <td>1951-01-02</td>\n",
       "      <td>1951-01-01</td>\n",
       "      <td>1950-12-31</td>\n",
       "      <td>1950-12-30</td>\n",
       "      <td>...</td>\n",
       "      <td>NaN</td>\n",
       "      <td>NaN</td>\n",
       "      <td>NaN</td>\n",
       "      <td>NaN</td>\n",
       "      <td>NaN</td>\n",
       "      <td>NaN</td>\n",
       "      <td>NaN</td>\n",
       "      <td>NaN</td>\n",
       "      <td>NaN</td>\n",
       "      <td>NaN</td>\n",
       "    </tr>\n",
       "    <tr>\n",
       "      <th>1722</th>\n",
       "      <td>iscgem896480</td>\n",
       "      <td>6.9</td>\n",
       "      <td>-72.676</td>\n",
       "      <td>-37.665</td>\n",
       "      <td>1949-04-20</td>\n",
       "      <td>1949-04-20</td>\n",
       "      <td>1949-04-19</td>\n",
       "      <td>1949-04-18</td>\n",
       "      <td>1949-04-17</td>\n",
       "      <td>1949-04-16</td>\n",
       "      <td>...</td>\n",
       "      <td>NaN</td>\n",
       "      <td>NaN</td>\n",
       "      <td>NaN</td>\n",
       "      <td>NaN</td>\n",
       "      <td>NaN</td>\n",
       "      <td>NaN</td>\n",
       "      <td>NaN</td>\n",
       "      <td>NaN</td>\n",
       "      <td>NaN</td>\n",
       "      <td>NaN</td>\n",
       "    </tr>\n",
       "    <tr>\n",
       "      <th>1723</th>\n",
       "      <td>iscgem901645</td>\n",
       "      <td>7.0</td>\n",
       "      <td>-73.630</td>\n",
       "      <td>-42.041</td>\n",
       "      <td>1940-10-11</td>\n",
       "      <td>1940-10-11</td>\n",
       "      <td>1940-10-10</td>\n",
       "      <td>1940-10-09</td>\n",
       "      <td>1940-10-08</td>\n",
       "      <td>1940-10-07</td>\n",
       "      <td>...</td>\n",
       "      <td>NaN</td>\n",
       "      <td>NaN</td>\n",
       "      <td>NaN</td>\n",
       "      <td>NaN</td>\n",
       "      <td>NaN</td>\n",
       "      <td>NaN</td>\n",
       "      <td>NaN</td>\n",
       "      <td>NaN</td>\n",
       "      <td>NaN</td>\n",
       "      <td>NaN</td>\n",
       "    </tr>\n",
       "    <tr>\n",
       "      <th>1724</th>\n",
       "      <td>iscgem901785</td>\n",
       "      <td>7.8</td>\n",
       "      <td>-72.315</td>\n",
       "      <td>-36.305</td>\n",
       "      <td>1939-01-25</td>\n",
       "      <td>1939-01-25</td>\n",
       "      <td>1939-01-24</td>\n",
       "      <td>1939-01-23</td>\n",
       "      <td>1939-01-22</td>\n",
       "      <td>1939-01-21</td>\n",
       "      <td>...</td>\n",
       "      <td>NaN</td>\n",
       "      <td>NaN</td>\n",
       "      <td>NaN</td>\n",
       "      <td>NaN</td>\n",
       "      <td>NaN</td>\n",
       "      <td>NaN</td>\n",
       "      <td>NaN</td>\n",
       "      <td>NaN</td>\n",
       "      <td>NaN</td>\n",
       "      <td>NaN</td>\n",
       "    </tr>\n",
       "    <tr>\n",
       "      <th>1725</th>\n",
       "      <td>iscgem904821</td>\n",
       "      <td>6.6</td>\n",
       "      <td>-72.459</td>\n",
       "      <td>-40.535</td>\n",
       "      <td>1934-03-01</td>\n",
       "      <td>1934-03-01</td>\n",
       "      <td>1934-02-28</td>\n",
       "      <td>1934-02-27</td>\n",
       "      <td>1934-02-26</td>\n",
       "      <td>1934-02-25</td>\n",
       "      <td>...</td>\n",
       "      <td>NaN</td>\n",
       "      <td>NaN</td>\n",
       "      <td>NaN</td>\n",
       "      <td>NaN</td>\n",
       "      <td>NaN</td>\n",
       "      <td>NaN</td>\n",
       "      <td>NaN</td>\n",
       "      <td>NaN</td>\n",
       "      <td>NaN</td>\n",
       "      <td>NaN</td>\n",
       "    </tr>\n",
       "  </tbody>\n",
       "</table>\n",
       "<p>1760 rows × 47 columns</p>\n",
       "</div>"
      ],
      "text/plain": [
       "                id  mag  longitude  latitude       date     date-0     date-1  \\\n",
       "747     usp000h4b2  5.9    -74.967   -39.634 2009-11-22 2009-11-22 2009-11-21   \n",
       "1042    usp000d1hj  3.6    -74.294   -38.658 2004-08-05 2004-08-05 2004-08-04   \n",
       "1041    usp000d1mc  2.9    -71.392   -36.886 2004-08-06 2004-08-06 2004-08-05   \n",
       "1611    usp0000mcq  4.8    -73.506   -38.184 1977-01-28 1977-01-28 1977-01-27   \n",
       "1699  iscgem879719  5.8    -73.555   -38.534 1960-07-05 1960-07-05 1960-07-04   \n",
       "...            ...  ...        ...       ...        ...        ...        ...   \n",
       "1721  iscgem893991  6.2    -73.519   -38.589 1951-01-03 1951-01-03 1951-01-02   \n",
       "1722  iscgem896480  6.9    -72.676   -37.665 1949-04-20 1949-04-20 1949-04-19   \n",
       "1723  iscgem901645  7.0    -73.630   -42.041 1940-10-11 1940-10-11 1940-10-10   \n",
       "1724  iscgem901785  7.8    -72.315   -36.305 1939-01-25 1939-01-25 1939-01-24   \n",
       "1725  iscgem904821  6.6    -72.459   -40.535 1934-03-01 1934-03-01 1934-02-28   \n",
       "\n",
       "         date-2     date-3     date-4  ... volcano_name eruption_number  \\\n",
       "747  2009-11-20 2009-11-19 2009-11-18  ...   Villarrica         12184.0   \n",
       "1042 2004-08-03 2004-08-02 2004-08-01  ...   Villarrica         12181.0   \n",
       "1041 2004-08-04 2004-08-03 2004-08-02  ...   Villarrica         12181.0   \n",
       "1611 1977-01-26 1977-01-25 1977-01-24  ...   Villarrica         12166.0   \n",
       "1699 1960-07-03 1960-07-02 1960-07-01  ...   Villarrica         12161.0   \n",
       "...         ...        ...        ...  ...          ...             ...   \n",
       "1721 1951-01-01 1950-12-31 1950-12-30  ...          NaN             NaN   \n",
       "1722 1949-04-18 1949-04-17 1949-04-16  ...          NaN             NaN   \n",
       "1723 1940-10-09 1940-10-08 1940-10-07  ...          NaN             NaN   \n",
       "1724 1939-01-23 1939-01-22 1939-01-21  ...          NaN             NaN   \n",
       "1725 1934-02-27 1934-02-26 1934-02-25  ...          NaN             NaN   \n",
       "\n",
       "       eruption_category  vei start_year start_month start_day  \\\n",
       "747   Confirmed Eruption  1.0     2009.0        11.0      22.0   \n",
       "1042  Confirmed Eruption  1.0     2004.0         8.0       5.0   \n",
       "1041  Confirmed Eruption  1.0     2004.0         8.0       5.0   \n",
       "1611  Confirmed Eruption  1.0     1977.0         1.0      26.0   \n",
       "1699  Uncertain Eruption  1.0     1960.0         7.0       2.0   \n",
       "...                  ...  ...        ...         ...       ...   \n",
       "1721                 NaN  NaN        NaN         NaN       NaN   \n",
       "1722                 NaN  NaN        NaN         NaN       NaN   \n",
       "1723                 NaN  NaN        NaN         NaN       NaN   \n",
       "1724                 NaN  NaN        NaN         NaN       NaN   \n",
       "1725                 NaN  NaN        NaN         NaN       NaN   \n",
       "\n",
       "     volcano_latitude volcano_longitude Days since last eruption  \n",
       "747            -39.42            -71.93                    297.0  \n",
       "1042           -39.42            -71.93                    440.0  \n",
       "1041           -39.42            -71.93                    440.0  \n",
       "1611           -39.42            -71.93                   1916.0  \n",
       "1699           -39.42            -71.93                    604.0  \n",
       "...               ...               ...                      ...  \n",
       "1721              NaN               NaN                      NaN  \n",
       "1722              NaN               NaN                      NaN  \n",
       "1723              NaN               NaN                      NaN  \n",
       "1724              NaN               NaN                      NaN  \n",
       "1725              NaN               NaN                      NaN  \n",
       "\n",
       "[1760 rows x 47 columns]"
      ]
     },
     "execution_count": 73,
     "metadata": {},
     "output_type": "execute_result"
    }
   ],
   "source": [
    "villarrica"
   ]
  },
  {
   "cell_type": "code",
   "execution_count": 74,
   "metadata": {
    "ExecuteTime": {
     "end_time": "2020-07-30T01:35:01.742946Z",
     "start_time": "2020-07-30T01:35:01.737947Z"
    }
   },
   "outputs": [],
   "source": [
    "villarrica['was_erupted']=villarrica['volcano_number'].fillna(0)"
   ]
  },
  {
   "cell_type": "code",
   "execution_count": 75,
   "metadata": {
    "ExecuteTime": {
     "end_time": "2020-07-30T01:35:03.037481Z",
     "start_time": "2020-07-30T01:35:03.030511Z"
    }
   },
   "outputs": [
    {
     "name": "stderr",
     "output_type": "stream",
     "text": [
      "C:\\Users\\Pedro\\AppData\\Roaming\\Python\\Python37\\site-packages\\pandas\\core\\indexing.py:671: SettingWithCopyWarning: \n",
      "A value is trying to be set on a copy of a slice from a DataFrame\n",
      "\n",
      "See the caveats in the documentation: https://pandas.pydata.org/pandas-docs/stable/user_guide/indexing.html#returning-a-view-versus-a-copy\n",
      "  self._setitem_with_indexer(indexer, value)\n"
     ]
    }
   ],
   "source": [
    "villarrica['was_erupted'].loc[villarrica['was_erupted']==357120]=1"
   ]
  },
  {
   "cell_type": "code",
   "execution_count": 76,
   "metadata": {
    "ExecuteTime": {
     "end_time": "2020-07-30T01:35:45.841455Z",
     "start_time": "2020-07-30T01:35:45.835475Z"
    }
   },
   "outputs": [],
   "source": [
    "villarrica=villarrica.sort_values('date')"
   ]
  },
  {
   "cell_type": "code",
   "execution_count": 77,
   "metadata": {
    "ExecuteTime": {
     "end_time": "2020-07-30T01:35:47.249206Z",
     "start_time": "2020-07-30T01:35:47.244256Z"
    }
   },
   "outputs": [],
   "source": [
    "villarrica['Days since last eruption']=villarrica['date'].diff(periods=-1).dt.days"
   ]
  },
  {
   "cell_type": "code",
   "execution_count": 78,
   "metadata": {
    "ExecuteTime": {
     "end_time": "2020-07-30T01:35:48.382725Z",
     "start_time": "2020-07-30T01:35:48.375745Z"
    }
   },
   "outputs": [
    {
     "data": {
      "text/plain": [
       "1725   -1791.0\n",
       "1724    -625.0\n",
       "1723   -3113.0\n",
       "1722    -623.0\n",
       "1721    -854.0\n",
       "         ...  \n",
       "4         -3.0\n",
       "3         -3.0\n",
       "2         -2.0\n",
       "1         -3.0\n",
       "0          NaN\n",
       "Name: Days since last eruption, Length: 1760, dtype: float64"
      ]
     },
     "execution_count": 78,
     "metadata": {},
     "output_type": "execute_result"
    }
   ],
   "source": [
    "villarrica['Days since last eruption']"
   ]
  },
  {
   "cell_type": "code",
   "execution_count": 79,
   "metadata": {
    "ExecuteTime": {
     "end_time": "2020-07-30T01:35:56.391405Z",
     "start_time": "2020-07-30T01:35:56.384431Z"
    }
   },
   "outputs": [
    {
     "data": {
      "text/plain": [
       "(1760, 48)"
      ]
     },
     "execution_count": 79,
     "metadata": {},
     "output_type": "execute_result"
    }
   ],
   "source": [
    "villarrica.shape"
   ]
  },
  {
   "cell_type": "code",
   "execution_count": 80,
   "metadata": {
    "ExecuteTime": {
     "end_time": "2020-07-30T01:37:40.863019Z",
     "start_time": "2020-07-30T01:37:39.292222Z"
    }
   },
   "outputs": [
    {
     "name": "stdout",
     "output_type": "stream",
     "text": [
      "2009-11-22 00:00:00\n"
     ]
    }
   ],
   "source": [
    "i=0\n",
    "last_eruption_date=datetime.strptime('1927/01/01', '%Y/%m/%d')\n",
    "while i<villarrica.shape[0]:\n",
    "    if villarrica.iloc[i,47]==1:\n",
    "        villarrica.iloc[i,46]=(villarrica.iloc[i,4]-last_eruption_date)\n",
    "        last_eruption_date=villarrica.iloc[i,4]\n",
    "    else:\n",
    "        villarrica.iloc[i,46]=(villarrica.iloc[i,4]-last_eruption_date)\n",
    "    i+=1\n",
    "print(last_eruption_date)"
   ]
  },
  {
   "cell_type": "code",
   "execution_count": 109,
   "metadata": {
    "ExecuteTime": {
     "end_time": "2020-07-30T02:00:12.848609Z",
     "start_time": "2020-07-30T02:00:12.819677Z"
    }
   },
   "outputs": [],
   "source": [
    "villarrica['Days since last eruption']=villarrica['Days since last eruption'].apply(lambda x: re.findall('\\d*',str(x))[0]).astype(int)"
   ]
  },
  {
   "cell_type": "markdown",
   "metadata": {},
   "source": [
    "# Exporting merged dataset"
   ]
  },
  {
   "cell_type": "code",
   "execution_count": null,
   "metadata": {},
   "outputs": [],
   "source": []
  }
 ],
 "metadata": {
  "hide_input": false,
  "kernelspec": {
   "display_name": "Python 3",
   "language": "python",
   "name": "python3"
  },
  "language_info": {
   "codemirror_mode": {
    "name": "ipython",
    "version": 3
   },
   "file_extension": ".py",
   "mimetype": "text/x-python",
   "name": "python",
   "nbconvert_exporter": "python",
   "pygments_lexer": "ipython3",
   "version": "3.7.4"
  },
  "toc": {
   "base_numbering": 1,
   "nav_menu": {},
   "number_sections": true,
   "sideBar": true,
   "skip_h1_title": false,
   "title_cell": "Table of Contents",
   "title_sidebar": "Contents",
   "toc_cell": false,
   "toc_position": {},
   "toc_section_display": true,
   "toc_window_display": false
  },
  "varInspector": {
   "cols": {
    "lenName": 16,
    "lenType": 16,
    "lenVar": 40
   },
   "kernels_config": {
    "python": {
     "delete_cmd_postfix": "",
     "delete_cmd_prefix": "del ",
     "library": "var_list.py",
     "varRefreshCmd": "print(var_dic_list())"
    },
    "r": {
     "delete_cmd_postfix": ") ",
     "delete_cmd_prefix": "rm(",
     "library": "var_list.r",
     "varRefreshCmd": "cat(var_dic_list()) "
    }
   },
   "types_to_exclude": [
    "module",
    "function",
    "builtin_function_or_method",
    "instance",
    "_Feature"
   ],
   "window_display": false
  }
 },
 "nbformat": 4,
 "nbformat_minor": 2
}
