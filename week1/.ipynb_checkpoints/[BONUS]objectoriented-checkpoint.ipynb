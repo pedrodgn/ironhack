{
 "cells": [
  {
   "cell_type": "markdown",
   "metadata": {
    "colab_type": "text",
    "id": "IGVndfDXTYvF"
   },
   "source": [
    "# Lab - Object Oriented Programming"
   ]
  },
  {
   "cell_type": "code",
   "execution_count": 1,
   "metadata": {
    "colab": {},
    "colab_type": "code",
    "id": "eFUM14nhTYvJ"
   },
   "outputs": [],
   "source": [
    "import pandas as pd\n",
    "import numpy as np"
   ]
  },
  {
   "cell_type": "markdown",
   "metadata": {
    "colab_type": "text",
    "id": "VAdTxKlPTYvP"
   },
   "source": [
    "# Challenge 2"
   ]
  },
  {
   "cell_type": "markdown",
   "metadata": {
    "colab_type": "text",
    "id": "r1ytbMg1TYvR"
   },
   "source": [
    "In order to understand the benefits of simple object-oriented programming, we have to build up our classes from the beginning. "
   ]
  },
  {
   "cell_type": "markdown",
   "metadata": {
    "colab_type": "text",
    "id": "X0QMBMXqTYvS"
   },
   "source": [
    "You'll use the following dataframe generator to test some things. Try to understand what the following function does."
   ]
  },
  {
   "cell_type": "code",
   "execution_count": 2,
   "metadata": {
    "colab": {},
    "colab_type": "code",
    "id": "X45Itv4vTYvU"
   },
   "outputs": [],
   "source": [
    "chars = ['a', 'b', 'c','d', 'e', 'f', ' ', 'á','é','ó']\n",
    "\n",
    "def create_weird_dataframe(size=10):\n",
    "    def create_weird_colnames(size=size):\n",
    "        probs = [.2,.2,.15,.1,.1,.1,.05,.05,.025,.025]\n",
    "\n",
    "        return [''.join(\n",
    "            [(char.upper() if np.random.random() < 0.2 else char) \n",
    "                     for char in np.random.choice(chars,size=12, p=probs)]) for i in range(size)]\n",
    "    \n",
    "    data = np.random.random(size=(size,size))\n",
    "    colnames = create_weird_colnames(size)\n",
    "    return pd.DataFrame(data=data, columns=colnames)"
   ]
  },
  {
   "cell_type": "markdown",
   "metadata": {
    "colab_type": "text",
    "id": "u2mUOpnbTYvY"
   },
   "source": [
    "Test the results of running that function below. Run it several times"
   ]
  },
  {
   "cell_type": "code",
   "execution_count": 3,
   "metadata": {
    "colab": {},
    "colab_type": "code",
    "id": "sN4YC6L2TYvZ"
   },
   "outputs": [
    {
     "data": {
      "text/html": [
       "<div>\n",
       "<style scoped>\n",
       "    .dataframe tbody tr th:only-of-type {\n",
       "        vertical-align: middle;\n",
       "    }\n",
       "\n",
       "    .dataframe tbody tr th {\n",
       "        vertical-align: top;\n",
       "    }\n",
       "\n",
       "    .dataframe thead th {\n",
       "        text-align: right;\n",
       "    }\n",
       "</style>\n",
       "<table border=\"1\" class=\"dataframe\">\n",
       "  <thead>\n",
       "    <tr style=\"text-align: right;\">\n",
       "      <th></th>\n",
       "      <th>caCcdféb ba</th>\n",
       "      <th>feACBabAacdF</th>\n",
       "      <th>bebefeb áacf</th>\n",
       "      <th>aeaÁ Fdcaaae</th>\n",
       "      <th>fffádéBdBCBb</th>\n",
       "      <th>CeEa bdcbfbe</th>\n",
       "      <th>DcaÉcBacAFca</th>\n",
       "      <th>cEbAefcdaAab</th>\n",
       "      <th>ccAaE abdcbé</th>\n",
       "      <th>bcaAfeaaEáaB</th>\n",
       "    </tr>\n",
       "  </thead>\n",
       "  <tbody>\n",
       "    <tr>\n",
       "      <td>0</td>\n",
       "      <td>0.680091</td>\n",
       "      <td>0.827007</td>\n",
       "      <td>0.252791</td>\n",
       "      <td>0.434552</td>\n",
       "      <td>0.448431</td>\n",
       "      <td>0.949224</td>\n",
       "      <td>0.899899</td>\n",
       "      <td>0.106161</td>\n",
       "      <td>0.645600</td>\n",
       "      <td>0.899308</td>\n",
       "    </tr>\n",
       "    <tr>\n",
       "      <td>1</td>\n",
       "      <td>0.238347</td>\n",
       "      <td>0.924954</td>\n",
       "      <td>0.801850</td>\n",
       "      <td>0.530895</td>\n",
       "      <td>0.625354</td>\n",
       "      <td>0.036228</td>\n",
       "      <td>0.599838</td>\n",
       "      <td>0.465198</td>\n",
       "      <td>0.443140</td>\n",
       "      <td>0.572259</td>\n",
       "    </tr>\n",
       "    <tr>\n",
       "      <td>2</td>\n",
       "      <td>0.463474</td>\n",
       "      <td>0.296770</td>\n",
       "      <td>0.556353</td>\n",
       "      <td>0.370027</td>\n",
       "      <td>0.853233</td>\n",
       "      <td>0.165196</td>\n",
       "      <td>0.319583</td>\n",
       "      <td>0.449882</td>\n",
       "      <td>0.926577</td>\n",
       "      <td>0.281282</td>\n",
       "    </tr>\n",
       "    <tr>\n",
       "      <td>3</td>\n",
       "      <td>0.265814</td>\n",
       "      <td>0.007943</td>\n",
       "      <td>0.073011</td>\n",
       "      <td>0.858739</td>\n",
       "      <td>0.442638</td>\n",
       "      <td>0.527214</td>\n",
       "      <td>0.193792</td>\n",
       "      <td>0.210753</td>\n",
       "      <td>0.446050</td>\n",
       "      <td>0.644625</td>\n",
       "    </tr>\n",
       "    <tr>\n",
       "      <td>4</td>\n",
       "      <td>0.866675</td>\n",
       "      <td>0.703843</td>\n",
       "      <td>0.509256</td>\n",
       "      <td>0.676327</td>\n",
       "      <td>0.558331</td>\n",
       "      <td>0.059789</td>\n",
       "      <td>0.919852</td>\n",
       "      <td>0.334078</td>\n",
       "      <td>0.948892</td>\n",
       "      <td>0.357702</td>\n",
       "    </tr>\n",
       "  </tbody>\n",
       "</table>\n",
       "</div>"
      ],
      "text/plain": [
       "   caCcdféb ba   feACBabAacdF  bebefeb áacf  aeaÁ Fdcaaae  fffádéBdBCBb  \\\n",
       "0      0.680091      0.827007      0.252791      0.434552      0.448431   \n",
       "1      0.238347      0.924954      0.801850      0.530895      0.625354   \n",
       "2      0.463474      0.296770      0.556353      0.370027      0.853233   \n",
       "3      0.265814      0.007943      0.073011      0.858739      0.442638   \n",
       "4      0.866675      0.703843      0.509256      0.676327      0.558331   \n",
       "\n",
       "   CeEa bdcbfbe  DcaÉcBacAFca  cEbAefcdaAab  ccAaE abdcbé  bcaAfeaaEáaB  \n",
       "0      0.949224      0.899899      0.106161      0.645600      0.899308  \n",
       "1      0.036228      0.599838      0.465198      0.443140      0.572259  \n",
       "2      0.165196      0.319583      0.449882      0.926577      0.281282  \n",
       "3      0.527214      0.193792      0.210753      0.446050      0.644625  \n",
       "4      0.059789      0.919852      0.334078      0.948892      0.357702  "
      ]
     },
     "execution_count": 3,
     "metadata": {},
     "output_type": "execute_result"
    }
   ],
   "source": [
    "df = create_weird_dataframe()\n",
    "df.head()"
   ]
  },
  {
   "cell_type": "markdown",
   "metadata": {
    "colab_type": "text",
    "id": "uk4PrJFfTYvd"
   },
   "source": [
    "## Correcting the column names\n",
    "\n",
    "We'll create a function that rename the weird column names. The idea is to, later, extend that idea to our own brand new dataframe class."
   ]
  },
  {
   "cell_type": "markdown",
   "metadata": {
    "colab_type": "text",
    "id": "n7Zt4bABTYvf"
   },
   "source": [
    "### let's start simple: get the column names of the dataframe.\n",
    "\n",
    "Store it in a variable called `col_names`\n"
   ]
  },
  {
   "cell_type": "code",
   "execution_count": 4,
   "metadata": {
    "colab": {},
    "colab_type": "code",
    "id": "ZPR1hdCITYvg"
   },
   "outputs": [
    {
     "data": {
      "text/plain": [
       "['caCcdféb ba ',\n",
       " 'feACBabAacdF',\n",
       " 'bebefeb áacf',\n",
       " 'aeaÁ Fdcaaae',\n",
       " 'fffádéBdBCBb',\n",
       " 'CeEa bdcbfbe',\n",
       " 'DcaÉcBacAFca',\n",
       " 'cEbAefcdaAab',\n",
       " 'ccAaE abdcbé',\n",
       " 'bcaAfeaaEáaB']"
      ]
     },
     "execution_count": 4,
     "metadata": {},
     "output_type": "execute_result"
    }
   ],
   "source": [
    "col_names = list(df.columns)\n",
    "col_names"
   ]
  },
  {
   "cell_type": "markdown",
   "metadata": {
    "colab_type": "text",
    "id": "CIkkr475TYvk"
   },
   "source": [
    "### Let's iterate through this columns and transform them into lower-case column names\n",
    "\n",
    "Create a list comprehension to do that if possible. Store it in a variable called `lower_colnames`"
   ]
  },
  {
   "cell_type": "code",
   "execution_count": 5,
   "metadata": {
    "colab": {},
    "colab_type": "code",
    "id": "6TXYfFx5TYvl"
   },
   "outputs": [
    {
     "data": {
      "text/plain": [
       "['caccdféb ba ',\n",
       " 'feacbabaacdf',\n",
       " 'bebefeb áacf',\n",
       " 'aeaá fdcaaae',\n",
       " 'fffádébdbcbb',\n",
       " 'ceea bdcbfbe',\n",
       " 'dcaécbacafca',\n",
       " 'cebaefcdaaab',\n",
       " 'ccaae abdcbé',\n",
       " 'bcaafeaaeáab']"
      ]
     },
     "execution_count": 5,
     "metadata": {},
     "output_type": "execute_result"
    }
   ],
   "source": [
    "lower_colnames = [col.lower() for col in col_names]\n",
    "lower_colnames"
   ]
  },
  {
   "cell_type": "markdown",
   "metadata": {
    "colab_type": "text",
    "id": "qlTchgNbTYvp"
   },
   "source": [
    "### Let's remove the spaces of these column names!\n",
    "\n",
    "Replace each column name space ` ` for an underline `_`. Again, try to use a list comprehension to do that. \n",
    "For this first task use `.replace(' ','_')` method to do that."
   ]
  },
  {
   "cell_type": "code",
   "execution_count": 6,
   "metadata": {
    "colab": {},
    "colab_type": "code",
    "id": "y0JFfKgFTYvq"
   },
   "outputs": [
    {
     "data": {
      "text/plain": [
       "['caCcdféb_ba_',\n",
       " 'feACBabAacdF',\n",
       " 'bebefeb_áacf',\n",
       " 'aeaÁ_Fdcaaae',\n",
       " 'fffádéBdBCBb',\n",
       " 'CeEa_bdcbfbe',\n",
       " 'DcaÉcBacAFca',\n",
       " 'cEbAefcdaAab',\n",
       " 'ccAaE_abdcbé',\n",
       " 'bcaAfeaaEáaB']"
      ]
     },
     "execution_count": 6,
     "metadata": {},
     "output_type": "execute_result"
    }
   ],
   "source": [
    "underline_colnames = [col.replace(' ','_') for col in col_names]\n",
    "underline_colnames"
   ]
  },
  {
   "cell_type": "markdown",
   "metadata": {
    "colab_type": "text",
    "id": "TCj5NklYTYvu"
   },
   "source": [
    "### Create a function that groups the results obtained above and return the lower case underlined names as a list\n",
    "\n",
    "Name the function `normalize_cols`. This function should receive a dataframe, get the column names of a it and return the treated list of column names."
   ]
  },
  {
   "cell_type": "code",
   "execution_count": 7,
   "metadata": {
    "colab": {},
    "colab_type": "code",
    "id": "aqYwg4EJTYvv"
   },
   "outputs": [],
   "source": [
    "def normalize_cols(data):\n",
    "    lower_colnames = [col.lower() for col in col_names]\n",
    "    new_colnames = [col.replace(' ','_') for col in lower_colnames]\n",
    "    return new_colnames"
   ]
  },
  {
   "cell_type": "markdown",
   "metadata": {
    "colab_type": "text",
    "id": "YMpWYJFwTYvz"
   },
   "source": [
    "### Test your results\n",
    "\n",
    "Use the following line of code to test your results. Run it several times to see some behaviors."
   ]
  },
  {
   "cell_type": "code",
   "execution_count": 8,
   "metadata": {
    "colab": {},
    "colab_type": "code",
    "id": "fbXmMMd3TYv0"
   },
   "outputs": [
    {
     "data": {
      "text/plain": [
       "['caccdféb_ba_',\n",
       " 'feacbabaacdf',\n",
       " 'bebefeb_áacf',\n",
       " 'aeaá_fdcaaae',\n",
       " 'fffádébdbcbb',\n",
       " 'ceea_bdcbfbe',\n",
       " 'dcaécbacafca',\n",
       " 'cebaefcdaaab',\n",
       " 'ccaae_abdcbé',\n",
       " 'bcaafeaaeáab']"
      ]
     },
     "execution_count": 8,
     "metadata": {},
     "output_type": "execute_result"
    }
   ],
   "source": [
    "normalize_cols(create_weird_dataframe())"
   ]
  },
  {
   "cell_type": "markdown",
   "metadata": {
    "colab_type": "text",
    "id": "LWMc9bikTYv4"
   },
   "source": [
    "### hmmm, we've made a mistake!\n",
    "\n",
    "We've commited several mistakes by doing this. Have observed any bugs associated with our results?"
   ]
  },
  {
   "cell_type": "markdown",
   "metadata": {
    "colab_type": "text",
    "id": "fGnyUzGATYv5"
   },
   "source": [
    "In order for us to see some problems in our results, we have to look for edge cases. \n",
    "\n",
    "For example: \n",
    "\n",
    "**Problem #1:** what if there are 2 or more following spaces? We want it to replace the spaces by several underlines or condense them into one?\n",
    "\n",
    "**Problem #2:** what if there are spaces at the beginning? Should we substitute them by underline or drop them?"
   ]
  },
  {
   "cell_type": "markdown",
   "metadata": {
    "colab_type": "text",
    "id": "BkJguuBITYv6"
   },
   "source": [
    "Let's correct each problem. Starting by problem 2."
   ]
  },
  {
   "cell_type": "markdown",
   "metadata": {
    "colab_type": "text",
    "id": "ikvacQQ3TYv7"
   },
   "source": [
    "## Correcting our function\n",
    "\n",
    "Instead of substituting the spaces at first place, let's remove the trailing and leading spaces!\n",
    "\n",
    "Recreate the `normalize_cols` with the solution to `Problem 2`.\n",
    "\n",
    "*Hint: Copy and paste the last `normalize_cols` function to change it.*"
   ]
  },
  {
   "cell_type": "code",
   "execution_count": 9,
   "metadata": {
    "colab": {},
    "colab_type": "code",
    "id": "u_kX4HS1TYv8"
   },
   "outputs": [],
   "source": [
    "def normalize_cols(data):\n",
    "    lower_colnames = [col.lower() for col in col_names]\n",
    "    correction_colnames = [col.lstrip(\" \").rstrip(\" \") for col in lower_colnames]\n",
    "    new_colnames = [col.replace(' ','_') for col in correction_colnames]\n",
    "    return new_colnames"
   ]
  },
  {
   "cell_type": "markdown",
   "metadata": {
    "colab_type": "text",
    "id": "MXm2-PEbTYwA"
   },
   "source": [
    "### Test your results again.\n",
    "\n",
    "At least, for now, you should not have any trailing nor leading underlines."
   ]
  },
  {
   "cell_type": "code",
   "execution_count": 10,
   "metadata": {
    "colab": {},
    "colab_type": "code",
    "id": "Bm9ifu5QTYwB"
   },
   "outputs": [
    {
     "data": {
      "text/plain": [
       "['caccdféb_ba',\n",
       " 'feacbabaacdf',\n",
       " 'bebefeb_áacf',\n",
       " 'aeaá_fdcaaae',\n",
       " 'fffádébdbcbb',\n",
       " 'ceea_bdcbfbe',\n",
       " 'dcaécbacafca',\n",
       " 'cebaefcdaaab',\n",
       " 'ccaae_abdcbé',\n",
       " 'bcaafeaaeáab']"
      ]
     },
     "execution_count": 10,
     "metadata": {},
     "output_type": "execute_result"
    }
   ],
   "source": [
    "normalize_cols(create_weird_dataframe())"
   ]
  },
  {
   "cell_type": "markdown",
   "metadata": {
    "colab_type": "text",
    "id": "zNR5w4cWTYwE"
   },
   "source": [
    "### Correcting problem 1"
   ]
  },
  {
   "cell_type": "markdown",
   "metadata": {
    "colab_type": "text",
    "id": "vSJu3qCCTYwG"
   },
   "source": [
    "To correct problem 1, instead of using `.replace()` string method, we want to use a regular expression. Use the module `re` to substitute the pattern of `1 or more spaces` by 1 underline `_`.\n",
    "\n",
    "Test your solution on the variable below:"
   ]
  },
  {
   "cell_type": "code",
   "execution_count": 11,
   "metadata": {
    "colab": {},
    "colab_type": "code",
    "id": "8dm4rS5mTYwH"
   },
   "outputs": [],
   "source": [
    "import re \n",
    "\n",
    "text = 'these spaces      should all be one underline'"
   ]
  },
  {
   "cell_type": "code",
   "execution_count": 12,
   "metadata": {
    "colab": {},
    "colab_type": "code",
    "id": "RP-cz9kKTYwK"
   },
   "outputs": [
    {
     "data": {
      "text/plain": [
       "'these_spaces_should_all_be_one_underline'"
      ]
     },
     "execution_count": 12,
     "metadata": {},
     "output_type": "execute_result"
    }
   ],
   "source": [
    "re.sub(\"\\\\s+\",\"_\",text)"
   ]
  },
  {
   "cell_type": "markdown",
   "metadata": {
    "colab_type": "text",
    "id": "iqffTpd3TYwU"
   },
   "source": [
    "### Now correct your `normalize_cols` function\n",
    "\n",
    "*Hint: Copy and paste the last `normalize_cols` function to change it.*"
   ]
  },
  {
   "cell_type": "code",
   "execution_count": 13,
   "metadata": {
    "colab": {},
    "colab_type": "code",
    "id": "7SxhpuOCTYwV"
   },
   "outputs": [],
   "source": [
    "def normalize_cols(data):\n",
    "    lower_colnames = [col.lower() for col in col_names]\n",
    "    correction_colnames = [col.lstrip(\" \").rstrip(\" \") for col in lower_colnames]\n",
    "    new_colnames = [col.replace(' ','_') for col in correction_colnames]\n",
    "    new_colnames = [re.sub(\"\\\\s+\",\"_\",col) for col in new_colnames]\n",
    "    return new_colnames"
   ]
  },
  {
   "cell_type": "markdown",
   "metadata": {
    "colab_type": "text",
    "id": "mn0UwlZATYwX"
   },
   "source": [
    "### Again, test your results.\n",
    "\n",
    "Now, sometimes some column names should have smaller sizes (because you are removing consecutive spaces)"
   ]
  },
  {
   "cell_type": "code",
   "execution_count": 14,
   "metadata": {
    "colab": {},
    "colab_type": "code",
    "id": "LzHIKAT4TYwZ"
   },
   "outputs": [
    {
     "data": {
      "text/plain": [
       "['caccdféb_ba',\n",
       " 'feacbabaacdf',\n",
       " 'bebefeb_áacf',\n",
       " 'aeaá_fdcaaae',\n",
       " 'fffádébdbcbb',\n",
       " 'ceea_bdcbfbe',\n",
       " 'dcaécbacafca',\n",
       " 'cebaefcdaaab',\n",
       " 'ccaae_abdcbé',\n",
       " 'bcaafeaaeáab']"
      ]
     },
     "execution_count": 14,
     "metadata": {},
     "output_type": "execute_result"
    }
   ],
   "source": [
    "normalize_cols(create_weird_dataframe())"
   ]
  },
  {
   "cell_type": "markdown",
   "metadata": {
    "colab_type": "text",
    "id": "bs7KvyTwTYwc"
   },
   "source": [
    "## Last step: remove accents"
   ]
  },
  {
   "cell_type": "markdown",
   "metadata": {
    "colab_type": "text",
    "id": "rhQLRfoYTYwd"
   },
   "source": [
    "The last step consists in removing accents from the strings.\n",
    "\n",
    "Import the package `unidecode` to use its module also called `unidecode` to remove accents. Test on the word below."
   ]
  },
  {
   "cell_type": "code",
   "execution_count": 15,
   "metadata": {},
   "outputs": [
    {
     "name": "stdout",
     "output_type": "stream",
     "text": [
      "Requirement already satisfied: Unidecode in c:\\users\\pedro\\anaconda3\\lib\\site-packages (1.1.1)\n",
      "Note: you may need to restart the kernel to use updated packages.\n"
     ]
    }
   ],
   "source": [
    "pip install Unidecode"
   ]
  },
  {
   "cell_type": "code",
   "execution_count": 22,
   "metadata": {
    "colab": {},
    "colab_type": "code",
    "id": "4fgbbUbZTYwg"
   },
   "outputs": [],
   "source": [
    "from unidecode import unidecode"
   ]
  },
  {
   "cell_type": "code",
   "execution_count": 17,
   "metadata": {
    "colab": {},
    "colab_type": "code",
    "id": "osrv7brdTYwe"
   },
   "outputs": [],
   "source": [
    "text = 'aéóúaorowó'"
   ]
  },
  {
   "cell_type": "code",
   "execution_count": 25,
   "metadata": {
    "colab": {},
    "colab_type": "code",
    "id": "Jq0y6zOE7sb6"
   },
   "outputs": [
    {
     "data": {
      "text/plain": [
       "'aeouaorowo'"
      ]
     },
     "execution_count": 25,
     "metadata": {},
     "output_type": "execute_result"
    }
   ],
   "source": [
    "u = unidecode(text)\n",
    "u"
   ]
  },
  {
   "cell_type": "markdown",
   "metadata": {
    "colab_type": "text",
    "id": "tCoX4ZYLTYwj"
   },
   "source": [
    "### Now remove the accents for each column name in your `normalized_cols` function.\n",
    "\n",
    "*Hint: Copy and paste the last `normalize_cols` function to change it.*"
   ]
  },
  {
   "cell_type": "code",
   "execution_count": 27,
   "metadata": {
    "colab": {},
    "colab_type": "code",
    "id": "3ZW9No0uTYwk"
   },
   "outputs": [],
   "source": [
    "def normalize_cols(data):\n",
    "    lower_colnames = [col.lower() for col in col_names]\n",
    "    correction_colnames = [col.lstrip(\" \").rstrip(\" \") for col in lower_colnames]\n",
    "    new_colnames = [col.replace(' ','_') for col in correction_colnames]\n",
    "    new_colnames = [re.sub(\"\\\\s+\",\"_\",col) for col in new_colnames]\n",
    "    new_colnames =[unidecode(col) for col in new_colnames]\n",
    "    return new_colnames\n"
   ]
  },
  {
   "cell_type": "markdown",
   "metadata": {
    "colab_type": "text",
    "id": "MTgNfgeYTYwm"
   },
   "source": [
    "### Test your results"
   ]
  },
  {
   "cell_type": "code",
   "execution_count": 28,
   "metadata": {
    "colab": {},
    "colab_type": "code",
    "id": "RxDiO0PzTYwn"
   },
   "outputs": [
    {
     "data": {
      "text/plain": [
       "['caccdfeb_ba',\n",
       " 'feacbabaacdf',\n",
       " 'bebefeb_aacf',\n",
       " 'aeaa_fdcaaae',\n",
       " 'fffadebdbcbb',\n",
       " 'ceea_bdcbfbe',\n",
       " 'dcaecbacafca',\n",
       " 'cebaefcdaaab',\n",
       " 'ccaae_abdcbe',\n",
       " 'bcaafeaaeaab']"
      ]
     },
     "execution_count": 28,
     "metadata": {},
     "output_type": "execute_result"
    }
   ],
   "source": [
    "normalize_cols(create_weird_dataframe())"
   ]
  },
  {
   "cell_type": "markdown",
   "metadata": {
    "colab_type": "text",
    "id": "VQ9C0CjkTYwq"
   },
   "source": [
    "## Good job. \n",
    "\n",
    "Right now you have a function that receives a dataframe and returns its columns names with a good formatting."
   ]
  },
  {
   "cell_type": "markdown",
   "metadata": {
    "colab_type": "text",
    "id": "5swtawYcTYwq"
   },
   "source": [
    "# Creating our own dataframe."
   ]
  },
  {
   "cell_type": "code",
   "execution_count": 29,
   "metadata": {
    "colab": {},
    "colab_type": "code",
    "id": "69irk1odTYwr"
   },
   "outputs": [],
   "source": [
    "from pandas import DataFrame"
   ]
  },
  {
   "cell_type": "markdown",
   "metadata": {
    "colab_type": "text",
    "id": "3vUf_BFSTYwt"
   },
   "source": [
    "A dataframe is just a simple class. It contains its own attributes and methods. \n",
    "\n",
    "When you create a pd.DataFrame() you are just instantiating the DataFrame class as an object that you can store in a variable. From this point onwards, you have access to all DataFrame class attributes (`.columns` for example) and methods (`.isna()` for example). We've been using those since always! "
   ]
  },
  {
   "cell_type": "markdown",
   "metadata": {
    "colab_type": "text",
    "id": "A5I8dflETYwu"
   },
   "source": [
    "If we wish, we could create our own class inheriting everything from a DataFrame class."
   ]
  },
  {
   "cell_type": "code",
   "execution_count": 30,
   "metadata": {
    "colab": {},
    "colab_type": "code",
    "id": "xZUmnuzzTYwv"
   },
   "outputs": [],
   "source": [
    "class myDataFrame(DataFrame):\n",
    "    pass"
   ]
  },
  {
   "cell_type": "markdown",
   "metadata": {
    "colab_type": "text",
    "id": "mPSyMDn4TYwy"
   },
   "source": [
    "Instead of just creating myDataFrame, put your function inside your new inherited class, that is, transform `normalize_cols` into a method of your own DataFrame.\n",
    "\n",
    "Remember you'll have to give self as the first argument of the `normalize_cols`. So you could replace everything you once called `dataframe` inside your `normalize_cols` by `self`. \n",
    "\n",
    "At the end, return the list of the correct names."
   ]
  },
  {
   "cell_type": "code",
   "execution_count": 32,
   "metadata": {
    "colab": {},
    "colab_type": "code",
    "id": "UD3uk6bkTYwz"
   },
   "outputs": [],
   "source": [
    "class myDataFrame(DataFrame):\n",
    "    pass\n",
    "\n",
    "    def normalize_cols(self):\n",
    "        lower_colnames = [col.lower() for col in col_names]\n",
    "        correction_colnames = [col.lstrip(\" \").rstrip(\" \") for col in lower_colnames]\n",
    "        new_colnames = [col.replace(' ','_') for col in correction_colnames]\n",
    "        new_colnames = [re.sub(\"\\\\s+\",\"_\",col) for col in new_colnames]\n",
    "        new_colnames =[unidecode(col) for col in new_colnames]\n",
    "        return new_colnames \n",
    "    \n",
    "    "
   ]
  },
  {
   "cell_type": "markdown",
   "metadata": {
    "colab_type": "text",
    "id": "lCKiKMavTYw1"
   },
   "source": [
    "Test your results."
   ]
  },
  {
   "cell_type": "code",
   "execution_count": 33,
   "metadata": {
    "colab": {},
    "colab_type": "code",
    "id": "EaVQNJBbTYw2"
   },
   "outputs": [
    {
     "data": {
      "text/plain": [
       "['caccdfeb_ba',\n",
       " 'feacbabaacdf',\n",
       " 'bebefeb_aacf',\n",
       " 'aeaa_fdcaaae',\n",
       " 'fffadebdbcbb',\n",
       " 'ceea_bdcbfbe',\n",
       " 'dcaecbacafca',\n",
       " 'cebaefcdaaab',\n",
       " 'ccaae_abdcbe',\n",
       " 'bcaafeaaeaab']"
      ]
     },
     "execution_count": 33,
     "metadata": {},
     "output_type": "execute_result"
    }
   ],
   "source": [
    "df = myDataFrame(create_weird_dataframe())\n",
    "df.normalize_cols()"
   ]
  },
  {
   "cell_type": "markdown",
   "metadata": {
    "colab_type": "text",
    "id": "I0IlScuLTYw5"
   },
   "source": [
    "## Understanding even more the `self` argument"
   ]
  },
  {
   "cell_type": "markdown",
   "metadata": {
    "colab_type": "text",
    "id": "UF5gjA1qTYw6"
   },
   "source": [
    "Instead of returning a list containing the correct columns, you should now assign the correct columns to the `self.columns` - this will effectively replace the values of your object by the correct columns.\n",
    "\n",
    "\n",
    "Now change your method to return the dataframe itself. That is, return the `self` argument this time and see the results! \n",
    "\n",
    "```python\n",
    "class myDataFrame(DataFrame):\n",
    "    def normalize_cos(self):\n",
    "        ...\n",
    "        return self\n",
    "```"
   ]
  },
  {
   "cell_type": "code",
   "execution_count": 35,
   "metadata": {
    "colab": {},
    "colab_type": "code",
    "id": "dTtylbdGTYw7"
   },
   "outputs": [
    {
     "data": {
      "text/html": [
       "<div>\n",
       "<style scoped>\n",
       "    .dataframe tbody tr th:only-of-type {\n",
       "        vertical-align: middle;\n",
       "    }\n",
       "\n",
       "    .dataframe tbody tr th {\n",
       "        vertical-align: top;\n",
       "    }\n",
       "\n",
       "    .dataframe thead th {\n",
       "        text-align: right;\n",
       "    }\n",
       "</style>\n",
       "<table border=\"1\" class=\"dataframe\">\n",
       "  <thead>\n",
       "    <tr style=\"text-align: right;\">\n",
       "      <th></th>\n",
       "      <th>caccdfeb_ba</th>\n",
       "      <th>feacbabaacdf</th>\n",
       "      <th>bebefeb_aacf</th>\n",
       "      <th>aeaa_fdcaaae</th>\n",
       "      <th>fffadebdbcbb</th>\n",
       "      <th>ceea_bdcbfbe</th>\n",
       "      <th>dcaecbacafca</th>\n",
       "      <th>cebaefcdaaab</th>\n",
       "      <th>ccaae_abdcbe</th>\n",
       "      <th>bcaafeaaeaab</th>\n",
       "    </tr>\n",
       "  </thead>\n",
       "  <tbody>\n",
       "    <tr>\n",
       "      <td>0</td>\n",
       "      <td>0.905978</td>\n",
       "      <td>0.835086</td>\n",
       "      <td>0.292979</td>\n",
       "      <td>0.188470</td>\n",
       "      <td>0.665336</td>\n",
       "      <td>0.676470</td>\n",
       "      <td>0.034630</td>\n",
       "      <td>0.956522</td>\n",
       "      <td>0.494304</td>\n",
       "      <td>0.758638</td>\n",
       "    </tr>\n",
       "    <tr>\n",
       "      <td>1</td>\n",
       "      <td>0.790045</td>\n",
       "      <td>0.831414</td>\n",
       "      <td>0.688454</td>\n",
       "      <td>0.017340</td>\n",
       "      <td>0.829571</td>\n",
       "      <td>0.226800</td>\n",
       "      <td>0.566727</td>\n",
       "      <td>0.226320</td>\n",
       "      <td>0.968461</td>\n",
       "      <td>0.843892</td>\n",
       "    </tr>\n",
       "    <tr>\n",
       "      <td>2</td>\n",
       "      <td>0.917831</td>\n",
       "      <td>0.836048</td>\n",
       "      <td>0.983493</td>\n",
       "      <td>0.910156</td>\n",
       "      <td>0.238996</td>\n",
       "      <td>0.336991</td>\n",
       "      <td>0.249681</td>\n",
       "      <td>0.867215</td>\n",
       "      <td>0.846670</td>\n",
       "      <td>0.245984</td>\n",
       "    </tr>\n",
       "    <tr>\n",
       "      <td>3</td>\n",
       "      <td>0.082115</td>\n",
       "      <td>0.510268</td>\n",
       "      <td>0.458192</td>\n",
       "      <td>0.586509</td>\n",
       "      <td>0.918008</td>\n",
       "      <td>0.962803</td>\n",
       "      <td>0.378342</td>\n",
       "      <td>0.482204</td>\n",
       "      <td>0.707793</td>\n",
       "      <td>0.630130</td>\n",
       "    </tr>\n",
       "    <tr>\n",
       "      <td>4</td>\n",
       "      <td>0.717675</td>\n",
       "      <td>0.973502</td>\n",
       "      <td>0.609017</td>\n",
       "      <td>0.767709</td>\n",
       "      <td>0.129517</td>\n",
       "      <td>0.967575</td>\n",
       "      <td>0.767508</td>\n",
       "      <td>0.272349</td>\n",
       "      <td>0.009841</td>\n",
       "      <td>0.549545</td>\n",
       "    </tr>\n",
       "    <tr>\n",
       "      <td>5</td>\n",
       "      <td>0.406419</td>\n",
       "      <td>0.777818</td>\n",
       "      <td>0.427748</td>\n",
       "      <td>0.651225</td>\n",
       "      <td>0.734421</td>\n",
       "      <td>0.914823</td>\n",
       "      <td>0.443093</td>\n",
       "      <td>0.597273</td>\n",
       "      <td>0.392639</td>\n",
       "      <td>0.945642</td>\n",
       "    </tr>\n",
       "    <tr>\n",
       "      <td>6</td>\n",
       "      <td>0.711715</td>\n",
       "      <td>0.145704</td>\n",
       "      <td>0.444404</td>\n",
       "      <td>0.237033</td>\n",
       "      <td>0.451308</td>\n",
       "      <td>0.912264</td>\n",
       "      <td>0.561473</td>\n",
       "      <td>0.004853</td>\n",
       "      <td>0.611552</td>\n",
       "      <td>0.403720</td>\n",
       "    </tr>\n",
       "    <tr>\n",
       "      <td>7</td>\n",
       "      <td>0.902298</td>\n",
       "      <td>0.139436</td>\n",
       "      <td>0.125260</td>\n",
       "      <td>0.156662</td>\n",
       "      <td>0.420444</td>\n",
       "      <td>0.994865</td>\n",
       "      <td>0.031527</td>\n",
       "      <td>0.372591</td>\n",
       "      <td>0.502217</td>\n",
       "      <td>0.364268</td>\n",
       "    </tr>\n",
       "    <tr>\n",
       "      <td>8</td>\n",
       "      <td>0.839309</td>\n",
       "      <td>0.250007</td>\n",
       "      <td>0.658897</td>\n",
       "      <td>0.418765</td>\n",
       "      <td>0.176080</td>\n",
       "      <td>0.841933</td>\n",
       "      <td>0.628561</td>\n",
       "      <td>0.673509</td>\n",
       "      <td>0.153995</td>\n",
       "      <td>0.445046</td>\n",
       "    </tr>\n",
       "    <tr>\n",
       "      <td>9</td>\n",
       "      <td>0.341313</td>\n",
       "      <td>0.520124</td>\n",
       "      <td>0.576567</td>\n",
       "      <td>0.993067</td>\n",
       "      <td>0.476573</td>\n",
       "      <td>0.806210</td>\n",
       "      <td>0.591464</td>\n",
       "      <td>0.493034</td>\n",
       "      <td>0.200473</td>\n",
       "      <td>0.816824</td>\n",
       "    </tr>\n",
       "  </tbody>\n",
       "</table>\n",
       "</div>"
      ],
      "text/plain": [
       "   caccdfeb_ba  feacbabaacdf  bebefeb_aacf  aeaa_fdcaaae  fffadebdbcbb  \\\n",
       "0     0.905978      0.835086      0.292979      0.188470      0.665336   \n",
       "1     0.790045      0.831414      0.688454      0.017340      0.829571   \n",
       "2     0.917831      0.836048      0.983493      0.910156      0.238996   \n",
       "3     0.082115      0.510268      0.458192      0.586509      0.918008   \n",
       "4     0.717675      0.973502      0.609017      0.767709      0.129517   \n",
       "5     0.406419      0.777818      0.427748      0.651225      0.734421   \n",
       "6     0.711715      0.145704      0.444404      0.237033      0.451308   \n",
       "7     0.902298      0.139436      0.125260      0.156662      0.420444   \n",
       "8     0.839309      0.250007      0.658897      0.418765      0.176080   \n",
       "9     0.341313      0.520124      0.576567      0.993067      0.476573   \n",
       "\n",
       "   ceea_bdcbfbe  dcaecbacafca  cebaefcdaaab  ccaae_abdcbe  bcaafeaaeaab  \n",
       "0      0.676470      0.034630      0.956522      0.494304      0.758638  \n",
       "1      0.226800      0.566727      0.226320      0.968461      0.843892  \n",
       "2      0.336991      0.249681      0.867215      0.846670      0.245984  \n",
       "3      0.962803      0.378342      0.482204      0.707793      0.630130  \n",
       "4      0.967575      0.767508      0.272349      0.009841      0.549545  \n",
       "5      0.914823      0.443093      0.597273      0.392639      0.945642  \n",
       "6      0.912264      0.561473      0.004853      0.611552      0.403720  \n",
       "7      0.994865      0.031527      0.372591      0.502217      0.364268  \n",
       "8      0.841933      0.628561      0.673509      0.153995      0.445046  \n",
       "9      0.806210      0.591464      0.493034      0.200473      0.816824  "
      ]
     },
     "execution_count": 35,
     "metadata": {},
     "output_type": "execute_result"
    }
   ],
   "source": [
    "class myDataFrame(DataFrame):\n",
    "    pass\n",
    "\n",
    "    def normalize_cols(self):\n",
    "        lower_colnames = [col.lower() for col in col_names]\n",
    "        correction_colnames = [col.lstrip(\" \").rstrip(\" \") for col in lower_colnames]\n",
    "        new_colnames = [col.replace(' ','_') for col in correction_colnames]\n",
    "        new_colnames = [re.sub(\"\\\\s+\",\"_\",col) for col in new_colnames]\n",
    "        self.columns =[unidecode(col) for col in new_colnames]\n",
    "        return self\n",
    "df = myDataFrame(create_weird_dataframe())\n",
    "df.normalize_cols()"
   ]
  },
  {
   "cell_type": "markdown",
   "metadata": {
    "colab_type": "text",
    "id": "bh1SJi3lTYxf"
   },
   "source": [
    "## Understanding the self argument"
   ]
  },
  {
   "cell_type": "markdown",
   "metadata": {
    "colab_type": "text",
    "id": "ZnGiF0QgTYxi"
   },
   "source": [
    "Now, below the `for loop` you've created, let's create the attributes of the `Car` class. Remember the attributes you wrote down earlier? Let's put them as arguments of the `__init__(self,)` function.\n",
    "\n",
    "Remember, the first argument of the `__init__(self,)` function should always be the `self` keyword. \n",
    "\n",
    "The `self` argument represents the object itself. That is a way for you to have access to the objects own attribute. \n"
   ]
  },
  {
   "cell_type": "markdown",
   "metadata": {
    "colab_type": "text",
    "id": "EuP7N9DzTYxj"
   },
   "source": [
    "### First, let's start creating one single attribute of this car."
   ]
  },
  {
   "cell_type": "markdown",
   "metadata": {
    "colab_type": "text",
    "id": "Szqw_HxlTYxk"
   },
   "source": [
    "Let's say you have chosen `name` as a car attribute (what? can't a car have a name?). \n",
    "\n",
    "If you want your class to receive a specific car name as an argument, you have to put this variable as the argument of the `__init__` function. So, to add `name`, the results of your special function definition would be:\n",
    "\n",
    "```python\n",
    "def __init__(self, name):\n",
    "    pass\n",
    "```\n",
    "\n",
    "Now, when you instantiate your Car class, the syntax would be similar to calling a function (which, by now, you should now that it is what you are effectively doing - you are calling the __init__ method), so what the syntax would be:\n",
    "\n",
    "*Hint: If you don't specify an argument, the python interpreter will complain that your class requires one argument (try that - if you don't try it now, it is not a problem, you'll try in future, even when you don't want to).*\n"
   ]
  },
  {
   "cell_type": "code",
   "execution_count": 36,
   "metadata": {
    "colab": {},
    "colab_type": "code",
    "id": "Uz0lt0tuTYxk"
   },
   "outputs": [],
   "source": [
    "# your code here\n",
    "class Car():\n",
    "    def __init__(self, name):\n",
    "        self.name=name\n"
   ]
  },
  {
   "cell_type": "markdown",
   "metadata": {
    "colab_type": "text",
    "id": "FLmjUel1TYxo"
   },
   "source": [
    "### Now let's store that new argument\n",
    "\n",
    "By now, you are only receiving the name of the car as an argument, but you are not doing anything specifically with that variable called `name`.\n",
    "\n",
    "Let's store that in the object. That's the first use of the `self` keyword.\n",
    "\n",
    "To store the variable in a way that the user can access via a `car.SOMETHING`, you have to specify that the object itself is receiving the attribute `name` (for example)\n",
    "\n",
    "Then, **create a variable called `name` that receives the argument `name`** (keep in mind that the name of the variable need not necessarily be the same, you could assing the argument `name` to an attribute called `chimpanze` for example).\n",
    "\n",
    "Also **create the other 5 attributes that you previously had in mind**\n"
   ]
  },
  {
   "cell_type": "code",
   "execution_count": 37,
   "metadata": {
    "colab": {},
    "colab_type": "code",
    "id": "7FzwacOwTYxq"
   },
   "outputs": [],
   "source": [
    "# your code here\n",
    "class car:\n",
    "    def __init__(self, brand, name, motor, fuel_tank, have_airbag):\n",
    "        self.brand=brand\n",
    "        self.name=name\n",
    "        self.motor=motor\n",
    "        self.fuel_tank=fuel_tank\n",
    "        self.have_airbag=have_airbag"
   ]
  },
  {
   "cell_type": "markdown",
   "metadata": {
    "colab_type": "text",
    "id": "3fS9sCKjTYxs"
   },
   "source": [
    "### Access the attribute\n",
    "\n",
    "You should now be able to access the object's attribute once you instantiate it as `my_car.name`\n",
    "\n",
    "You can try to write `my_car.<TAB>` to check what attributes or methods your object contains."
   ]
  },
  {
   "cell_type": "code",
   "execution_count": 42,
   "metadata": {
    "colab": {},
    "colab_type": "code",
    "id": "if18GWwtTYxt"
   },
   "outputs": [
    {
     "data": {
      "text/plain": [
       "'toro'"
      ]
     },
     "execution_count": 42,
     "metadata": {},
     "output_type": "execute_result"
    }
   ],
   "source": [
    "Uber=car(name=\"toro\",brand=\"fiat\",motor=1.0,fuel_tank=50,have_airbag=True)\n",
    "Uber.name"
   ]
  },
  {
   "cell_type": "markdown",
   "metadata": {
    "colab_type": "text",
    "id": "uu5Ma2rvTYxu"
   },
   "source": [
    "## Understanding special methods"
   ]
  },
  {
   "cell_type": "markdown",
   "metadata": {
    "colab_type": "text",
    "id": "ltpSwuvTTYxv"
   },
   "source": [
    "Special methods are the ones that start with double underlines (usually called `dunder`), for example the `__init__` method, the `__doc__` method or `__repr__` method (called as `dunder init`, `dunder doc`, `dunder repr`)."
   ]
  },
  {
   "cell_type": "markdown",
   "metadata": {
    "colab_type": "text",
    "id": "dyytOn27TYxw"
   },
   "source": [
    "The `__repr__` method is responsible to show how your class will be displayed on screen when you display it.\n",
    "Let's create a `__repr__(self)` function on our `Car` class that returns the following string below (copy the string below):\n",
    "\n",
    "```python\n",
    "    car = f'''\n",
    "                  ______--------___\n",
    "                 /|             / |\n",
    "      o___________|_\\__________/__|\n",
    "     ]|___     |  |=   ||  =|___  |\"\n",
    "     //   \\\\    |  |____||_///   \\\\|\"\n",
    "    |  X  |\\--------------/|  X  |\\\"\n",
    "     \\___/                  \\___/\n",
    "    '''\n",
    "```\n",
    "\n",
    "Your class should now have two special methods, `__init__` and `__repr__`"
   ]
  },
  {
   "cell_type": "code",
   "execution_count": 43,
   "metadata": {
    "colab": {},
    "colab_type": "code",
    "id": "y4JUYVALTYxw"
   },
   "outputs": [],
   "source": [
    "class Car:\n",
    "    \n",
    "    def __init__(self, car_name):\n",
    "        self.car_name = car_name\n",
    "    \n",
    "    def __repr__(self):\n",
    "        \n",
    "        car = f'''\n",
    "                      ______--------___\n",
    "                     /|             / |\n",
    "          o___________|_\\__________/__|\n",
    "         ]|___     |  |=   ||  =|___  |\"\n",
    "         //   \\\\    |  |____||_///   \\\\|\"\n",
    "        |  X  |\\--------------/|  X  |\\\"\n",
    "         \\___/                  \\___/\n",
    "        '''\n",
    "        \n",
    "        return car"
   ]
  },
  {
   "cell_type": "markdown",
   "metadata": {
    "colab_type": "text",
    "id": "cZV4Qq62TYx4"
   },
   "source": [
    "### Now instantiate your Car class again"
   ]
  },
  {
   "cell_type": "code",
   "execution_count": 44,
   "metadata": {
    "colab": {},
    "colab_type": "code",
    "id": "K51Kjik8TYx4"
   },
   "outputs": [],
   "source": [
    "my_car = Car('Jeguinho')"
   ]
  },
  {
   "cell_type": "markdown",
   "metadata": {
    "colab_type": "text",
    "id": "ZoFEGcT1TYx8"
   },
   "source": [
    "### And check what happens when you print your object on screen"
   ]
  },
  {
   "cell_type": "code",
   "execution_count": 45,
   "metadata": {
    "colab": {},
    "colab_type": "code",
    "id": "v3JCceBBTYx9"
   },
   "outputs": [
    {
     "name": "stdout",
     "output_type": "stream",
     "text": [
      "\n",
      "                      ______--------___\n",
      "                     /|             / |\n",
      "          o___________|_\\__________/__|\n",
      "         ]|___     |  |=   ||  =|___  |\"\n",
      "         //   \\    |  |____||_///   \\|\"\n",
      "        |  X  |\\--------------/|  X  |\"\n",
      "         \\___/                  \\___/\n",
      "        \n"
     ]
    }
   ],
   "source": [
    "print(my_car)"
   ]
  },
  {
   "cell_type": "markdown",
   "metadata": {
    "colab_type": "text",
    "id": "tfhgwGFDTYyA"
   },
   "source": [
    "### Now create a simple method to receive and return the `self` variable\n",
    "\n",
    "Create a simple method inside your `class Car` and return `self` the self argument. Name this method `get_itself`."
   ]
  },
  {
   "cell_type": "code",
   "execution_count": 46,
   "metadata": {
    "colab": {},
    "colab_type": "code",
    "id": "jEQNj8r4TYyB"
   },
   "outputs": [],
   "source": [
    "class Car:\n",
    "    \n",
    "    def __init__(self, car_name):\n",
    "        self.car_name = car_name\n",
    "    \n",
    "    def __repr__(self):\n",
    "        \n",
    "        car = f'''\n",
    "                      ______--------___\n",
    "                     /|             / |\n",
    "          o___________|_\\__________/__|\n",
    "         ]|___     |  |=   ||  =|___  |\"\n",
    "         //   \\\\    |  |____||_///   \\\\|\"\n",
    "        |  X  |\\--------------/|  X  |\\\"\n",
    "         \\___/                  \\___/\n",
    "        '''\n",
    "        \n",
    "        return car\n",
    "    \n",
    "    def get_itself(self):\n",
    "        return self"
   ]
  },
  {
   "cell_type": "markdown",
   "metadata": {
    "colab_type": "text",
    "id": "Zd2avbOGTYyE"
   },
   "source": [
    "#### Now instantiate the Car class and call `get_itself()`"
   ]
  },
  {
   "cell_type": "code",
   "execution_count": 47,
   "metadata": {
    "colab": {},
    "colab_type": "code",
    "id": "pUl9ZI8YTYyF"
   },
   "outputs": [],
   "source": [
    "my_car = Car('andre')"
   ]
  },
  {
   "cell_type": "code",
   "execution_count": 48,
   "metadata": {
    "colab": {},
    "colab_type": "code",
    "id": "AZ3o-NCkTYyK"
   },
   "outputs": [
    {
     "data": {
      "text/plain": [
       "\n",
       "                      ______--------___\n",
       "                     /|             / |\n",
       "          o___________|_\\__________/__|\n",
       "         ]|___     |  |=   ||  =|___  |\"\n",
       "         //   \\    |  |____||_///   \\|\"\n",
       "        |  X  |\\--------------/|  X  |\"\n",
       "         \\___/                  \\___/\n",
       "        "
      ]
     },
     "execution_count": 48,
     "metadata": {},
     "output_type": "execute_result"
    }
   ],
   "source": [
    "my_car.get_itself()"
   ]
  },
  {
   "cell_type": "markdown",
   "metadata": {
    "colab_type": "text",
    "id": "QZ25I6chTYyL"
   },
   "source": [
    "This happens because you are print this specific object. "
   ]
  }
 ],
 "metadata": {
  "colab": {
   "collapsed_sections": [
    "YMpWYJFwTYvz",
    "LWMc9bikTYv4",
    "ikvacQQ3TYv7",
    "MXm2-PEbTYwA",
    "zNR5w4cWTYwE",
    "iqffTpd3TYwU",
    "mn0UwlZATYwX",
    "tCoX4ZYLTYwj",
    "MTgNfgeYTYwm",
    "VQ9C0CjkTYwq",
    "I0IlScuLTYw5",
    "bh1SJi3lTYxf",
    "EuP7N9DzTYxj",
    "FLmjUel1TYxo",
    "3fS9sCKjTYxs",
    "uu5Ma2rvTYxu",
    "cZV4Qq62TYx4",
    "ZoFEGcT1TYx8",
    "tfhgwGFDTYyA",
    "Zd2avbOGTYyE"
   ],
   "name": "[BONUS] challenge-02.ipynb",
   "provenance": []
  },
  "kernelspec": {
   "display_name": "Python 3",
   "language": "python",
   "name": "python3"
  },
  "language_info": {
   "codemirror_mode": {
    "name": "ipython",
    "version": 3
   },
   "file_extension": ".py",
   "mimetype": "text/x-python",
   "name": "python",
   "nbconvert_exporter": "python",
   "pygments_lexer": "ipython3",
   "version": "3.7.4"
  },
  "toc": {
   "base_numbering": 1,
   "nav_menu": {},
   "number_sections": true,
   "sideBar": true,
   "skip_h1_title": false,
   "title_cell": "Table of Contents",
   "title_sidebar": "Contents",
   "toc_cell": false,
   "toc_position": {},
   "toc_section_display": true,
   "toc_window_display": false
  }
 },
 "nbformat": 4,
 "nbformat_minor": 1
}
